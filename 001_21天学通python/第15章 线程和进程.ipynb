{
 "cells": [
  {
   "cell_type": "markdown",
   "metadata": {},
   "source": [
    "# 线程和进程\n",
    "## 线程\n",
    "### 用threading.Thread 直接在线程中运行函数"
   ]
  },
  {
   "cell_type": "code",
   "execution_count": 18,
   "metadata": {
    "ExecuteTime": {
     "end_time": "2018-12-14T09:54:46.509437Z",
     "start_time": "2018-12-14T09:54:46.449434Z"
    }
   },
   "outputs": [
    {
     "name": "stdout",
     "output_type": "stream",
     "text": [
      "1^2 = 1\n",
      "2^2 = 4\n",
      "3^2 = 9\n",
      "4^2 = 16\n",
      "5^2 = 25\n",
      "6^2 = 36\n",
      "7^2 = 49\n",
      "8^2 = 64\n",
      "9^2 = 81\n",
      "16^2 = 256\n",
      "17^2 = 289\n",
      "18^2 = 324\n",
      "19^2 = 361\n",
      "20^2 = 400\n",
      "21^2 = 441\n",
      "22^2 = 484\n",
      "23^2 = 529\n",
      "24^2 = 576\n",
      "25^2 = 625\n"
     ]
    }
   ],
   "source": [
    "import threading\n",
    "\n",
    "\n",
    "def thrfun(x, y):\n",
    "    for i in range(x, y):\n",
    "        print(\"%d^2 = %d\" % (i, i * i))\n",
    "\n",
    "\n",
    "ta = threading.Thread(target=thrfun, args=(1, 10))\n",
    "tb = threading.Thread(target=thrfun, args=(16, 26))\n",
    "ta.start()\n",
    "tb.start()"
   ]
  },
  {
   "cell_type": "markdown",
   "metadata": {},
   "source": [
    "### 通过继承 threading.Thread类来创建线程"
   ]
  },
  {
   "cell_type": "code",
   "execution_count": 9,
   "metadata": {
    "ExecuteTime": {
     "end_time": "2018-12-14T09:18:08.745733Z",
     "start_time": "2018-12-14T09:18:08.683729Z"
    }
   },
   "outputs": [
    {
     "name": "stdout",
     "output_type": "stream",
     "text": [
      "1^2 = 1\n",
      "2^2 = 4\n",
      "3^2 = 9\n",
      "4^2 = 16\n",
      "5^2 = 25\n",
      "16^2 = 256\n",
      "17^2 = 289\n",
      "18^2 = 324\n",
      "19^2 = 361\n",
      "20^2 = 400\n"
     ]
    }
   ],
   "source": [
    "import threading\n",
    "\n",
    "\n",
    "class myThread(threading.Thread):\n",
    "    def __init__(self, mynum):\n",
    "        super().__init__()\n",
    "        self.mynum = mynum\n",
    "\n",
    "    def run(self):\n",
    "        for i in range(self.mynum, self.mynum + 5):\n",
    "            print(\"%d^2 = %d\" % (i, i * i))\n",
    "\n",
    "\n",
    "ma = myThread(1)\n",
    "mb = myThread(16)\n",
    "ma.start()\n",
    "mb.start()"
   ]
  },
  {
   "cell_type": "markdown",
   "metadata": {},
   "source": [
    "### 线程类Thread使用   \n",
    "\n",
    "- 方法  \n",
    "    - join(\\[timeout\\]): 当某个线程或函数执行时需要等另一个线程完成操作后才能继续，则应调用另一个线程的joint()方法，其中的可选参数用于指定线程运行的最长时间。\n",
    "        - isAlive()：方法用于查看线程是否运行。\n",
    "- 属性\n",
    "    - name：为线程设置线程名；\n",
    "    - daemon：用来设置线程是否随主线程退出而退出，一般来说其属性值为True时不会随主线程退出而退出。"
   ]
  },
  {
   "cell_type": "code",
   "execution_count": 17,
   "metadata": {
    "ExecuteTime": {
     "end_time": "2018-12-14T09:54:00.478805Z",
     "start_time": "2018-12-14T09:54:00.467804Z"
    }
   },
   "outputs": [
    {
     "name": "stdout",
     "output_type": "stream",
     "text": [
      "1*1=1\n",
      "2*2=4\n",
      "3*3=9\n",
      "4*4=16\n",
      "5*5=25\n",
      "16*16=256\n",
      "17*17=289\n",
      "18*18=324\n",
      "19*19=361\n",
      "20*20=400\n"
     ]
    }
   ],
   "source": [
    "import threading\n",
    "import time\n",
    "\n",
    "\n",
    "def thrfun(x, y, thr=None):\n",
    "    if thr:  #如果传入线程了参数，则执行join函数，表明等待传入的线程结束后运行\n",
    "        thr.join()\n",
    "    else:\n",
    "        time.sleep(2)  #先休眠两秒\n",
    "    for i in range(x, y):\n",
    "        print(\"%d*%d=%d\" % (i, i, i * i))\n",
    "\n",
    "\n",
    "ta = threading.Thread(target=thrfun, args=(1, 6))\n",
    "tb = threading.Thread(target=thrfun, args=(16, 21, ta))\n",
    "ta.start()\n",
    "tb.start()\n",
    "#执行过程，ta先休眠两秒，tb运行时需要等待ta运行结束后在运行"
   ]
  },
  {
   "cell_type": "code",
   "execution_count": 22,
   "metadata": {
    "ExecuteTime": {
     "end_time": "2018-12-14T10:05:14.534358Z",
     "start_time": "2018-12-14T10:05:14.510357Z"
    }
   },
   "outputs": [
    {
     "name": "stdout",
     "output_type": "stream",
     "text": [
      "start...\n",
      "end...\n",
      "1*1=116*16=256\n",
      "2*2=4\n",
      "3*3=9\n",
      "17*17=289\n",
      "18*18=324\n",
      "19*19=361\n",
      "20*20=400\n",
      "\n",
      "4*4=16\n",
      "5*5=25\n"
     ]
    }
   ],
   "source": [
    "#演示了deamon属性的作用\n",
    "import threading\n",
    "import time\n",
    "\n",
    "\n",
    "class myThread(threading.Thread):\n",
    "    def __init__(self, mynum):\n",
    "        super().__init__()\n",
    "        self.mynum = mynum\n",
    "\n",
    "    def run(self):\n",
    "        time.sleep(1)\n",
    "        for i in range(self.mynum, self.mynum + 5):\n",
    "            print(\"%d*%d=%d\" % (i, i, i * i))\n",
    "\n",
    "\n",
    "print('start...')\n",
    "ma = myThread(1)\n",
    "mb = myThread(16)\n",
    "ma.daemon = True  #这里设置当主线程退出时，次线程也退出\n",
    "mb.deamon = True\n",
    "ma.start()\n",
    "mb.start()\n",
    "print('end...')\n",
    "\n",
    "#在交互模式下运行实例，则还是会有输出。因为在交互模式的主线程只有在退出python时才终止。"
   ]
  },
  {
   "cell_type": "markdown",
   "metadata": {},
   "source": [
    "### 线程的同步和通信\n",
    "> Python中可以使用threading模块中的对象Lock和RLock(可重入锁)进行简单的线程同步。对于同一时刻只允许一个线程操作的数据对象，可以把操作过程放在Lock和RLock的acquire方法和release方法之间。RLock可以在同一调用链中有多次请求而不会锁死，Lock则会锁死。"
   ]
  },
  {
   "cell_type": "code",
   "execution_count": 28,
   "metadata": {
    "ExecuteTime": {
     "end_time": "2018-12-14T10:20:23.435345Z",
     "start_time": "2018-12-14T10:20:23.412343Z"
    }
   },
   "outputs": [
    {
     "name": "stdout",
     "output_type": "stream",
     "text": [
      "30\n",
      "60\n",
      "90\n",
      "120\n",
      "150\n"
     ]
    }
   ],
   "source": [
    "import threading\n",
    "import time\n",
    "\n",
    "\n",
    "class myThread(threading.Thread):\n",
    "    def run(self):\n",
    "        global x\n",
    "        lock.acquire()  #开始锁定\n",
    "        for i in range(3):\n",
    "            x += 10\n",
    "        time.sleep(1)\n",
    "        print(x)\n",
    "        lock.release()  #释放锁\n",
    "\n",
    "\n",
    "def main():\n",
    "    thrs = []\n",
    "    for item in range(5):  # 创建了5个线程\n",
    "        thrs.append(myThread())\n",
    "    for item in thrs:  # 开始运行\n",
    "        item.start()\n",
    "\n",
    "\n",
    "x = 0\n",
    "lock = threading.RLock()  #创建一个锁\n",
    "main()"
   ]
  },
  {
   "cell_type": "markdown",
   "metadata": {},
   "source": [
    "- 线程间的同步还可以使用threading模块中的条件变量，队列等来进行。\n",
    "\n",
    "- 以下演示通过threading模块的Event对象，实现线程间的同步"
   ]
  },
  {
   "cell_type": "code",
   "execution_count": 35,
   "metadata": {
    "ExecuteTime": {
     "end_time": "2018-12-14T10:33:57.193889Z",
     "start_time": "2018-12-14T10:33:57.127885Z"
    }
   },
   "outputs": [
    {
     "name": "stdout",
     "output_type": "stream",
     "text": [
      "Smith :Good morning!\n",
      "John :Good morning!\n",
      "Smith :How are you?\n",
      "John :I'm good.\n"
     ]
    }
   ],
   "source": [
    "import threading\n",
    "import time\n",
    "\n",
    "\n",
    "class myThreada(threading.Thread):\n",
    "    def run(self):\n",
    "        evt.wait()  #等待标志为True\n",
    "        print(self.name, ':Good morning!')\n",
    "        evt.clear()  #将标志重置为FALSE\n",
    "        time.sleep(1)\n",
    "        evt.set()  #将标志置位\n",
    "        time.sleep(1)\n",
    "        evt.wait()\n",
    "        print(self.name, \":I'm good.\")\n",
    "\n",
    "\n",
    "class myThreadb(threading.Thread):\n",
    "    def run(self):\n",
    "        print(self.name, \":Good morning!\")\n",
    "        evt.set()\n",
    "        time.sleep(1)\n",
    "        evt.wait()\n",
    "        print(self.name, ':How are you?')\n",
    "        evt.clear()\n",
    "        time.sleep(1)\n",
    "        evt.set()\n",
    "\n",
    "\n",
    "evt = threading.Event()  #创建一个事件对象，管理标志\n",
    "\n",
    "\n",
    "def main():\n",
    "    John = myThreada()\n",
    "    John.name = \"John\"\n",
    "\n",
    "    Smith = myThreadb()\n",
    "    Smith.name = 'Smith'\n",
    "\n",
    "    John.start()\n",
    "    Smith.start()\n",
    "\n",
    "\n",
    "main()"
   ]
  },
  {
   "cell_type": "markdown",
   "metadata": {},
   "source": [
    "### 进程\n",
    "- Python3对多进程支持的是multiprocessing模块和subprocess模块。\n",
    "\n",
    "- subprocess模块可以用于创建新的进程，并获取它的输入，输出及错误信息。它提供了更高级的接口，可以替换os.system、os.spawn\\*、popen等"
   ]
  },
  {
   "cell_type": "code",
   "execution_count": 1,
   "metadata": {
    "ExecuteTime": {
     "end_time": "2018-12-16T15:39:59.980589Z",
     "start_time": "2018-12-16T15:39:59.826580Z"
    }
   },
   "outputs": [
    {
     "name": "stdout",
     "output_type": "stream",
     "text": [
      "call() test: 0\n"
     ]
    }
   ],
   "source": [
    "import subprocess\n",
    "# 创建新进程运行程序，输入和输出绑定到父进程，返回新进程退出码\n",
    "print('call() test:', subprocess.call(['python', './src//hello.py']))"
   ]
  },
  {
   "cell_type": "code",
   "execution_count": 2,
   "metadata": {
    "ExecuteTime": {
     "end_time": "2018-12-16T15:40:01.390669Z",
     "start_time": "2018-12-16T15:40:01.270662Z"
    }
   },
   "outputs": [
    {
     "name": "stdout",
     "output_type": "stream",
     "text": [
      "call() test: 0\n"
     ]
    }
   ],
   "source": [
    "# 创建新进程运行程序，输入和输出绑定到父进程，退出码为0正常返回，否则引发 calledprocesserror\n",
    "print('call() test:', subprocess.check_call(['python', './src//hello.py']))"
   ]
  },
  {
   "cell_type": "code",
   "execution_count": 3,
   "metadata": {
    "ExecuteTime": {
     "end_time": "2018-12-16T15:40:02.184715Z",
     "start_time": "2018-12-16T15:40:01.957702Z"
    }
   },
   "outputs": [
    {
     "name": "stdout",
     "output_type": "stream",
     "text": [
      "getstatusoutput() test: (0, '0 Hello!\\n1 Hello!\\n2 Hello!\\n3 Hello!\\n4 Hello!\\n5 Hello!\\n6 Hello!\\n7 Hello!\\n8 Hello!\\n9 Hello!')\n"
     ]
    }
   ],
   "source": [
    "#创建创建新进程运行程序，元组形式返回新进程退出码和输出\n",
    "print('getstatusoutput() test:',\n",
    "      subprocess.getstatusoutput(['python', './src//hello.py']))"
   ]
  },
  {
   "cell_type": "code",
   "execution_count": 29,
   "metadata": {
    "ExecuteTime": {
     "end_time": "2018-12-14T13:43:29.762512Z",
     "start_time": "2018-12-14T13:43:29.557500Z"
    }
   },
   "outputs": [
    {
     "name": "stdout",
     "output_type": "stream",
     "text": [
      "getoutput() test: 0 Hello!\n",
      "1 Hello!\n",
      "2 Hello!\n",
      "3 Hello!\n",
      "4 Hello!\n",
      "5 Hello!\n",
      "6 Hello!\n",
      "7 Hello!\n",
      "8 Hello!\n",
      "9 Hello!\n"
     ]
    }
   ],
   "source": [
    "# 创建新进程运行程序，返回新进程的输出(字符串)\n",
    "print('getoutput() test:', subprocess.getoutput(['python', './src//hello.py']))"
   ]
  },
  {
   "cell_type": "code",
   "execution_count": 30,
   "metadata": {
    "ExecuteTime": {
     "end_time": "2018-12-14T13:43:54.521928Z",
     "start_time": "2018-12-14T13:43:54.384920Z"
    }
   },
   "outputs": [
    {
     "name": "stdout",
     "output_type": "stream",
     "text": [
      "check_output() test: b'0 Hello!\\r\\n1 Hello!\\r\\n2 Hello!\\r\\n3 Hello!\\r\\n4 Hello!\\r\\n5 Hello!\\r\\n6 Hello!\\r\\n7 Hello!\\r\\n8 Hello!\\r\\n9 Hello!\\r\\n'\n"
     ]
    }
   ],
   "source": [
    "# 创建新进程运行程序，返回新进程的输出\n",
    "print('check_output() test:',\n",
    "      subprocess.check_output(['python', './src//hello.py']))"
   ]
  },
  {
   "cell_type": "markdown",
   "metadata": {},
   "source": [
    "#### 用Popen类创建进程\n",
    "> 上边提到的几个函数，其本质上都是通过Popen类来实现的简单版本的进程创建函数。直接使用Popen类不仅可以以新进程方式运行命令"
   ]
  },
  {
   "cell_type": "code",
   "execution_count": 42,
   "metadata": {
    "ExecuteTime": {
     "end_time": "2018-12-14T14:01:23.203909Z",
     "start_time": "2018-12-14T14:01:22.988897Z"
    },
    "scrolled": true
   },
   "outputs": [
    {
     "name": "stdout",
     "output_type": "stream",
     "text": [
      "subprocess pid: 11868\n",
      "\n",
      "STDOUT:\n",
      "echo 0\n",
      "echo 1\n",
      "echo 2\n",
      "echo 3\n",
      "echo 4\n",
      "echo 5\n",
      "echo 6\n",
      "echo 7\n",
      "echo 8\n",
      "echo 9\n",
      "These strings are from stdin. from echo.py\n",
      "\n",
      "STDERR:\n",
      "Traceback (most recent call last):\n",
      "  File \"./src//echo.py\", line 8, in <module>\n",
      "    pprint(\"error\")\n",
      "NameError: name 'pprint' is not defined\n",
      "\n"
     ]
    }
   ],
   "source": [
    "import subprocess\n",
    "prcs = subprocess.Popen(['python', './src//echo.py'],\n",
    "                        stdout=subprocess.PIPE,\n",
    "                        stdin=subprocess.PIPE,\n",
    "                        stderr=subprocess.PIPE,\n",
    "                        universal_newlines=True,\n",
    "                        shell=True)\n",
    "prcs.communicate('These strings are from stdin.')\n",
    "print(\"subprocess pid:\", prcs.pid)\n",
    "print(\"\\nSTDOUT:\")\n",
    "print(prcs.communicate()[0])\n",
    "print(\"STDERR:\")\n",
    "print(prcs.communicate()[1])"
   ]
  },
  {
   "cell_type": "markdown",
   "metadata": {},
   "source": [
    "- 通过communicate()方法，可以为多个子进程之间建立“管道线”，即数据从一个进程输入并输出到另一个进程，这有点类似于“击鼓传花”"
   ]
  },
  {
   "cell_type": "code",
   "execution_count": 5,
   "metadata": {
    "ExecuteTime": {
     "end_time": "2018-12-17T09:04:21.895584Z",
     "start_time": "2018-12-17T09:04:21.272549Z"
    }
   },
   "outputs": [
    {
     "name": "stdout",
     "output_type": "stream",
     "text": [
      "a = input()\n",
      "\n",
      "a = a.split(' ')\n",
      "\n",
      "a[0] = str(int(a[0])+1)\n",
      "\n",
      "print(' '.join(a))\n",
      "---------------------\n",
      "\n",
      "Sum of Processes : 5\n",
      "\n",
      "1 bouquet of flowers!\n",
      "\n",
      "2 bouquet of flowers!\n",
      "\n",
      "3 bouquet of flowers!\n",
      "\n",
      "4 bouquet of flowers!\n",
      "\n",
      "5 bouquet of flowers!\n",
      "\n"
     ]
    }
   ],
   "source": [
    "import subprocess\n",
    "pythonFile =  './src//pipe.py'\n",
    "with open(pythonFile) as fr:\n",
    "    for line in fr.readlines():\n",
    "        print(line)\n",
    "print(\"---------------------\")\n",
    "processes = []\n",
    "psum = 5\n",
    "for i in range(psum):\n",
    "    processes.append(\n",
    "        subprocess.Popen(['python',pythonFile],\n",
    "                         stdout=subprocess.PIPE,\n",
    "                         stdin=subprocess.PIPE,\n",
    "                         universal_newlines=True,\n",
    "                         shell=True))\n",
    "\n",
    "processes[0].communicate('0 bouquet of flowers!')\n",
    "for before, after in zip(processes[:psum], processes[1:]):\n",
    "    after.communicate(before.communicate()[0])\n",
    "print('\\nSum of Processes : %d' % psum)\n",
    "print()\n",
    "for item in processes:\n",
    "    print(item.communicate()[0])"
   ]
  }
 ],
 "metadata": {
  "kernelspec": {
   "display_name": "Python 3",
   "language": "python",
   "name": "python3"
  },
  "language_info": {
   "codemirror_mode": {
    "name": "ipython",
    "version": 3
   },
   "file_extension": ".py",
   "mimetype": "text/x-python",
   "name": "python",
   "nbconvert_exporter": "python",
   "pygments_lexer": "ipython3",
   "version": "3.6.6"
  },
  "varInspector": {
   "cols": {
    "lenName": 16,
    "lenType": 16,
    "lenVar": 40
   },
   "kernels_config": {
    "python": {
     "delete_cmd_postfix": "",
     "delete_cmd_prefix": "del ",
     "library": "var_list.py",
     "varRefreshCmd": "print(var_dic_list())"
    },
    "r": {
     "delete_cmd_postfix": ") ",
     "delete_cmd_prefix": "rm(",
     "library": "var_list.r",
     "varRefreshCmd": "cat(var_dic_list()) "
    }
   },
   "types_to_exclude": [
    "module",
    "function",
    "builtin_function_or_method",
    "instance",
    "_Feature"
   ],
   "window_display": false
  }
 },
 "nbformat": 4,
 "nbformat_minor": 2
}
