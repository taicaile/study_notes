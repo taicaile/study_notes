{
 "cells": [
  {
   "cell_type": "markdown",
   "metadata": {},
   "source": [
    "# 数据结构基础\n",
    "\n",
    ">- 用Python操作表；\n",
    "- 用Python操作栈；\n",
    "- 用Python操作队列；\n",
    "- 用Python操作树；\n",
    "- 用Python操作图；\n",
    "- 用Python进行查找；\n",
    "- 用Python进行排列；"
   ]
  },
  {
   "cell_type": "markdown",
   "metadata": {},
   "source": [
    "## 表、栈和队列\n",
    "### 用列表来创建表"
   ]
  },
  {
   "cell_type": "code",
   "execution_count": 5,
   "metadata": {
    "ExecuteTime": {
     "end_time": "2018-12-15T03:20:33.231014Z",
     "start_time": "2018-12-15T03:20:33.194012Z"
    }
   },
   "outputs": [
    {
     "data": {
      "text/plain": [
       "[10]"
      ]
     },
     "execution_count": 5,
     "metadata": {},
     "output_type": "execute_result"
    }
   ],
   "source": [
    "myList = list()\n",
    "myList.append(10)\n",
    "print(myList)"
   ]
  },
  {
   "cell_type": "markdown",
   "metadata": {},
   "source": [
    "### 自定义栈数据结构"
   ]
  },
  {
   "cell_type": "code",
   "execution_count": 4,
   "metadata": {
    "ExecuteTime": {
     "end_time": "2018-12-17T09:11:59.172739Z",
     "start_time": "2018-12-17T09:11:59.148738Z"
    }
   },
   "outputs": [],
   "source": [
    "class PyStack:\n",
    "    def __init__(self, size=20):  #堆栈类\n",
    "        self.stack = []  #创建一个列表\n",
    "        self.size = size\n",
    "        self.top = -1  #栈顶位置\n",
    "\n",
    "    def setSize(self, size):\n",
    "        self.size = size\n",
    "\n",
    "    def push(self, element):\n",
    "        if self.isFull():\n",
    "            raise StackException(\"PyStackOverflow\")  #如果栈满则引发异常\n",
    "        else:\n",
    "            self.stack.append(element)\n",
    "            self.top = self.top + 1\n",
    "\n",
    "    def pop(self):\n",
    "        if self.isEmpty():\n",
    "            raise StackException('PyStackUndderflow')  # 如果栈为空则引发异常\n",
    "        else:\n",
    "            element = self.stack[-1]\n",
    "            self.top = self.top - 1\n",
    "            del self.stack[-1]\n",
    "            return element\n",
    "\n",
    "    def Top(self):\n",
    "        return self.top  # 清空栈\n",
    "\n",
    "    def empty(self):\n",
    "        self.stack = []\n",
    "        self.top = -1\n",
    "\n",
    "    def isEmpty(self):\n",
    "        if self.top == -1:\n",
    "            return True\n",
    "        else:\n",
    "            return False\n",
    "\n",
    "    def isFull(self):\n",
    "        if self.top == self.size - 1:\n",
    "            return True\n",
    "        else:\n",
    "            return False"
   ]
  },
  {
   "cell_type": "code",
   "execution_count": 7,
   "metadata": {
    "ExecuteTime": {
     "end_time": "2018-12-17T09:23:29.606230Z",
     "start_time": "2018-12-17T09:23:29.601229Z"
    }
   },
   "outputs": [],
   "source": [
    "class StackException(Exception):\n",
    "    def __init__(self, value):\n",
    "        self.value = value\n",
    "\n",
    "    def __str__(self):\n",
    "        return self.value"
   ]
  },
  {
   "cell_type": "code",
   "execution_count": 6,
   "metadata": {
    "ExecuteTime": {
     "end_time": "2018-12-17T09:12:00.459813Z",
     "start_time": "2018-12-17T09:12:00.404810Z"
    }
   },
   "outputs": [
    {
     "name": "stdout",
     "output_type": "stream",
     "text": [
      "top element:  9\n",
      "9\n",
      "8\n",
      "7\n",
      "6\n",
      "5\n",
      "4\n",
      "3\n",
      "2\n",
      "1\n",
      "0\n",
      "isEmpty(): True\n"
     ]
    },
    {
     "ename": "StackException",
     "evalue": "PyStackOverflow",
     "output_type": "error",
     "traceback": [
      "\u001b[1;31m---------------------------------------------------------------------------\u001b[0m",
      "\u001b[1;31mStackException\u001b[0m                            Traceback (most recent call last)",
      "\u001b[1;32m<ipython-input-6-23e7103e8b75>\u001b[0m in \u001b[0;36m<module>\u001b[1;34m()\u001b[0m\n\u001b[0;32m     10\u001b[0m \u001b[0mprint\u001b[0m\u001b[1;33m(\u001b[0m\u001b[1;34m\"isEmpty():\"\u001b[0m\u001b[1;33m,\u001b[0m \u001b[0mstack\u001b[0m\u001b[1;33m.\u001b[0m\u001b[0misEmpty\u001b[0m\u001b[1;33m(\u001b[0m\u001b[1;33m)\u001b[0m\u001b[1;33m)\u001b[0m\u001b[1;33m\u001b[0m\u001b[0m\n\u001b[0;32m     11\u001b[0m \u001b[1;32mfor\u001b[0m \u001b[0mi\u001b[0m \u001b[1;32min\u001b[0m \u001b[0mrange\u001b[0m\u001b[1;33m(\u001b[0m\u001b[1;36m21\u001b[0m\u001b[1;33m)\u001b[0m\u001b[1;33m:\u001b[0m\u001b[1;33m\u001b[0m\u001b[0m\n\u001b[1;32m---> 12\u001b[1;33m     \u001b[0mstack\u001b[0m\u001b[1;33m.\u001b[0m\u001b[0mpush\u001b[0m\u001b[1;33m(\u001b[0m\u001b[0mi\u001b[0m\u001b[1;33m)\u001b[0m\u001b[1;33m\u001b[0m\u001b[0m\n\u001b[0m",
      "\u001b[1;32m<ipython-input-4-f0d90da1acbe>\u001b[0m in \u001b[0;36mpush\u001b[1;34m(self, element)\u001b[0m\n\u001b[0;32m     10\u001b[0m     \u001b[1;32mdef\u001b[0m \u001b[0mpush\u001b[0m\u001b[1;33m(\u001b[0m\u001b[0mself\u001b[0m\u001b[1;33m,\u001b[0m \u001b[0melement\u001b[0m\u001b[1;33m)\u001b[0m\u001b[1;33m:\u001b[0m\u001b[1;33m\u001b[0m\u001b[0m\n\u001b[0;32m     11\u001b[0m         \u001b[1;32mif\u001b[0m \u001b[0mself\u001b[0m\u001b[1;33m.\u001b[0m\u001b[0misFull\u001b[0m\u001b[1;33m(\u001b[0m\u001b[1;33m)\u001b[0m\u001b[1;33m:\u001b[0m\u001b[1;33m\u001b[0m\u001b[0m\n\u001b[1;32m---> 12\u001b[1;33m             \u001b[1;32mraise\u001b[0m \u001b[0mStackException\u001b[0m\u001b[1;33m(\u001b[0m\u001b[1;34m\"PyStackOverflow\"\u001b[0m\u001b[1;33m)\u001b[0m  \u001b[1;31m#如果栈满则引发异常\u001b[0m\u001b[1;33m\u001b[0m\u001b[0m\n\u001b[0m\u001b[0;32m     13\u001b[0m         \u001b[1;32melse\u001b[0m\u001b[1;33m:\u001b[0m\u001b[1;33m\u001b[0m\u001b[0m\n\u001b[0;32m     14\u001b[0m             \u001b[0mself\u001b[0m\u001b[1;33m.\u001b[0m\u001b[0mstack\u001b[0m\u001b[1;33m.\u001b[0m\u001b[0mappend\u001b[0m\u001b[1;33m(\u001b[0m\u001b[0melement\u001b[0m\u001b[1;33m)\u001b[0m\u001b[1;33m\u001b[0m\u001b[0m\n",
      "\u001b[1;31mStackException\u001b[0m: PyStackOverflow"
     ]
    }
   ],
   "source": [
    "stack = PyStack()\n",
    "for i in range(10):\n",
    "    stack.push(i)\n",
    "\n",
    "print(\"top element: \", stack.Top())\n",
    "\n",
    "for i in range(10):\n",
    "    print(stack.pop())\n",
    "\n",
    "print(\"isEmpty():\", stack.isEmpty())\n",
    "for i in range(21):\n",
    "    stack.push(i)"
   ]
  },
  {
   "cell_type": "markdown",
   "metadata": {},
   "source": [
    "### 实现队列功能"
   ]
  },
  {
   "cell_type": "code",
   "execution_count": 36,
   "metadata": {
    "ExecuteTime": {
     "end_time": "2018-12-15T04:11:59.506539Z",
     "start_time": "2018-12-15T04:11:59.485538Z"
    }
   },
   "outputs": [],
   "source": [
    "class PyQueue:\n",
    "    def __init__(self, size=20):\n",
    "        self.queue = []\n",
    "        self.size = size\n",
    "        self.end = -1\n",
    "\n",
    "    def setSize(self, size):\n",
    "        self.size = size\n",
    "\n",
    "    def Push(self, element):\n",
    "        if self.end < self.size - 1:\n",
    "            self.queue.append(element)\n",
    "            self.end = self.end + 1\n",
    "        else:\n",
    "            raise QueueException(\"PyQueueFull\")  #如果栈满则引发异常\n",
    "\n",
    "    def Pop(self):\n",
    "        if self.end != -1:\n",
    "            element = self.queue[0]\n",
    "            self.queue = self.queue[1:]\n",
    "            self.end = self.end - 1\n",
    "            return element\n",
    "        else:\n",
    "            raise QueueEception(\"PyQueueEmpty\")\n",
    "\n",
    "    def getEnd(self):\n",
    "        return self.end\n",
    "\n",
    "    def Empty(self):\n",
    "        self.queue = []\n",
    "        self.end = -1\n",
    "\n",
    "\n",
    "class QueueEception(Exception):\n",
    "    def __init__(self, data):\n",
    "        self.data = data\n",
    "\n",
    "    def __str__(self):\n",
    "        return self.data"
   ]
  },
  {
   "cell_type": "code",
   "execution_count": 37,
   "metadata": {
    "ExecuteTime": {
     "end_time": "2018-12-15T04:12:00.430592Z",
     "start_time": "2018-12-15T04:12:00.403590Z"
    },
    "scrolled": true
   },
   "outputs": [
    {
     "name": "stdout",
     "output_type": "stream",
     "text": [
      "the end is : 9\n",
      "0\n",
      "1\n",
      "2\n",
      "3\n",
      "4\n",
      "5\n",
      "6\n",
      "7\n",
      "8\n",
      "9\n"
     ]
    },
    {
     "ename": "QueueEception",
     "evalue": "PyQueueEmpty",
     "output_type": "error",
     "traceback": [
      "\u001b[1;31m---------------------------------------------------------------------------\u001b[0m",
      "\u001b[1;31mQueueEception\u001b[0m                             Traceback (most recent call last)",
      "\u001b[1;32m<ipython-input-37-b638a56f6be4>\u001b[0m in \u001b[0;36m<module>\u001b[1;34m()\u001b[0m\n\u001b[0;32m     11\u001b[0m \u001b[1;33m\u001b[0m\u001b[0m\n\u001b[0;32m     12\u001b[0m \u001b[1;32mfor\u001b[0m \u001b[0mi\u001b[0m \u001b[1;32min\u001b[0m \u001b[0mrange\u001b[0m\u001b[1;33m(\u001b[0m\u001b[1;36m10\u001b[0m\u001b[1;33m)\u001b[0m\u001b[1;33m:\u001b[0m\u001b[1;33m\u001b[0m\u001b[0m\n\u001b[1;32m---> 13\u001b[1;33m     \u001b[0mprint\u001b[0m\u001b[1;33m(\u001b[0m\u001b[0mqueue\u001b[0m\u001b[1;33m.\u001b[0m\u001b[0mPop\u001b[0m\u001b[1;33m(\u001b[0m\u001b[1;33m)\u001b[0m\u001b[1;33m)\u001b[0m\u001b[1;33m\u001b[0m\u001b[0m\n\u001b[0m",
      "\u001b[1;32m<ipython-input-36-fab1c7171667>\u001b[0m in \u001b[0;36mPop\u001b[1;34m(self)\u001b[0m\n\u001b[0;32m     19\u001b[0m             \u001b[1;32mreturn\u001b[0m \u001b[0melement\u001b[0m\u001b[1;33m\u001b[0m\u001b[0m\n\u001b[0;32m     20\u001b[0m         \u001b[1;32melse\u001b[0m\u001b[1;33m:\u001b[0m\u001b[1;33m\u001b[0m\u001b[0m\n\u001b[1;32m---> 21\u001b[1;33m             \u001b[1;32mraise\u001b[0m \u001b[0mQueueEception\u001b[0m\u001b[1;33m(\u001b[0m\u001b[1;34m\"PyQueueEmpty\"\u001b[0m\u001b[1;33m)\u001b[0m\u001b[1;33m\u001b[0m\u001b[0m\n\u001b[0m\u001b[0;32m     22\u001b[0m     \u001b[1;32mdef\u001b[0m \u001b[0mgetEnd\u001b[0m\u001b[1;33m(\u001b[0m\u001b[0mself\u001b[0m\u001b[1;33m)\u001b[0m\u001b[1;33m:\u001b[0m\u001b[1;33m\u001b[0m\u001b[0m\n\u001b[0;32m     23\u001b[0m         \u001b[1;32mreturn\u001b[0m \u001b[0mself\u001b[0m\u001b[1;33m.\u001b[0m\u001b[0mend\u001b[0m\u001b[1;33m\u001b[0m\u001b[0m\n",
      "\u001b[1;31mQueueEception\u001b[0m: PyQueueEmpty"
     ]
    }
   ],
   "source": [
    "queue = PyQueue()\n",
    "for i in range(10):\n",
    "    queue.Push(i)\n",
    "\n",
    "print(\"the end is :\", queue.getEnd())\n",
    "\n",
    "for i in range(10):\n",
    "    print(queue.Pop())\n",
    "\n",
    "queue.Empty()\n",
    "\n",
    "for i in range(10):\n",
    "    print(queue.Pop())"
   ]
  },
  {
   "cell_type": "markdown",
   "metadata": {},
   "source": [
    "## 树和图\n",
    "### 用列表构建树"
   ]
  },
  {
   "cell_type": "markdown",
   "metadata": {},
   "source": [
    "![tree](./src/tree.png)"
   ]
  },
  {
   "cell_type": "code",
   "execution_count": 42,
   "metadata": {
    "ExecuteTime": {
     "end_time": "2018-12-15T07:10:49.076235Z",
     "start_time": "2018-12-15T07:10:49.059234Z"
    }
   },
   "outputs": [
    {
     "name": "stdout",
     "output_type": "stream",
     "text": [
      "['root', [['A', [['D', []], ['E', [['G', []], ['H', []], ['I', []], ['K', []]]]]], ['B', []], ['C', [['F', []]]]]]\n"
     ]
    }
   ],
   "source": [
    "G = ['G', []]\n",
    "H = ['H', []]\n",
    "I = ['I', []]\n",
    "K = ['K', []]\n",
    "E = ['E', [G, H, I, K]]\n",
    "\n",
    "D = ['D', []]\n",
    "A = ['A', [D, E]]\n",
    "\n",
    "B = ['B', []]\n",
    "\n",
    "F = ['F', []]\n",
    "C = ['C', [F]]\n",
    "\n",
    "root = ['root', [A, B, C]]\n",
    "\n",
    "print(root)"
   ]
  },
  {
   "cell_type": "markdown",
   "metadata": {},
   "source": [
    "### 实现二叉树类与遍历二叉树"
   ]
  },
  {
   "cell_type": "markdown",
   "metadata": {},
   "source": [
    "![binary tree](./src/binaryTree.jfif)"
   ]
  },
  {
   "cell_type": "code",
   "execution_count": 47,
   "metadata": {
    "ExecuteTime": {
     "end_time": "2018-12-15T07:39:47.391661Z",
     "start_time": "2018-12-15T07:39:47.374660Z"
    }
   },
   "outputs": [
    {
     "name": "stdout",
     "output_type": "stream",
     "text": [
      "C\n",
      "A\n",
      "F\n",
      "D\n",
      "G\n",
      "root\n",
      "B\n",
      "E\n"
     ]
    }
   ],
   "source": [
    "class BTree:\n",
    "    def __init__(self, value):\n",
    "        self.left = None\n",
    "        self.data = value\n",
    "        self.right = None\n",
    "\n",
    "    def insertLeft(self, value):\n",
    "        self.left = BTree(value)\n",
    "        return self.left\n",
    "\n",
    "    def insertRight(self, value):\n",
    "        self.right = BTree(value)\n",
    "        return self.right\n",
    "\n",
    "    def show(self):\n",
    "        print(self.data)\n",
    "\n",
    "\n",
    "def PreOrder(node):\n",
    "    if node == None:\n",
    "        return\n",
    "    else:\n",
    "        PreOrder(node.left)\n",
    "        node.show()\n",
    "        PreOrder(node.right)\n",
    "\n",
    "\n",
    "Root = BTree('root')\n",
    "\n",
    "A = Root.insertLeft('A')\n",
    "C = A.insertLeft('C')\n",
    "D = A.insertRight('D')\n",
    "F = D.insertLeft('F')\n",
    "G = D.insertRight('G')\n",
    "\n",
    "B = Root.insertRight('B')\n",
    "E = B.insertRight('E')\n",
    "\n",
    "PreOrder(Root)"
   ]
  },
  {
   "cell_type": "markdown",
   "metadata": {},
   "source": [
    "### 用字典构建搜索图"
   ]
  },
  {
   "cell_type": "markdown",
   "metadata": {},
   "source": [
    "![map](./src/graph.jfif)"
   ]
  },
  {
   "cell_type": "code",
   "execution_count": 16,
   "metadata": {
    "ExecuteTime": {
     "end_time": "2018-12-17T11:10:36.676837Z",
     "start_time": "2018-12-17T11:10:36.637835Z"
    },
    "scrolled": false
   },
   "outputs": [
    {
     "name": "stdout",
     "output_type": "stream",
     "text": [
      "path to  D faild :  ['A', 'B', 'E']\n",
      "path to  D faild :  ['A', 'B']\n",
      "path to  D faild :  ['A', 'C', 'F', 'G', 'E']\n",
      "path to  D faild :  ['A', 'C', 'F', 'G']\n",
      "path to  D faild :  ['A', 'C', 'F']\n",
      "path to  D faild :  ['A', 'C']\n",
      "path to  D faild :  ['A']\n",
      "----path from A to D---------\n",
      "['A', 'D']\n",
      "['A', 'C', 'D']\n",
      "['A', 'C', 'F', 'D']\n",
      "path to  E faild :  ['A', 'B']\n",
      "path to  E faild :  ['A', 'C', 'D', 'B']\n",
      "path to  E faild :  ['A', 'C', 'D', 'G']\n",
      "path to  E faild :  ['A', 'C', 'D']\n",
      "path to  E faild :  ['A', 'C', 'F', 'D', 'B']\n",
      "path to  E faild :  ['A', 'C', 'F', 'D', 'G']\n",
      "path to  E faild :  ['A', 'C', 'F', 'D']\n",
      "path to  E faild :  ['A', 'C', 'F', 'G']\n",
      "path to  E faild :  ['A', 'C', 'F']\n",
      "path to  E faild :  ['A', 'C']\n",
      "path to  E faild :  ['A', 'D', 'B']\n",
      "path to  E faild :  ['A', 'D', 'G']\n",
      "path to  E faild :  ['A', 'D']\n",
      "path to  E faild :  ['A']\n",
      "----path from A to E---------\n",
      "['A', 'B', 'E']\n",
      "['A', 'D', 'E']\n",
      "['A', 'C', 'D', 'E']\n",
      "['A', 'D', 'B', 'E']\n",
      "['A', 'D', 'G', 'E']\n",
      "['A', 'C', 'D', 'B', 'E']\n",
      "['A', 'C', 'D', 'G', 'E']\n",
      "['A', 'C', 'F', 'D', 'E']\n",
      "['A', 'C', 'F', 'G', 'E']\n",
      "['A', 'C', 'F', 'D', 'B', 'E']\n",
      "['A', 'C', 'F', 'D', 'G', 'E']\n",
      "path to  E faild :  ['C', 'D', 'B']\n",
      "path to  E faild :  ['C', 'D', 'G']\n",
      "path to  E faild :  ['C', 'D']\n",
      "path to  E faild :  ['C', 'F', 'D', 'B']\n",
      "path to  E faild :  ['C', 'F', 'D', 'G']\n",
      "path to  E faild :  ['C', 'F', 'D']\n",
      "path to  E faild :  ['C', 'F', 'G']\n",
      "path to  E faild :  ['C', 'F']\n",
      "path to  E faild :  ['C']\n",
      "----path from C to E---------\n",
      "['C', 'D', 'E']\n",
      "['C', 'D', 'B', 'E']\n",
      "['C', 'D', 'G', 'E']\n",
      "['C', 'F', 'D', 'E']\n",
      "['C', 'F', 'G', 'E']\n",
      "['C', 'F', 'D', 'B', 'E']\n",
      "['C', 'F', 'D', 'G', 'E']\n"
     ]
    }
   ],
   "source": [
    "def searchGraph(graph, start, end):\n",
    "    results = []\n",
    "    generatePath(graph, [start], end, results)  #生成路径\n",
    "    results.sort(key=lambda x: len(x))  #按路径长短排序\n",
    "    return results\n",
    "\n",
    "\n",
    "#生成路径\n",
    "def generatePath(graph, path, end, results):  #生成路径\n",
    "    state = path[-1] #path为当前的路径列表\n",
    "    if state == end:\n",
    "        results.append(path) #找到一条路径\n",
    "    else:\n",
    "        for arc in graph[state]: #索引所有可能的路径\n",
    "            if arc not in path: #避免循环\n",
    "                generatePath(graph, path + [arc], end, results)\n",
    "            else:\n",
    "                print(\"path to \",end,\", remove ring : \",path)\n",
    "        else:\n",
    "                print(\"path to \",end,\"faild : \",path)\n",
    "\n",
    "Graph = {\n",
    "    'A': ['B', 'C', 'D'],\n",
    "    'B': ['E'],\n",
    "    'C': ['D', 'F'],\n",
    "    'D': ['B', 'E', 'G'],\n",
    "    'E': [],\n",
    "    'F': ['D', 'G'],\n",
    "    'G': ['E']\n",
    "}\n",
    "r = searchGraph(Graph, 'A', 'D')  #搜索A到D的所有路径\n",
    "print('----path from A to D---------')\n",
    "for i in r:\n",
    "    print(i)\n",
    "\n",
    "r = searchGraph(Graph, 'A', 'E')\n",
    "print('----path from A to E---------')\n",
    "for i in r:\n",
    "    print(i)\n",
    "\n",
    "r = searchGraph(Graph, 'C', 'E')\n",
    "print('----path from C to E---------')\n",
    "for i in r:\n",
    "    print(i)"
   ]
  },
  {
   "cell_type": "markdown",
   "metadata": {},
   "source": [
    "## 查找与排序\n",
    "### 实现二分查找"
   ]
  },
  {
   "cell_type": "code",
   "execution_count": 65,
   "metadata": {
    "ExecuteTime": {
     "end_time": "2018-12-15T09:06:03.036691Z",
     "start_time": "2018-12-15T09:06:03.015690Z"
    }
   },
   "outputs": [],
   "source": [
    "def BinarySearch(data, key):\n",
    "    low = 0\n",
    "    high = len(data) - 1\n",
    "    i = 0\n",
    "    while (low <= high):\n",
    "        i = i + 1\n",
    "        mid = (low + high) // 2  #向下取整除法\n",
    "        if (data[mid] < key):\n",
    "            low = mid + 1\n",
    "        elif (data[mid] > key):\n",
    "            high = mid - 1\n",
    "        else:\n",
    "            print(\"use %d time(s)\" % i)\n",
    "            return mid\n",
    "    print(\"use %d time(s)\" % i)\n",
    "    return -1"
   ]
  },
  {
   "cell_type": "code",
   "execution_count": 66,
   "metadata": {
    "ExecuteTime": {
     "end_time": "2018-12-15T09:06:03.258704Z",
     "start_time": "2018-12-15T09:06:03.248703Z"
    }
   },
   "outputs": [
    {
     "name": "stdout",
     "output_type": "stream",
     "text": [
      "use 2 time(s)\n",
      "1\n",
      "use 1 time(s)\n",
      "4\n",
      "use 3 time(s)\n",
      "-1\n"
     ]
    }
   ],
   "source": [
    "data = [1, 5, 6, 9, 10, 51, 62, 65, 70]\n",
    "print(BinarySearch(data, 5))\n",
    "print(BinarySearch(data, 10))\n",
    "print(BinarySearch(data, 20))"
   ]
  },
  {
   "cell_type": "markdown",
   "metadata": {},
   "source": [
    "### 用二叉树排序"
   ]
  },
  {
   "cell_type": "markdown",
   "metadata": {},
   "source": [
    "![BinaryTreeSorting](./src/BinaryTreeSorting.jfif)"
   ]
  },
  {
   "cell_type": "code",
   "execution_count": 73,
   "metadata": {
    "ExecuteTime": {
     "end_time": "2018-12-15T09:47:37.069342Z",
     "start_time": "2018-12-15T09:47:37.038340Z"
    }
   },
   "outputs": [],
   "source": [
    "class BTree:\n",
    "    def __init__(self, value):\n",
    "        self.left = None\n",
    "        self.data = value\n",
    "        self.right = None\n",
    "\n",
    "    def insertLeft(self, value):\n",
    "        self.left = BTree(value)\n",
    "        return self.left\n",
    "\n",
    "    def insertRight(self, value):\n",
    "        self.right = BTree(value)\n",
    "\n",
    "    def show(self):\n",
    "        print(self.data)\n",
    "\n",
    "\n",
    "def inorder(node):\n",
    "    if node.data:\n",
    "        if node.left:\n",
    "            inorder(node.left)\n",
    "        node.show()\n",
    "        if node.right:\n",
    "            inorder(node.right)\n",
    "\n",
    "\n",
    "def riorder(node):\n",
    "    if node.data:\n",
    "        if node.right:\n",
    "            riorder(node.right)\n",
    "        node.show()\n",
    "        if node.left:\n",
    "            riorder(node.left)\n",
    "\n",
    "\n",
    "def insert(node, value):\n",
    "    if value > node.data:\n",
    "        if node.right:\n",
    "            insert(node.right, value)\n",
    "        else:\n",
    "            node.insertRight(value)\n",
    "    else:\n",
    "        if node.left:\n",
    "            insert(node.left, value)\n",
    "        else:\n",
    "            node.insertLeft(value)"
   ]
  },
  {
   "cell_type": "code",
   "execution_count": 17,
   "metadata": {
    "ExecuteTime": {
     "end_time": "2018-12-17T12:11:07.198491Z",
     "start_time": "2018-12-17T12:11:07.179490Z"
    }
   },
   "outputs": [
    {
     "ename": "NameError",
     "evalue": "name 'BTree' is not defined",
     "output_type": "error",
     "traceback": [
      "\u001b[1;31m---------------------------------------------------------------------------\u001b[0m",
      "\u001b[1;31mNameError\u001b[0m                                 Traceback (most recent call last)",
      "\u001b[1;32m<ipython-input-17-f089e0e263fb>\u001b[0m in \u001b[0;36m<module>\u001b[1;34m()\u001b[0m\n\u001b[0;32m      1\u001b[0m \u001b[0mdata\u001b[0m \u001b[1;33m=\u001b[0m \u001b[1;33m[\u001b[0m\u001b[1;36m3\u001b[0m\u001b[1;33m,\u001b[0m \u001b[1;36m5\u001b[0m\u001b[1;33m,\u001b[0m \u001b[1;36m7\u001b[0m\u001b[1;33m,\u001b[0m \u001b[1;36m20\u001b[0m\u001b[1;33m,\u001b[0m \u001b[1;36m43\u001b[0m\u001b[1;33m,\u001b[0m \u001b[1;36m2\u001b[0m\u001b[1;33m,\u001b[0m \u001b[1;36m15\u001b[0m\u001b[1;33m,\u001b[0m \u001b[1;36m30\u001b[0m\u001b[1;33m]\u001b[0m\u001b[1;33m\u001b[0m\u001b[0m\n\u001b[1;32m----> 2\u001b[1;33m \u001b[0mRoot\u001b[0m \u001b[1;33m=\u001b[0m \u001b[0mBTree\u001b[0m\u001b[1;33m(\u001b[0m\u001b[0mdata\u001b[0m\u001b[1;33m[\u001b[0m\u001b[1;36m0\u001b[0m\u001b[1;33m]\u001b[0m\u001b[1;33m)\u001b[0m\u001b[1;33m\u001b[0m\u001b[0m\n\u001b[0m\u001b[0;32m      3\u001b[0m \u001b[1;32mfor\u001b[0m \u001b[0mi\u001b[0m \u001b[1;32min\u001b[0m \u001b[0mrange\u001b[0m\u001b[1;33m(\u001b[0m\u001b[1;36m1\u001b[0m\u001b[1;33m,\u001b[0m \u001b[0mlen\u001b[0m\u001b[1;33m(\u001b[0m\u001b[0mdata\u001b[0m\u001b[1;33m)\u001b[0m\u001b[1;33m)\u001b[0m\u001b[1;33m:\u001b[0m\u001b[1;33m\u001b[0m\u001b[0m\n\u001b[0;32m      4\u001b[0m     \u001b[0minsert\u001b[0m\u001b[1;33m(\u001b[0m\u001b[0mRoot\u001b[0m\u001b[1;33m,\u001b[0m \u001b[0mdata\u001b[0m\u001b[1;33m[\u001b[0m\u001b[0mi\u001b[0m\u001b[1;33m]\u001b[0m\u001b[1;33m)\u001b[0m\u001b[1;33m\u001b[0m\u001b[0m\n\u001b[0;32m      5\u001b[0m \u001b[0mprint\u001b[0m\u001b[1;33m(\u001b[0m\u001b[1;34m\"sorting from low to high\"\u001b[0m\u001b[1;33m)\u001b[0m\u001b[1;33m\u001b[0m\u001b[0m\n",
      "\u001b[1;31mNameError\u001b[0m: name 'BTree' is not defined"
     ]
    }
   ],
   "source": [
    "data = [3, 5, 7, 20, 43, 2, 15, 30]\n",
    "Root = BTree(data[0])\n",
    "for i in range(1, len(data)):\n",
    "    insert(Root, data[i])\n",
    "print(\"sorting from low to high\")\n",
    "inorder(Root)\n",
    "print(\"sorting from high to low\")\n",
    "riorder(Root)"
   ]
  }
 ],
 "metadata": {
  "celltoolbar": "Attachments",
  "kernelspec": {
   "display_name": "Python 3",
   "language": "python",
   "name": "python3"
  },
  "language_info": {
   "codemirror_mode": {
    "name": "ipython",
    "version": 3
   },
   "file_extension": ".py",
   "mimetype": "text/x-python",
   "name": "python",
   "nbconvert_exporter": "python",
   "pygments_lexer": "ipython3",
   "version": "3.7.1"
  },
  "varInspector": {
   "cols": {
    "lenName": 16,
    "lenType": 16,
    "lenVar": 40
   },
   "kernels_config": {
    "python": {
     "delete_cmd_postfix": "",
     "delete_cmd_prefix": "del ",
     "library": "var_list.py",
     "varRefreshCmd": "print(var_dic_list())"
    },
    "r": {
     "delete_cmd_postfix": ") ",
     "delete_cmd_prefix": "rm(",
     "library": "var_list.r",
     "varRefreshCmd": "cat(var_dic_list()) "
    }
   },
   "types_to_exclude": [
    "module",
    "function",
    "builtin_function_or_method",
    "instance",
    "_Feature"
   ],
   "window_display": false
  }
 },
 "nbformat": 4,
 "nbformat_minor": 2
}
