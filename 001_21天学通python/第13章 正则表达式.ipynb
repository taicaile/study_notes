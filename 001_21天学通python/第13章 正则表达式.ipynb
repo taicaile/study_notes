{
 "cells": [
  {
   "cell_type": "markdown",
   "metadata": {},
   "source": [
    "# 正则表达式\n",
    "## 正则表达式基础\n",
    ">Regular Expression, 在代码中常简写为 regex, regexp 或 re, 是计算机科学的一个概念。  "
   ]
  },
  {
   "cell_type": "markdown",
   "metadata": {},
   "source": [
    "### 正则表达式基本元字符"
   ]
  },
  {
   "attachments": {},
   "cell_type": "markdown",
   "metadata": {},
   "source": [
    "![正则表达式基本元字符](./src/RegrexBasicGrammars.jpg)"
   ]
  },
  {
   "cell_type": "markdown",
   "metadata": {},
   "source": [
    "原始字符串是为正则表达式设计的，以提高正则表达式的可读性，减少“\\”在正则表达式中的数目。在正则表达式中\"\\b\"表示匹配一个单词的开始或者结束，而在字符串中“\\b”则表示退格。 如果在正则表达式中使用“\\b”，则应该写成  \n",
    "```python\n",
    "re.compile('\\\\ba.?')\n",
    "```\n",
    "如果使用原始字符串，则写法如下：  \n",
    "```python\n",
    "re.compile(r'\\ba.?')\n",
    "```"
   ]
  },
  {
   "cell_type": "markdown",
   "metadata": {},
   "source": [
    "### 常用正则表达式\n",
    "\n",
    "手机号匹配，前两位是13，第三位是0,1，或2，再加上8位数字  \n",
    "```bash\n",
    "13[0-2][0-9]{8}\n",
    "```\n",
    "匹配一个文件中所有的网址\n",
    "```python\n",
    "#(http://www|www) 使用\"()\"表示作为一个整体，使用|表示其中任何一个满足则匹配\n",
    "# [a-z0-9-] 表示字母，数字或者“-”,“*”表示匹配0个或多个前边的字符\n",
    "# [a-z]{2,3}表示重复两次或者三次\n",
    "(http://www|www)\\.[a-z0-9-]*\\.[a-z]{2,3}\n",
    "```"
   ]
  },
  {
   "cell_type": "markdown",
   "metadata": {},
   "source": [
    "## re模块\n",
    "### 正则匹配搜索函数\n",
    "\n",
    "``` python\n",
    "re.match()#函数用于在字符串中匹配正则表达式，如何匹配成功，则返回MatchObject对象实例。\n",
    "re.search()#函数用于在字符串中查找正则表达式，如果找到则返回MatchObject对象实例。\n",
    "re.findall()#函数用于在字符串中查找所有符合正则表达式的字符串，并返回这些字符串的列表\n",
    "```\n",
    "> re.match()函数和re.search()函数的作用基本一样。不同的是，re.match()函数只从字符串中的第一个字符串开始匹配。而re.search()函数则搜索整个字符串"
   ]
  },
  {
   "attachments": {},
   "cell_type": "markdown",
   "metadata": {},
   "source": [
    "![正则可配置参数](./src/正则可配置参数.jpg)"
   ]
  },
  {
   "cell_type": "code",
   "execution_count": 1,
   "metadata": {
    "ExecuteTime": {
     "end_time": "2018-12-19T03:50:08.906590Z",
     "start_time": "2018-12-19T03:50:08.882589Z"
    },
    "scrolled": false
   },
   "outputs": [
    {
     "name": "stdout",
     "output_type": "stream",
     "text": [
      "None\n"
     ]
    }
   ],
   "source": [
    "import re\n",
    "s = \"Life can be good\"\n",
    "print(re.match('can', s))  # 在字符串中匹配'can'，输出none表示未找到"
   ]
  },
  {
   "cell_type": "code",
   "execution_count": 2,
   "metadata": {
    "ExecuteTime": {
     "end_time": "2018-12-19T03:50:08.923591Z",
     "start_time": "2018-12-19T03:50:08.910590Z"
    },
    "scrolled": true
   },
   "outputs": [
    {
     "name": "stdout",
     "output_type": "stream",
     "text": [
      "<_sre.SRE_Match object; span=(5, 8), match='can'>\n"
     ]
    }
   ],
   "source": [
    "print(re.search('can', s))  #在字符串中搜索'can'并返回一个Match object, 表示找到"
   ]
  },
  {
   "cell_type": "code",
   "execution_count": 3,
   "metadata": {
    "ExecuteTime": {
     "end_time": "2018-12-19T03:50:08.938592Z",
     "start_time": "2018-12-19T03:50:08.928591Z"
    }
   },
   "outputs": [
    {
     "name": "stdout",
     "output_type": "stream",
     "text": [
      "None\n"
     ]
    }
   ],
   "source": [
    "print(re.match('l.*', s))  #匹配任何以字母“l”开头的字符串"
   ]
  },
  {
   "cell_type": "code",
   "execution_count": 4,
   "metadata": {
    "ExecuteTime": {
     "end_time": "2018-12-19T03:50:08.966594Z",
     "start_time": "2018-12-19T03:50:08.949593Z"
    }
   },
   "outputs": [
    {
     "name": "stdout",
     "output_type": "stream",
     "text": [
      "<_sre.SRE_Match object; span=(0, 16), match='Life can be good'>\n"
     ]
    }
   ],
   "source": [
    "print(re.match('l.*', s, re.I))  # 此处设置表示忽略大小写"
   ]
  },
  {
   "cell_type": "code",
   "execution_count": 5,
   "metadata": {
    "ExecuteTime": {
     "end_time": "2018-12-19T03:50:08.986595Z",
     "start_time": "2018-12-19T03:50:08.972594Z"
    }
   },
   "outputs": [
    {
     "name": "stdout",
     "output_type": "stream",
     "text": [
      "['ife', 'can', 'goo']\n"
     ]
    }
   ],
   "source": [
    "print(re.findall('[a-z]{3}', s))  #查找所有三个字母的小写字符串"
   ]
  },
  {
   "cell_type": "code",
   "execution_count": 6,
   "metadata": {
    "ExecuteTime": {
     "end_time": "2018-12-19T03:50:09.002596Z",
     "start_time": "2018-12-19T03:50:08.989595Z"
    },
    "scrolled": false
   },
   "outputs": [
    {
     "name": "stdout",
     "output_type": "stream",
     "text": [
      "['ife', 'can', 'be', 'goo', 'd']\n"
     ]
    }
   ],
   "source": [
    "print(re.findall('[a-z]{1,3}', s))  #查找所有由1到3个字母组成的小写字符串"
   ]
  },
  {
   "cell_type": "markdown",
   "metadata": {
    "ExecuteTime": {
     "end_time": "2018-12-12T14:06:17.152518Z",
     "start_time": "2018-12-12T14:06:17.132516Z"
    }
   },
   "source": [
    "### sub()与subn()函数\n",
    "- re.sub() 函数用于替换在字符串中符合正则表达式的内容，它返回替换后的字符串。\n",
    "- re.subn()函数与re.sub()函数相同，只不过re.subn()函数将返回一个元组来保存替换的结果和替换次数。"
   ]
  },
  {
   "cell_type": "code",
   "execution_count": 7,
   "metadata": {
    "ExecuteTime": {
     "end_time": "2018-12-19T03:50:09.013596Z",
     "start_time": "2018-12-19T03:50:09.005596Z"
    }
   },
   "outputs": [],
   "source": [
    "import re\n",
    "s = \"Life can be bad\""
   ]
  },
  {
   "cell_type": "code",
   "execution_count": 8,
   "metadata": {
    "ExecuteTime": {
     "end_time": "2018-12-19T03:50:09.027597Z",
     "start_time": "2018-12-19T03:50:09.015596Z"
    }
   },
   "outputs": [
    {
     "name": "stdout",
     "output_type": "stream",
     "text": [
      "Life can be good\n"
     ]
    }
   ],
   "source": [
    "print(re.sub('bad', 'good', s))  # 用good替换bad"
   ]
  },
  {
   "cell_type": "code",
   "execution_count": 9,
   "metadata": {
    "ExecuteTime": {
     "end_time": "2018-12-19T03:50:09.039598Z",
     "start_time": "2018-12-19T03:50:09.031597Z"
    }
   },
   "outputs": [
    {
     "name": "stdout",
     "output_type": "stream",
     "text": [
      "Life can good good\n"
     ]
    }
   ],
   "source": [
    "print(re.sub('bad|be', \"good\", s))  # 用good替换bad或者be"
   ]
  },
  {
   "cell_type": "code",
   "execution_count": 10,
   "metadata": {
    "ExecuteTime": {
     "end_time": "2018-12-19T03:50:09.055599Z",
     "start_time": "2018-12-19T03:50:09.042598Z"
    }
   },
   "outputs": [
    {
     "name": "stdout",
     "output_type": "stream",
     "text": [
      "Life can good bad\n"
     ]
    }
   ],
   "source": [
    "print(re.sub('bad|be', \"good\", s, 1))  #用good替换bad或者be，只替换一次"
   ]
  },
  {
   "cell_type": "code",
   "execution_count": 11,
   "metadata": {
    "ExecuteTime": {
     "end_time": "2018-12-19T03:50:09.069599Z",
     "start_time": "2018-12-19T03:50:09.059599Z"
    }
   },
   "outputs": [
    {
     "name": "stdout",
     "output_type": "stream",
     "text": [
      "('Life can good bad', 1)\n"
     ]
    }
   ],
   "source": [
    "print(re.subn('bad|be', \"good\", s, 1))  #用good替换bad或者be，只替换一次\n",
    "#返回由替换后的字符串和替换的次数组成的数组"
   ]
  },
  {
   "cell_type": "code",
   "execution_count": 12,
   "metadata": {
    "ExecuteTime": {
     "end_time": "2018-12-19T03:50:09.083600Z",
     "start_time": "2018-12-19T03:50:09.071600Z"
    }
   },
   "outputs": [
    {
     "name": "stdout",
     "output_type": "stream",
     "text": [
      "('Life can good good', 2)\n"
     ]
    }
   ],
   "source": [
    "r = re.subn('bad|be', 'good', s)\n",
    "print(r)"
   ]
  },
  {
   "cell_type": "markdown",
   "metadata": {},
   "source": [
    "### Split()函数\n",
    "- split()函数用于分割字符串，它返回分割后的字符串列表。"
   ]
  },
  {
   "cell_type": "code",
   "execution_count": 13,
   "metadata": {
    "ExecuteTime": {
     "end_time": "2018-12-19T03:50:09.093601Z",
     "start_time": "2018-12-19T03:50:09.086600Z"
    }
   },
   "outputs": [],
   "source": [
    "import re\n",
    "s = \"Life can be bad\""
   ]
  },
  {
   "cell_type": "code",
   "execution_count": 14,
   "metadata": {
    "ExecuteTime": {
     "end_time": "2018-12-19T03:50:09.106602Z",
     "start_time": "2018-12-19T03:50:09.096601Z"
    }
   },
   "outputs": [
    {
     "name": "stdout",
     "output_type": "stream",
     "text": [
      "['Life', 'can', 'be', 'bad']\n"
     ]
    }
   ],
   "source": [
    "print(re.split(' ', s))"
   ]
  },
  {
   "cell_type": "code",
   "execution_count": 15,
   "metadata": {
    "ExecuteTime": {
     "end_time": "2018-12-19T03:50:09.127603Z",
     "start_time": "2018-12-19T03:50:09.118602Z"
    }
   },
   "outputs": [
    {
     "name": "stdout",
     "output_type": "stream",
     "text": [
      "['Life', 'can be bad']\n"
     ]
    }
   ],
   "source": [
    "r = re.split(' ', s, 1)  # 只分割一次\n",
    "print(r)"
   ]
  },
  {
   "cell_type": "code",
   "execution_count": 16,
   "metadata": {
    "ExecuteTime": {
     "end_time": "2018-12-19T03:50:09.143604Z",
     "start_time": "2018-12-19T03:50:09.134603Z"
    }
   },
   "outputs": [
    {
     "name": "stdout",
     "output_type": "stream",
     "text": [
      "['Life can ', 'e ', 'ad']\n"
     ]
    }
   ],
   "source": [
    "print(re.split('b', s))  # 使用‘b’作为分隔符"
   ]
  },
  {
   "cell_type": "markdown",
   "metadata": {
    "ExecuteTime": {
     "end_time": "2018-12-12T15:34:08.176003Z",
     "start_time": "2018-12-12T15:34:08.160002Z"
    }
   },
   "source": [
    "### 正则表达式对象\n",
    "- 对于多次使用的正则表达式，使用re.compile()编译后的对象实例，可以提高处理或匹配的速度"
   ]
  },
  {
   "cell_type": "code",
   "execution_count": 17,
   "metadata": {
    "ExecuteTime": {
     "end_time": "2018-12-19T03:50:09.159605Z",
     "start_time": "2018-12-19T03:50:09.147604Z"
    }
   },
   "outputs": [
    {
     "name": "stdout",
     "output_type": "stream",
     "text": [
      "re.compile('a*b', re.IGNORECASE|re.VERBOSE)\n"
     ]
    }
   ],
   "source": [
    "import re\n",
    "print(re.compile('a*b', re.I | re.X))  #编译正则表达式，忽略大小写和模式中空格"
   ]
  },
  {
   "cell_type": "code",
   "execution_count": 18,
   "metadata": {
    "ExecuteTime": {
     "end_time": "2018-12-19T03:50:09.171605Z",
     "start_time": "2018-12-19T03:50:09.162605Z"
    }
   },
   "outputs": [
    {
     "name": "stdout",
     "output_type": "stream",
     "text": [
      "re.compile('\\n\\x08          #匹配单词开始\\nAA?         #以A或者AA开头\\n\\\\d          #匹配一个数字i\\n\\\\w*         #匹配任意字符\\n            #一个空行\\n\\x08          #匹配单词结束\\n', re.VERBOSE)\n"
     ]
    }
   ],
   "source": [
    "import re\n",
    "\n",
    "print(\n",
    "    re.compile(\n",
    "        '''\n",
    "\\b          #匹配单词开始\n",
    "AA?         #以A或者AA开头\n",
    "\\d          #匹配一个数字i\n",
    "\\w*         #匹配任意字符\n",
    "            #一个空行\n",
    "\\b          #匹配单词结束\n",
    "''', re.X))"
   ]
  },
  {
   "cell_type": "markdown",
   "metadata": {},
   "source": [
    "- 正则表达式对象也是一个类，具有自己的方法。正则表达式对象的方法与re模块中提供的函数基本相同"
   ]
  },
  {
   "cell_type": "code",
   "execution_count": 19,
   "metadata": {
    "ExecuteTime": {
     "end_time": "2018-12-19T03:50:09.182606Z",
     "start_time": "2018-12-19T03:50:09.175606Z"
    }
   },
   "outputs": [],
   "source": [
    "import re\n",
    "r = re.compile('go*d')"
   ]
  },
  {
   "cell_type": "code",
   "execution_count": 20,
   "metadata": {
    "ExecuteTime": {
     "end_time": "2018-12-19T03:50:09.198607Z",
     "start_time": "2018-12-19T03:50:09.185606Z"
    }
   },
   "outputs": [
    {
     "name": "stdout",
     "output_type": "stream",
     "text": [
      "None\n"
     ]
    }
   ],
   "source": [
    "print(r.match('Life can be good!'))\n",
    "#没有返回值，表示匹配失败"
   ]
  },
  {
   "cell_type": "code",
   "execution_count": 21,
   "metadata": {
    "ExecuteTime": {
     "end_time": "2018-12-19T03:50:09.213608Z",
     "start_time": "2018-12-19T03:50:09.201607Z"
    }
   },
   "outputs": [
    {
     "name": "stdout",
     "output_type": "stream",
     "text": [
      "<_sre.SRE_Match object; span=(12, 16), match='good'>\n"
     ]
    }
   ],
   "source": [
    "print(r.match('Life can be good!', 12))\n",
    "#返回match对象实例，表示字符串匹配成功"
   ]
  },
  {
   "cell_type": "code",
   "execution_count": 22,
   "metadata": {
    "ExecuteTime": {
     "end_time": "2018-12-19T03:50:09.228609Z",
     "start_time": "2018-12-19T03:50:09.216608Z"
    }
   },
   "outputs": [
    {
     "name": "stdout",
     "output_type": "stream",
     "text": [
      "<_sre.SRE_Match object; span=(12, 16), match='good'>\n"
     ]
    }
   ],
   "source": [
    "# 在字符串中进行搜索\n",
    "print(r.search('Life can be good'))"
   ]
  },
  {
   "cell_type": "code",
   "execution_count": 23,
   "metadata": {
    "ExecuteTime": {
     "end_time": "2018-12-19T03:50:09.240609Z",
     "start_time": "2018-12-19T03:50:09.232609Z"
    }
   },
   "outputs": [
    {
     "name": "stdout",
     "output_type": "stream",
     "text": [
      "<_sre.SRE_Match object; span=(9, 13), match='be g'>\n"
     ]
    }
   ],
   "source": [
    "# 匹配两个字母后跟一个空格，然后再跟一个字母g的情况\n",
    "r = re.compile('\\w.\\sg')\n",
    "print(r.search('Life can be good'))"
   ]
  },
  {
   "cell_type": "code",
   "execution_count": 24,
   "metadata": {
    "ExecuteTime": {
     "end_time": "2018-12-19T03:50:09.251610Z",
     "start_time": "2018-12-19T03:50:09.244609Z"
    }
   },
   "outputs": [
    {
     "name": "stdout",
     "output_type": "stream",
     "text": [
      "['can ', 'be ']\n"
     ]
    }
   ],
   "source": [
    "# 匹配后面有一个空字符的任意包含两个或者三个字符的单词\n",
    "# \\b 表示匹配单词的边界。 ?表示匹配0个或者1个前边的字符。\n",
    "r = re.compile('\\\\b\\w..?\\s')\n",
    "print(r.findall('Life can be good'))"
   ]
  },
  {
   "cell_type": "code",
   "execution_count": 25,
   "metadata": {
    "ExecuteTime": {
     "end_time": "2018-12-19T03:50:09.265611Z",
     "start_time": "2018-12-19T03:50:09.255610Z"
    }
   },
   "outputs": [
    {
     "name": "stdout",
     "output_type": "stream",
     "text": [
      "Life can * good;\n",
      "Life can * *;\n",
      "Life is mostly cheerful;\n",
      "* somethimes sad.\n"
     ]
    }
   ],
   "source": [
    "s = '''Life can be good;\n",
    "Life can be bad;\n",
    "Life is mostly cheerful;\n",
    "But somethimes sad.'''\n",
    "r = re.compile('b\\w*', re.I)  #匹配b开肉的任何单词\n",
    "# \\w为包括下划线的任何单词字符，*号意味着0个或者多个这样的字符。这样就匹配直到遇见空格字符串\n",
    "new = r.sub('*', s)\n",
    "print(new)"
   ]
  },
  {
   "cell_type": "code",
   "execution_count": 26,
   "metadata": {
    "ExecuteTime": {
     "end_time": "2018-12-19T03:50:09.280612Z",
     "start_time": "2018-12-19T03:50:09.268611Z"
    }
   },
   "outputs": [
    {
     "name": "stdout",
     "output_type": "stream",
     "text": [
      "Life can * good;\n",
      "Life can * bad;\n",
      "Life is mostly cheerful;\n",
      "But somethimes sad.\n"
     ]
    }
   ],
   "source": [
    "new = r.sub('*', s, 2)  #只在字符串中匹配两次\n",
    "print(new)"
   ]
  },
  {
   "cell_type": "code",
   "execution_count": 27,
   "metadata": {
    "ExecuteTime": {
     "end_time": "2018-12-19T03:50:09.296612Z",
     "start_time": "2018-12-19T03:50:09.283612Z"
    },
    "scrolled": true
   },
   "outputs": [
    {
     "name": "stdout",
     "output_type": "stream",
     "text": [
      "Life can * good;\n",
      "Life can * *;\n",
      "Life is mostly cheerful;\n",
      "But somethimes sad.\n",
      "3\n"
     ]
    }
   ],
   "source": [
    "r = re.compile('b\\w*')  #重新编译，不忽略大小写\n",
    "new = r.subn('*', s)\n",
    "print(new[0])\n",
    "print(new[1])"
   ]
  },
  {
   "cell_type": "code",
   "execution_count": 28,
   "metadata": {
    "ExecuteTime": {
     "end_time": "2018-12-19T03:50:09.309613Z",
     "start_time": "2018-12-19T03:50:09.299613Z"
    }
   },
   "outputs": [
    {
     "name": "stdout",
     "output_type": "stream",
     "text": [
      "Life can * good;\n",
      "Life can be bad;\n",
      "Life is mostly cheerful;\n",
      "But somethimes sad.\n",
      "1\n"
     ]
    }
   ],
   "source": [
    "new = r.subn('*', s, 1)  #只在字符串中替换一次\n",
    "print(new[0])\n",
    "print(new[1])"
   ]
  },
  {
   "cell_type": "code",
   "execution_count": 29,
   "metadata": {
    "ExecuteTime": {
     "end_time": "2018-12-19T03:50:09.322614Z",
     "start_time": "2018-12-19T03:50:09.312613Z"
    }
   },
   "outputs": [
    {
     "name": "stdout",
     "output_type": "stream",
     "text": [
      "['Life', 'can', 'be', 'good;', 'Life', 'can', 'be', 'bad;', 'Life', 'is', 'mostly', 'cheerful;', 'But', 'somethimes', 'sad.']\n"
     ]
    }
   ],
   "source": [
    "r = re.compile('\\s')\n",
    "news = r.split(s)\n",
    "print(news)"
   ]
  },
  {
   "cell_type": "code",
   "execution_count": 30,
   "metadata": {
    "ExecuteTime": {
     "end_time": "2018-12-19T03:50:09.333615Z",
     "start_time": "2018-12-19T03:50:09.326614Z"
    }
   },
   "outputs": [
    {
     "name": "stdout",
     "output_type": "stream",
     "text": [
      "Life\n",
      "can\n",
      "be\n",
      "good;\n",
      "Life can be bad;\n",
      "Life is mostly cheerful;\n",
      "But somethimes sad.\n"
     ]
    }
   ],
   "source": [
    "news = r.split(s, 4)  # 只分割四次\n",
    "for new in news:\n",
    "    print(new)"
   ]
  },
  {
   "cell_type": "code",
   "execution_count": 31,
   "metadata": {
    "ExecuteTime": {
     "end_time": "2018-12-19T03:50:09.350616Z",
     "start_time": "2018-12-19T03:50:09.336615Z"
    }
   },
   "outputs": [
    {
     "name": "stdout",
     "output_type": "stream",
     "text": [
      "Life can \n",
      " good;\n",
      "Life can \n",
      " \n",
      ";\n",
      "Life is mostly cheerful;\n",
      "\n",
      " somethimes sad.\n"
     ]
    }
   ],
   "source": [
    "r = re.compile('b\\w*', re.I)  #编译匹配以字母b开头的字符串,忽略大小写\n",
    "news = r.split(s)\n",
    "for new in news:\n",
    "    print(new)"
   ]
  },
  {
   "cell_type": "code",
   "execution_count": 32,
   "metadata": {
    "ExecuteTime": {
     "end_time": "2018-12-19T03:50:09.362616Z",
     "start_time": "2018-12-19T03:50:09.353616Z"
    }
   },
   "outputs": [
    {
     "name": "stdout",
     "output_type": "stream",
     "text": [
      "Life can \n",
      " good;\n",
      "Life can be bad;\n",
      "Life is mostly cheerful;\n",
      "But somethimes sad.\n"
     ]
    }
   ],
   "source": [
    "news = r.split(s, 1)\n",
    "for new in news:\n",
    "    print(new)"
   ]
  },
  {
   "cell_type": "code",
   "execution_count": 33,
   "metadata": {
    "ExecuteTime": {
     "end_time": "2018-12-19T03:50:09.376617Z",
     "start_time": "2018-12-19T03:50:09.364616Z"
    }
   },
   "outputs": [
    {
     "name": "stdout",
     "output_type": "stream",
     "text": [
      "['', ' can ', ' good;\\n', ' can ', ' bad;\\n', ' is mostly ', 'rful;\\nBut ', 's sad.']\n"
     ]
    }
   ],
   "source": [
    "r = re.compile('\\w*e', re.I)  #编译匹配以字母‘e’结尾的字符串，忽略大小写\n",
    "news = r.split(s)\n",
    "print(news)"
   ]
  },
  {
   "cell_type": "markdown",
   "metadata": {},
   "source": [
    "---\n",
    "## 分组匹配与匹配对象使用\n",
    "- 在正则表达式中以一对圆括号“()”来表示位于其中的内容属于一个分组。"
   ]
  },
  {
   "cell_type": "code",
   "execution_count": 34,
   "metadata": {
    "ExecuteTime": {
     "end_time": "2018-12-19T03:50:09.391618Z",
     "start_time": "2018-12-19T03:50:09.379617Z"
    }
   },
   "outputs": [
    {
     "name": "stdout",
     "output_type": "stream",
     "text": [
      "010\n",
      "87654321\n",
      "010-87654321\n"
     ]
    }
   ],
   "source": [
    "import re\n",
    "s = 'Phone No. 010-87654321'\n",
    "r = re.compile(r'(\\d+)-(\\d+)')\n",
    "m = r.search(s)\n",
    "print(m.group(1))\n",
    "print(m.group(2))\n",
    "print(m.group())"
   ]
  },
  {
   "cell_type": "markdown",
   "metadata": {},
   "source": [
    "- 在正则表达式中，可以通过使用“(?P<组名>)”为组设置一个名字"
   ]
  },
  {
   "cell_type": "code",
   "execution_count": 35,
   "metadata": {
    "ExecuteTime": {
     "end_time": "2018-12-19T03:50:09.403619Z",
     "start_time": "2018-12-19T03:50:09.395618Z"
    },
    "scrolled": false
   },
   "outputs": [
    {
     "name": "stdout",
     "output_type": "stream",
     "text": [
      "{'Area': '010', 'No': '87654321'}\n"
     ]
    }
   ],
   "source": [
    "import re\n",
    "s = 'Phone No. 010-87654321'\n",
    "r = re.compile(r'(?P<Area>\\d+)-(?P<No>\\d+)')\n",
    "m = r.search(s)\n",
    "print(m.groupdict())"
   ]
  },
  {
   "cell_type": "markdown",
   "metadata": {},
   "source": [
    "### 分组拓展语法"
   ]
  },
  {
   "attachments": {},
   "cell_type": "markdown",
   "metadata": {},
   "source": [
    "![分组拓展语法](./src/分组拓展语法.jpg)"
   ]
  },
  {
   "cell_type": "code",
   "execution_count": 36,
   "metadata": {
    "ExecuteTime": {
     "end_time": "2018-12-19T03:50:09.423620Z",
     "start_time": "2018-12-19T03:50:09.419619Z"
    }
   },
   "outputs": [],
   "source": [
    "import re\n",
    "s = '''Life can be good;\n",
    "Life can be bad;\n",
    "Life is mostly cheerful;\n",
    "But sometimes sad.\n",
    "'''"
   ]
  },
  {
   "cell_type": "code",
   "execution_count": 37,
   "metadata": {
    "ExecuteTime": {
     "end_time": "2018-12-19T03:50:09.450621Z",
     "start_time": "2018-12-19T03:50:09.427620Z"
    }
   },
   "outputs": [
    {
     "name": "stdout",
     "output_type": "stream",
     "text": [
      "(9, 11)\n"
     ]
    }
   ],
   "source": [
    "r = re.compile(r'be(?=\\sgood)')  #编译正则表达式，只匹配其后单词为“good”的be\n",
    "m = r.search(s)\n",
    "print(m.span())  #输出匹配的位置"
   ]
  },
  {
   "cell_type": "code",
   "execution_count": 38,
   "metadata": {
    "ExecuteTime": {
     "end_time": "2018-12-19T03:50:09.470622Z",
     "start_time": "2018-12-19T03:50:09.454622Z"
    }
   },
   "outputs": [
    {
     "name": "stdout",
     "output_type": "stream",
     "text": [
      "['be']\n"
     ]
    }
   ],
   "source": [
    "print(r.findall(s))  #使用findall()方法输出所有匹配的单词"
   ]
  },
  {
   "cell_type": "code",
   "execution_count": 39,
   "metadata": {
    "ExecuteTime": {
     "end_time": "2018-12-19T03:50:09.483623Z",
     "start_time": "2018-12-19T03:50:09.474623Z"
    }
   },
   "outputs": [
    {
     "name": "stdout",
     "output_type": "stream",
     "text": [
      "['be', 'be']\n"
     ]
    }
   ],
   "source": [
    "r = re.compile('be')  #重新编译正则表达式，匹配单词'be'\n",
    "print(r.findall(s))"
   ]
  },
  {
   "cell_type": "code",
   "execution_count": 40,
   "metadata": {
    "ExecuteTime": {
     "end_time": "2018-12-19T03:50:09.494624Z",
     "start_time": "2018-12-19T03:50:09.486623Z"
    }
   },
   "outputs": [
    {
     "name": "stdout",
     "output_type": "stream",
     "text": [
      "(27, 29)\n"
     ]
    }
   ],
   "source": [
    "r = re.compile(r'be(?!\\sgood)')  #匹配之后单词不为“good”的be\n",
    "m = r.search(s)\n",
    "print(m.span())"
   ]
  },
  {
   "cell_type": "code",
   "execution_count": 41,
   "metadata": {
    "ExecuteTime": {
     "end_time": "2018-12-19T03:50:09.507625Z",
     "start_time": "2018-12-19T03:50:09.496624Z"
    }
   },
   "outputs": [
    {
     "name": "stdout",
     "output_type": "stream",
     "text": [
      "(' good',)\n"
     ]
    }
   ],
   "source": [
    "r = re.compile(r'(?:can\\s)be(\\sgood)')  #使用组来匹配“be good”\n",
    "m = r.search(s)\n",
    "print(m.groups())"
   ]
  },
  {
   "cell_type": "code",
   "execution_count": 42,
   "metadata": {
    "ExecuteTime": {
     "end_time": "2018-12-19T03:50:09.522625Z",
     "start_time": "2018-12-19T03:50:09.510625Z"
    }
   },
   "outputs": [
    {
     "name": "stdout",
     "output_type": "stream",
     "text": [
      "['o', 'e']\n"
     ]
    }
   ],
   "source": [
    "r = re.compile(r'(?P<first>\\w)(?P=first)')  #使用组名重复，此处匹配具备有两个重复字母的单词\n",
    "print(r.findall(s))"
   ]
  },
  {
   "cell_type": "code",
   "execution_count": 43,
   "metadata": {
    "ExecuteTime": {
     "end_time": "2018-12-19T03:50:09.536626Z",
     "start_time": "2018-12-19T03:50:09.525626Z"
    }
   },
   "outputs": [
    {
     "name": "stdout",
     "output_type": "stream",
     "text": [
      "['be', 'be']\n"
     ]
    }
   ],
   "source": [
    "r = re.compile(r'(?<=can\\s)b\\w*\\b')  #匹配以字母b开头，在can之后的单词\n",
    "print(r.findall(s))"
   ]
  },
  {
   "cell_type": "code",
   "execution_count": 44,
   "metadata": {
    "ExecuteTime": {
     "end_time": "2018-12-19T03:50:09.549627Z",
     "start_time": "2018-12-19T03:50:09.539626Z"
    }
   },
   "outputs": [
    {
     "name": "stdout",
     "output_type": "stream",
     "text": [
      "['be', 'be', 'bad', 'But']\n"
     ]
    },
    {
     "name": "stderr",
     "output_type": "stream",
     "text": [
      "D:\\Anaconda3\\lib\\site-packages\\ipykernel_launcher.py:1: DeprecationWarning: Flags not at the start of the expression '(?<!can\\\\s>)(?i)b\\\\w*\\\\' (truncated)\n",
      "  \"\"\"Entry point for launching an IPython kernel.\n"
     ]
    }
   ],
   "source": [
    "r = re.compile(r'(?<!can\\s>)(?i)b\\w*\\b')  #重新编译，忽略大小写\n",
    "print(r.findall(s))"
   ]
  },
  {
   "cell_type": "markdown",
   "metadata": {},
   "source": [
    "### 匹配对象与组的使用\n",
    "- group(),groups(),groupdict()方法都是处理分组的情况。\n",
    "- group()返回值为字符串，当传递多个参数时，返回值为元组。\n",
    "- groups()的返回值为元组\n",
    "- groupdict()的返回值为字典"
   ]
  },
  {
   "cell_type": "code",
   "execution_count": 45,
   "metadata": {
    "ExecuteTime": {
     "end_time": "2018-12-19T03:50:09.559628Z",
     "start_time": "2018-12-19T03:50:09.552627Z"
    }
   },
   "outputs": [],
   "source": [
    "import re\n",
    "s = '''Life can be dreams,\n",
    "Life can be great thoughts;\n",
    "Life can mean a person,\n",
    "Sitting in a court.'''"
   ]
  },
  {
   "cell_type": "code",
   "execution_count": 46,
   "metadata": {
    "ExecuteTime": {
     "end_time": "2018-12-19T03:50:09.570628Z",
     "start_time": "2018-12-19T03:50:09.562628Z"
    }
   },
   "outputs": [],
   "source": [
    "r = re.compile('\\\\b(?P<first>\\w+)a(\\w+)\\\\b')  #编译正则表达式，匹配所有包含字母'a'的单词"
   ]
  },
  {
   "cell_type": "code",
   "execution_count": 47,
   "metadata": {
    "ExecuteTime": {
     "end_time": "2018-12-19T03:50:09.587629Z",
     "start_time": "2018-12-19T03:50:09.573628Z"
    }
   },
   "outputs": [
    {
     "name": "stdout",
     "output_type": "stream",
     "text": [
      "[('c', 'n'), ('dre', 'ms'), ('c', 'n'), ('gre', 't'), ('c', 'n'), ('me', 'n')]\n"
     ]
    }
   ],
   "source": [
    "print(r.findall(s))"
   ]
  },
  {
   "cell_type": "code",
   "execution_count": 48,
   "metadata": {
    "ExecuteTime": {
     "end_time": "2018-12-19T03:50:09.602630Z",
     "start_time": "2018-12-19T03:50:09.590629Z"
    }
   },
   "outputs": [
    {
     "name": "stdout",
     "output_type": "stream",
     "text": [
      "{'first': 'c'}\n"
     ]
    }
   ],
   "source": [
    "m = r.search(s)\n",
    "print(m.groupdict())  #使用groupdict() 输出字典"
   ]
  },
  {
   "cell_type": "code",
   "execution_count": 49,
   "metadata": {
    "ExecuteTime": {
     "end_time": "2018-12-19T03:50:09.614631Z",
     "start_time": "2018-12-19T03:50:09.605630Z"
    }
   },
   "outputs": [
    {
     "name": "stdout",
     "output_type": "stream",
     "text": [
      "('c', 'n')\n"
     ]
    }
   ],
   "source": [
    "print(m.groups())"
   ]
  },
  {
   "cell_type": "code",
   "execution_count": 50,
   "metadata": {
    "ExecuteTime": {
     "end_time": "2018-12-19T03:50:09.628631Z",
     "start_time": "2018-12-19T03:50:09.616631Z"
    },
    "scrolled": true
   },
   "outputs": [
    {
     "name": "stdout",
     "output_type": "stream",
     "text": [
      "dreams\n"
     ]
    }
   ],
   "source": [
    "m = r.search(s, 9)  #从指定位置开始重新搜索\n",
    "print(m.group())  #输出匹配到的字符串"
   ]
  },
  {
   "cell_type": "code",
   "execution_count": 51,
   "metadata": {
    "ExecuteTime": {
     "end_time": "2018-12-19T03:50:09.640632Z",
     "start_time": "2018-12-19T03:50:09.631632Z"
    }
   },
   "outputs": [
    {
     "name": "stdout",
     "output_type": "stream",
     "text": [
      "dre\n"
     ]
    }
   ],
   "source": [
    "print(m.group(1))  #输出第一对圆括号中的内容，即字母“a”之前部分"
   ]
  },
  {
   "cell_type": "code",
   "execution_count": 52,
   "metadata": {
    "ExecuteTime": {
     "end_time": "2018-12-19T03:50:09.654633Z",
     "start_time": "2018-12-19T03:50:09.643632Z"
    }
   },
   "outputs": [
    {
     "name": "stdout",
     "output_type": "stream",
     "text": [
      "ms\n"
     ]
    }
   ],
   "source": [
    "print(m.group(2))  # 输出第二对圆括号中的内容，即字母“a”之后的部分"
   ]
  },
  {
   "cell_type": "code",
   "execution_count": 53,
   "metadata": {
    "ExecuteTime": {
     "end_time": "2018-12-19T03:50:09.669634Z",
     "start_time": "2018-12-19T03:50:09.656633Z"
    }
   },
   "outputs": [
    {
     "name": "stdout",
     "output_type": "stream",
     "text": [
      "('dre', 'ms')\n"
     ]
    }
   ],
   "source": [
    "print(m.group(1, 2))  #全部输出，返回一个元组"
   ]
  },
  {
   "cell_type": "code",
   "execution_count": 54,
   "metadata": {
    "ExecuteTime": {
     "end_time": "2018-12-19T03:50:09.683635Z",
     "start_time": "2018-12-19T03:50:09.672634Z"
    }
   },
   "outputs": [
    {
     "name": "stdout",
     "output_type": "stream",
     "text": [
      "{'first': 'dre'}\n"
     ]
    }
   ],
   "source": [
    "print(m.groupdict())  #输出字典"
   ]
  },
  {
   "cell_type": "code",
   "execution_count": 55,
   "metadata": {
    "ExecuteTime": {
     "end_time": "2018-12-19T03:50:09.695635Z",
     "start_time": "2018-12-19T03:50:09.687635Z"
    }
   },
   "outputs": [
    {
     "name": "stdout",
     "output_type": "stream",
     "text": [
      "('dre', 'ms')\n"
     ]
    }
   ],
   "source": [
    "print(m.groups())  #使用groups()输出元组"
   ]
  },
  {
   "cell_type": "markdown",
   "metadata": {},
   "source": [
    "### 匹配对象与索引使用\n",
    "- start(),end(),span()方法返回所匹配的子字符串的索引"
   ]
  },
  {
   "cell_type": "code",
   "execution_count": 56,
   "metadata": {
    "ExecuteTime": {
     "end_time": "2018-12-19T03:50:09.705636Z",
     "start_time": "2018-12-19T03:50:09.698635Z"
    }
   },
   "outputs": [],
   "source": [
    "import re\n",
    "s = '''Life can be dreams,\n",
    "Life can be great thoughts;\n",
    "Life can mean a person,\n",
    "Sitting in a court.'''\n",
    "r = re.compile('\\\\b(?P<first>\\w+)a(\\w+)\\\\b')  #编译正则表达式匹配含有字母\"a\"的单词"
   ]
  },
  {
   "cell_type": "code",
   "execution_count": 57,
   "metadata": {
    "ExecuteTime": {
     "end_time": "2018-12-19T03:50:09.727637Z",
     "start_time": "2018-12-19T03:50:09.708636Z"
    }
   },
   "outputs": [
    {
     "data": {
      "text/plain": [
       "12"
      ]
     },
     "execution_count": 57,
     "metadata": {},
     "output_type": "execute_result"
    }
   ],
   "source": [
    "m = r.search(s, 9)\n",
    "m.start()"
   ]
  },
  {
   "cell_type": "code",
   "execution_count": 58,
   "metadata": {
    "ExecuteTime": {
     "end_time": "2018-12-19T03:50:09.742638Z",
     "start_time": "2018-12-19T03:50:09.732637Z"
    }
   },
   "outputs": [
    {
     "data": {
      "text/plain": [
       "12"
      ]
     },
     "execution_count": 58,
     "metadata": {},
     "output_type": "execute_result"
    }
   ],
   "source": [
    "m.start(1)"
   ]
  },
  {
   "cell_type": "code",
   "execution_count": 59,
   "metadata": {
    "ExecuteTime": {
     "end_time": "2018-12-19T03:50:09.757639Z",
     "start_time": "2018-12-19T03:50:09.746638Z"
    }
   },
   "outputs": [
    {
     "data": {
      "text/plain": [
       "16"
      ]
     },
     "execution_count": 59,
     "metadata": {},
     "output_type": "execute_result"
    }
   ],
   "source": [
    "m.start(2)"
   ]
  },
  {
   "cell_type": "code",
   "execution_count": 60,
   "metadata": {
    "ExecuteTime": {
     "end_time": "2018-12-19T03:50:09.772640Z",
     "start_time": "2018-12-19T03:50:09.761639Z"
    }
   },
   "outputs": [
    {
     "data": {
      "text/plain": [
       "15"
      ]
     },
     "execution_count": 60,
     "metadata": {},
     "output_type": "execute_result"
    }
   ],
   "source": [
    "m.end(1)"
   ]
  },
  {
   "cell_type": "code",
   "execution_count": 61,
   "metadata": {
    "ExecuteTime": {
     "end_time": "2018-12-19T03:50:09.786640Z",
     "start_time": "2018-12-19T03:50:09.775640Z"
    }
   },
   "outputs": [
    {
     "data": {
      "text/plain": [
       "18"
      ]
     },
     "execution_count": 61,
     "metadata": {},
     "output_type": "execute_result"
    }
   ],
   "source": [
    "m.end()"
   ]
  },
  {
   "cell_type": "code",
   "execution_count": 62,
   "metadata": {
    "ExecuteTime": {
     "end_time": "2018-12-19T03:50:09.804642Z",
     "start_time": "2018-12-19T03:50:09.789641Z"
    }
   },
   "outputs": [
    {
     "data": {
      "text/plain": [
       "(12, 18)"
      ]
     },
     "execution_count": 62,
     "metadata": {},
     "output_type": "execute_result"
    }
   ],
   "source": [
    "m.span()  #输出子字符串的开始和结束位置"
   ]
  },
  {
   "cell_type": "code",
   "execution_count": 63,
   "metadata": {
    "ExecuteTime": {
     "end_time": "2018-12-19T03:50:09.835643Z",
     "start_time": "2018-12-19T03:50:09.807642Z"
    }
   },
   "outputs": [
    {
     "data": {
      "text/plain": [
       "(12, 15)"
      ]
     },
     "execution_count": 63,
     "metadata": {},
     "output_type": "execute_result"
    }
   ],
   "source": [
    "m.span(1)  #输出第一组子字符串的开始和结束位置"
   ]
  },
  {
   "cell_type": "code",
   "execution_count": 64,
   "metadata": {
    "ExecuteTime": {
     "end_time": "2018-12-19T03:50:09.858645Z",
     "start_time": "2018-12-19T03:50:09.838643Z"
    }
   },
   "outputs": [
    {
     "data": {
      "text/plain": [
       "(16, 18)"
      ]
     },
     "execution_count": 64,
     "metadata": {},
     "output_type": "execute_result"
    }
   ],
   "source": [
    "m.span(2)  #输出第二组子字符串的开始和结束位置"
   ]
  },
  {
   "cell_type": "markdown",
   "metadata": {},
   "source": [
    "## 正则表达式应用实例\n",
    "- 运用正则表达式分析并获取Python程序中定义的所有方法和变量\n",
    "- 一些预备知识\n",
    ">贪婪模式，就是在整个表达式匹配成功的前提下，尽可能多的匹配。  \n",
    " 非贪婪模式，就是在整个表达式匹配成功的前提下，尽可能少的匹配"
   ]
  },
  {
   "cell_type": "code",
   "execution_count": 65,
   "metadata": {
    "ExecuteTime": {
     "end_time": "2018-12-19T03:50:09.877646Z",
     "start_time": "2018-12-19T03:50:09.861645Z"
    }
   },
   "outputs": [
    {
     "name": "stdout",
     "output_type": "stream",
     "text": [
      "贪婪模式的输出结果为: ['<H1>Chapter 1 - 介绍正则表达式</H1>']\n",
      "非贪婪模式的输出结果为: ['<H1>', '</H1>']\n"
     ]
    }
   ],
   "source": [
    "s = \"<H1>Chapter 1 - 介绍正则表达式</H1>\"\n",
    "r1 = re.compile(\"<.*>\")\n",
    "m1 = r1.findall(s)\n",
    "print(\"贪婪模式的输出结果为:\", m1)\n",
    "\n",
    "r2 = re.compile(\"<.*?>\")\n",
    "m2 = r2.findall(s)\n",
    "print(\"非贪婪模式的输出结果为:\", m2)"
   ]
  },
  {
   "cell_type": "markdown",
   "metadata": {},
   "source": [
    "**演示了运用正则表达式分析并获取python程序中定义的所有方法和变量**"
   ]
  },
  {
   "cell_type": "code",
   "execution_count": 66,
   "metadata": {
    "ExecuteTime": {
     "end_time": "2018-12-19T03:50:09.894647Z",
     "start_time": "2018-12-19T03:50:09.879646Z"
    }
   },
   "outputs": [],
   "source": [
    "import re\n",
    "import sys\n",
    "\n",
    "\n",
    "def DealWithFunc(s):\n",
    "    r = re.compile(r'''\n",
    "        (?<=def\\s)  #前边必须含有def且def后跟一个空格\n",
    "        \\w+        #匹配函数名\n",
    "        \\(.*?\\)    #匹配参数\n",
    "        (?=:)      #后边必须跟一个“:” \n",
    "        ''', re.X | re.U)  #设置编译选项，忽略模式中的注释\n",
    "\n",
    "    return r.findall(s)\n",
    "\n",
    "\n",
    "def DealWithVar(s):\n",
    "    vars = []\n",
    "    r = re.compile(r'''\n",
    "    \\b          #匹配单词开始\n",
    "    \\w+         #匹配变量名\n",
    "    (?=\\s=)     #处理为变量赋值的情况\n",
    "    ''', re.X | re.U)  #设置编译选项，忽略模式中的注释\n",
    "    vars.extend(r.findall(s))\n",
    "    r = re.compile(r'''\n",
    "    (?<=for\\s)   #处理变量名位于for语句中的情况\n",
    "    \\w+         #匹配变量名\n",
    "    \\s          #匹配空格\n",
    "    (?=in)      #后边匹配in\n",
    "    ''', re.X | re.U)  #设置编译选项，忽略模式中的注释\n",
    "    return vars"
   ]
  },
  {
   "cell_type": "code",
   "execution_count": 67,
   "metadata": {
    "ExecuteTime": {
     "end_time": "2018-12-19T03:50:09.916648Z",
     "start_time": "2018-12-19T03:50:09.898647Z"
    }
   },
   "outputs": [
    {
     "name": "stdout",
     "output_type": "stream",
     "text": [
      "./src/echo.py 5 str\n",
      "./src/hello.py 1 hello()\n",
      "./src/pipe.py 1 a\n",
      "./src/pipe.py 2 a\n"
     ]
    }
   ],
   "source": [
    "import os\n",
    "import fileinput\n",
    "fileList = os.listdir('./src')\n",
    "allPythonFiles = ['./src/' + f for f in fileList if f[-3:] == \".py\"]\n",
    "\n",
    "with fileinput.input(allPythonFiles) as lines:\n",
    "    for line in lines:\n",
    "        function = DealWithFunc(line)\n",
    "        if len(function) == 1:\n",
    "            print(fileinput.filename(), fileinput.filelineno(), function[0])\n",
    "\n",
    "        var = DealWithVar(line)\n",
    "        if (len(var) == 1):\n",
    "            print(fileinput.filename(), fileinput.filelineno(), var[0])"
   ]
  }
 ],
 "metadata": {
  "kernelspec": {
   "display_name": "Python 3",
   "language": "python",
   "name": "python3"
  },
  "language_info": {
   "codemirror_mode": {
    "name": "ipython",
    "version": 3
   },
   "file_extension": ".py",
   "mimetype": "text/x-python",
   "name": "python",
   "nbconvert_exporter": "python",
   "pygments_lexer": "ipython3",
   "version": "3.6.7"
  },
  "varInspector": {
   "cols": {
    "lenName": 16,
    "lenType": 16,
    "lenVar": 40
   },
   "kernels_config": {
    "python": {
     "delete_cmd_postfix": "",
     "delete_cmd_prefix": "del ",
     "library": "var_list.py",
     "varRefreshCmd": "print(var_dic_list())"
    },
    "r": {
     "delete_cmd_postfix": ") ",
     "delete_cmd_prefix": "rm(",
     "library": "var_list.r",
     "varRefreshCmd": "cat(var_dic_list()) "
    }
   },
   "types_to_exclude": [
    "module",
    "function",
    "builtin_function_or_method",
    "instance",
    "_Feature"
   ],
   "window_display": false
  }
 },
 "nbformat": 4,
 "nbformat_minor": 2
}
