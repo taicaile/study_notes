{
 "cells": [
  {
   "cell_type": "markdown",
   "metadata": {},
   "source": [
    "### 第11章 文件与文件系统"
   ]
  },
  {
   "cell_type": "code",
   "execution_count": 1,
   "metadata": {
    "ExecuteTime": {
     "end_time": "2018-12-14T15:11:07.361229Z",
     "start_time": "2018-12-14T15:11:07.323227Z"
    }
   },
   "outputs": [
    {
     "name": "stdout",
     "output_type": "stream",
     "text": [
      "第1行的数据为: 1 \n",
      "\n",
      "第2行的数据为: 2 \n",
      "\n",
      "第3行的数据为: 3 \n",
      "\n",
      "第4行的数据为: 4 \n",
      "\n",
      "第5行的数据为:    5\n",
      "这些数的和为: 15\n"
     ]
    }
   ],
   "source": [
    "def file_hdl(name='./src//Chapter10Python.txt'):\n",
    "    f = open(name)\n",
    "    res = 0\n",
    "    i = 0\n",
    "    for line in f:\n",
    "        i += 1\n",
    "        print(\"第%s行的数据为:\" % line.strip(), line)\n",
    "        res += int(line)\n",
    "    print(\"这些数的和为:\", res)\n",
    "    f.close()\n",
    "\n",
    "\n",
    "file_hdl()"
   ]
  },
  {
   "cell_type": "markdown",
   "metadata": {},
   "source": [
    "**在文件处理之前打开文件,文件处理结束后还要关闭文件。在python中可以使用with语句来管理文件的打开和关闭。**"
   ]
  },
  {
   "cell_type": "code",
   "execution_count": null,
   "metadata": {
    "ExecuteTime": {
     "end_time": "2018-11-30T09:26:31.310663Z",
     "start_time": "2018-11-30T09:26:30.952Z"
    }
   },
   "outputs": [],
   "source": [
    "def file_hdl(name=\"./src//Chapter10Python.txt\"):\n",
    "    with open(name) as f:\n",
    "        res = 0\n",
    "        i = 0\n",
    "        for line in f:\n",
    "            i += 1\n",
    "            print(\"第%s行的数据为:\" % line.strip(), line)\n",
    "            res += int(line)\n",
    "        print('这些数据的和:', res)\n",
    "\n",
    "\n",
    "file_hdl()"
   ]
  },
  {
   "cell_type": "markdown",
   "metadata": {},
   "source": [
    "### 用fileinput操作文件\n",
    "fileinput 模块提供了一个以行模式循环处理一个或多个文件内容\n",
    "- input() # 输入为  文件名字的列表， 返回值是用于迭代所有行的对象\n",
    "- filename() # 返回当前文件的名称\n",
    "- lineno() # 返回当前读取的行的数量\n",
    "- isfirstline() #返回当前行是否是文件的第一行\n",
    "- filelineno() #返回当前读取行在文件中的行数"
   ]
  },
  {
   "cell_type": "code",
   "execution_count": null,
   "metadata": {
    "ExecuteTime": {
     "end_time": "2018-11-30T09:26:31.312663Z",
     "start_time": "2018-11-30T09:26:30.958Z"
    }
   },
   "outputs": [],
   "source": [
    "import fileinput\n",
    "\n",
    "\n",
    "def demo_fileinput():\n",
    "    with fileinput.input(['Chapter10fpa.txt',\n",
    "                          'Chapter10fpb.txt']) as lines:  #用with语句\n",
    "        for line in lines:\n",
    "            print(\n",
    "                \"总第%d行,\" % fileinput.lineno(),\n",
    "                \"文件%s中的第%d行:\" % (fileinput.filename(), fileinput.filelineno()))\n",
    "            print(line.strip())\n",
    "\n",
    "\n",
    "demo_fileinput()"
   ]
  },
  {
   "cell_type": "markdown",
   "metadata": {},
   "source": [
    "### 常用文件和目录操作"
   ]
  },
  {
   "cell_type": "code",
   "execution_count": null,
   "metadata": {
    "ExecuteTime": {
     "end_time": "2018-11-30T09:26:31.313663Z",
     "start_time": "2018-11-30T09:26:30.966Z"
    }
   },
   "outputs": [],
   "source": [
    "import os\n",
    "os.getcwd()  # 获得当前路径"
   ]
  },
  {
   "cell_type": "code",
   "execution_count": null,
   "metadata": {
    "ExecuteTime": {
     "end_time": "2018-11-30T09:26:31.316663Z",
     "start_time": "2018-11-30T09:26:30.970Z"
    }
   },
   "outputs": [],
   "source": [
    "#获得当前目录中的内容\n",
    "os.listdir()"
   ]
  },
  {
   "cell_type": "markdown",
   "metadata": {},
   "source": []
  },
  {
   "cell_type": "code",
   "execution_count": null,
   "metadata": {
    "ExecuteTime": {
     "end_time": "2018-11-30T09:26:31.317663Z",
     "start_time": "2018-11-30T09:26:30.973Z"
    }
   },
   "outputs": [],
   "source": [
    "#创建目录\n",
    "os.mkdir(\"test\")\n",
    "os.listdir()"
   ]
  },
  {
   "cell_type": "code",
   "execution_count": null,
   "metadata": {
    "ExecuteTime": {
     "end_time": "2018-11-30T09:26:31.319663Z",
     "start_time": "2018-11-30T09:26:30.978Z"
    }
   },
   "outputs": [],
   "source": [
    "#删除目录操作\n",
    "os.rmdir('test')\n",
    "os.listdir()"
   ]
  },
  {
   "cell_type": "code",
   "execution_count": null,
   "metadata": {
    "ExecuteTime": {
     "end_time": "2018-11-30T09:26:31.321663Z",
     "start_time": "2018-11-30T09:26:30.983Z"
    }
   },
   "outputs": [],
   "source": [
    "#判断是否是目录\n",
    "os.path.isdir('test')  # Flase表示不是目录或不存在"
   ]
  },
  {
   "cell_type": "code",
   "execution_count": null,
   "metadata": {
    "ExecuteTime": {
     "end_time": "2018-11-30T09:26:31.322663Z",
     "start_time": "2018-11-30T09:26:30.988Z"
    }
   },
   "outputs": [],
   "source": [
    "#判断是否为文件\n",
    "os.path.isfile('Chapter10fpa.txt')"
   ]
  },
  {
   "cell_type": "code",
   "execution_count": null,
   "metadata": {
    "ExecuteTime": {
     "end_time": "2018-11-30T09:26:31.325663Z",
     "start_time": "2018-11-30T09:26:30.995Z"
    }
   },
   "outputs": [],
   "source": [
    "#遍历某目录下的所有文件和目录\n",
    "# os.walk()函数返回的是一个可以迭代的生成器\n",
    "for i in os.walk('.\\\\'):\n",
    "    print(i)\n",
    "#返回值时多个元组，每个元组的第一项为遍历的目录名，第二项为遍历目录中的子目录列表，第三项为遍历目录中所有文件的列表"
   ]
  },
  {
   "cell_type": "code",
   "execution_count": null,
   "metadata": {
    "ExecuteTime": {
     "end_time": "2018-11-30T09:26:31.326663Z",
     "start_time": "2018-11-30T09:26:30.999Z"
    }
   },
   "outputs": [],
   "source": [
    "#批量进行重命名\n",
    "import os\n",
    "prefix = \"Python\"  # 前缀\n",
    "length = 2  #文件名最小额长度\n",
    "base = 1\n",
    "fileformat = '.mdb'  # 文件的后缀名\n",
    "\n",
    "\n",
    "#函数padleft将文件名补全到指定长度\n",
    "def PadLeft(str, num, padstr):\n",
    "    if len(str) < num:\n",
    "        str = str + padstr * (num - len(str))\n",
    "    return str\n",
    "\n",
    "\n",
    "print('the files in %s will be renamed' % os.getcwd())\n",
    "all_files = os.listdir(os.getcwd())\n",
    "all_docs = [f for f in all_files if os.path.isfile(f) and f[-4:] == fileformat]\n",
    "#可以利用 os.rename() 函数来对文件进行重命名\n",
    "index = 1\n",
    "for file in all_docs:\n",
    "    newfile = PadLeft(file, length, 'c')[:-4] + str(index) + file[-4:]\n",
    "    os.rename(file, newfile)\n",
    "    print('new file name is %s' % newfile)"
   ]
  },
  {
   "cell_type": "code",
   "execution_count": null,
   "metadata": {
    "ExecuteTime": {
     "end_time": "2018-11-30T09:26:31.328664Z",
     "start_time": "2018-11-30T09:26:31.006Z"
    }
   },
   "outputs": [],
   "source": [
    "print('abc' + str(3))"
   ]
  }
 ],
 "metadata": {
  "kernelspec": {
   "display_name": "Python 3",
   "language": "python",
   "name": "python3"
  },
  "language_info": {
   "codemirror_mode": {
    "name": "ipython",
    "version": 3
   },
   "file_extension": ".py",
   "mimetype": "text/x-python",
   "name": "python",
   "nbconvert_exporter": "python",
   "pygments_lexer": "ipython3",
   "version": "3.6.6"
  }
 },
 "nbformat": 4,
 "nbformat_minor": 2
}
