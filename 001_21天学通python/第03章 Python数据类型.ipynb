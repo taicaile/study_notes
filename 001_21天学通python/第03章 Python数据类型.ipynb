{
 "cells": [
  {
   "cell_type": "markdown",
   "metadata": {},
   "source": [
    "# Python数据类型\n",
    "## Python简单数据类型\n",
    "- 字符串\n",
    "- 整数\n",
    "- 浮点数\n",
    "- 类型转换\n",
    "- 字符串编码\n",
    "- 列表，元组与字典\n",
    "- 序列及其通用操作\n",
    "- 相关逻辑运算"
   ]
  },
  {
   "cell_type": "markdown",
   "metadata": {
    "ExecuteTime": {
     "end_time": "2018-11-09T12:11:21.341004Z",
     "start_time": "2018-11-09T12:11:21.329003Z"
    }
   },
   "source": [
    "### 字符串\n",
    "- 字符串由单引号、双引号、三个单引号或三个双引号包围的一串字符组成。\n",
    "- 字符串还可以通过序号来取出其中某个字符，例如'abcd'[1]取得值为'b'\n",
    "- 字符串运算，字符串可以通过“+”和“* ”运算符进行运算\n",
    "- 字符串处理函数，Python中还提供了很多对字符串操作的函数"
   ]
  },
  {
   "cell_type": "code",
   "execution_count": 22,
   "metadata": {
    "ExecuteTime": {
     "end_time": "2018-12-16T06:42:37.887446Z",
     "start_time": "2018-12-16T06:42:37.860445Z"
    },
    "scrolled": true
   },
   "outputs": [
    {
     "name": "stdout",
     "output_type": "stream",
     "text": [
      "source string is: Beautiful is better than ugly.\n",
      "swapcase demo\t bEAUTIFUL IS BETTER THAN UGLY.\n",
      "upper demo\t BEAUTIFUL IS BETTER THAN UGLY.\n",
      "lower demo\t beautiful is better than ugly.\n",
      "title demo\t Beautiful Is Better Than Ugly.\n",
      "istitle demo\t False\n",
      "islower demo\t False\n",
      "capitalize demo\t Beautiful is better than ugly.\n",
      "find demo\t 3\n",
      "count demo\t 2\n",
      "split demo\t ['Beautiful', 'is', 'better', 'than', 'ugly.']\n",
      "join demo\t aBeautiful is better than ugly.bBeautiful is better than ugly.cBeautiful is better than ugly.dBeautiful is better than ugly.e\n",
      "len demo\t 30\n"
     ]
    }
   ],
   "source": [
    "#字符串处理函数\n",
    "mystr = 'Beautiful is better than ugly.'\n",
    "print('source string is:', mystr)\n",
    "print('swapcase demo\\t', mystr.swapcase())  #大小写函数进行转换\n",
    "print('upper demo\\t', mystr.upper())  # 转换为大写\n",
    "print('lower demo\\t', mystr.lower())  # 转换为小写\n",
    "print('title demo\\t', mystr.title())  #转换为title格式\n",
    "print('istitle demo\\t', mystr.istitle())  # 判断是否是标题格式\n",
    "print('islower demo\\t', mystr.islower())  # 是否是小写\n",
    "print('capitalize demo\\t', mystr.capitalize())  #大写首字母\n",
    "print('find demo\\t', mystr.find('u'))  # 查找某个字母或者字符串\n",
    "print('count demo\\t', mystr.count('a'))  #找个某个字母或者字符串的个数\n",
    "print('split demo\\t', mystr.split(' '))  #按照格式进行划分，返回值是一个列表\n",
    "print('join demo\\t', mystr.join('abcde'))  #mystr分别和每个字母 进行组合\n",
    "print('len demo\\t', len(mystr))  #求出字符串的长度"
   ]
  },
  {
   "cell_type": "code",
   "execution_count": 6,
   "metadata": {
    "ExecuteTime": {
     "end_time": "2018-11-27T02:49:56.279296Z",
     "start_time": "2018-11-27T02:49:56.270296Z"
    }
   },
   "outputs": [
    {
     "data": {
      "text/plain": [
       "'gly.'"
      ]
     },
     "execution_count": 6,
     "metadata": {},
     "output_type": "execute_result"
    }
   ],
   "source": [
    "# 可以利用切片来截取某一段字符串\n",
    "mystr = 'Beautiful is better than ugly.'\n",
    "#取出字符串的后四个字母\n",
    "mystr[-4:]"
   ]
  },
  {
   "cell_type": "markdown",
   "metadata": {},
   "source": [
    "- 转义字符串"
   ]
  },
  {
   "cell_type": "code",
   "execution_count": 9,
   "metadata": {
    "ExecuteTime": {
     "end_time": "2018-12-16T06:36:40.315994Z",
     "start_time": "2018-12-16T06:36:40.306994Z"
    }
   },
   "outputs": [
    {
     "name": "stdout",
     "output_type": "stream",
     "text": [
      "aa\n",
      "aa\n"
     ]
    }
   ],
   "source": [
    "print(\"aa\\naa\")"
   ]
  },
  {
   "cell_type": "code",
   "execution_count": 10,
   "metadata": {
    "ExecuteTime": {
     "end_time": "2018-12-16T06:37:00.139128Z",
     "start_time": "2018-12-16T06:37:00.130128Z"
    }
   },
   "outputs": [
    {
     "name": "stdout",
     "output_type": "stream",
     "text": [
      "aa\taa\n"
     ]
    }
   ],
   "source": [
    "print(\"aa\\taa\")"
   ]
  },
  {
   "cell_type": "code",
   "execution_count": 12,
   "metadata": {
    "ExecuteTime": {
     "end_time": "2018-12-16T06:37:29.373800Z",
     "start_time": "2018-12-16T06:37:29.363800Z"
    }
   },
   "outputs": [
    {
     "name": "stdout",
     "output_type": "stream",
     "text": [
      "'\\''\n"
     ]
    }
   ],
   "source": [
    "print(\"\\'\\\\\\''\")"
   ]
  },
  {
   "cell_type": "code",
   "execution_count": 16,
   "metadata": {
    "ExecuteTime": {
     "end_time": "2018-12-16T06:38:37.472695Z",
     "start_time": "2018-12-16T06:38:37.465695Z"
    }
   },
   "outputs": [
    {
     "name": "stdout",
     "output_type": "stream",
     "text": [
      "gfdsa\r",
      "bb\n"
     ]
    }
   ],
   "source": [
    "print(\"gfdsa\\rbb\")  #\\r是回车,从当前行起始位置重新写入"
   ]
  },
  {
   "cell_type": "markdown",
   "metadata": {},
   "source": [
    "- 字符串运算"
   ]
  },
  {
   "cell_type": "code",
   "execution_count": 20,
   "metadata": {
    "ExecuteTime": {
     "end_time": "2018-12-16T06:39:59.975414Z",
     "start_time": "2018-12-16T06:39:59.958413Z"
    }
   },
   "outputs": [
    {
     "name": "stdout",
     "output_type": "stream",
     "text": [
      "aaabbb\n",
      "python python python \n"
     ]
    }
   ],
   "source": [
    "print('aaa' + 'bbb')\n",
    "print('python ' * 3)"
   ]
  },
  {
   "cell_type": "markdown",
   "metadata": {},
   "source": [
    "### 整数\n",
    "\n",
    "- 0o数字 表示八进制整数\n",
    "- 0x数字 表示十六进制整数\n",
    "- 0b数字 表示二进制整数  \n",
    "\n",
    "|  运算符  | 描 述 |\n",
    "| :------: | :-----: |\n",
    "| **  | 乘方运算符|\n",
    "|  *  | 乘法运算符|\n",
    "| /  | 出发运算符|\n",
    "| // | 整除运算符|\n",
    "| %  | 取余运算符|\n"
   ]
  },
  {
   "cell_type": "markdown",
   "metadata": {},
   "source": [
    "### 浮点数  \n",
    "浮点数的书写除了一般形式(形如3.14)外，还有以下几种表示方法:\n",
    "- 19.  小数部分为0，可以不写\n",
    "- .098 整数部分为0，可以不写\n",
    "- -2e3 科学计数法，表示 $-2\\times 10^3$"
   ]
  },
  {
   "cell_type": "markdown",
   "metadata": {},
   "source": [
    "### 类型转换\n",
    "在Python中常用的数据类型之间的可以相互转换的\n",
    "- str(object='')\n",
    "- int(x,base=10)\n",
    "- float(x)"
   ]
  },
  {
   "cell_type": "code",
   "execution_count": 7,
   "metadata": {
    "ExecuteTime": {
     "end_time": "2018-11-27T02:49:56.307298Z",
     "start_time": "2018-11-27T02:49:56.287297Z"
    }
   },
   "outputs": [
    {
     "name": "stdout",
     "output_type": "stream",
     "text": [
      "int(\"23.9\"):\t 23\n",
      "int(\"23.001\"):\t 23\n",
      "int(\"23\"):\t 23\n",
      "float(3):\t 3.0\n",
      "float(\"3\"):\t 3.0\n",
      "float(\"3.2\"):\t 3.2\n",
      "str(23):\t 23\n",
      "str(23.3):\t 23\n"
     ]
    }
   ],
   "source": [
    "print('int(\"23.9\"):\\t', int(23.9))  # 浮点数转换为整数\n",
    "print('int(\"23.001\"):\\t', int(23.001))  #浮点数转换为整数\n",
    "print('int(\"23\"):\\t', int(23))\n",
    "\n",
    "print('float(3):\\t', float(3))  # 整数转换为浮点数\n",
    "print('float(\"3\"):\\t', float('3'))  # 字符串转换为浮点数\n",
    "print('float(\"3.2\"):\\t', float('3.2'))  #字符串转换为浮点数\n",
    "\n",
    "print('str(23):\\t', str(23))  #整数转换为字符串\n",
    "print('str(23.3):\\t', str(23))  #浮点数转换为字符串"
   ]
  },
  {
   "cell_type": "markdown",
   "metadata": {},
   "source": [
    "## 字符串进阶\n",
    "### 原始字符串\n",
    "- 在字符串之前添加r或者R，否则需要使用反斜杠\\"
   ]
  },
  {
   "cell_type": "code",
   "execution_count": 24,
   "metadata": {
    "ExecuteTime": {
     "end_time": "2018-12-16T07:17:30.622144Z",
     "start_time": "2018-12-16T07:17:30.610143Z"
    }
   },
   "outputs": [
    {
     "name": "stdout",
     "output_type": "stream",
     "text": [
      "输出带有转义的字符串:\n",
      "abc\\r\n",
      "\n",
      "abc\n",
      "输出原始字符串:\n",
      "abc\\\\r\\n\\nabc\n"
     ]
    }
   ],
   "source": [
    "print(\"输出带有转义的字符串:\")\n",
    "print(\"abc\\\\r\\n\\nabc\")\n",
    "print(\"输出原始字符串:\")\n",
    "print(r\"abc\\\\r\\n\\nabc\")"
   ]
  },
  {
   "cell_type": "markdown",
   "metadata": {},
   "source": [
    "### 格式化字符串\n",
    "- 在Python中，可以在字符串中使用以%开头的字符"
   ]
  },
  {
   "cell_type": "code",
   "execution_count": 9,
   "metadata": {
    "ExecuteTime": {
     "end_time": "2018-11-27T02:49:56.349300Z",
     "start_time": "2018-11-27T02:49:56.324299Z"
    }
   },
   "outputs": [
    {
     "name": "stdout",
     "output_type": "stream",
     "text": [
      "I am a programmer.\n",
      "2 + 3 = 5\n",
      "4 + 6 = 10\n",
      "22,23\n",
      "['000', '001', '002', '003', '004']\n"
     ]
    }
   ],
   "source": [
    "print(\"I am a %s.\" % \"programmer\")\n",
    "print(\"%d + %d = %d\" % (2, 3, 2 + 3))\n",
    "print(\"%d + %d = %d\" % (4, 6, 4 + 6))\n",
    "a = (\"%d,%d\" % (22, 23))\n",
    "print(a)\n",
    "s = [\"00%d\" % f for f in range(5)]\n",
    "print(s)"
   ]
  },
  {
   "cell_type": "markdown",
   "metadata": {},
   "source": [
    "### 中文字符串处理"
   ]
  },
  {
   "cell_type": "code",
   "execution_count": 27,
   "metadata": {
    "ExecuteTime": {
     "end_time": "2018-12-16T07:21:44.267652Z",
     "start_time": "2018-12-16T07:21:44.261651Z"
    }
   },
   "outputs": [
    {
     "name": "stdout",
     "output_type": "stream",
     "text": [
      "b'\\xe6\\x88\\x91\\xe7\\x88\\xb1Python'\n",
      "我爱Python\n"
     ]
    }
   ],
   "source": [
    "wd = \"我爱Python\"\n",
    "wd_utf8_bts = wd.encode(\"utf-8\")\n",
    "print(wd_utf8_bts)\n",
    "print(wd_utf8_bts.decode(\"utf-8\"))"
   ]
  },
  {
   "cell_type": "markdown",
   "metadata": {},
   "source": [
    "## 标志符与赋值号\n",
    "### 标志符\n",
    "> Python语言规定标识符只能以字母或下划线引导，其后跟随0个或多个非空格字符，下划线或数字。"
   ]
  },
  {
   "cell_type": "markdown",
   "metadata": {},
   "source": [
    "### “=”\n",
    ">在Python中，“=”的作用是将对象引用与内存中某对象进行绑定。如果对象已经存在，就简单的绑定，以便引用右边的对象；若对象不存在，就由“=”操作符创建对象并绑定。\n",
    "\n",
    ">Python是一种动态类型机制的语言。所以变量在使用前不需要定义他的类型；同时，在任何时刻，某个对象一弄都可以重新引用一个不同类型的对象。 "
   ]
  },
  {
   "cell_type": "markdown",
   "metadata": {},
   "source": [
    "## Python结构数据类型\n",
    "### 列表\n",
    ">列表是以方括号“[]”包围的数据集合，不同成员间以“,”(半角符号)分隔。列表中可以包含任何数据类型，也可包含另一个列表。列表也可以通过序号来访问其中的成员。"
   ]
  },
  {
   "cell_type": "code",
   "execution_count": 10,
   "metadata": {
    "ExecuteTime": {
     "end_time": "2018-11-27T02:49:56.369301Z",
     "start_time": "2018-11-27T02:49:56.355301Z"
    }
   },
   "outputs": [
    {
     "data": {
      "text/plain": [
       "[]"
      ]
     },
     "execution_count": 10,
     "metadata": {},
     "output_type": "execute_result"
    }
   ],
   "source": [
    "list()  # 创建一个空列表，调用的是list的构造函数"
   ]
  },
  {
   "cell_type": "code",
   "execution_count": 11,
   "metadata": {
    "ExecuteTime": {
     "end_time": "2018-11-27T02:49:56.388302Z",
     "start_time": "2018-11-27T02:49:56.373302Z"
    }
   },
   "outputs": [
    {
     "data": {
      "text/plain": [
       "[]"
      ]
     },
     "execution_count": 11,
     "metadata": {},
     "output_type": "execute_result"
    }
   ],
   "source": [
    "[]  #也是创建一个空列表"
   ]
  },
  {
   "cell_type": "code",
   "execution_count": 12,
   "metadata": {
    "ExecuteTime": {
     "end_time": "2018-11-27T02:49:56.404303Z",
     "start_time": "2018-11-27T02:49:56.394303Z"
    }
   },
   "outputs": [
    {
     "data": {
      "text/plain": [
       "[1]"
      ]
     },
     "execution_count": 12,
     "metadata": {},
     "output_type": "execute_result"
    }
   ],
   "source": [
    "[\n",
    "    1,\n",
    "]  #创建一个只有一个元素的列表"
   ]
  },
  {
   "cell_type": "code",
   "execution_count": 13,
   "metadata": {
    "ExecuteTime": {
     "end_time": "2018-11-27T02:49:56.418304Z",
     "start_time": "2018-11-27T02:49:56.409304Z"
    }
   },
   "outputs": [
    {
     "data": {
      "text/plain": [
       "[1, 2, 3]"
      ]
     },
     "execution_count": 13,
     "metadata": {},
     "output_type": "execute_result"
    }
   ],
   "source": [
    "[1, 2, 3]  # 创建一个有三个元素的列表"
   ]
  },
  {
   "cell_type": "code",
   "execution_count": 14,
   "metadata": {
    "ExecuteTime": {
     "end_time": "2018-11-27T02:49:56.430305Z",
     "start_time": "2018-11-27T02:49:56.421304Z"
    }
   },
   "outputs": [
    {
     "name": "stdout",
     "output_type": "stream",
     "text": [
      "['a', 1, 'b', 2.0]\n"
     ]
    }
   ],
   "source": [
    "alist = ['a', 1, 'b', 2.0]  #创建一个包含不同数据元素的列表\n",
    "print(alist)"
   ]
  },
  {
   "cell_type": "code",
   "execution_count": 15,
   "metadata": {
    "ExecuteTime": {
     "end_time": "2018-11-27T02:49:56.451306Z",
     "start_time": "2018-11-27T02:49:56.436305Z"
    }
   },
   "outputs": [
    {
     "data": {
      "text/plain": [
       "[1, 2, 3, 4]"
      ]
     },
     "execution_count": 15,
     "metadata": {},
     "output_type": "execute_result"
    }
   ],
   "source": [
    "[1, 2] + [3, 4]  #列表支持加法操作"
   ]
  },
  {
   "cell_type": "code",
   "execution_count": 16,
   "metadata": {
    "ExecuteTime": {
     "end_time": "2018-11-27T02:49:56.466307Z",
     "start_time": "2018-11-27T02:49:56.459307Z"
    }
   },
   "outputs": [
    {
     "data": {
      "text/plain": [
       "[1, 2, 1, 2, 1, 2, 1, 2, 1, 2]"
      ]
     },
     "execution_count": 16,
     "metadata": {},
     "output_type": "execute_result"
    }
   ],
   "source": [
    "[1, 2] * 5  #列表支持乘法操作"
   ]
  },
  {
   "cell_type": "markdown",
   "metadata": {},
   "source": [
    "Python提供了对列表操作的多种操作函数，常用的操作函数如下：\n",
    "\n",
    "|   列表操作   | 描述 |\n",
    "|: --------    :| :----:|\n",
    "|list.append(x)|列表尾部追加成员x|\n",
    "|list.count(x) |返回列表中参数x出现的次数|\n",
    "|list.extend(L) |向列表中追加另一个列表L|\n",
    "|list.index(x) |返回参数x在列表中的序号(x不存在则报错)|\n",
    "|list.insert(index,object)|向列表中指定位置插入数据object|\n",
    "|list.pop() |删除列表中尾部的成员并返回删除的成员|\n",
    "|list.remove(x) |删除列表中的指定成员(有多个则删除第一个)|\n",
    "|list.reverse() |将列表中成员的顺序颠倒|\n",
    "|list.sort() |将列表中成员排序|"
   ]
  },
  {
   "cell_type": "markdown",
   "metadata": {},
   "source": [
    "### 元组（tuple）\n",
    "元组可以看成是一种特殊的列表，与列表不同的是元组一旦建立就不能修改。即不能改变其中的数据项，也不能添加和删除数据项。  \n",
    "元组的基本形式是以圆括号“()”括起来的数据元素，它也可以通过序号来引用其中的元素。"
   ]
  },
  {
   "cell_type": "code",
   "execution_count": 17,
   "metadata": {
    "ExecuteTime": {
     "end_time": "2018-11-27T02:49:56.481308Z",
     "start_time": "2018-11-27T02:49:56.469307Z"
    }
   },
   "outputs": [
    {
     "data": {
      "text/plain": [
       "()"
      ]
     },
     "execution_count": 17,
     "metadata": {},
     "output_type": "execute_result"
    }
   ],
   "source": [
    "()  # 创建空元组"
   ]
  },
  {
   "cell_type": "code",
   "execution_count": 18,
   "metadata": {
    "ExecuteTime": {
     "end_time": "2018-11-27T02:49:56.493309Z",
     "start_time": "2018-11-27T02:49:56.484308Z"
    }
   },
   "outputs": [
    {
     "data": {
      "text/plain": [
       "()"
      ]
     },
     "execution_count": 18,
     "metadata": {},
     "output_type": "execute_result"
    }
   ],
   "source": [
    "tuple()  # 创建空元组"
   ]
  },
  {
   "cell_type": "code",
   "execution_count": 19,
   "metadata": {
    "ExecuteTime": {
     "end_time": "2018-11-27T02:49:56.509309Z",
     "start_time": "2018-11-27T02:49:56.496309Z"
    }
   },
   "outputs": [
    {
     "data": {
      "text/plain": [
       "(1,)"
      ]
     },
     "execution_count": 19,
     "metadata": {},
     "output_type": "execute_result"
    }
   ],
   "source": [
    "(1, )  #创建只有一个元素的元组"
   ]
  },
  {
   "cell_type": "code",
   "execution_count": 20,
   "metadata": {
    "ExecuteTime": {
     "end_time": "2018-11-27T02:49:56.521310Z",
     "start_time": "2018-11-27T02:49:56.513310Z"
    }
   },
   "outputs": [
    {
     "data": {
      "text/plain": [
       "(2, 3)"
      ]
     },
     "execution_count": 20,
     "metadata": {},
     "output_type": "execute_result"
    }
   ],
   "source": [
    "2, 3  #用逗号隔开两个值，可以创建一个元组"
   ]
  },
  {
   "cell_type": "code",
   "execution_count": 21,
   "metadata": {
    "ExecuteTime": {
     "end_time": "2018-11-27T02:49:56.534311Z",
     "start_time": "2018-11-27T02:49:56.526310Z"
    }
   },
   "outputs": [
    {
     "name": "stdout",
     "output_type": "stream",
     "text": [
      "2 3\n"
     ]
    }
   ],
   "source": [
    "x, y = 2, 3  #右边为一元组，自动将元组第一个数值与x绑定，第二个与y绑定\n",
    "print(x, y)"
   ]
  },
  {
   "cell_type": "code",
   "execution_count": 22,
   "metadata": {
    "ExecuteTime": {
     "end_time": "2018-11-27T02:49:56.548312Z",
     "start_time": "2018-11-27T02:49:56.539311Z"
    }
   },
   "outputs": [],
   "source": [
    "x, y = y, x  # 交换x,与y的数值，（本质上右边是一个元组）"
   ]
  },
  {
   "cell_type": "code",
   "execution_count": 23,
   "metadata": {
    "ExecuteTime": {
     "end_time": "2018-11-27T02:49:56.565313Z",
     "start_time": "2018-11-27T02:49:56.551312Z"
    }
   },
   "outputs": [
    {
     "data": {
      "text/plain": [
       "2"
      ]
     },
     "execution_count": 23,
     "metadata": {},
     "output_type": "execute_result"
    }
   ],
   "source": [
    "alp1 = (1, 2, 3)\n",
    "alp1[1]  # 引用元组的序号为1的元素"
   ]
  },
  {
   "cell_type": "markdown",
   "metadata": {},
   "source": [
    "### 字典(dict)\n",
    "字典以大括号“{ }”包围的以“键：值”对方式声明和存在的数据集合。与列表的最大不同在于字典是无序的，其成员位置只是象征性的，在字典中通过键来访问成员，而不能通过其位置访问该成员。"
   ]
  },
  {
   "cell_type": "code",
   "execution_count": 24,
   "metadata": {
    "ExecuteTime": {
     "end_time": "2018-11-27T02:49:56.583314Z",
     "start_time": "2018-11-27T02:49:56.569313Z"
    }
   },
   "outputs": [
    {
     "data": {
      "text/plain": [
       "{}"
      ]
     },
     "execution_count": 24,
     "metadata": {},
     "output_type": "execute_result"
    }
   ],
   "source": [
    "{}  #建立空字典"
   ]
  },
  {
   "cell_type": "code",
   "execution_count": 25,
   "metadata": {
    "ExecuteTime": {
     "end_time": "2018-11-27T02:49:56.599315Z",
     "start_time": "2018-11-27T02:49:56.589314Z"
    }
   },
   "outputs": [
    {
     "data": {
      "text/plain": [
       "{}"
      ]
     },
     "execution_count": 25,
     "metadata": {},
     "output_type": "execute_result"
    }
   ],
   "source": [
    "dict()  #建立空字典"
   ]
  },
  {
   "cell_type": "code",
   "execution_count": 26,
   "metadata": {
    "ExecuteTime": {
     "end_time": "2018-11-27T02:49:56.611315Z",
     "start_time": "2018-11-27T02:49:56.603315Z"
    }
   },
   "outputs": [
    {
     "data": {
      "text/plain": [
       "1"
      ]
     },
     "execution_count": 26,
     "metadata": {},
     "output_type": "execute_result"
    }
   ],
   "source": [
    "adct = {'a': 1, 'b': 2, 'c': 3.2}\n",
    "adct['a']  # 通过键名引用成员"
   ]
  },
  {
   "attachments": {
    "2018-11-10_19-30-27.jpg": {
     "image/jpeg": "[encoded data removed]"
    }
   },
   "cell_type": "markdown",
   "metadata": {},
   "source": [
    "![2018-11-10_19-30-27.jpg](attachment:2018-11-10_19-30-27.jpg)"
   ]
  },
  {
   "cell_type": "code",
   "execution_count": 27,
   "metadata": {
    "ExecuteTime": {
     "end_time": "2018-11-27T02:49:56.623316Z",
     "start_time": "2018-11-27T02:49:56.614315Z"
    }
   },
   "outputs": [
    {
     "name": "stdout",
     "output_type": "stream",
     "text": [
      "{'a': 1, 'b': 2, 'c': 3}\n",
      "{'a': 1, 'b': 2, 'c': 3, 'd': 5}\n",
      "key=a,value=1\n",
      "key=b,value=2\n",
      "key=c,value=3\n",
      "key=d,value=5\n"
     ]
    }
   ],
   "source": [
    "adct = {'a': 1, 'b': 2, 'c': 3}\n",
    "print(adct)\n",
    "adct.update({'d': 5})\n",
    "print(adct)\n",
    "for key, value in adct.items():\n",
    "    print(\"key=%s,value=%d\" % (key, value))"
   ]
  },
  {
   "cell_type": "markdown",
   "metadata": {},
   "source": [
    "## 内置常量与逻辑运算符，比较运算符\n",
    "### 常用内置常量\n",
    "Ture和False是Python的逻辑型数据  \n",
    "逻辑假包含False、None、0、''(空字符串)、()(空元组)、\\[\\](空列表)、{}(空字典)等。  \n",
    "\n",
    "### Python中运算符\n",
    "- Python中的逻辑运算符包含 and, or, not\n",
    "- Python中的其他逻辑运算符\n",
    "  - is 和 is not， 用于判断左端与右端对象引用的是否指向同一个对象\n",
    "  - in 和 not in， 用于检查某个数据是否存在于某包含多个成员的数据类型"
   ]
  },
  {
   "cell_type": "markdown",
   "metadata": {},
   "source": [
    "## 序列\n",
    "### 序列切片\n",
    "- 序列切片是指形如[start:end:step], 意思是从序列中start序号开始到end前一个结束，每隔step个取一个成员。  \n",
    "- alst[:] 取所有的成员数据项\n",
    "- alst[:-1] 取除了最后一个成员之外的所有数据项\n",
    "- alst[::2] 每隔一个取一个成员，得到[0,2,4,6]\n",
    "- alst[::-1] 从右至左取全部成员，得到[7,6,5,4,3,2,1,0]\n",
    "\n",
    "### 序列内置操作\n",
    "- 在Python中已经内置了一些对序列进行操作的方法如下表所示："
   ]
  },
  {
   "cell_type": "code",
   "execution_count": 29,
   "metadata": {
    "ExecuteTime": {
     "end_time": "2018-12-16T07:46:10.456513Z",
     "start_time": "2018-12-16T07:46:10.438512Z"
    }
   },
   "outputs": [
    {
     "name": "stdout",
     "output_type": "stream",
     "text": [
      "len(alist): 6\n",
      "min(alist): 0\n",
      "max(alist): 10\n",
      "sum(alist): 20\n",
      "all(alist): False\n",
      "any(alist): True\n"
     ]
    }
   ],
   "source": [
    "alist = [0, 1, 2, 3, 4, 10]\n",
    "print(\"len(alist):\", len(alist))\n",
    "print(\"min(alist):\", min(alist))\n",
    "print(\"max(alist):\", max(alist))\n",
    "print(\"sum(alist):\", sum(alist))\n",
    "print(\"all(alist):\", all(alist))\n",
    "print('any(alist):', any(alist))"
   ]
  }
 ],
 "metadata": {
  "kernelspec": {
   "display_name": "Python 3",
   "language": "python",
   "name": "python3"
  },
  "language_info": {
   "codemirror_mode": {
    "name": "ipython",
    "version": 3
   },
   "file_extension": ".py",
   "mimetype": "text/x-python",
   "name": "python",
   "nbconvert_exporter": "python",
   "pygments_lexer": "ipython3",
   "version": "3.6.6"
  }
 },
 "nbformat": 4,
 "nbformat_minor": 2
}
