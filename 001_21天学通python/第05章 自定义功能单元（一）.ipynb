{
 "cells": [
  {
   "cell_type": "markdown",
   "metadata": {},
   "source": [
    "## 使用函数\n",
    "### 声明和调用函数"
   ]
  },
  {
   "cell_type": "code",
   "execution_count": 39,
   "metadata": {
    "ExecuteTime": {
     "end_time": "2018-11-27T02:49:56.826328Z",
     "start_time": "2018-11-27T02:49:56.811327Z"
    }
   },
   "outputs": [
    {
     "name": "stdout",
     "output_type": "stream",
     "text": [
      "python 你好\n",
      "Jason hi\n"
     ]
    }
   ],
   "source": [
    "def hello(hi=\"你好\", name=\"python\"):\n",
    "    print(name, hi)\n",
    "\n",
    "\n",
    "hello()\n",
    "hello(\"hi\", \"Jason\")"
   ]
  },
  {
   "cell_type": "markdown",
   "metadata": {},
   "source": [
    "## 深入函数\n",
    "### 默认值参数"
   ]
  },
  {
   "cell_type": "code",
   "execution_count": 2,
   "metadata": {
    "ExecuteTime": {
     "end_time": "2018-12-16T08:31:40.738676Z",
     "start_time": "2018-12-16T08:31:40.716675Z"
    }
   },
   "outputs": [
    {
     "name": "stdout",
     "output_type": "stream",
     "text": [
      "你好, python\n",
      "你好, 小王\n"
     ]
    }
   ],
   "source": [
    "def hello(name='python'):\n",
    "    print('你好, %s' % name)\n",
    "\n",
    "\n",
    "hello()\n",
    "hello(\"小王\")"
   ]
  },
  {
   "cell_type": "markdown",
   "metadata": {},
   "source": [
    "### 参数传递  \n",
    "> 在Python中参数值的传递时按照声明函数时参数的位置顺序进行传递的。在调用函数时可以使用“关键词==参数值”的方法针对特定参数赋值"
   ]
  },
  {
   "cell_type": "code",
   "execution_count": 3,
   "metadata": {
    "ExecuteTime": {
     "end_time": "2018-12-16T08:36:01.699602Z",
     "start_time": "2018-12-16T08:36:01.691602Z"
    }
   },
   "outputs": [
    {
     "name": "stdout",
     "output_type": "stream",
     "text": [
      "hi 小王\n"
     ]
    }
   ],
   "source": [
    "def hello(hi='hi', name='python'):\n",
    "    print(hi, name)\n",
    "\n",
    "\n",
    "hello(name=\"小王\")"
   ]
  },
  {
   "cell_type": "markdown",
   "metadata": {},
   "source": [
    "### 可变数量参数传递\n",
    "> 在自定义函数时，如果参数名前加上一个“\\*”，则表示该参数是一个可变长参数。剩下的参数将会收集在一个元祖中，元组的名称就是前面带星号的参数名。"
   ]
  },
  {
   "cell_type": "code",
   "execution_count": 40,
   "metadata": {
    "ExecuteTime": {
     "end_time": "2018-11-27T02:49:56.843329Z",
     "start_time": "2018-11-27T02:49:56.831328Z"
    }
   },
   "outputs": [
    {
     "name": "stdout",
     "output_type": "stream",
     "text": [
      "<class 'tuple'>\n",
      "(1,)\n",
      "<class 'tuple'>\n",
      "(1, 2, 3)\n"
     ]
    }
   ],
   "source": [
    "def change_para_num(*tpl):\n",
    "    print(type(tpl))\n",
    "    print(tpl)\n",
    "\n",
    "\n",
    "change_para_num(1)\n",
    "change_para_num(1, 2, 3)"
   ]
  },
  {
   "cell_type": "markdown",
   "metadata": {},
   "source": [
    "> 使用元组来收集参数时，调用时提供的参数不能为关键字参数，如果要收集不定数量的关键字参数需要在参数前添加两颗星 **valuename"
   ]
  },
  {
   "cell_type": "code",
   "execution_count": 6,
   "metadata": {
    "ExecuteTime": {
     "end_time": "2018-12-16T08:49:10.937744Z",
     "start_time": "2018-12-16T08:49:10.924743Z"
    }
   },
   "outputs": [
    {
     "name": "stdout",
     "output_type": "stream",
     "text": [
      "adct: {'k': 3, 'c': 4}\n",
      "a: 1\n",
      "b 2\n"
     ]
    }
   ],
   "source": [
    "def change_para_dct(a, b=0, **adct):\n",
    "    print('adct:', adct)\n",
    "    print('a:', a)\n",
    "    print('b', b)\n",
    "\n",
    "\n",
    "change_para_dct(1, k=3, b=2, c=4)  #这里c和k为非关键字参数"
   ]
  },
  {
   "cell_type": "markdown",
   "metadata": {},
   "source": [
    "### 拆解序列的函数调用  \n",
    "- 拆解元组 提供位置参数；\n",
    "- 拆解字典 提供关键字参数\n",
    "\n",
    "> 调用时使用拆解元组的方法是在调用时提供的参数前加一个\\*号；要拆解字典必须在提供的调用参数前加两个\\*号"
   ]
  },
  {
   "cell_type": "code",
   "execution_count": 17,
   "metadata": {
    "ExecuteTime": {
     "end_time": "2018-12-16T09:46:15.400612Z",
     "start_time": "2018-12-16T09:46:15.385611Z"
    }
   },
   "outputs": [
    {
     "name": "stdout",
     "output_type": "stream",
     "text": [
      "拆解元组调用:\n",
      "7\n",
      "拆解字典调用:\n",
      "7\n"
     ]
    }
   ],
   "source": [
    "def mysum(a, b):\n",
    "    return a + b\n",
    "\n",
    "\n",
    "print(\"拆解元组调用:\")\n",
    "print(mysum(*(3, 4)))  #调用时拆解元组作为位置参数\n",
    "\n",
    "print(\"拆解字典调用:\")\n",
    "print(mysum(**{'a': 3, 'b': 4}))  #调用时拆解字典作为关键字参数"
   ]
  },
  {
   "cell_type": "markdown",
   "metadata": {},
   "source": [
    "### 函数调用时参数的传递方法\n",
    "- 列表和字典在函数内部做修改的时候，外部也跟着改变\n",
    "- 形参可以设置默认值，例如 def hello(name=python), 注意有默认值的参数必须放在无默认值参数的后边"
   ]
  },
  {
   "cell_type": "markdown",
   "metadata": {},
   "source": [
    "- 列表作为默认参数时出现的\"陷阱\"，调用三次myfun()函数，每次追加'abc'"
   ]
  },
  {
   "cell_type": "code",
   "execution_count": 41,
   "metadata": {
    "ExecuteTime": {
     "end_time": "2018-11-27T02:49:56.854329Z",
     "start_time": "2018-11-27T02:49:56.847329Z"
    }
   },
   "outputs": [
    {
     "name": "stdout",
     "output_type": "stream",
     "text": [
      "['abc']\n",
      "['abc', 'abc']\n",
      "['abc', 'abc', 'abc']\n"
     ]
    }
   ],
   "source": [
    "def myfun(lst=[]):\n",
    "    lst.append('abc')\n",
    "    print(lst)\n",
    "\n",
    "\n",
    "myfun()\n",
    "myfun()\n",
    "myfun()"
   ]
  },
  {
   "cell_type": "code",
   "execution_count": 42,
   "metadata": {
    "ExecuteTime": {
     "end_time": "2018-11-27T02:49:56.867330Z",
     "start_time": "2018-11-27T02:49:56.857329Z"
    }
   },
   "outputs": [
    {
     "data": {
      "text/plain": [
       "[]"
      ]
     },
     "execution_count": 42,
     "metadata": {},
     "output_type": "execute_result"
    }
   ],
   "source": [
    "lst = [1, 2, 3]\n",
    "lst = []\n",
    "lst"
   ]
  },
  {
   "cell_type": "markdown",
   "metadata": {},
   "source": [
    "## 使用匿名函数\n",
    "> lambda可以用来创建匿名函数，也可以将匿名函数赋给一个变量供调用，它是Python中一类比较特殊的声明函数的方式，lambda来源于LISP语言，其形式如下\n",
    "```\n",
    "lambda params:expr\n",
    "```"
   ]
  },
  {
   "cell_type": "code",
   "execution_count": 21,
   "metadata": {
    "ExecuteTime": {
     "end_time": "2018-12-16T10:32:35.338615Z",
     "start_time": "2018-12-16T10:32:35.323615Z"
    }
   },
   "outputs": [
    {
     "data": {
      "text/plain": [
       "1.4142135623730951"
      ]
     },
     "execution_count": 21,
     "metadata": {},
     "output_type": "execute_result"
    }
   ],
   "source": [
    "import math\n",
    "#计算两点之间的距离\n",
    "s = lambda x1, y1, x2, y2: math.sqrt((x1 - x2)**2 + (y1 - y2)**2)\n",
    "s(1, 1, 0, 0)"
   ]
  },
  {
   "cell_type": "markdown",
   "metadata": {},
   "source": [
    "### python常用内置函数\n",
    "- help() 显示对象的帮助信息\n",
    "- map(seq) 对序列中的数据逐个变换"
   ]
  },
  {
   "cell_type": "code",
   "execution_count": 43,
   "metadata": {
    "ExecuteTime": {
     "end_time": "2018-11-27T02:49:56.885331Z",
     "start_time": "2018-11-27T02:49:56.872330Z"
    },
    "scrolled": true
   },
   "outputs": [
    {
     "name": "stdout",
     "output_type": "stream",
     "text": [
      "Help on class map in module builtins:\n",
      "\n",
      "class map(object)\n",
      " |  map(func, *iterables) --> map object\n",
      " |  \n",
      " |  Make an iterator that computes the function using arguments from\n",
      " |  each of the iterables.  Stops when the shortest iterable is exhausted.\n",
      " |  \n",
      " |  Methods defined here:\n",
      " |  \n",
      " |  __getattribute__(self, name, /)\n",
      " |      Return getattr(self, name).\n",
      " |  \n",
      " |  __iter__(self, /)\n",
      " |      Implement iter(self).\n",
      " |  \n",
      " |  __new__(*args, **kwargs) from builtins.type\n",
      " |      Create and return a new object.  See help(type) for accurate signature.\n",
      " |  \n",
      " |  __next__(self, /)\n",
      " |      Implement next(self).\n",
      " |  \n",
      " |  __reduce__(...)\n",
      " |      Return state information for pickling.\n",
      "\n"
     ]
    }
   ],
   "source": [
    "help(map)  #"
   ]
  },
  {
   "cell_type": "code",
   "execution_count": 44,
   "metadata": {
    "ExecuteTime": {
     "end_time": "2018-11-27T02:49:56.907332Z",
     "start_time": "2018-11-27T02:49:56.890331Z"
    }
   },
   "outputs": [
    {
     "data": {
      "text/plain": [
       "float"
      ]
     },
     "execution_count": 44,
     "metadata": {},
     "output_type": "execute_result"
    }
   ],
   "source": [
    "a = [1, 88, 9, 44, 5]\n",
    "f = list(map(float, a))\n",
    "type(f[0])"
   ]
  }
 ],
 "metadata": {
  "kernelspec": {
   "display_name": "Python 3",
   "language": "python",
   "name": "python3"
  },
  "language_info": {
   "codemirror_mode": {
    "name": "ipython",
    "version": 3
   },
   "file_extension": ".py",
   "mimetype": "text/x-python",
   "name": "python",
   "nbconvert_exporter": "python",
   "pygments_lexer": "ipython3",
   "version": "3.6.6"
  },
  "varInspector": {
   "cols": {
    "lenName": 16,
    "lenType": 16,
    "lenVar": 40
   },
   "kernels_config": {
    "python": {
     "delete_cmd_postfix": "",
     "delete_cmd_prefix": "del ",
     "library": "var_list.py",
     "varRefreshCmd": "print(var_dic_list())"
    },
    "r": {
     "delete_cmd_postfix": ") ",
     "delete_cmd_prefix": "rm(",
     "library": "var_list.r",
     "varRefreshCmd": "cat(var_dic_list()) "
    }
   },
   "types_to_exclude": [
    "module",
    "function",
    "builtin_function_or_method",
    "instance",
    "_Feature"
   ],
   "window_display": false
  }
 },
 "nbformat": 4,
 "nbformat_minor": 2
}
