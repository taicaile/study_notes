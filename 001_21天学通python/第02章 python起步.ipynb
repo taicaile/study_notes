{
 "cells": [
  {
   "cell_type": "markdown",
   "metadata": {},
   "source": [
    "## Python语法基础\n",
    "### 缩进分层\n",
    "    Python程序要求的代码最好是全部使用缩进来分层。代码缩进一般在函数定义、类的定义以及一些控制语句中。一般来说，行尾的\":\"表示下一行缩进的开始"
   ]
  },
  {
   "cell_type": "code",
   "execution_count": 2,
   "metadata": {},
   "outputs": [
    {
     "name": "stdout",
     "output_type": "stream",
     "text": [
      "5\n"
     ]
    }
   ],
   "source": [
    "a = 3\n",
    "b = 5\n",
    "if a > b:\n",
    "    if a == 1:\n",
    "        print(a)\n",
    "    else:\n",
    "        if a == 0:\n",
    "            print(a)\n",
    "        else:\n",
    "            pass\n",
    "elif a == b:\n",
    "    print(a, b)\n",
    "else:\n",
    "    print(b)"
   ]
  },
  {
   "cell_type": "markdown",
   "metadata": {},
   "source": [
    "### 代码注释\n",
    "    1. 单行注释 ，以\"#\"字符开始，同一行中其后的所有内容都视为注释，不论是什么都不会执行\n",
    "    2. 多行注释，用三个单引号 ''' 或者三个双引号 \"\"\"\n",
    "    "
   ]
  },
  {
   "cell_type": "code",
   "execution_count": 3,
   "metadata": {
    "ExecuteTime": {
     "end_time": "2018-12-15T15:35:36.483619Z",
     "start_time": "2018-12-15T15:35:36.464618Z"
    }
   },
   "outputs": [
    {
     "name": "stdout",
     "output_type": "stream",
     "text": [
      "+\n"
     ]
    }
   ],
   "source": [
    "'''\n",
    "该程序段的功能是:\n",
    "根据变量x值输出x/-\n",
    "'''\n",
    "a = 10\n",
    "if a >= 0:\n",
    "    print('+')  #大于0输出+\n",
    "else:\n",
    "    print('-')  #小于0输出-\n",
    "#print(a) #此行注释语句不会执行"
   ]
  },
  {
   "cell_type": "markdown",
   "metadata": {},
   "source": [
    "### 断行\n",
    "    Python中其实也可以将两条语句书写在一行而用分号隔开。\n",
    "    还有一种情况就是，如果缩进语句只有一条语句，也可以直接写在\":\"之后\n",
    ">  \n",
    "``` python\n",
    "print('+'); print('-')\n",
    "if a>0: print('+')\n",
    "else: print('-')\n",
    "```\n",
    "\n",
    "    在Python中一条语句不方便写入同一行内，这时可以通过使用\"\\\"将该行以后内容写入下一行，而\"\\\" 后则不允许有任何内容。"
   ]
  },
  {
   "cell_type": "code",
   "execution_count": 4,
   "metadata": {
    "ExecuteTime": {
     "end_time": "2018-12-15T15:53:10.332896Z",
     "start_time": "2018-12-15T15:53:10.316895Z"
    }
   },
   "outputs": [
    {
     "name": "stdout",
     "output_type": "stream",
     "text": [
      "I am a teacher A neil\n"
     ]
    }
   ],
   "source": [
    "first_name = \"A\"\n",
    "last_name = \"neil\"\n",
    "print('I am a teacher', \\\n",
    "    first_name,\\\n",
    "    last_name)\n",
    "#以上代码，去掉\"\\\"也是正确的，因为Python语言也规定了圆括号内包围的部分时可以写在不同行的。"
   ]
  },
  {
   "cell_type": "code",
   "execution_count": null,
   "metadata": {},
   "outputs": [],
   "source": []
  },
  {
   "cell_type": "markdown",
   "metadata": {},
   "source": [
    "## Python输入/输出\n",
    "### 接收键盘/输入\n",
    "    调用input()函数"
   ]
  },
  {
   "cell_type": "code",
   "execution_count": 5,
   "metadata": {
    "ExecuteTime": {
     "end_time": "2018-11-27T02:49:56.173290Z",
     "start_time": "2018-11-27T02:49:49.623916Z"
    }
   },
   "outputs": [
    {
     "name": "stdout",
     "output_type": "stream",
     "text": [
      "Please input your name:\n",
      "joy\n"
     ]
    }
   ],
   "source": [
    "name = input('Please input your name:\\n')"
   ]
  },
  {
   "cell_type": "markdown",
   "metadata": {},
   "source": [
    "### 显示处理结果\n",
    "print()函数"
   ]
  },
  {
   "cell_type": "code",
   "execution_count": 6,
   "metadata": {
    "ExecuteTime": {
     "end_time": "2018-11-27T02:49:56.185291Z",
     "start_time": "2018-11-27T02:49:56.176290Z"
    }
   },
   "outputs": [
    {
     "name": "stdout",
     "output_type": "stream",
     "text": [
      "a b c\n",
      "a,b,c\n",
      "a b c;\n",
      "a b c\n"
     ]
    }
   ],
   "source": [
    "print('a', 'b', 'c')\n",
    "print('a', 'b', 'c', sep=',')\n",
    "print('a', 'b', 'c', end=';')\n",
    "print()\n",
    "print('a', 'b', 'c')"
   ]
  },
  {
   "cell_type": "markdown",
   "metadata": {},
   "source": [
    "## 用Python计算\n",
    "### 算数与代数式运算"
   ]
  },
  {
   "cell_type": "code",
   "execution_count": 7,
   "metadata": {
    "ExecuteTime": {
     "end_time": "2018-12-15T15:55:42.707611Z",
     "start_time": "2018-12-15T15:55:42.677609Z"
    }
   },
   "outputs": [
    {
     "data": {
      "text/plain": [
       "15.5"
      ]
     },
     "execution_count": 7,
     "metadata": {},
     "output_type": "execute_result"
    }
   ],
   "source": [
    "3 * 5 / 2 + 4 * 2  #基本四则混合运算"
   ]
  },
  {
   "cell_type": "code",
   "execution_count": 8,
   "metadata": {
    "ExecuteTime": {
     "end_time": "2018-12-15T15:57:25.245476Z",
     "start_time": "2018-12-15T15:57:25.234475Z"
    }
   },
   "outputs": [
    {
     "data": {
      "text/plain": [
       "3.0"
      ]
     },
     "execution_count": 8,
     "metadata": {},
     "output_type": "execute_result"
    }
   ],
   "source": [
    "27 * (4 - 2) / (2 + 4 * (3 + 1))  #用括号改变优先级"
   ]
  },
  {
   "cell_type": "code",
   "execution_count": 9,
   "metadata": {
    "ExecuteTime": {
     "end_time": "2018-12-15T15:57:46.333682Z",
     "start_time": "2018-12-15T15:57:46.321681Z"
    }
   },
   "outputs": [
    {
     "data": {
      "text/plain": [
       "8"
      ]
     },
     "execution_count": 9,
     "metadata": {},
     "output_type": "execute_result"
    }
   ],
   "source": [
    "2**3  #求2的三次方"
   ]
  },
  {
   "cell_type": "code",
   "execution_count": 10,
   "metadata": {
    "ExecuteTime": {
     "end_time": "2018-12-15T15:58:46.663133Z",
     "start_time": "2018-12-15T15:58:46.651132Z"
    }
   },
   "outputs": [
    {
     "data": {
      "text/plain": [
       "19"
      ]
     },
     "execution_count": 10,
     "metadata": {},
     "output_type": "execute_result"
    }
   ],
   "source": [
    "x = 3\n",
    "2 * x**2 - x + 4  #计算带数值的数值"
   ]
  },
  {
   "cell_type": "markdown",
   "metadata": {},
   "source": [
    "- 调用math模块内置函数"
   ]
  },
  {
   "cell_type": "code",
   "execution_count": 11,
   "metadata": {
    "ExecuteTime": {
     "end_time": "2018-12-15T16:03:00.123630Z",
     "start_time": "2018-12-15T16:03:00.104629Z"
    }
   },
   "outputs": [
    {
     "data": {
      "text/plain": [
       "0.9092974268256817"
      ]
     },
     "execution_count": 11,
     "metadata": {},
     "output_type": "execute_result"
    }
   ],
   "source": [
    "import math\n",
    "x = 2\n",
    "math.sin(x)  #求正弦值"
   ]
  },
  {
   "cell_type": "code",
   "execution_count": 12,
   "metadata": {
    "ExecuteTime": {
     "end_time": "2018-12-15T16:03:00.471650Z",
     "start_time": "2018-12-15T16:03:00.461649Z"
    }
   },
   "outputs": [
    {
     "data": {
      "text/plain": [
       "5.0"
      ]
     },
     "execution_count": 12,
     "metadata": {},
     "output_type": "execute_result"
    }
   ],
   "source": [
    "math.hypot(3, 4)  #求3,4为直角边的三角形斜边长"
   ]
  },
  {
   "cell_type": "code",
   "execution_count": 13,
   "metadata": {
    "ExecuteTime": {
     "end_time": "2018-12-15T16:03:00.812669Z",
     "start_time": "2018-12-15T16:03:00.801669Z"
    }
   },
   "outputs": [
    {
     "data": {
      "text/plain": [
       "1.4142135623730951"
      ]
     },
     "execution_count": 13,
     "metadata": {},
     "output_type": "execute_result"
    }
   ],
   "source": [
    "math.sqrt(x)  #求平方根"
   ]
  },
  {
   "cell_type": "code",
   "execution_count": 14,
   "metadata": {
    "ExecuteTime": {
     "end_time": "2018-12-15T16:03:01.172690Z",
     "start_time": "2018-12-15T16:03:01.158689Z"
    }
   },
   "outputs": [
    {
     "data": {
      "text/plain": [
       "0.7853981633974484"
      ]
     },
     "execution_count": 14,
     "metadata": {},
     "output_type": "execute_result"
    }
   ],
   "source": [
    "math.asin(math.sqrt(2) / 2)  #嵌套调用，求2的平方根除以2的反正弦值"
   ]
  },
  {
   "cell_type": "code",
   "execution_count": 15,
   "metadata": {
    "ExecuteTime": {
     "end_time": "2018-12-15T16:03:01.595714Z",
     "start_time": "2018-12-15T16:03:01.582713Z"
    }
   },
   "outputs": [
    {
     "data": {
      "text/plain": [
       "65536.0"
      ]
     },
     "execution_count": 15,
     "metadata": {},
     "output_type": "execute_result"
    }
   ],
   "source": [
    "math.pow(2, 16)  #求2的16次方"
   ]
  },
  {
   "cell_type": "markdown",
   "metadata": {},
   "source": [
    "- #在Python中，直接提供了对大整数的支持，我们可以直接使用"
   ]
  },
  {
   "cell_type": "code",
   "execution_count": 16,
   "metadata": {
    "ExecuteTime": {
     "end_time": "2018-12-15T16:05:30.943256Z",
     "start_time": "2018-12-15T16:05:30.919255Z"
    }
   },
   "outputs": [
    {
     "data": {
      "text/plain": [
       "385882038903511628883114181028424833328541605753481579343319754888593611212871418396027662995362221052765140208298627984367886375194677841711279845321977198472894036432428189341402243744389806176714248864852985412200332997979799"
      ]
     },
     "execution_count": 16,
     "metadata": {},
     "output_type": "execute_result"
    }
   ],
   "source": [
    "199**99"
   ]
  },
  {
   "cell_type": "markdown",
   "metadata": {
    "ExecuteTime": {
     "end_time": "2018-12-15T16:05:54.813622Z",
     "start_time": "2018-12-15T16:05:54.788620Z"
    }
   },
   "source": [
    "- 浮点数比较"
   ]
  },
  {
   "cell_type": "code",
   "execution_count": 17,
   "metadata": {
    "ExecuteTime": {
     "end_time": "2018-12-15T16:07:43.214822Z",
     "start_time": "2018-12-15T16:07:43.199821Z"
    }
   },
   "outputs": [
    {
     "name": "stdout",
     "output_type": "stream",
     "text": [
      "0.8999999999999999\n",
      "False\n",
      "True\n"
     ]
    }
   ],
   "source": [
    "total = 0.0\n",
    "for i in range(9):\n",
    "    total = total + 0.1\n",
    "print(total)\n",
    "print(total == 0.9)\n",
    "print(0.9 - total < 10**-9)"
   ]
  }
 ],
 "metadata": {
  "kernelspec": {
   "display_name": "Python 3",
   "language": "python",
   "name": "python3"
  },
  "language_info": {
   "codemirror_mode": {
    "name": "ipython",
    "version": 3
   },
   "file_extension": ".py",
   "mimetype": "text/x-python",
   "name": "python",
   "nbconvert_exporter": "python",
   "pygments_lexer": "ipython3",
   "version": "3.7.1"
  }
 },
 "nbformat": 4,
 "nbformat_minor": 2
}
