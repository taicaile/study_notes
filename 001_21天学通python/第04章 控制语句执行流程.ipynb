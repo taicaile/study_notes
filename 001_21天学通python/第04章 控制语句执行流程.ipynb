{
 "cells": [
  {
   "cell_type": "markdown",
   "metadata": {},
   "source": [
    "# 控制语句执行流程\n",
    "## if 语句"
   ]
  },
  {
   "cell_type": "code",
   "execution_count": 28,
   "metadata": {
    "ExecuteTime": {
     "end_time": "2018-11-27T02:49:56.640317Z",
     "start_time": "2018-11-27T02:49:56.626316Z"
    }
   },
   "outputs": [
    {
     "name": "stdout",
     "output_type": "stream",
     "text": [
      "x is true\n"
     ]
    }
   ],
   "source": [
    "x = 1\n",
    "if x == True:\n",
    "    print(\"x is true\")\n",
    "elif x == False:\n",
    "    print(\"x is false\")\n",
    "else:\n",
    "    print(\"unkonw type\")"
   ]
  },
  {
   "cell_type": "code",
   "execution_count": 3,
   "metadata": {
    "ExecuteTime": {
     "end_time": "2018-12-16T08:12:36.617236Z",
     "start_time": "2018-12-16T08:12:36.600235Z"
    }
   },
   "outputs": [
    {
     "name": "stdout",
     "output_type": "stream",
     "text": [
      "0\n"
     ]
    }
   ],
   "source": [
    "#用if实现三元运算符\n",
    "a = None\n",
    "b = 3\n",
    "x = b if a is not None else 0\n",
    "print(x)"
   ]
  },
  {
   "cell_type": "markdown",
   "metadata": {},
   "source": [
    "## for 循环\n",
    "- Python中for语句是通过循环遍历某一序列对象来构建循环，循环结束的条件就是对象被遍历完成"
   ]
  },
  {
   "cell_type": "code",
   "execution_count": 7,
   "metadata": {
    "ExecuteTime": {
     "end_time": "2018-12-16T08:16:51.254800Z",
     "start_time": "2018-12-16T08:16:51.232799Z"
    },
    "scrolled": false
   },
   "outputs": [
    {
     "name": "stdout",
     "output_type": "stream",
     "text": [
      "1\n",
      "1 的平方是 1\n",
      "2\n",
      "3\n",
      "3 的平方是 9\n",
      "4\n",
      "4 的平方是 16\n"
     ]
    }
   ],
   "source": [
    "for i in [1, 2, 3, 4, 5]:  #for循环遍历列表\n",
    "    print(i)\n",
    "    if i == 2:\n",
    "        continue\n",
    "    print(i, '的平方是', i * i)\n",
    "    if i == 4:\n",
    "        break\n",
    "else:\n",
    "    print(\"循环结束\")"
   ]
  },
  {
   "cell_type": "markdown",
   "metadata": {},
   "source": [
    "- for循环遍历字典"
   ]
  },
  {
   "cell_type": "code",
   "execution_count": 30,
   "metadata": {
    "ExecuteTime": {
     "end_time": "2018-11-27T02:49:56.684319Z",
     "start_time": "2018-11-27T02:49:56.677319Z"
    }
   },
   "outputs": [
    {
     "name": "stdout",
     "output_type": "stream",
     "text": [
      "apple : 12\n",
      "banana : 20\n",
      "pear : 35\n",
      "apple\n",
      "banana\n",
      "pear\n",
      "12\n",
      "20\n",
      "35\n"
     ]
    }
   ],
   "source": [
    "adct = {'apple': 12, 'banana': 20, 'pear': 35}\n",
    "for key, value in adct.items():\n",
    "    print(key, ':', value)\n",
    "for key in adct.keys():\n",
    "    print(key)\n",
    "for value in adct.values():\n",
    "    print(value)"
   ]
  },
  {
   "cell_type": "markdown",
   "metadata": {},
   "source": [
    "### for循环与range()函数"
   ]
  },
  {
   "cell_type": "code",
   "execution_count": 4,
   "metadata": {
    "ExecuteTime": {
     "end_time": "2018-12-16T08:15:34.197393Z",
     "start_time": "2018-12-16T08:15:34.171392Z"
    },
    "scrolled": true
   },
   "outputs": [
    {
     "name": "stdout",
     "output_type": "stream",
     "text": [
      "0\n",
      "1\n",
      "2\n",
      "3\n",
      "5\n",
      "6\n",
      "7\n",
      "8\n"
     ]
    }
   ],
   "source": [
    "for i in range(4):\n",
    "    print(i)\n",
    "for i in range(5, 9, 1):\n",
    "    print(i)"
   ]
  },
  {
   "cell_type": "markdown",
   "metadata": {},
   "source": [
    "### for语句与内置迭代函数\n",
    "    - enumerate(seq)  #编号迭代\n",
    "    - sorted(seq)   # 排序迭代\n",
    "    - reversed(seq)  # 翻转迭代\n",
    "    - zip(seq1, seq2,...) # 并行迭代\n",
    "    "
   ]
  },
  {
   "cell_type": "code",
   "execution_count": 32,
   "metadata": {
    "ExecuteTime": {
     "end_time": "2018-11-27T02:49:56.714321Z",
     "start_time": "2018-11-27T02:49:56.705321Z"
    }
   },
   "outputs": [
    {
     "name": "stdout",
     "output_type": "stream",
     "text": [
      "第0个字符时:a\n",
      "第1个字符时:b\n",
      "第2个字符时:c\n",
      "第3个字符时:d\n"
     ]
    }
   ],
   "source": [
    "for i, item in enumerate('abcd'):\n",
    "    print(\"第%d个字符时:%s\" % (i, item))"
   ]
  },
  {
   "cell_type": "code",
   "execution_count": 33,
   "metadata": {
    "ExecuteTime": {
     "end_time": "2018-11-27T02:49:56.728322Z",
     "start_time": "2018-11-27T02:49:56.717321Z"
    }
   },
   "outputs": [
    {
     "name": "stdout",
     "output_type": "stream",
     "text": [
      "0\n",
      "1\n",
      "3\n",
      "6\n"
     ]
    }
   ],
   "source": [
    "for i in sorted([3, 1, 6, 0]):\n",
    "    print(i)"
   ]
  },
  {
   "cell_type": "code",
   "execution_count": 34,
   "metadata": {
    "ExecuteTime": {
     "end_time": "2018-11-27T02:49:56.742323Z",
     "start_time": "2018-11-27T02:49:56.731322Z"
    }
   },
   "outputs": [
    {
     "name": "stdout",
     "output_type": "stream",
     "text": [
      "1 3 5 \n",
      "2 4 6 \n"
     ]
    }
   ],
   "source": [
    "lsta = (1, 2)\n",
    "lstb = (3, 4)\n",
    "lstc = (5, 6, 7)\n",
    "for i, j, k in zip(lsta, lstb, lstc):\n",
    "    print('%d %d %d ' % (i, j, k))"
   ]
  },
  {
   "cell_type": "markdown",
   "metadata": {},
   "source": [
    "## while 语句\n"
   ]
  },
  {
   "cell_type": "code",
   "execution_count": 35,
   "metadata": {
    "ExecuteTime": {
     "end_time": "2018-11-27T02:49:56.766324Z",
     "start_time": "2018-11-27T02:49:56.746323Z"
    }
   },
   "outputs": [
    {
     "name": "stdout",
     "output_type": "stream",
     "text": [
      "0 的平方是： 0\n",
      "1 的平方是： 1\n",
      "2 的平方是： 4\n",
      "3 的平方是： 9\n",
      "4 的平方是： 16\n",
      "循环结束\n"
     ]
    }
   ],
   "source": [
    "alst = [1, 2, 3, 4, 5]\n",
    "total = len(alst)\n",
    "i = 0\n",
    "while i < total:\n",
    "    print(i, \"的平方是：\", i * i)\n",
    "    i = i + 1\n",
    "else:\n",
    "    print(\"循环结束\")"
   ]
  },
  {
   "cell_type": "markdown",
   "metadata": {},
   "source": [
    "## 推导或内涵(list comprehension)\n",
    "### 推导基础\n",
    "- comprehension英文本意为理解或内涵，在Python中是指以紧凑的方式对列表，元组，字典等序列或一系列的元素进行处理，处理结果仍然被放在一个列表、字典等序列之中的语法形式。\n",
    "- 典型的列表推导基本形式如下：  \n",
    "\\[ <i相关表达式> for i in aiterator\\]，aiterator是指一个可遍历的对象，比如列表，元组，也可以时range()函数。其语义为：用循环变量i去遍历aiterator,并且将i相关的表达式的值放如一个列表中。"
   ]
  },
  {
   "cell_type": "code",
   "execution_count": 36,
   "metadata": {
    "ExecuteTime": {
     "end_time": "2018-11-27T02:49:56.781325Z",
     "start_time": "2018-11-27T02:49:56.770324Z"
    }
   },
   "outputs": [
    {
     "name": "stdout",
     "output_type": "stream",
     "text": [
      "[1, 4, 9, 16, 25, 36, 49, 64, 81, 100]\n"
     ]
    }
   ],
   "source": [
    "square = [i**2 for i in range(1, 11)]\n",
    "print(square)"
   ]
  },
  {
   "cell_type": "markdown",
   "metadata": {},
   "source": [
    "- 字典也可以实现推导 格式为： \\[key_exp:value_exp for key_exp, value_exp in aiterator\\]"
   ]
  },
  {
   "cell_type": "code",
   "execution_count": 37,
   "metadata": {
    "ExecuteTime": {
     "end_time": "2018-11-27T02:49:56.793326Z",
     "start_time": "2018-11-27T02:49:56.785325Z"
    }
   },
   "outputs": [
    {
     "data": {
      "text/plain": [
       "{'name': 'Bob', 'age': '23', 'weight': '68'}"
      ]
     },
     "execution_count": 37,
     "metadata": {},
     "output_type": "execute_result"
    }
   ],
   "source": [
    "keys = ['name', 'age', 'weight']\n",
    "values = ['Bob', '23', '68']\n",
    "{k: v for k, v in zip(keys, values)}"
   ]
  },
  {
   "cell_type": "markdown",
   "metadata": {},
   "source": [
    "### 推导进阶\n",
    "- \\[<i 相关表达式> for i in aiterator if <条件>\\]\n",
    "- \\[key_exp:value_exp for key_exp, value_exp in aiterator if <条件>\\]"
   ]
  },
  {
   "cell_type": "code",
   "execution_count": 38,
   "metadata": {
    "ExecuteTime": {
     "end_time": "2018-11-27T02:49:56.808327Z",
     "start_time": "2018-11-27T02:49:56.796326Z"
    }
   },
   "outputs": [
    {
     "name": "stdout",
     "output_type": "stream",
     "text": [
      "[4, 16, 36, 64, 100]\n"
     ]
    }
   ],
   "source": [
    "square_odd = [i**2 for i in range(1, 11) if i**2 % 2 == 0]\n",
    "print(square_odd)"
   ]
  }
 ],
 "metadata": {
  "kernelspec": {
   "display_name": "Python 3",
   "language": "python",
   "name": "python3"
  },
  "language_info": {
   "codemirror_mode": {
    "name": "ipython",
    "version": 3
   },
   "file_extension": ".py",
   "mimetype": "text/x-python",
   "name": "python",
   "nbconvert_exporter": "python",
   "pygments_lexer": "ipython3",
   "version": "3.6.6"
  },
  "varInspector": {
   "cols": {
    "lenName": 16,
    "lenType": 16,
    "lenVar": 40
   },
   "kernels_config": {
    "python": {
     "delete_cmd_postfix": "",
     "delete_cmd_prefix": "del ",
     "library": "var_list.py",
     "varRefreshCmd": "print(var_dic_list())"
    },
    "r": {
     "delete_cmd_postfix": ") ",
     "delete_cmd_prefix": "rm(",
     "library": "var_list.r",
     "varRefreshCmd": "cat(var_dic_list()) "
    }
   },
   "types_to_exclude": [
    "module",
    "function",
    "builtin_function_or_method",
    "instance",
    "_Feature"
   ],
   "window_display": false
  }
 },
 "nbformat": 4,
 "nbformat_minor": 2
}
