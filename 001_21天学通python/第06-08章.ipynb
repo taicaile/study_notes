{
 "cells": [
  {
   "cell_type": "markdown",
   "metadata": {},
   "source": [
    "### python中面向对象编程\n",
    "- python中定义类的方法 \n"
   ]
  },
  {
   "cell_type": "code",
   "execution_count": 1,
   "metadata": {
    "ExecuteTime": {
     "end_time": "2018-11-30T09:25:03.862661Z",
     "start_time": "2018-11-30T09:25:03.845660Z"
    }
   },
   "outputs": [
    {
     "data": {
      "text/plain": [
       "['__class__',\n",
       " '__delattr__',\n",
       " '__dict__',\n",
       " '__dir__',\n",
       " '__doc__',\n",
       " '__eq__',\n",
       " '__format__',\n",
       " '__ge__',\n",
       " '__getattribute__',\n",
       " '__gt__',\n",
       " '__hash__',\n",
       " '__init__',\n",
       " '__init_subclass__',\n",
       " '__le__',\n",
       " '__lt__',\n",
       " '__module__',\n",
       " '__ne__',\n",
       " '__new__',\n",
       " '__reduce__',\n",
       " '__reduce_ex__',\n",
       " '__repr__',\n",
       " '__setattr__',\n",
       " '__sizeof__',\n",
       " '__str__',\n",
       " '__subclasshook__',\n",
       " '__weakref__']"
      ]
     },
     "execution_count": 1,
     "metadata": {},
     "output_type": "execute_result"
    }
   ],
   "source": [
    "class MyClass:  #class <类名> (父类名)\n",
    "    pass\n",
    "\n",
    "\n",
    "#利用dir指令查看类的属性\n",
    "dir(MyClass)"
   ]
  },
  {
   "cell_type": "markdown",
   "metadata": {},
   "source": [
    "- 类的定义和实例化"
   ]
  },
  {
   "cell_type": "code",
   "execution_count": 2,
   "metadata": {
    "ExecuteTime": {
     "end_time": "2018-11-30T09:25:03.895663Z",
     "start_time": "2018-11-30T09:25:03.865661Z"
    }
   },
   "outputs": [
    {
     "name": "stdout",
     "output_type": "stream",
     "text": [
      "打印类说明:\n",
      "MyClass Help.\n",
      "显示帮助信息\n",
      "Help on MyClass in module __main__ object:\n",
      "\n",
      "class MyClass(builtins.object)\n",
      " |  MyClass Help.\n",
      " |  \n",
      " |  Data descriptors defined here:\n",
      " |  \n",
      " |  __dict__\n",
      " |      dictionary for instance variables (if defined)\n",
      " |  \n",
      " |  __weakref__\n",
      " |      list of weak references to the object (if defined)\n",
      "\n"
     ]
    }
   ],
   "source": [
    "class MyClass:\n",
    "    \"MyClass Help.\"  #该类只有一个说明信息，没有具体语句\n",
    "\n",
    "\n",
    "myClass = MyClass()\n",
    "print('打印类说明:')\n",
    "print(MyClass.__doc__)\n",
    "print('显示帮助信息')\n",
    "help(myClass)"
   ]
  },
  {
   "cell_type": "markdown",
   "metadata": {},
   "source": [
    "- 类的方法, 方法的第一个参数必须是self，而且不能忽略"
   ]
  },
  {
   "cell_type": "code",
   "execution_count": 3,
   "metadata": {
    "ExecuteTime": {
     "end_time": "2018-11-30T09:25:03.915664Z",
     "start_time": "2018-11-30T09:25:03.899663Z"
    }
   },
   "outputs": [
    {
     "name": "stdout",
     "output_type": "stream",
     "text": [
      "调用info方法的输出:\n",
      "info()...\n",
      "调用mycalc(3,4)方法的结果:\n",
      "7\n"
     ]
    }
   ],
   "source": [
    "class SmplClass:\n",
    "    def info(self):\n",
    "        print(\"info()...\")\n",
    "\n",
    "    def mycalc(self, x, y):\n",
    "        return x + y\n",
    "\n",
    "\n",
    "sc = SmplClass()\n",
    "print('调用info方法的输出:')\n",
    "sc.info()\n",
    "print('调用mycalc(3,4)方法的结果:')\n",
    "print(sc.mycalc(3, 4))"
   ]
  },
  {
   "cell_type": "markdown",
   "metadata": {},
   "source": [
    "- 定义了构造方法的类"
   ]
  },
  {
   "cell_type": "code",
   "execution_count": 4,
   "metadata": {
    "ExecuteTime": {
     "end_time": "2018-11-30T09:25:03.945666Z",
     "start_time": "2018-11-30T09:25:03.921664Z"
    }
   },
   "outputs": [
    {
     "name": "stdout",
     "output_type": "stream",
     "text": [
      "3\n",
      "13\n"
     ]
    }
   ],
   "source": [
    "class DemoInit:\n",
    "    def __init__(self, x, y=0):\n",
    "        self.x = x\n",
    "        self.y = y\n",
    "\n",
    "    def mycalc(self):\n",
    "        return self.x + self.y\n",
    "\n",
    "\n",
    "d = DemoInit(3)\n",
    "print(d.mycalc())\n",
    "\n",
    "d = DemoInit(4, 9)\n",
    "print(d.mycalc())"
   ]
  },
  {
   "cell_type": "markdown",
   "metadata": {},
   "source": [
    "- 类的继承"
   ]
  },
  {
   "cell_type": "code",
   "execution_count": 5,
   "metadata": {
    "ExecuteTime": {
     "end_time": "2018-11-30T09:25:03.967667Z",
     "start_time": "2018-11-30T09:25:03.950666Z"
    }
   },
   "outputs": [
    {
     "name": "stdout",
     "output_type": "stream",
     "text": [
      "当前位置:(3,5)\n",
      "飞行...\n",
      "当前位置:(10,14)\n",
      "用尾针!\n"
     ]
    }
   ],
   "source": [
    "class Ant:\n",
    "    def __init__(self, x=0, y=0, color='black'):\n",
    "        self.x = x\n",
    "        self.y = y\n",
    "        self.color = color\n",
    "\n",
    "    def crawl(self, x, y):\n",
    "        self.x = x\n",
    "        self.y = y\n",
    "        self.info()\n",
    "\n",
    "    def attack(self):\n",
    "        print(\"用嘴咬!\")\n",
    "\n",
    "    def info(self):\n",
    "        print(\"当前位置:(%d,%d)\" % (self.x, self.y))\n",
    "\n",
    "\n",
    "class FlyAnt(Ant):\n",
    "    def attach(self):\n",
    "        print(\"用尾针!\")\n",
    "\n",
    "    def fly(self, x, y):\n",
    "        print('飞行...')\n",
    "        self.x = x\n",
    "        self.y = y\n",
    "        self.info()\n",
    "\n",
    "\n",
    "flyant = FlyAnt(color='red')  # 实例化类\n",
    "flyant.crawl(3, 5)\n",
    "flyant.fly(10, 14)\n",
    "flyant.attach()"
   ]
  },
  {
   "cell_type": "markdown",
   "metadata": {},
   "source": [
    "### 错误，异常和调试模式"
   ]
  },
  {
   "cell_type": "code",
   "execution_count": 6,
   "metadata": {
    "ExecuteTime": {
     "end_time": "2018-11-30T09:25:04.102675Z",
     "start_time": "2018-11-30T09:25:03.972667Z"
    }
   },
   "outputs": [
    {
     "ename": "NameError",
     "evalue": "name 'printt' is not defined",
     "output_type": "error",
     "traceback": [
      "\u001b[1;31m---------------------------------------------------------------------------\u001b[0m",
      "\u001b[1;31mNameError\u001b[0m                                 Traceback (most recent call last)",
      "\u001b[1;32m<ipython-input-6-643040150098>\u001b[0m in \u001b[0;36m<module>\u001b[1;34m()\u001b[0m\n\u001b[0;32m      1\u001b[0m \u001b[1;31m#演示一个语法上的错误\u001b[0m\u001b[1;33m\u001b[0m\u001b[1;33m\u001b[0m\u001b[0m\n\u001b[0;32m      2\u001b[0m \u001b[1;32mfor\u001b[0m \u001b[0mi\u001b[0m \u001b[1;32min\u001b[0m \u001b[0mrange\u001b[0m\u001b[1;33m(\u001b[0m\u001b[1;36m5\u001b[0m\u001b[1;33m)\u001b[0m\u001b[1;33m:\u001b[0m\u001b[1;33m\u001b[0m\u001b[0m\n\u001b[1;32m----> 3\u001b[1;33m     \u001b[0mprintt\u001b[0m\u001b[1;33m(\u001b[0m\u001b[0mi\u001b[0m\u001b[1;33m)\u001b[0m\u001b[1;33m\u001b[0m\u001b[0m\n\u001b[0m",
      "\u001b[1;31mNameError\u001b[0m: name 'printt' is not defined"
     ]
    }
   ],
   "source": [
    "#演示一个语法上的错误\n",
    "for i in range(5):\n",
    "    printt(i)"
   ]
  },
  {
   "cell_type": "markdown",
   "metadata": {},
   "source": [
    "- 异常的处理"
   ]
  },
  {
   "cell_type": "code",
   "execution_count": 7,
   "metadata": {
    "ExecuteTime": {
     "end_time": "2018-11-30T09:25:48.107191Z",
     "start_time": "2018-11-30T09:25:48.077190Z"
    }
   },
   "outputs": [
    {
     "name": "stdout",
     "output_type": "stream",
     "text": [
      "Right params testing start...\n",
      "Try Test Funished!\n",
      "no flag test finished!\n",
      "Error params testing start...\n",
      "index error\n",
      "Try Test Funished!\n"
     ]
    },
    {
     "ename": "IndexError",
     "evalue": "list index out of range",
     "output_type": "error",
     "traceback": [
      "\u001b[1;31m---------------------------------------------------------------------------\u001b[0m",
      "\u001b[1;31mIndexError\u001b[0m                                Traceback (most recent call last)",
      "\u001b[1;32m<ipython-input-7-34cfd7305fc5>\u001b[0m in \u001b[0;36m<module>\u001b[1;34m()\u001b[0m\n\u001b[0;32m     17\u001b[0m \u001b[0mprint\u001b[0m\u001b[1;33m(\u001b[0m\u001b[1;34m\"Error params testing start...\"\u001b[0m\u001b[1;33m)\u001b[0m\u001b[1;33m\u001b[0m\u001b[0m\n\u001b[0;32m     18\u001b[0m \u001b[0mprint\u001b[0m\u001b[1;33m(\u001b[0m\u001b[0mtestTry\u001b[0m\u001b[1;33m(\u001b[0m\u001b[1;36m4\u001b[0m\u001b[1;33m,\u001b[0m \u001b[1;32mTrue\u001b[0m\u001b[1;33m)\u001b[0m\u001b[1;33m)\u001b[0m\u001b[1;33m\u001b[0m\u001b[0m\n\u001b[1;32m---> 19\u001b[1;33m \u001b[0mprint\u001b[0m\u001b[1;33m(\u001b[0m\u001b[0mtestTry\u001b[0m\u001b[1;33m(\u001b[0m\u001b[1;36m4\u001b[0m\u001b[1;33m,\u001b[0m \u001b[1;32mFalse\u001b[0m\u001b[1;33m)\u001b[0m\u001b[1;33m)\u001b[0m\u001b[1;33m\u001b[0m\u001b[0m\n\u001b[0m",
      "\u001b[1;32m<ipython-input-7-34cfd7305fc5>\u001b[0m in \u001b[0;36mtestTry\u001b[1;34m(index, flag)\u001b[0m\n\u001b[0;32m      8\u001b[0m         \u001b[1;32mreturn\u001b[0m \u001b[1;34m\"Try Test Funished!\"\u001b[0m\u001b[1;33m\u001b[0m\u001b[0m\n\u001b[0;32m      9\u001b[0m     \u001b[1;32melse\u001b[0m\u001b[1;33m:\u001b[0m\u001b[1;33m\u001b[0m\u001b[0m\n\u001b[1;32m---> 10\u001b[1;33m         \u001b[0mastu\u001b[0m \u001b[1;33m=\u001b[0m \u001b[0mstulst\u001b[0m\u001b[1;33m[\u001b[0m\u001b[0mindex\u001b[0m\u001b[1;33m]\u001b[0m\u001b[1;33m\u001b[0m\u001b[0m\n\u001b[0m\u001b[0;32m     11\u001b[0m         \u001b[1;32mreturn\u001b[0m \u001b[1;34m\"no flag test finished!\"\u001b[0m\u001b[1;33m\u001b[0m\u001b[0m\n\u001b[0;32m     12\u001b[0m \u001b[1;33m\u001b[0m\u001b[0m\n",
      "\u001b[1;31mIndexError\u001b[0m: list index out of range"
     ]
    }
   ],
   "source": [
    "def testTry(index, flag=False):\n",
    "    stulst = [\"John\", \"Jenny\", \"Tom\"]\n",
    "    if flag:\n",
    "        try:\n",
    "            astu = stulst[index]\n",
    "        except IndexError:  # 在这里捕获了异常，所以会打印信息，但是不会中断程序\n",
    "            print(\"index error\")\n",
    "        return \"Try Test Funished!\"\n",
    "    else:\n",
    "        astu = stulst[index]\n",
    "        return \"no flag test finished!\"\n",
    "\n",
    "\n",
    "print(\"Right params testing start...\")\n",
    "print(testTry(1, True))\n",
    "print(testTry(1, False))\n",
    "print(\"Error params testing start...\")\n",
    "print(testTry(4, True))\n",
    "print(testTry(4, False))"
   ]
  },
  {
   "cell_type": "markdown",
   "metadata": {},
   "source": [
    "except语句主要有以下几种用法：\n",
    "- except: # 捕获所有异常\n",
    "- except <异常名>: #捕获指定异常\n",
    "- except (异常名1，异常名2)：#捕获指定异常及其附加的数据\n",
    "- except <异常名> as <数据>: #捕获指定异常及其附加的数据\n",
    "- except (异常名1,异常名2) as <数据>： #捕获异常名1或者异常名2及异常的附加数据  \n",
    "\n",
    "用raise手工抛出异常\n",
    "- raise 异常名\n",
    "- raise 异常名，附加数据\n",
    "- raise 类名\n",
    "\n",
    "自定义异常类\n",
    "- 最简单的自定义异常类只继承Exception类来创建自己的异常类。"
   ]
  },
  {
   "cell_type": "code",
   "execution_count": 8,
   "metadata": {
    "ExecuteTime": {
     "end_time": "2018-11-30T09:26:09.311404Z",
     "start_time": "2018-11-30T09:26:09.296403Z"
    }
   },
   "outputs": [
    {
     "ename": "RangeError",
     "evalue": "Range Error!",
     "output_type": "error",
     "traceback": [
      "\u001b[1;31m---------------------------------------------------------------------------\u001b[0m",
      "\u001b[1;31mRangeError\u001b[0m                                Traceback (most recent call last)",
      "\u001b[1;32m<ipython-input-8-60ea6b51d188>\u001b[0m in \u001b[0;36m<module>\u001b[1;34m()\u001b[0m\n\u001b[0;32m      7\u001b[0m \u001b[1;33m\u001b[0m\u001b[0m\n\u001b[0;32m      8\u001b[0m \u001b[1;33m\u001b[0m\u001b[0m\n\u001b[1;32m----> 9\u001b[1;33m \u001b[1;32mraise\u001b[0m \u001b[0mRangeError\u001b[0m\u001b[1;33m(\u001b[0m\u001b[1;34m\"Range Error!\"\u001b[0m\u001b[1;33m)\u001b[0m\u001b[1;33m\u001b[0m\u001b[0m\n\u001b[0m",
      "\u001b[1;31mRangeError\u001b[0m: Range Error!"
     ]
    }
   ],
   "source": [
    "class RangeError(Exception):\n",
    "    def __init__(self, value):\n",
    "        self.value = value\n",
    "\n",
    "    def __str__(self):\n",
    "        return self.value\n",
    "\n",
    "\n",
    "raise RangeError(\"Range Error!\")"
   ]
  },
  {
   "cell_type": "markdown",
   "metadata": {},
   "source": [
    "## 模块\n",
    "- import 模块名\n",
    "- import 模块名 as 新名字\n",
    "- from 模块名 import 函数名"
   ]
  },
  {
   "cell_type": "markdown",
   "metadata": {},
   "source": [
    "- 自己编写模块，模块的名称就是代码保存的文件名\n",
    "- 如果所引用的文件不在当前目录，则可以通过sys.path.append(Apath)添加"
   ]
  },
  {
   "cell_type": "code",
   "execution_count": null,
   "metadata": {
    "ExecuteTime": {
     "end_time": "2018-11-30T09:25:48.111192Z",
     "start_time": "2018-11-30T09:25:48.082Z"
    }
   },
   "outputs": [],
   "source": [
    "import sys\n",
    "print(sys.path)"
   ]
  },
  {
   "cell_type": "markdown",
   "metadata": {},
   "source": [
    "- 可以利用 if \\_\\_name\\_\\_ == 'main' 来判断当前文件是否被当成一个模块调用"
   ]
  }
 ],
 "metadata": {
  "kernelspec": {
   "display_name": "Python 3",
   "language": "python",
   "name": "python3"
  },
  "language_info": {
   "codemirror_mode": {
    "name": "ipython",
    "version": 3
   },
   "file_extension": ".py",
   "mimetype": "text/x-python",
   "name": "python",
   "nbconvert_exporter": "python",
   "pygments_lexer": "ipython3",
   "version": "3.6.6"
  }
 },
 "nbformat": 4,
 "nbformat_minor": 2
}
