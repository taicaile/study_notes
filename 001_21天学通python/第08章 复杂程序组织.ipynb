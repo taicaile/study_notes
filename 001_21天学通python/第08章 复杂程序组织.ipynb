{
 "cells": [
  {
   "cell_type": "markdown",
   "metadata": {},
   "source": [
    "# 复杂程序组织\n",
    "## 模块\n",
    "### 模块该数\n",
    "- 在Python中可以使用以下三种方法导入模块或者模块中的函数。\n",
    "    - import 模块名\n",
    "    - import 模块名 as 新名字\n",
    "    - from 模块名 import 函数名"
   ]
  },
  {
   "cell_type": "markdown",
   "metadata": {},
   "source": [
    "### 自己编写模块\n",
    "- 自己编写模块，模块的名称就是代码保存的文件名\n",
    "- 如果所引用的文件不在当前目录，则可以通过以下代码追加\n",
    "```\n",
    "import sys\n",
    "print(sys.path)\n",
    "sys.path.append(Apath) #Apath为模块查找路径\n",
    "```"
   ]
  },
  {
   "cell_type": "markdown",
   "metadata": {},
   "source": [
    "### \\_\\_pycache\\_\\_ 目录  \n",
    "- .pyc 文件为字节码文件，为了提高程序的启动速度"
   ]
  },
  {
   "cell_type": "markdown",
   "metadata": {},
   "source": [
    "- 另外可以通过python的命令行选项将脚本优化编译。\n",
    "    - -O 该选项对脚本优化不多\n",
    "    - -OO 该选项对脚本优化的程度较大"
   ]
  },
  {
   "cell_type": "markdown",
   "metadata": {},
   "source": [
    "### 具有独立运行能力的模块\n",
    "- 可以利用 if \\_\\_name\\_\\_ == 'main' 来判断当前文件是否被当成一个模块调用"
   ]
  },
  {
   "cell_type": "code",
   "execution_count": 2,
   "metadata": {
    "ExecuteTime": {
     "end_time": "2018-12-17T14:11:11.489875Z",
     "start_time": "2018-12-17T14:11:11.471874Z"
    }
   },
   "outputs": [
    {
     "name": "stdout",
     "output_type": "stream",
     "text": [
      "__main__\n"
     ]
    }
   ],
   "source": [
    "if __name__ == '__main__':\n",
    "    print(__name__)"
   ]
  },
  {
   "cell_type": "markdown",
   "metadata": {},
   "source": [
    "## 包\n",
    "### 包概述\n",
    "> 包其实就是一个文件或目录，但其中必须包含一个名为\"\\_\\_init\\_\\_.py\"\n",
    "### 包详解\n",
    "> 在第一次导入包中的任何部分，就会执行 \\_\\_init\\_\\_.py 文件中的代码"
   ]
  },
  {
   "cell_type": "markdown",
   "metadata": {},
   "source": [
    "## Pyhton常用标准库简介\n",
    "### 数学类模块\n",
    "- 常用的有math,random"
   ]
  },
  {
   "cell_type": "code",
   "execution_count": 3,
   "metadata": {
    "ExecuteTime": {
     "end_time": "2018-12-17T14:17:59.979239Z",
     "start_time": "2018-12-17T14:17:59.952238Z"
    }
   },
   "outputs": [
    {
     "data": {
      "text/plain": [
       "0.11514836299876408"
      ]
     },
     "execution_count": 3,
     "metadata": {},
     "output_type": "execute_result"
    }
   ],
   "source": [
    "import math\n",
    "import random\n",
    "random.random()"
   ]
  },
  {
   "cell_type": "code",
   "execution_count": 4,
   "metadata": {
    "ExecuteTime": {
     "end_time": "2018-12-17T14:18:11.563902Z",
     "start_time": "2018-12-17T14:18:11.542901Z"
    }
   },
   "outputs": [
    {
     "data": {
      "text/plain": [
       "10"
      ]
     },
     "execution_count": 4,
     "metadata": {},
     "output_type": "execute_result"
    }
   ],
   "source": [
    "random.randint(0,10)"
   ]
  },
  {
   "cell_type": "code",
   "execution_count": 5,
   "metadata": {
    "ExecuteTime": {
     "end_time": "2018-12-17T14:18:27.642822Z",
     "start_time": "2018-12-17T14:18:27.619820Z"
    }
   },
   "outputs": [
    {
     "data": {
      "text/plain": [
       "1"
      ]
     },
     "execution_count": 5,
     "metadata": {},
     "output_type": "execute_result"
    }
   ],
   "source": [
    "random.choice((1,2,3,4,5))"
   ]
  },
  {
   "cell_type": "code",
   "execution_count": 6,
   "metadata": {
    "ExecuteTime": {
     "end_time": "2018-12-17T14:18:32.251085Z",
     "start_time": "2018-12-17T14:18:32.222083Z"
    }
   },
   "outputs": [
    {
     "data": {
      "text/plain": [
       "5"
      ]
     },
     "execution_count": 6,
     "metadata": {},
     "output_type": "execute_result"
    }
   ],
   "source": [
    "random.choice((1,2,3,4,5))"
   ]
  },
  {
   "cell_type": "code",
   "execution_count": 8,
   "metadata": {
    "ExecuteTime": {
     "end_time": "2018-12-17T14:19:04.530931Z",
     "start_time": "2018-12-17T14:19:04.507930Z"
    }
   },
   "outputs": [
    {
     "name": "stdout",
     "output_type": "stream",
     "text": [
      "[5, 2, 4, 3, 1]\n"
     ]
    }
   ],
   "source": [
    "alst = [1,2,3,4,5]\n",
    "random.shuffle(alst)\n",
    "print(alst)"
   ]
  },
  {
   "cell_type": "markdown",
   "metadata": {},
   "source": [
    "### 日期与时间类\n",
    "> 此类标准库有calendar, tatetime 和 time 三个模块\n"
   ]
  },
  {
   "cell_type": "code",
   "execution_count": 14,
   "metadata": {
    "ExecuteTime": {
     "end_time": "2018-12-17T14:21:52.902562Z",
     "start_time": "2018-12-17T14:21:52.881560Z"
    }
   },
   "outputs": [
    {
     "name": "stdout",
     "output_type": "stream",
     "text": [
      "2018-12-17 22:21:52.885561\n"
     ]
    }
   ],
   "source": [
    "import datetime\n",
    "t = datetime.datetime.now()\n",
    "print(t)"
   ]
  },
  {
   "cell_type": "code",
   "execution_count": 17,
   "metadata": {
    "ExecuteTime": {
     "end_time": "2018-12-17T14:22:13.948765Z",
     "start_time": "2018-12-17T14:22:13.923764Z"
    }
   },
   "outputs": [
    {
     "name": "stdout",
     "output_type": "stream",
     "text": [
      "2018\n"
     ]
    }
   ],
   "source": [
    "print(t.year)"
   ]
  },
  {
   "cell_type": "code",
   "execution_count": 10,
   "metadata": {
    "ExecuteTime": {
     "end_time": "2018-12-17T14:20:25.269549Z",
     "start_time": "2018-12-17T14:20:25.260549Z"
    }
   },
   "outputs": [
    {
     "data": {
      "text/plain": [
       "1545056425.2615492"
      ]
     },
     "execution_count": 10,
     "metadata": {},
     "output_type": "execute_result"
    }
   ],
   "source": [
    "import time\n",
    "time.time()"
   ]
  }
 ],
 "metadata": {
  "kernelspec": {
   "display_name": "Python 3",
   "language": "python",
   "name": "python3"
  },
  "language_info": {
   "codemirror_mode": {
    "name": "ipython",
    "version": 3
   },
   "file_extension": ".py",
   "mimetype": "text/x-python",
   "name": "python",
   "nbconvert_exporter": "python",
   "pygments_lexer": "ipython3",
   "version": "3.6.6"
  },
  "varInspector": {
   "cols": {
    "lenName": 16,
    "lenType": 16,
    "lenVar": 40
   },
   "kernels_config": {
    "python": {
     "delete_cmd_postfix": "",
     "delete_cmd_prefix": "del ",
     "library": "var_list.py",
     "varRefreshCmd": "print(var_dic_list())"
    },
    "r": {
     "delete_cmd_postfix": ") ",
     "delete_cmd_prefix": "rm(",
     "library": "var_list.r",
     "varRefreshCmd": "cat(var_dic_list()) "
    }
   },
   "types_to_exclude": [
    "module",
    "function",
    "builtin_function_or_method",
    "instance",
    "_Feature"
   ],
   "window_display": true
  }
 },
 "nbformat": 4,
 "nbformat_minor": 2
}
