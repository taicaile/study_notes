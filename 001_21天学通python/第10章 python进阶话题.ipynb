{
 "cells": [
  {
   "cell_type": "markdown",
   "metadata": {},
   "source": [
    "第10章 python进阶话题\n",
    "---------------------------------\n",
    "### 函数和命名空间\n",
    "- 文件名作为命名空间，利用 import xxx 可以导入某个文件内的全部函数及其全局变量"
   ]
  },
  {
   "cell_type": "markdown",
   "metadata": {},
   "source": [
    "### 闭包及其应用"
   ]
  },
  {
   "cell_type": "markdown",
   "metadata": {},
   "source": [
    "- 闭包是指python语言中将组成函数的语句和这些语句的执行环境打包到一起所得到的对象，当使用嵌套函数时，闭包将捕获内部函数执行所需的整个环境。"
   ]
  },
  {
   "cell_type": "code",
   "execution_count": 2,
   "metadata": {
    "ExecuteTime": {
     "end_time": "2018-12-14T15:09:53.556008Z",
     "start_time": "2018-12-14T15:09:53.525006Z"
    }
   },
   "outputs": [
    {
     "name": "stdout",
     "output_type": "stream",
     "text": [
      "x is 3\n"
     ]
    }
   ],
   "source": [
    "#演示一个嵌套函数的例子\n",
    "x = 14\n",
    "\n",
    "\n",
    "def foo():\n",
    "    x = 3\n",
    "\n",
    "    def bar():\n",
    "        print('x is %d' % x)\n",
    "\n",
    "    bar()\n",
    "\n",
    "\n",
    "foo()"
   ]
  },
  {
   "cell_type": "code",
   "execution_count": 3,
   "metadata": {
    "ExecuteTime": {
     "end_time": "2018-12-14T15:09:53.593010Z",
     "start_time": "2018-12-14T15:09:53.576009Z"
    }
   },
   "outputs": [
    {
     "name": "stdout",
     "output_type": "stream",
     "text": [
      "返回一个求和的函数，并不求和。\n",
      "\n",
      "调用并求和:\n",
      "7\n"
     ]
    }
   ],
   "source": [
    "#闭包与延迟求值\n",
    "def delay_fun(x, y):  #定义一个可以延迟求值的函数\n",
    "    def calculator():  #内部嵌套的函数\n",
    "        return x + y  #直接返回要求的值\n",
    "\n",
    "    return calculator  #返回内部嵌套的函数对象\n",
    "\n",
    "\n",
    "print(\"返回一个求和的函数，并不求和。\")\n",
    "msum = delay_fun(3, 4)  #调用外层函数,并不计算，实际返回一个函数对象\n",
    "print()\n",
    "print('调用并求和:')\n",
    "print(msum())  #实际求值的调用"
   ]
  },
  {
   "cell_type": "code",
   "execution_count": 4,
   "metadata": {
    "ExecuteTime": {
     "end_time": "2018-12-14T15:09:53.618011Z",
     "start_time": "2018-12-14T15:09:53.595010Z"
    }
   },
   "outputs": [
    {
     "name": "stdout",
     "output_type": "stream",
     "text": [
      "11\n",
      "10\n"
     ]
    }
   ],
   "source": [
    "#闭包的应用除了在装饰器和延迟求值外，还可以利用其特性来定义不同的泛型函数\n",
    "def line(a, b):\n",
    "    def aline(x):\n",
    "        return a * x + b\n",
    "\n",
    "    return aline\n",
    "\n",
    "\n",
    "line23 = line(2, 3)\n",
    "line50 = line(5, 0)\n",
    "print(line23(4))  #输出2*4+3=11\n",
    "print(line50(2))  #输出2*5+0=10"
   ]
  },
  {
   "cell_type": "markdown",
   "metadata": {},
   "source": [
    "### 上下文管理器\n",
    "- 上下文管理器是指实现上下文管理协议方法的对象，它主要用于安全地释放资源(如打开的文件、数据库连接或网络连接，对对象的锁定等)\n",
    "- 对于上下文管理的对象可以使用with语句来使用它，在with语句中可以使用上下文管理器管理或提供资源，当退出with语句时，由上下文管理器来负责安全地释放资源\n",
    "- 上下文管理器的协议方法有以下两个：\n",
    "```python\n",
    "__enter__(self)\n",
    "__exit__(self,type,value,tb)\n",
    "```\n",
    "- 使用上下文管理器的with语句的形式为：\n",
    "```python\n",
    "with context as var:\n",
    "    pass\n",
    "```"
   ]
  },
  {
   "cell_type": "code",
   "execution_count": 7,
   "metadata": {
    "ExecuteTime": {
     "end_time": "2018-12-14T15:10:10.936002Z",
     "start_time": "2018-12-14T15:10:10.899000Z"
    }
   },
   "outputs": [
    {
     "name": "stdout",
     "output_type": "stream",
     "text": [
      "before entering\n",
      "fpa-1\n",
      "\n",
      "fpa-2\n",
      "\n",
      "fpa-3\n",
      "\n",
      "fpa-4\n",
      "still in side of the context\n",
      "already closed\n"
     ]
    }
   ],
   "source": [
    "class FileMgr: #实现上下文管理协议方法的类\n",
    "    \n",
    "    def __init__(self,filename): #定义构造函数\n",
    "        self.filename = filename\n",
    "        self.f = None\n",
    "    def __enter__(self): # 定义协议方法\n",
    "        print(\"before entering\")\n",
    "        self.f = open(self.filename, encoding = 'utf-8')\n",
    "        return self.f\n",
    "    def __exit__(self,t,v,tb):\n",
    "        if self.f:\n",
    "            self.f.close()\n",
    "            print(\"already closed\")\n",
    "            \n",
    "with FileMgr('./src//Chapter10fpa.txt') as f:\n",
    "    for line in f.readlines():\n",
    "        print(line)\n",
    "    print(\"still in side of the context\")"
   ]
  },
  {
   "cell_type": "code",
   "execution_count": 8,
   "metadata": {
    "ExecuteTime": {
     "end_time": "2018-12-14T15:10:31.068153Z",
     "start_time": "2018-12-14T15:10:31.060153Z"
    }
   },
   "outputs": [
    {
     "name": "stdout",
     "output_type": "stream",
     "text": [
      "fpa-1\n",
      "\n",
      "fpa-2\n",
      "\n",
      "fpa-3\n",
      "\n",
      "fpa-4\n"
     ]
    }
   ],
   "source": [
    "# open函数也可以使用with管理\n",
    "with open(\"./src//Chapter10fpa.txt\") as f:\n",
    "    for line in f:\n",
    "        print(line)"
   ]
  },
  {
   "cell_type": "markdown",
   "metadata": {},
   "source": [
    "- 此外，在python标准库中还有一个关于上下文管理器的模块contextlib, 其中还有一个可以将生成器转变为上下文管理器的修饰器，contextmanager"
   ]
  },
  {
   "cell_type": "code",
   "execution_count": null,
   "metadata": {
    "ExecuteTime": {
     "end_time": "2018-12-14T15:09:53.799022Z",
     "start_time": "2018-12-14T15:09:53.554Z"
    }
   },
   "outputs": [],
   "source": [
    "import contextlib\n",
    "\n",
    "#实现上下文管理器\n",
    "@contextlib.contextmanager\n",
    "def my_mgr(s, e):\n",
    "    print(s) # 进入时调用\n",
    "    yield s + ' yield ' + e # 产生返回值\n",
    "    print(e) #退出时调用\n",
    "\n",
    "\n",
    "with my_mgr('start', 'end') as val:\n",
    "    result = val\n",
    "    print(result)\n",
    "    print(\"still in side of the context\")"
   ]
  },
  {
   "cell_type": "markdown",
   "metadata": {},
   "source": [
    ">代码的执行顺序是:  \n",
    "1. with语句首先执行yield之前的语句，因此打印出start.  \n",
    "2. yield 调用，result接收yield提供的返回值，因此打印 \"start yield end\".  \n",
    "3. 执行with语句内部的所有语句，因此打印出“still in side of the context”.\n",
    "4. 最后打印 “end”.\n",
    "\n",
    "因此，@contextmanager让我们通过编写generator来简化上下文管理。\n",
    "\n",
    "----------------------"
   ]
  },
  {
   "cell_type": "markdown",
   "metadata": {},
   "source": [
    "### 用字符串操作对象属性\n",
    "- 在python中内建函数中有两个函数: hasattr()和setattr()\n",
    "\n",
    " - hasattr(object,name) #测试某个对象是否有某个属性\n",
    " \n",
    " - setattr(object,name,value) # 设置某个对象属性值\n"
   ]
  },
  {
   "cell_type": "code",
   "execution_count": null,
   "metadata": {
    "ExecuteTime": {
     "end_time": "2018-12-14T15:09:53.801022Z",
     "start_time": "2018-12-14T15:09:53.560Z"
    }
   },
   "outputs": [],
   "source": [
    "class DemoClass:\n",
    "    class_val = 3\n",
    "\n",
    "    def __init__(self, x=0, y=0):\n",
    "        self.x = x\n",
    "        self.y = y\n",
    "        self.info()\n",
    "\n",
    "    def info(self):\n",
    "        print('类属性class_val:', DemoClass.class_val)  # 打印类属性值\n",
    "        print(\"实例属性x:\", self.x)\n",
    "        print(\"实例属性y:\", self.y)\n",
    "\n",
    "\n",
    "dc = DemoClass(100, 200)  #实例化类\n",
    "if hasattr(DemoClass, 'class_val'):\n",
    "    setattr(DemoClass, 'class_val', 1000)  # 设置类属性的值\n",
    "if hasattr(dc, 'x'):\n",
    "    setattr(dc, 'x', 'xxxxxxxxx')\n",
    "if hasattr(dc, 'y'):\n",
    "    setattr(dc, 'y', 'yyyyyyyyy')\n",
    "\n",
    "dc.info()\n",
    "setattr(dc, 'z', 'zzzzzzzz')\n",
    "print(\"添加的属性z\", dc.z)"
   ]
  },
  {
   "cell_type": "markdown",
   "metadata": {},
   "source": [
    "### 用字典构造分支程序"
   ]
  },
  {
   "cell_type": "code",
   "execution_count": null,
   "metadata": {
    "ExecuteTime": {
     "end_time": "2018-12-14T15:09:53.804022Z",
     "start_time": "2018-12-14T15:09:53.567Z"
    }
   },
   "outputs": [],
   "source": [
    "import random\n",
    "\n",
    "\n",
    "## 一下定义三个分支函数\n",
    "def path_a():\n",
    "    print('路径分支A')\n",
    "\n",
    "\n",
    "def path_b():\n",
    "    print(\"路径分支B\")\n",
    "\n",
    "\n",
    "def path_c():\n",
    "    print(\"路径分支C\")\n",
    "\n",
    "\n",
    "path_dict = {}\n",
    "path_dict['a'] = path_a\n",
    "path_dict['b'] = path_b\n",
    "path_dict['c'] = path_c\n",
    "paths = 'abc'\n",
    "for i in range(4):\n",
    "    path = random.choice(paths)  #从所有的路径中随机选择一个路径\n",
    "    print('选择的路径为:', path)\n",
    "    path_dict[path]()  #进入分支程序"
   ]
  },
  {
   "cell_type": "markdown",
   "metadata": {},
   "source": [
    "### 重载类的特殊方法\n",
    "在python中，类中有一些以两条下划线开始和结束的方法，称之为类的专有方法。  \n",
    "``` \n",
    "__init__ # 构造函数,生成对象时调用\n",
    "__del__  #析构函数,释放对象时调用\n",
    "__add__\n",
    "__mul__\n",
    "__cmp__\n",
    "__repr__\n",
    "__setitem__\n",
    "__getitem__\n",
    "__len__\n",
    "__call__\n",
    "```"
   ]
  },
  {
   "cell_type": "code",
   "execution_count": null,
   "metadata": {
    "ExecuteTime": {
     "end_time": "2018-12-14T15:09:53.806022Z",
     "start_time": "2018-12-14T15:09:53.572Z"
    }
   },
   "outputs": [],
   "source": [
    "#自定义类来实现类的特别的运算方式\n",
    "class Book:\n",
    "    def __init__(self, name=\"Python从入门到精通\"):\n",
    "        self.name = name\n",
    "    def __add__(self,obj):\n",
    "        return self.name+\" add \"+obj.name\n",
    "    \n",
    "    def __len__(self):\n",
    "        return len(self.name)\n",
    "    \n",
    "booka = Book()\n",
    "bookb = Book('Java 从入门到精通')\n",
    "print(\"len(booka):\",len(booka))\n",
    "print(\"len(bookb):\",len(bookb))\n",
    "print(booka+bookb)\n",
    "    "
   ]
  },
  {
   "cell_type": "markdown",
   "metadata": {},
   "source": [
    "### 鸭子类型\n",
    "在python面向对象的编程中，没有谈及多态，也不用定义接口。在python语言中调用时是不检查参数类型的，如果被调用的方法不存在，则会引发错误。\n"
   ]
  },
  {
   "cell_type": "code",
   "execution_count": null,
   "metadata": {
    "ExecuteTime": {
     "end_time": "2018-12-14T15:09:53.808022Z",
     "start_time": "2018-12-14T15:09:53.576Z"
    }
   },
   "outputs": [],
   "source": [
    "class Duck:\n",
    "    def __init__(self, name='duck'):\n",
    "        self.name = name\n",
    "\n",
    "    def quack(self):\n",
    "        print(\"嘎嘎嘎\")\n",
    "\n",
    "\n",
    "class Cat:\n",
    "    def __init__(self, name=\"cat\"):\n",
    "        self.name = name\n",
    "\n",
    "    def quack(self):\n",
    "        print(\"喵喵喵\")\n",
    "\n",
    "\n",
    "class Tree:\n",
    "    def __init__(self, name=\"tree\"):\n",
    "        self.name = name\n",
    "\n",
    "\n",
    "def duck_demo(obj):  #定义了一个函数,接收任何obj对象，如果其有quack方法，则执行，否则会报错\n",
    "    obj.quack()\n",
    "\n",
    "\n",
    "duck = Duck()\n",
    "cat = Cat()\n",
    "tree = Tree()\n",
    "duck_demo(duck)\n",
    "duck_demo(cat)\n",
    "duck_demo(tree)# 在这里会产生一个错误，因为tree类没有quack方法"
   ]
  }
 ],
 "metadata": {
  "kernelspec": {
   "display_name": "Python 3",
   "language": "python",
   "name": "python3"
  },
  "language_info": {
   "codemirror_mode": {
    "name": "ipython",
    "version": 3
   },
   "file_extension": ".py",
   "mimetype": "text/x-python",
   "name": "python",
   "nbconvert_exporter": "python",
   "pygments_lexer": "ipython3",
   "version": "3.6.6"
  }
 },
 "nbformat": 4,
 "nbformat_minor": 2
}
