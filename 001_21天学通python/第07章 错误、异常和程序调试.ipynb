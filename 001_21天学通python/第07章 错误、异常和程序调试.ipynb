{
 "cells": [
  {
   "cell_type": "markdown",
   "metadata": {},
   "source": [
    "# 错误，异常和调试模式\n",
    "## 语法错误\n",
    "### 拼写错误"
   ]
  },
  {
   "cell_type": "code",
   "execution_count": 6,
   "metadata": {
    "ExecuteTime": {
     "end_time": "2018-11-30T09:25:04.102675Z",
     "start_time": "2018-11-30T09:25:03.972667Z"
    }
   },
   "outputs": [
    {
     "ename": "NameError",
     "evalue": "name 'printt' is not defined",
     "output_type": "error",
     "traceback": [
      "\u001b[1;31m---------------------------------------------------------------------------\u001b[0m",
      "\u001b[1;31mNameError\u001b[0m                                 Traceback (most recent call last)",
      "\u001b[1;32m<ipython-input-6-643040150098>\u001b[0m in \u001b[0;36m<module>\u001b[1;34m()\u001b[0m\n\u001b[0;32m      1\u001b[0m \u001b[1;31m#演示一个语法上的错误\u001b[0m\u001b[1;33m\u001b[0m\u001b[1;33m\u001b[0m\u001b[0m\n\u001b[0;32m      2\u001b[0m \u001b[1;32mfor\u001b[0m \u001b[0mi\u001b[0m \u001b[1;32min\u001b[0m \u001b[0mrange\u001b[0m\u001b[1;33m(\u001b[0m\u001b[1;36m5\u001b[0m\u001b[1;33m)\u001b[0m\u001b[1;33m:\u001b[0m\u001b[1;33m\u001b[0m\u001b[0m\n\u001b[1;32m----> 3\u001b[1;33m     \u001b[0mprintt\u001b[0m\u001b[1;33m(\u001b[0m\u001b[0mi\u001b[0m\u001b[1;33m)\u001b[0m\u001b[1;33m\u001b[0m\u001b[0m\n\u001b[0m",
      "\u001b[1;31mNameError\u001b[0m: name 'printt' is not defined"
     ]
    }
   ],
   "source": [
    "#演示一个语法上的错误\n",
    "for i in range(5):\n",
    "    printt(i)"
   ]
  },
  {
   "cell_type": "markdown",
   "metadata": {},
   "source": [
    "## 异常的处理\n",
    "### 异常处理的基本语法"
   ]
  },
  {
   "cell_type": "code",
   "execution_count": 7,
   "metadata": {
    "ExecuteTime": {
     "end_time": "2018-11-30T09:25:48.107191Z",
     "start_time": "2018-11-30T09:25:48.077190Z"
    }
   },
   "outputs": [
    {
     "name": "stdout",
     "output_type": "stream",
     "text": [
      "Right params testing start...\n",
      "Try Test Funished!\n",
      "no flag test finished!\n",
      "Error params testing start...\n",
      "index error\n",
      "Try Test Funished!\n"
     ]
    },
    {
     "ename": "IndexError",
     "evalue": "list index out of range",
     "output_type": "error",
     "traceback": [
      "\u001b[1;31m---------------------------------------------------------------------------\u001b[0m",
      "\u001b[1;31mIndexError\u001b[0m                                Traceback (most recent call last)",
      "\u001b[1;32m<ipython-input-7-34cfd7305fc5>\u001b[0m in \u001b[0;36m<module>\u001b[1;34m()\u001b[0m\n\u001b[0;32m     17\u001b[0m \u001b[0mprint\u001b[0m\u001b[1;33m(\u001b[0m\u001b[1;34m\"Error params testing start...\"\u001b[0m\u001b[1;33m)\u001b[0m\u001b[1;33m\u001b[0m\u001b[0m\n\u001b[0;32m     18\u001b[0m \u001b[0mprint\u001b[0m\u001b[1;33m(\u001b[0m\u001b[0mtestTry\u001b[0m\u001b[1;33m(\u001b[0m\u001b[1;36m4\u001b[0m\u001b[1;33m,\u001b[0m \u001b[1;32mTrue\u001b[0m\u001b[1;33m)\u001b[0m\u001b[1;33m)\u001b[0m\u001b[1;33m\u001b[0m\u001b[0m\n\u001b[1;32m---> 19\u001b[1;33m \u001b[0mprint\u001b[0m\u001b[1;33m(\u001b[0m\u001b[0mtestTry\u001b[0m\u001b[1;33m(\u001b[0m\u001b[1;36m4\u001b[0m\u001b[1;33m,\u001b[0m \u001b[1;32mFalse\u001b[0m\u001b[1;33m)\u001b[0m\u001b[1;33m)\u001b[0m\u001b[1;33m\u001b[0m\u001b[0m\n\u001b[0m",
      "\u001b[1;32m<ipython-input-7-34cfd7305fc5>\u001b[0m in \u001b[0;36mtestTry\u001b[1;34m(index, flag)\u001b[0m\n\u001b[0;32m      8\u001b[0m         \u001b[1;32mreturn\u001b[0m \u001b[1;34m\"Try Test Funished!\"\u001b[0m\u001b[1;33m\u001b[0m\u001b[0m\n\u001b[0;32m      9\u001b[0m     \u001b[1;32melse\u001b[0m\u001b[1;33m:\u001b[0m\u001b[1;33m\u001b[0m\u001b[0m\n\u001b[1;32m---> 10\u001b[1;33m         \u001b[0mastu\u001b[0m \u001b[1;33m=\u001b[0m \u001b[0mstulst\u001b[0m\u001b[1;33m[\u001b[0m\u001b[0mindex\u001b[0m\u001b[1;33m]\u001b[0m\u001b[1;33m\u001b[0m\u001b[0m\n\u001b[0m\u001b[0;32m     11\u001b[0m         \u001b[1;32mreturn\u001b[0m \u001b[1;34m\"no flag test finished!\"\u001b[0m\u001b[1;33m\u001b[0m\u001b[0m\n\u001b[0;32m     12\u001b[0m \u001b[1;33m\u001b[0m\u001b[0m\n",
      "\u001b[1;31mIndexError\u001b[0m: list index out of range"
     ]
    }
   ],
   "source": [
    "def testTry(index, flag=False):\n",
    "    stulst = [\"John\", \"Jenny\", \"Tom\"]\n",
    "    if flag:\n",
    "        try:\n",
    "            astu = stulst[index]\n",
    "        except IndexError:  # 在这里捕获了异常，所以会打印信息，但是不会中断程序\n",
    "            print(\"index error\")\n",
    "        return \"Try Test Funished!\"\n",
    "    else:\n",
    "        astu = stulst[index]\n",
    "        return \"no flag test finished!\"\n",
    "\n",
    "\n",
    "print(\"Right params testing start...\")\n",
    "print(testTry(1, True))\n",
    "print(testTry(1, False))\n",
    "print(\"Error params testing start...\")\n",
    "print(testTry(4, True))\n",
    "print(testTry(4, False))"
   ]
  },
  {
   "cell_type": "markdown",
   "metadata": {},
   "source": [
    "### Python 主要的内置异常及其处理\n",
    "```python\n",
    "except: # 捕获所有异常\n",
    "except <异常名>: #捕获指定异常\n",
    "except (异常名1，异常名2)：#捕获指定异常及其附加的数据\n",
    "except <异常名> as <数据>: #捕获指定异常及其附加的数据\n",
    "except (异常名1,异常名2) as <数据>： #捕获异常名1或者异常名2及异常的附加数据 \n",
    "```"
   ]
  },
  {
   "cell_type": "markdown",
   "metadata": {},
   "source": [
    "## 用raise手工抛出异常\n",
    "- raise 异常名\n",
    "- raise 异常名，附加数据\n",
    "- raise 类名"
   ]
  },
  {
   "cell_type": "markdown",
   "metadata": {},
   "source": [
    "### assert语句\n",
    "> asssert 语句的一般形式如下：  \n",
    "```\n",
    "assert <条件测试>,<异常附加数据>  #其中异常附加数据是可选的\n",
    "```\n",
    "assert语句时简化的raise语句，它引发异常的前提是其后面的条件测试为假"
   ]
  },
  {
   "cell_type": "code",
   "execution_count": 7,
   "metadata": {
    "ExecuteTime": {
     "end_time": "2018-12-17T12:52:41.644487Z",
     "start_time": "2018-12-17T12:52:41.632487Z"
    }
   },
   "outputs": [
    {
     "name": "stdout",
     "output_type": "stream",
     "text": [
      "Raise a AssertionError!\n"
     ]
    }
   ],
   "source": [
    "def testAssert(i):\n",
    "    try:\n",
    "        assert i < 2\n",
    "    except AssertionError:\n",
    "        print(\"Raise a AssertionError!\")\n",
    "\n",
    "\n",
    "testAssert(3)"
   ]
  },
  {
   "cell_type": "markdown",
   "metadata": {},
   "source": [
    "assert 语句并不是总是运行的，通过 `python -O` 可以关闭assert语句"
   ]
  },
  {
   "cell_type": "markdown",
   "metadata": {},
   "source": [
    "### 自定义异常类\n",
    "- 最简单的自定义异常类只继承Exception类来创建自己的异常类。"
   ]
  },
  {
   "cell_type": "code",
   "execution_count": null,
   "metadata": {
    "ExecuteTime": {
     "start_time": "2018-12-17T12:45:18.234Z"
    }
   },
   "outputs": [],
   "source": [
    "class RangeError(Exception):\n",
    "    def __init__(self, value):\n",
    "        self.value = value\n",
    "\n",
    "    def __str__(self):\n",
    "        return self.value\n",
    "\n",
    "\n",
    "raise RangeError(\"Range Error!\")"
   ]
  },
  {
   "cell_type": "markdown",
   "metadata": {},
   "source": [
    "## 用pdb调试程序\n",
    "### 调试语句块函数"
   ]
  },
  {
   "cell_type": "code",
   "execution_count": 8,
   "metadata": {
    "ExecuteTime": {
     "end_time": "2018-12-17T13:03:40.812189Z",
     "start_time": "2018-12-17T13:02:55.143577Z"
    },
    "scrolled": false
   },
   "outputs": [
    {
     "name": "stdout",
     "output_type": "stream",
     "text": [
      "> <string>(2)<module>()\n",
      "(Pdb) help\n",
      "\n",
      "Documented commands (type help <topic>):\n",
      "========================================\n",
      "EOF    c          d        h         list      q        rv       undisplay\n",
      "a      cl         debug    help      ll        quit     s        unt      \n",
      "alias  clear      disable  ignore    longlist  r        source   until    \n",
      "args   commands   display  interact  n         restart  step     up       \n",
      "b      condition  down     j         next      return   tbreak   w        \n",
      "break  cont       enable   jump      p         retval   u        whatis   \n",
      "bt     continue   exit     l         pp        run      unalias  where    \n",
      "\n",
      "Miscellaneous help topics:\n",
      "==========================\n",
      "exec  pdb\n",
      "\n",
      "(Pdb) next\n",
      "> <string>(3)<module>()\n",
      "(Pdb) next\n",
      "0\n",
      "> <string>(2)<module>()\n",
      "(Pdb) next\n",
      "> <string>(3)<module>()\n",
      "(Pdb) next\n",
      "1\n",
      "> <string>(2)<module>()\n",
      "(Pdb) next\n",
      "> <string>(3)<module>()\n",
      "(Pdb) next\n",
      "2\n",
      "> <string>(2)<module>()\n",
      "(Pdb) exit\n"
     ]
    }
   ],
   "source": [
    "import pdb\n",
    "pdb.run(\"\"\"\n",
    "for i in range(3):\n",
    "    print(i)\n",
    "\"\"\")"
   ]
  },
  {
   "cell_type": "markdown",
   "metadata": {},
   "source": [
    "### 调试函数"
   ]
  },
  {
   "cell_type": "code",
   "execution_count": 12,
   "metadata": {
    "ExecuteTime": {
     "end_time": "2018-12-17T13:08:30.768774Z",
     "start_time": "2018-12-17T13:08:14.707855Z"
    }
   },
   "outputs": [
    {
     "name": "stdout",
     "output_type": "stream",
     "text": [
      "> <ipython-input-12-3e3c71a0754d>(4)sum()\n",
      "-> s = 0\n",
      "(Pdb) n\n",
      "> <ipython-input-12-3e3c71a0754d>(5)sum()\n",
      "-> for i in range(maxint):\n",
      "(Pdb) n\n",
      "> <ipython-input-12-3e3c71a0754d>(6)sum()\n",
      "-> s += i\n",
      "(Pdb) p s\n",
      "0\n",
      "(Pdb) p i\n",
      "0\n",
      "(Pdb) n\n",
      "> <ipython-input-12-3e3c71a0754d>(5)sum()\n",
      "-> for i in range(maxint):\n",
      "(Pdb) n\n",
      "> <ipython-input-12-3e3c71a0754d>(6)sum()\n",
      "-> s += i\n",
      "(Pdb) n\n",
      "> <ipython-input-12-3e3c71a0754d>(5)sum()\n",
      "-> for i in range(maxint):\n",
      "(Pdb) n\n",
      "> <ipython-input-12-3e3c71a0754d>(6)sum()\n",
      "-> s += i\n",
      "(Pdb) p s\n",
      "1\n",
      "(Pdb) exit\n"
     ]
    }
   ],
   "source": [
    "import pdb\n",
    "\n",
    "def sum(maxint):\n",
    "    s = 0\n",
    "    for i in range(maxint):\n",
    "        s += i\n",
    "    return s\n",
    "pdb.runcall(sum,10)"
   ]
  },
  {
   "cell_type": "markdown",
   "metadata": {},
   "source": [
    "## 测试程序\n",
    "> python标准库中，就有doctest和unittest模块可用于测试。\n",
    "### 用testmod函数测试\n",
    "- 用testmod函数进行单元测试"
   ]
  },
  {
   "cell_type": "code",
   "execution_count": 14,
   "metadata": {
    "ExecuteTime": {
     "end_time": "2018-12-17T13:23:18.604555Z",
     "start_time": "2018-12-17T13:23:18.546552Z"
    }
   },
   "outputs": [
    {
     "name": "stdout",
     "output_type": "stream",
     "text": [
      "**********************************************************************\n",
      "File \"__main__\", line 6, in __main__.grade\n",
      "Failed example:\n",
      "    grade(80)\n",
      "Expected:\n",
      "    '良'\n",
      "Got:\n",
      "    '合格'\n",
      "**********************************************************************\n",
      "1 items had failures:\n",
      "   1 of   4 in __main__.grade\n",
      "***Test Failed*** 1 failures.\n"
     ]
    },
    {
     "data": {
      "text/plain": [
       "TestResults(failed=1, attempted=4)"
      ]
     },
     "execution_count": 14,
     "metadata": {},
     "output_type": "execute_result"
    }
   ],
   "source": [
    "import pdb\n",
    "def grade(sum):\n",
    "    \"\"\"\n",
    "    >>> grade(100)\n",
    "    '优秀'\n",
    "    >>> grade(80)\n",
    "    '良'\n",
    "    >>> grade(65)\n",
    "    '合格'\n",
    "    >>> grade(10)\n",
    "    '不合格'\n",
    "    \"\"\"\n",
    "    if sum>90:\n",
    "        return '优秀'\n",
    "    if sum>80:\n",
    "        return '良'\n",
    "    if sum>60:\n",
    "        return '合格'\n",
    "    if sum<60:\n",
    "        return '不合格'\n",
    "\n",
    "\n",
    "import doctest\n",
    "doctest.testmod()"
   ]
  },
  {
   "cell_type": "markdown",
   "metadata": {},
   "source": [
    "### 用testfile函数测试\n",
    "> 如果不能讲测试用例写入程序文件中，就可以应用testfile函数进行测试。"
   ]
  },
  {
   "cell_type": "code",
   "execution_count": 15,
   "metadata": {
    "ExecuteTime": {
     "end_time": "2018-12-17T13:29:28.776728Z",
     "start_time": "2018-12-17T13:29:28.762727Z"
    }
   },
   "outputs": [],
   "source": [
    "def grade(sum):\n",
    "    \"\"\"\n",
    "    >>> grade(100)\n",
    "    '优秀'\n",
    "    >>> grade(80)\n",
    "    '良'\n",
    "    >>> grade(65)\n",
    "    '合格'\n",
    "    >>> grade(10)\n",
    "    '不合格'\n",
    "    \"\"\"\n",
    "    if sum>90:\n",
    "        return '优秀'\n",
    "    if sum>80:\n",
    "        return '良'\n",
    "    if sum>60:\n",
    "        return '合格'\n",
    "    if sum<60:\n",
    "        return '不合格'"
   ]
  },
  {
   "cell_type": "code",
   "execution_count": 16,
   "metadata": {
    "ExecuteTime": {
     "end_time": "2018-12-17T13:33:18.974895Z",
     "start_time": "2018-12-17T13:33:18.958894Z"
    }
   },
   "outputs": [
    {
     "name": "stdout",
     "output_type": "stream",
     "text": [
      "from test import grade\n",
      "\n",
      ">>> grade(100)\n",
      "\n",
      "'优秀'\n",
      "\n",
      ">>> grade(80)\n",
      "\n",
      "'良'\n",
      "\n",
      ">>> grade(65)\n",
      "\n",
      "'合格'\n",
      "\n",
      ">>> grade(10)\n",
      "\n",
      "'不合格'\n"
     ]
    }
   ],
   "source": [
    "#打印gradeTestFile文件\n",
    "with open(\"./src/gradeTestFile.txt\") as fr:\n",
    "    for line in fr.readlines():\n",
    "        print(line)"
   ]
  },
  {
   "cell_type": "code",
   "execution_count": 22,
   "metadata": {
    "ExecuteTime": {
     "end_time": "2018-12-17T13:41:39.150503Z",
     "start_time": "2018-12-17T13:41:39.126502Z"
    }
   },
   "outputs": [
    {
     "name": "stdout",
     "output_type": "stream",
     "text": [
      "C:\\Users\\hongtao.zhao\\Desktop\\机器学习实战训练营\\study_notes\\001_21天学通python/src/gradeTestFile.txt\n",
      "**********************************************************************\n",
      "File \"C:\\Users\\hongtao.zhao\\Desktop\\机器学习实战训练营\\study_notes\\001_21天学通python\\src\\gradeTestFile.txt\", line 2, in gradeTestFile.txt\n",
      "Failed example:\n",
      "    grade(100)\n",
      "Exception raised:\n",
      "    Traceback (most recent call last):\n",
      "      File \"D:\\Anaconda3\\lib\\doctest.py\", line 1330, in __run\n",
      "        compileflags, 1), test.globs)\n",
      "      File \"<doctest gradeTestFile.txt[0]>\", line 1, in <module>\n",
      "        grade(100)\n",
      "    NameError: name 'grade' is not defined\n",
      "**********************************************************************\n",
      "File \"C:\\Users\\hongtao.zhao\\Desktop\\机器学习实战训练营\\study_notes\\001_21天学通python\\src\\gradeTestFile.txt\", line 4, in gradeTestFile.txt\n",
      "Failed example:\n",
      "    grade(80)\n",
      "Exception raised:\n",
      "    Traceback (most recent call last):\n",
      "      File \"D:\\Anaconda3\\lib\\doctest.py\", line 1330, in __run\n",
      "        compileflags, 1), test.globs)\n",
      "      File \"<doctest gradeTestFile.txt[1]>\", line 1, in <module>\n",
      "        grade(80)\n",
      "    NameError: name 'grade' is not defined\n",
      "**********************************************************************\n",
      "File \"C:\\Users\\hongtao.zhao\\Desktop\\机器学习实战训练营\\study_notes\\001_21天学通python\\src\\gradeTestFile.txt\", line 6, in gradeTestFile.txt\n",
      "Failed example:\n",
      "    grade(65)\n",
      "Exception raised:\n",
      "    Traceback (most recent call last):\n",
      "      File \"D:\\Anaconda3\\lib\\doctest.py\", line 1330, in __run\n",
      "        compileflags, 1), test.globs)\n",
      "      File \"<doctest gradeTestFile.txt[2]>\", line 1, in <module>\n",
      "        grade(65)\n",
      "    NameError: name 'grade' is not defined\n",
      "**********************************************************************\n",
      "File \"C:\\Users\\hongtao.zhao\\Desktop\\机器学习实战训练营\\study_notes\\001_21天学通python\\src\\gradeTestFile.txt\", line 8, in gradeTestFile.txt\n",
      "Failed example:\n",
      "    grade(10)\n",
      "Exception raised:\n",
      "    Traceback (most recent call last):\n",
      "      File \"D:\\Anaconda3\\lib\\doctest.py\", line 1330, in __run\n",
      "        compileflags, 1), test.globs)\n",
      "      File \"<doctest gradeTestFile.txt[3]>\", line 1, in <module>\n",
      "        grade(10)\n",
      "    NameError: name 'grade' is not defined\n",
      "**********************************************************************\n",
      "1 items had failures:\n",
      "   4 of   4 in gradeTestFile.txt\n",
      "***Test Failed*** 4 failures.\n"
     ]
    },
    {
     "data": {
      "text/plain": [
       "TestResults(failed=4, attempted=4)"
      ]
     },
     "execution_count": 22,
     "metadata": {},
     "output_type": "execute_result"
    }
   ],
   "source": [
    "import doctest\n",
    "import os\n",
    "curPath = os.getcwd()\n",
    "curPath += \"/src/gradeTestFile.txt\"\n",
    "print(curPath)\n",
    "doctest.testfile(curPath)\n",
    "\n",
    "# 由于在txt文件中不知道如何引用.ipynb文件"
   ]
  }
 ],
 "metadata": {
  "kernelspec": {
   "display_name": "Python 3",
   "language": "python",
   "name": "python3"
  },
  "language_info": {
   "codemirror_mode": {
    "name": "ipython",
    "version": 3
   },
   "file_extension": ".py",
   "mimetype": "text/x-python",
   "name": "python",
   "nbconvert_exporter": "python",
   "pygments_lexer": "ipython3",
   "version": "3.6.6"
  },
  "varInspector": {
   "cols": {
    "lenName": 16,
    "lenType": 16,
    "lenVar": 40
   },
   "kernels_config": {
    "python": {
     "delete_cmd_postfix": "",
     "delete_cmd_prefix": "del ",
     "library": "var_list.py",
     "varRefreshCmd": "print(var_dic_list())"
    },
    "r": {
     "delete_cmd_postfix": ") ",
     "delete_cmd_prefix": "rm(",
     "library": "var_list.r",
     "varRefreshCmd": "cat(var_dic_list()) "
    }
   },
   "types_to_exclude": [
    "module",
    "function",
    "builtin_function_or_method",
    "instance",
    "_Feature"
   ],
   "window_display": false
  }
 },
 "nbformat": 4,
 "nbformat_minor": 2
}
