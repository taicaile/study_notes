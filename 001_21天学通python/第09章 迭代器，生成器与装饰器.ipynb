{
 "cells": [
  {
   "cell_type": "markdown",
   "metadata": {},
   "source": [
    "第九章 迭代器，生成器与装饰器\n",
    "--------------------------------------------\n",
    "to do list\n",
    "- [ ] 自定义一个迭代器，利用for循环进行索引\n",
    "- [ ] itertools常用的函数\n",
    "- [ ] 生成器\n",
    "- [ ] 生产者和消费者模型\n",
    "- [ ] 装饰器修饰函数\n",
    "- [ ] 装饰器修饰类"
   ]
  },
  {
   "cell_type": "markdown",
   "metadata": {},
   "source": [
    "### 迭代器\n",
    "- python中迭代器的使用是最为广泛的，凡是使用for语句，其本质上都是迭代器的应用\n",
    "- 从代码的角度看，迭代器是实现了迭代器协议方法的对象或类。迭代器协议方法主要是两个\n",
    "    - \\_\\_iter\\_\\_(), 方法返回对象本身，它是for语句使用迭代器的要求\n",
    "    - \\_\\_next\\_\\_(), 方法用于返回容器中下一个元素或数据。当容器中的数据用尽时，应该引发StopIteration异常。"
   ]
  },
  {
   "cell_type": "markdown",
   "metadata": {},
   "source": [
    "- 自定义迭代器"
   ]
  },
  {
   "cell_type": "code",
   "execution_count": 1,
   "metadata": {
    "ExecuteTime": {
     "end_time": "2018-12-06T04:20:37.358906Z",
     "start_time": "2018-12-06T04:20:37.336905Z"
    }
   },
   "outputs": [
    {
     "name": "stdout",
     "output_type": "stream",
     "text": [
      "迭代的数据元素为: 4\n",
      "迭代的数据元素为: 8\n",
      "迭代的数据元素为: 16\n",
      "迭代的数据元素为: 32\n",
      "迭代的数据元素为: 64\n"
     ]
    }
   ],
   "source": [
    "class MyIterator:\n",
    "    def __init__(self, x=2, xmax=100):\n",
    "        self.__mul, self.__x = x, x\n",
    "        self.__xmax = xmax\n",
    "\n",
    "    def __iter__(self):\n",
    "        return self\n",
    "\n",
    "    def __next__(self):\n",
    "        if self.__x and self.__x != 1:\n",
    "            self.__mul *= self.__x\n",
    "            if self.__mul <= self.__xmax:\n",
    "                return self.__mul\n",
    "            else:\n",
    "                raise StopIteration\n",
    "        else:\n",
    "            raise StopIteration\n",
    "\n",
    "\n",
    "myIter = MyIterator()\n",
    "for i in myIter:\n",
    "    print('迭代的数据元素为:', i)"
   ]
  },
  {
   "cell_type": "markdown",
   "metadata": {},
   "source": [
    "- 内建迭代器函数 iter(),另外在标准库的itertools模块中还有丰富的迭代器工具，他们存在于itertools中。\n",
    "- itertools模块中提供了近二十个迭代器工具函数，主要有三类\n",
    "    - 无限迭代器\n",
    "    - 迭代短序列\n",
    "    - 组合迭代序列"
   ]
  },
  {
   "cell_type": "code",
   "execution_count": 10,
   "metadata": {
    "ExecuteTime": {
     "end_time": "2018-11-30T09:26:30.843636Z",
     "start_time": "2018-11-30T09:26:30.822635Z"
    }
   },
   "outputs": [
    {
     "name": "stdout",
     "output_type": "stream",
     "text": [
      "1\n",
      "4\n",
      "7\n",
      "10\n"
     ]
    }
   ],
   "source": [
    "import itertools\n",
    "for i in itertools.count(1, 3):  # 从1开始，以3位步进行计数迭代\n",
    "    print(i)\n",
    "    if i >= 10:\n",
    "        break"
   ]
  },
  {
   "cell_type": "code",
   "execution_count": 11,
   "metadata": {
    "ExecuteTime": {
     "end_time": "2018-11-30T09:26:30.868637Z",
     "start_time": "2018-11-30T09:26:30.849636Z"
    },
    "scrolled": false
   },
   "outputs": [
    {
     "name": "stdout",
     "output_type": "stream",
     "text": [
      "a\n",
      "b\n",
      "a\n",
      "b\n",
      "a\n",
      "b\n",
      "a\n"
     ]
    }
   ],
   "source": [
    "x = 0\n",
    "for i in itertools.cycle(['a', 'b']):  #无限循环迭代['a','b']\n",
    "    print(i)\n",
    "    x += 1\n",
    "    if x > 6:\n",
    "        break"
   ]
  },
  {
   "cell_type": "code",
   "execution_count": 12,
   "metadata": {
    "ExecuteTime": {
     "end_time": "2018-11-30T09:26:30.886638Z",
     "start_time": "2018-11-30T09:26:30.871637Z"
    }
   },
   "outputs": [
    {
     "data": {
      "text/plain": [
       "[3, 3, 3]"
      ]
     },
     "execution_count": 12,
     "metadata": {},
     "output_type": "execute_result"
    }
   ],
   "source": [
    "list(itertools.repeat(3, 3))"
   ]
  },
  {
   "cell_type": "code",
   "execution_count": 13,
   "metadata": {
    "ExecuteTime": {
     "end_time": "2018-11-30T09:26:30.904639Z",
     "start_time": "2018-11-30T09:26:30.890639Z"
    }
   },
   "outputs": [
    {
     "data": {
      "text/plain": [
       "[1, 2, 2, 3]"
      ]
     },
     "execution_count": 13,
     "metadata": {},
     "output_type": "execute_result"
    }
   ],
   "source": [
    "list(itertools.chain([1, 2], [2, 3]))  # 将两个列表连接起来进行迭代"
   ]
  },
  {
   "cell_type": "code",
   "execution_count": 14,
   "metadata": {
    "ExecuteTime": {
     "end_time": "2018-11-30T09:26:30.920640Z",
     "start_time": "2018-11-30T09:26:30.907639Z"
    }
   },
   "outputs": [
    {
     "name": "stdout",
     "output_type": "stream",
     "text": [
      "[1, 3, 4]\n",
      "[1, 3, 4]\n"
     ]
    }
   ],
   "source": [
    "print(list(itertools.compress([1, 2, 3, 4], [1, [], True, 3])))\n",
    "#根据后边selectin中的真假来决定是否输出前边data的数值\n",
    "print(list(itertools.compress([1, 2, 3, 4], [1, [], True, 1])))"
   ]
  },
  {
   "cell_type": "code",
   "execution_count": 15,
   "metadata": {
    "ExecuteTime": {
     "end_time": "2018-11-30T09:26:30.934641Z",
     "start_time": "2018-11-30T09:26:30.924640Z"
    }
   },
   "outputs": [
    {
     "data": {
      "text/plain": [
       "[1, 2, 8, 9]"
      ]
     },
     "execution_count": 15,
     "metadata": {},
     "output_type": "execute_result"
    }
   ],
   "source": [
    "list(itertools.dropwhile(lambda x: x > 6, [8, 9, 1, 2, 8, 9]))\n",
    "#第一个参数的处理结果为假时开始迭代后边的数值"
   ]
  },
  {
   "cell_type": "code",
   "execution_count": 16,
   "metadata": {
    "ExecuteTime": {
     "end_time": "2018-11-30T09:26:30.948642Z",
     "start_time": "2018-11-30T09:26:30.938641Z"
    }
   },
   "outputs": [
    {
     "data": {
      "text/plain": [
       "[18, 19]"
      ]
     },
     "execution_count": 16,
     "metadata": {},
     "output_type": "execute_result"
    }
   ],
   "source": [
    "list(itertools.takewhile(lambda x: x > 10, [18, 19, 1, 21, 8, 9]))"
   ]
  },
  {
   "cell_type": "code",
   "execution_count": 17,
   "metadata": {
    "ExecuteTime": {
     "end_time": "2018-11-30T09:26:30.966643Z",
     "start_time": "2018-11-30T09:26:30.952642Z"
    }
   },
   "outputs": [
    {
     "name": "stdout",
     "output_type": "stream",
     "text": [
      "0\n",
      "1\n",
      "0\n",
      "1\n"
     ]
    }
   ],
   "source": [
    "for its in itertools.tee([0, 1], 2):  #将[0,1]进行2次迭代\n",
    "    for it in its:\n",
    "        print(it)"
   ]
  },
  {
   "cell_type": "code",
   "execution_count": 18,
   "metadata": {
    "ExecuteTime": {
     "end_time": "2018-11-30T09:26:30.984644Z",
     "start_time": "2018-11-30T09:26:30.970643Z"
    }
   },
   "outputs": [
    {
     "data": {
      "text/plain": [
       "[('a', 'b'), ('a', 'c'), ('b', 'a'), ('b', 'c'), ('c', 'a'), ('c', 'b')]"
      ]
     },
     "execution_count": 18,
     "metadata": {},
     "output_type": "execute_result"
    }
   ],
   "source": [
    "list(itertools.permutations('abc', 2))"
   ]
  },
  {
   "cell_type": "code",
   "execution_count": 19,
   "metadata": {
    "ExecuteTime": {
     "end_time": "2018-11-30T09:26:31.002645Z",
     "start_time": "2018-11-30T09:26:30.988644Z"
    }
   },
   "outputs": [
    {
     "data": {
      "text/plain": [
       "[('a', 'b'), ('a', 'c'), ('b', 'c')]"
      ]
     },
     "execution_count": 19,
     "metadata": {},
     "output_type": "execute_result"
    }
   ],
   "source": [
    "list(itertools.combinations('abc', 2))"
   ]
  },
  {
   "cell_type": "markdown",
   "metadata": {},
   "source": [
    "### 生成器\n",
    "- 生成器可以生成一个值的序列用于迭代，并且这个值的序列不是一次生成的，而是使用一个，生成一个值的序列\n",
    ">一个带有 yield 的函数就是一个 generator，它和普通函数不同，生成一个 generator 看起来像函数调用，但不会执行任何函数代码，直到对其调用 next()（在 for 循环中会自动调用 next()）才开始执行。虽然执行流程仍按函数的流程执行，但每执行到一个 yield 语句就会中断，并返回一个迭代值，下次执行时从 yield 的下一个语句继续执行。看起来就好像一个函数在正常执行的过程中被 yield 中断了数次，每次中断都会通过 yield 返回当前的迭代值。\n",
    "\n",
    "- 生成器的实例化时并不会立即执行，而是等待调用其\\_\\_next\\_\\_()方法才开始运行"
   ]
  },
  {
   "cell_type": "code",
   "execution_count": 20,
   "metadata": {
    "ExecuteTime": {
     "end_time": "2018-11-30T09:26:31.023646Z",
     "start_time": "2018-11-30T09:26:31.007645Z"
    }
   },
   "outputs": [
    {
     "name": "stdout",
     "output_type": "stream",
     "text": [
      "开始生成...\n",
      "4\n",
      "完成一次...\n",
      "开始生成...\n",
      "3\n",
      "完成一次...\n",
      "开始生成...\n",
      "2\n",
      "完成一次...\n",
      "开始生成...\n",
      "1\n",
      "完成一次...\n",
      "已经实例化了对象\n",
      "开始生成...\n",
      "完成一次...\n",
      "开始生成...\n",
      "2\n"
     ]
    }
   ],
   "source": [
    "def myYield(n):  #定义生成器函数\n",
    "    while n > 0:\n",
    "        print(\"开始生成...\")\n",
    "        yield n  #yield语句，产生返回值， 程序执行到这里，会暂停，下次调用继续执行\n",
    "        print(\"完成一次...\")\n",
    "        n = n - 1\n",
    "\n",
    "\n",
    "for i in myYield(4):  #利用for循环对生成器进行索引\n",
    "    print(i)\n",
    "my_yield = myYield(3)\n",
    "print(\"已经实例化了对象\")\n",
    "my_yield.__next__()\n",
    "print(my_yield.__next__())"
   ]
  },
  {
   "cell_type": "markdown",
   "metadata": {},
   "source": [
    "- 可以接收调用者传来的值并重新初始化生成器生成的值"
   ]
  },
  {
   "cell_type": "code",
   "execution_count": 21,
   "metadata": {
    "ExecuteTime": {
     "end_time": "2018-11-30T09:26:31.035647Z",
     "start_time": "2018-11-30T09:26:31.027646Z"
    }
   },
   "outputs": [
    {
     "name": "stdout",
     "output_type": "stream",
     "text": [
      "3\n",
      "2\n",
      "传递给my_yield一个10，重新初始化生成器。\n",
      "10\n",
      "9\n"
     ]
    }
   ],
   "source": [
    "def myYield(n):\n",
    "    while n > 0:\n",
    "        rcv = yield (n)  #yield 语句， 用于函数返回，同时也可以也接受send函数发过来的数据\n",
    "        n = n - 1\n",
    "        if rcv is not None:\n",
    "            n = rcv\n",
    "\n",
    "\n",
    "my_yield = myYield(3)\n",
    "print(my_yield.__next__())\n",
    "print(my_yield.__next__())\n",
    "print(\"传递给my_yield一个10，重新初始化生成器。\")\n",
    "print(my_yield.send(10))\n",
    "print(my_yield.__next__())"
   ]
  },
  {
   "cell_type": "markdown",
   "metadata": {},
   "source": []
  },
  {
   "cell_type": "code",
   "execution_count": 22,
   "metadata": {
    "ExecuteTime": {
     "end_time": "2018-11-30T09:26:31.052648Z",
     "start_time": "2018-11-30T09:26:31.041647Z"
    }
   },
   "outputs": [
    {
     "name": "stdout",
     "output_type": "stream",
     "text": [
      "0\n",
      "1\n",
      "4\n",
      "type(a) <class 'generator'>\n",
      "list(a) [16]\n",
      "0\n",
      "1\n",
      "4\n",
      "9\n",
      "16\n"
     ]
    }
   ],
   "source": [
    "a = (i**2 for i in range(5))  # 其本质也是一个生成器\n",
    "print(a.__next__())\n",
    "print(a.__next__())\n",
    "print(a.__next__())\n",
    "a.send(6) # 此函数不起作用\n",
    "print('type(a)', type(a))\n",
    "print('list(a)', list(a)) # 利用list可以将生成器转换为list\n",
    "\n",
    "a = (i**2 for i in range(5))  # 其本质也是一个生成器，可用for循环进行迭代\n",
    "for i in a:\n",
    "    print(i)"
   ]
  },
  {
   "cell_type": "markdown",
   "metadata": {},
   "source": [
    "### 装饰器\n",
    "- 装饰器是一种增加函数或类的功能的简单方法，它可以快速地给不同的函数或类插入相同的功能。从本质上说，它是一种代码实现方式"
   ]
  },
  {
   "cell_type": "code",
   "execution_count": 23,
   "metadata": {
    "ExecuteTime": {
     "end_time": "2018-11-30T09:26:31.071649Z",
     "start_time": "2018-11-30T09:26:31.055648Z"
    }
   },
   "outputs": [
    {
     "name": "stdout",
     "output_type": "stream",
     "text": [
      "开始运行\n",
      "[0, 1, 2]\n",
      "结束运行！\n",
      "\n",
      "开始运行\n",
      "hello john\n",
      "结束运行！\n"
     ]
    }
   ],
   "source": [
    "def abc(fun):  #装饰器的参数是函数\n",
    "    def wrapper(*args, **kwargs): #定义装饰类函数\n",
    "        print(\"开始运行\")\n",
    "        fun(*args, **kwargs)\n",
    "        print(\"结束运行！\")\n",
    "\n",
    "    return wrapper #返回一个装饰器\n",
    "\n",
    "\n",
    "@abc\n",
    "def demo_decoration(x):\n",
    "    a = []\n",
    "    for i in range(x):\n",
    "        a.append(i)\n",
    "    print(a)\n",
    "\n",
    "\n",
    "@abc\n",
    "def hello(name):\n",
    "    print(\"hello\", name)\n",
    "\n",
    "\n",
    "demo_decoration(3)\n",
    "print()\n",
    "hello(\"john\")"
   ]
  },
  {
   "cell_type": "code",
   "execution_count": 2,
   "metadata": {
    "ExecuteTime": {
     "end_time": "2018-12-06T05:16:53.621017Z",
     "start_time": "2018-12-06T05:16:53.606016Z"
    }
   },
   "outputs": [
    {
     "name": "stdout",
     "output_type": "stream",
     "text": [
      "开始运行 demo\n",
      "[0, 1, 2]\n",
      "结束运行！ demo\n",
      "\n",
      "开始运行 hello\n",
      "hello john\n",
      "结束运行！ hello\n"
     ]
    }
   ],
   "source": [
    "#装饰器也可以携带参数\n",
    "def abc(action):  #装饰器携带参数\n",
    "    def mabc(fun):\n",
    "        def wrapper(*args, **kwargs):  #定义装饰类函数\n",
    "            print(\"开始运行\",action)\n",
    "            fun(*args, **kwargs)\n",
    "            print(\"结束运行！\",action)\n",
    "\n",
    "        return wrapper  #返回一个装饰器\n",
    "\n",
    "    return mabc\n",
    "\n",
    "\n",
    "@abc('demo')\n",
    "def demo_decoration(x):\n",
    "    a = []\n",
    "    for i in range(x):\n",
    "        a.append(i)\n",
    "    print(a)\n",
    "\n",
    "\n",
    "@abc('hello')\n",
    "def hello(name):\n",
    "    print(\"hello\", name)\n",
    "\n",
    "\n",
    "demo_decoration(3)\n",
    "print()\n",
    "hello(\"john\")"
   ]
  },
  {
   "cell_type": "markdown",
   "metadata": {},
   "source": [
    "- 装饰器修饰类"
   ]
  },
  {
   "cell_type": "code",
   "execution_count": 3,
   "metadata": {
    "ExecuteTime": {
     "end_time": "2018-12-06T05:16:56.494181Z",
     "start_time": "2018-12-06T05:16:56.468180Z"
    }
   },
   "outputs": [
    {
     "name": "stdout",
     "output_type": "stream",
     "text": [
      "x axis: 0\n",
      "y axis: 0\n",
      "z axis: 0\n"
     ]
    }
   ],
   "source": [
    "def abc(myclass):  # 在函数内定义内部类\n",
    "    class InnerClass:\n",
    "        def __init__(self, z=0):\n",
    "            self.z = 0\n",
    "            self.wrapper = myclass()  # 实例化传入的类\n",
    "\n",
    "        def position(self):\n",
    "            self.wrapper.position()  # 先调用传入类的position方法\n",
    "            print('z axis:', self.z)\n",
    "\n",
    "    return InnerClass\n",
    "\n",
    "\n",
    "@abc\n",
    "class coordination:\n",
    "    def __init__(self, x=0, y=0):\n",
    "        self.x = x\n",
    "        self.y = y\n",
    "\n",
    "    def position(self):\n",
    "        print('x axis:', self.x)\n",
    "        print('y axis:', self.y)\n",
    "\n",
    "\n",
    "coor = coordination()\n",
    "coor.position()"
   ]
  },
  {
   "cell_type": "markdown",
   "metadata": {},
   "source": [
    "### 生成器与协程\n",
    "- 生产者和消费者模型（yield用于接收数据，send用于发送数据）"
   ]
  },
  {
   "cell_type": "code",
   "execution_count": 26,
   "metadata": {
    "ExecuteTime": {
     "end_time": "2018-11-30T09:26:31.114651Z",
     "start_time": "2018-11-30T09:26:31.103651Z"
    }
   },
   "outputs": [
    {
     "name": "stdout",
     "output_type": "stream",
     "text": [
      "等待接受处理任务...\n",
      "None\n",
      "发送一个任务... 任务0\n",
      "收到任务:  任务0\n",
      "发送一个任务... 任务1\n",
      "收到任务:  任务1\n",
      "发送一个任务... 任务2\n",
      "收到任务:  任务2\n"
     ]
    }
   ],
   "source": [
    "def consumer(): #有yield的函数即为生成器\n",
    "    print('等待接受处理任务...')\n",
    "    while True:\n",
    "        data = (yield)#接收send发送的数据\n",
    "        print('收到任务: ', data)\n",
    "\n",
    "\n",
    "def producer():\n",
    "    c = consumer()\n",
    "    print(c.__next__())  # 返回值为none\n",
    "    for i in range(3):\n",
    "        print('发送一个任务...', '任务%d' % i)\n",
    "        c.send('任务%d' % i)\n",
    "\n",
    "\n",
    "producer()"
   ]
  }
 ],
 "metadata": {
  "kernelspec": {
   "display_name": "Python 3",
   "language": "python",
   "name": "python3"
  },
  "language_info": {
   "codemirror_mode": {
    "name": "ipython",
    "version": 3
   },
   "file_extension": ".py",
   "mimetype": "text/x-python",
   "name": "python",
   "nbconvert_exporter": "python",
   "pygments_lexer": "ipython3",
   "version": "3.6.6"
  }
 },
 "nbformat": 4,
 "nbformat_minor": 2
}
