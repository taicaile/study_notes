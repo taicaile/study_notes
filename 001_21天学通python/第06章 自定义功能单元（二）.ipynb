{
 "cells": [
  {
   "cell_type": "markdown",
   "metadata": {},
   "source": [
    "## 面向对象编程概述\n",
    "\n",
    "## 定义和使用类\n",
    "### 定义类\n",
    "- python中定义类的方法 \n"
   ]
  },
  {
   "cell_type": "code",
   "execution_count": 1,
   "metadata": {
    "ExecuteTime": {
     "end_time": "2018-11-30T09:25:03.862661Z",
     "start_time": "2018-11-30T09:25:03.845660Z"
    }
   },
   "outputs": [
    {
     "data": {
      "text/plain": [
       "['__class__',\n",
       " '__delattr__',\n",
       " '__dict__',\n",
       " '__dir__',\n",
       " '__doc__',\n",
       " '__eq__',\n",
       " '__format__',\n",
       " '__ge__',\n",
       " '__getattribute__',\n",
       " '__gt__',\n",
       " '__hash__',\n",
       " '__init__',\n",
       " '__init_subclass__',\n",
       " '__le__',\n",
       " '__lt__',\n",
       " '__module__',\n",
       " '__ne__',\n",
       " '__new__',\n",
       " '__reduce__',\n",
       " '__reduce_ex__',\n",
       " '__repr__',\n",
       " '__setattr__',\n",
       " '__sizeof__',\n",
       " '__str__',\n",
       " '__subclasshook__',\n",
       " '__weakref__']"
      ]
     },
     "execution_count": 1,
     "metadata": {},
     "output_type": "execute_result"
    }
   ],
   "source": [
    "class MyClass:  #class <类名> (父类名)\n",
    "    pass\n",
    "\n",
    "\n",
    "#利用dir指令查看类的属性\n",
    "dir(MyClass)"
   ]
  },
  {
   "cell_type": "markdown",
   "metadata": {},
   "source": [
    "### 使用类"
   ]
  },
  {
   "cell_type": "code",
   "execution_count": 2,
   "metadata": {
    "ExecuteTime": {
     "end_time": "2018-11-30T09:25:03.895663Z",
     "start_time": "2018-11-30T09:25:03.865661Z"
    }
   },
   "outputs": [
    {
     "name": "stdout",
     "output_type": "stream",
     "text": [
      "打印类说明:\n",
      "MyClass Help.\n",
      "显示帮助信息\n",
      "Help on MyClass in module __main__ object:\n",
      "\n",
      "class MyClass(builtins.object)\n",
      " |  MyClass Help.\n",
      " |  \n",
      " |  Data descriptors defined here:\n",
      " |  \n",
      " |  __dict__\n",
      " |      dictionary for instance variables (if defined)\n",
      " |  \n",
      " |  __weakref__\n",
      " |      list of weak references to the object (if defined)\n",
      "\n"
     ]
    }
   ],
   "source": [
    "class MyClass:\n",
    "    \"MyClass Help.\"  #该类只有一个说明信息，没有具体语句\n",
    "\n",
    "\n",
    "myClass = MyClass()\n",
    "print('打印类说明:')\n",
    "print(MyClass.__doc__)\n",
    "print('显示帮助信息')\n",
    "help(myClass)"
   ]
  },
  {
   "cell_type": "markdown",
   "metadata": {},
   "source": [
    "## 类的属性和方法\n",
    "### 类的方法\n",
    "- 类的方法, 方法的第一个参数必须是self，而且不能忽略"
   ]
  },
  {
   "cell_type": "code",
   "execution_count": 3,
   "metadata": {
    "ExecuteTime": {
     "end_time": "2018-11-30T09:25:03.915664Z",
     "start_time": "2018-11-30T09:25:03.899663Z"
    }
   },
   "outputs": [
    {
     "name": "stdout",
     "output_type": "stream",
     "text": [
      "调用info方法的输出:\n",
      "info()...\n",
      "调用mycalc(3,4)方法的结果:\n",
      "7\n"
     ]
    }
   ],
   "source": [
    "class SmplClass:\n",
    "    def info(self):\n",
    "        print(\"info()...\")\n",
    "\n",
    "    def mycalc(self, x, y):\n",
    "        return x + y\n",
    "\n",
    "\n",
    "sc = SmplClass()\n",
    "print('调用info方法的输出:')\n",
    "sc.info()\n",
    "print('调用mycalc(3,4)方法的结果:')\n",
    "print(sc.mycalc(3, 4))"
   ]
  },
  {
   "cell_type": "markdown",
   "metadata": {},
   "source": [
    "- 定义了构造方法的类"
   ]
  },
  {
   "cell_type": "code",
   "execution_count": 4,
   "metadata": {
    "ExecuteTime": {
     "end_time": "2018-11-30T09:25:03.945666Z",
     "start_time": "2018-11-30T09:25:03.921664Z"
    }
   },
   "outputs": [
    {
     "name": "stdout",
     "output_type": "stream",
     "text": [
      "3\n",
      "13\n"
     ]
    }
   ],
   "source": [
    "class DemoInit:\n",
    "    def __init__(self, x, y=0):\n",
    "        self.x = x\n",
    "        self.y = y\n",
    "\n",
    "    def mycalc(self):\n",
    "        return self.x + self.y\n",
    "\n",
    "\n",
    "d = DemoInit(3)\n",
    "print(d.mycalc())\n",
    "\n",
    "d = DemoInit(4, 9)\n",
    "print(d.mycalc())"
   ]
  },
  {
   "cell_type": "markdown",
   "metadata": {},
   "source": [
    "### 类的属性"
   ]
  },
  {
   "cell_type": "code",
   "execution_count": 4,
   "metadata": {
    "ExecuteTime": {
     "end_time": "2018-12-16T16:07:35.911302Z",
     "start_time": "2018-12-16T16:07:35.882301Z"
    },
    "scrolled": false
   },
   "outputs": [
    {
     "name": "stdout",
     "output_type": "stream",
     "text": [
      "初始化两个实例\n",
      "类变量值: Demo_Property\n",
      "实例变量值: 0\n",
      "类变量值: Demo_Property\n",
      "实例变量值: 0\n",
      "修改dpb的实例变量\n",
      "类变量值: Demo_Property\n",
      "实例变量值: 10\n",
      "修改dpa的实例变量\n",
      "类变量值: Demo_Property\n",
      "实例变量值: dpa\n"
     ]
    }
   ],
   "source": [
    "class Demo_Property:\n",
    "    class_name = \"Demo_Property\"\n",
    "\n",
    "    def __init__(self, x=0):\n",
    "        self.x = x\n",
    "\n",
    "    def class_info(self):\n",
    "        print('类变量值:', Demo_Property.class_name)\n",
    "        print('实例变量值:', self.x)\n",
    "\n",
    "    def chng(self, x):\n",
    "        self.x = x\n",
    "\n",
    "    def chng_cn(self, name):\n",
    "        Demo_Property.class_name = name\n",
    "\n",
    "\n",
    "dpa = Demo_Property()\n",
    "dpb = Demo_Property()\n",
    "print(\"初始化两个实例\")\n",
    "dpa.class_info()\n",
    "dpb.class_info()\n",
    "print(\"修改dpb的实例变量\")\n",
    "dpb.chng(10)\n",
    "dpb.class_info()\n",
    "print(\"修改dpa的实例变量\")\n",
    "dpa.chng('dpa')\n",
    "dpa.class_info()"
   ]
  },
  {
   "cell_type": "markdown",
   "metadata": {},
   "source": [
    "### 类成员方法与静态方法\n",
    "- 实例方法\n",
    "- 类方法\n",
    "- 静态方法"
   ]
  },
  {
   "cell_type": "code",
   "execution_count": 10,
   "metadata": {
    "ExecuteTime": {
     "end_time": "2018-12-16T16:16:04.384385Z",
     "start_time": "2018-12-16T16:16:04.373385Z"
    }
   },
   "outputs": [
    {
     "name": "stdout",
     "output_type": "stream",
     "text": [
      "调用了静态方法!\n",
      "调用了类方法\n",
      "调用了静态方法!\n",
      "调用了类方法\n"
     ]
    }
   ],
   "source": [
    "class DemoMthd:\n",
    "    @staticmethod\n",
    "    def static_mthd():\n",
    "        print('调用了静态方法!')\n",
    "\n",
    "    @classmethod\n",
    "    def class_mthd(cls):\n",
    "        print('调用了类方法')\n",
    "\n",
    "\n",
    "DemoMthd.static_mthd()  #未实例化类，通过类名调用静态方法\n",
    "DemoMthd.class_mthd()  #未实例化类，通过类名调用类方法\n",
    "\n",
    "dm = DemoMthd()\n",
    "dm.static_mthd()\n",
    "dm.class_mthd()"
   ]
  },
  {
   "cell_type": "markdown",
   "metadata": {},
   "source": [
    "## 类的继承\n",
    "### 类的继承"
   ]
  },
  {
   "cell_type": "code",
   "execution_count": 5,
   "metadata": {
    "ExecuteTime": {
     "end_time": "2018-11-30T09:25:03.967667Z",
     "start_time": "2018-11-30T09:25:03.950666Z"
    }
   },
   "outputs": [
    {
     "name": "stdout",
     "output_type": "stream",
     "text": [
      "当前位置:(3,5)\n",
      "飞行...\n",
      "当前位置:(10,14)\n",
      "用尾针!\n"
     ]
    }
   ],
   "source": [
    "class Ant:\n",
    "    def __init__(self, x=0, y=0, color='black'):\n",
    "        self.x = x\n",
    "        self.y = y\n",
    "        self.color = color\n",
    "\n",
    "    def crawl(self, x, y):\n",
    "        self.x = x\n",
    "        self.y = y\n",
    "        self.info()\n",
    "\n",
    "    def attack(self):\n",
    "        print(\"用嘴咬!\")\n",
    "\n",
    "    def info(self):\n",
    "        print(\"当前位置:(%d,%d)\" % (self.x, self.y))\n",
    "\n",
    "\n",
    "class FlyAnt(Ant):\n",
    "    def attach(self):\n",
    "        print(\"用尾针!\")\n",
    "\n",
    "    def fly(self, x, y):\n",
    "        print('飞行...')\n",
    "        self.x = x\n",
    "        self.y = y\n",
    "        self.info()\n",
    "\n",
    "\n",
    "flyant = FlyAnt(color='red')  # 实例化类\n",
    "flyant.crawl(3, 5)\n",
    "flyant.fly(10, 14)\n",
    "flyant.attach()"
   ]
  },
  {
   "cell_type": "markdown",
   "metadata": {},
   "source": [
    "### 多重继承"
   ]
  },
  {
   "cell_type": "code",
   "execution_count": 30,
   "metadata": {
    "ExecuteTime": {
     "end_time": "2018-12-16T16:37:00.845251Z",
     "start_time": "2018-12-16T16:37:00.828250Z"
    }
   },
   "outputs": [],
   "source": [
    "class PrantA:\n",
    "    namea = 'PrntA'\n",
    "\n",
    "    def set_value(self, a):\n",
    "        self.a = a\n",
    "\n",
    "    def set_namea(self, namea):\n",
    "        self.namea = namea\n",
    "\n",
    "    def info(self):\n",
    "        print('PrintA:%s,%s' % (self.namea, self.a))\n",
    "\n",
    "\n",
    "class PrantB:\n",
    "    nameb = 'PrntB'\n",
    "\n",
    "    def set_nameb(self, nameb):\n",
    "        self.nameb = nameb\n",
    "\n",
    "    def info(self):\n",
    "        print('PrintB:%s' % (self.nameb))\n",
    "\n",
    "\n",
    "class Sub(PrantA, PrantB):\n",
    "    pass\n",
    "\n",
    "\n",
    "class Sub2(PrantB, PrantA):\n",
    "    pass\n",
    "\n",
    "\n",
    "class Sub3(PrantA, PrantB):\n",
    "    def info(self):\n",
    "        PrantA.info(self)\n",
    "        PrantB.info(self)"
   ]
  },
  {
   "cell_type": "code",
   "execution_count": 31,
   "metadata": {
    "ExecuteTime": {
     "end_time": "2018-12-16T16:37:02.375338Z",
     "start_time": "2018-12-16T16:37:02.359337Z"
    }
   },
   "outputs": [
    {
     "name": "stdout",
     "output_type": "stream",
     "text": [
      "使用第一个子类:\n",
      "PrintA:PrntA,aaaa\n",
      "PrintA:PrntA,aaaa\n"
     ]
    }
   ],
   "source": [
    "print(\"使用第一个子类:\")\n",
    "sub = Sub()\n",
    "sub.set_value('aaaa')\n",
    "sub.info()\n",
    "sub.set_nameb('BBBB')\n",
    "sub.info()"
   ]
  },
  {
   "cell_type": "code",
   "execution_count": 32,
   "metadata": {
    "ExecuteTime": {
     "end_time": "2018-12-16T16:37:03.569407Z",
     "start_time": "2018-12-16T16:37:03.551406Z"
    }
   },
   "outputs": [
    {
     "name": "stdout",
     "output_type": "stream",
     "text": [
      "使用第二个子类:\n",
      "PrintB:PrntB\n",
      "PrintB:BBBB\n"
     ]
    }
   ],
   "source": [
    "print(\"使用第二个子类:\")\n",
    "sub2 = Sub2()\n",
    "sub2.set_value('aaaa')\n",
    "sub2.info()\n",
    "sub2.set_nameb('BBBB')\n",
    "sub2.info()"
   ]
  },
  {
   "cell_type": "code",
   "execution_count": 33,
   "metadata": {
    "ExecuteTime": {
     "end_time": "2018-12-16T16:38:00.094640Z",
     "start_time": "2018-12-16T16:38:00.083639Z"
    },
    "scrolled": true
   },
   "outputs": [
    {
     "name": "stdout",
     "output_type": "stream",
     "text": [
      "使用第三个子类:\n",
      "PrintA:PrntA,aaaa\n",
      "PrintB:BBBB\n"
     ]
    }
   ],
   "source": [
    "print(\"使用第三个子类:\")\n",
    "sub3 = Sub3()\n",
    "sub3.set_value('aaaa')\n",
    "sub3.set_nameb('BBBB')\n",
    "sub3.info()"
   ]
  }
 ],
 "metadata": {
  "kernelspec": {
   "display_name": "Python 3",
   "language": "python",
   "name": "python3"
  },
  "language_info": {
   "codemirror_mode": {
    "name": "ipython",
    "version": 3
   },
   "file_extension": ".py",
   "mimetype": "text/x-python",
   "name": "python",
   "nbconvert_exporter": "python",
   "pygments_lexer": "ipython3",
   "version": "3.6.6"
  },
  "varInspector": {
   "cols": {
    "lenName": 16,
    "lenType": 16,
    "lenVar": 40
   },
   "kernels_config": {
    "python": {
     "delete_cmd_postfix": "",
     "delete_cmd_prefix": "del ",
     "library": "var_list.py",
     "varRefreshCmd": "print(var_dic_list())"
    },
    "r": {
     "delete_cmd_postfix": ") ",
     "delete_cmd_prefix": "rm(",
     "library": "var_list.r",
     "varRefreshCmd": "cat(var_dic_list()) "
    }
   },
   "types_to_exclude": [
    "module",
    "function",
    "builtin_function_or_method",
    "instance",
    "_Feature"
   ],
   "window_display": true
  }
 },
 "nbformat": 4,
 "nbformat_minor": 2
}
