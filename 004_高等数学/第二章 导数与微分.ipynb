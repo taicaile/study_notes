{
 "cells": [
  {
   "cell_type": "markdown",
   "metadata": {},
   "source": [
    "# 第二章 导数与微分\n",
    "## 第一节 导数概念"
   ]
  },
  {
   "cell_type": "markdown",
   "metadata": {},
   "source": [
    "- 求导数举例  \n",
    "\n",
    "\n",
    "1. 常数的导数等于0  \n",
    "2. $(x^n)^{'} = n x^{n-1}$\n",
    "3. $(\\sin x)^{'}=\\cos x$, $(\\cos x)^{'}=-\\sin x$\n",
    "4. $(e^x)^{'}=e^x$\n",
    "5. $(\\log_a x)^{'}=\\frac{1}{x\\ln a}$\n",
    "    - 特别的，当$a=e$时, $(\\ln x)^{'}=\\frac{1}{x}$"
   ]
  },
  {
   "cell_type": "markdown",
   "metadata": {},
   "source": [
    "- 导数的几何意义   \n",
    "\n",
    "如果函数 $f(x)$ 在点$x_0$ 处可导，则在几何上$f'(x)$ 表示曲线$y=f(x)$在点$(x_0,f(x_0))$处的切线的斜率。  \n",
    "\n",
    "经过$(x_0,y_0)$点的切线方程为：  \n",
    "$l_T : y = f'(x_0)(x-x_0)+f(x_0)$  \n",
    "\n",
    "任意一条直线方程可以通过方程$y=kx+b$表示，其中一点为$(x_0,y_0)$, 将两个方程进行相减得：  \n",
    "$y-y_0=k(x-x_0)$ 所以如果知道了切线了斜率，和过切线的一个点，就能够确定切线的方程。"
   ]
  },
  {
   "cell_type": "code",
   "execution_count": 1,
   "metadata": {
    "ExecuteTime": {
     "end_time": "2018-10-19T09:46:49.004022Z",
     "start_time": "2018-10-19T09:46:48.998022Z"
    }
   },
   "outputs": [],
   "source": [
    "%matplotlib inline\n",
    "import matplotlib.pyplot as plt\n",
    "import numpy as np"
   ]
  },
  {
   "cell_type": "code",
   "execution_count": 2,
   "metadata": {
    "ExecuteTime": {
     "end_time": "2018-10-19T09:48:30.171809Z",
     "start_time": "2018-10-19T09:48:30.029800Z"
    }
   },
   "outputs": [
    {
     "data": {
      "image/png": "[encoded data removed]",
      "text/plain": [
       "<Figure size 432x288 with 1 Axes>"
      ]
     },
     "metadata": {
      "needs_background": "light"
     },
     "output_type": "display_data"
    }
   ],
   "source": [
    "x = np.linspace(-5, 5, 100)\n",
    "x1 = np.linspace(0,4,100)\n",
    "#画出 y = x^2 的图形\n",
    "plt.plot(x, x**2, label='quadratic')\n",
    "# 画出经过点(2,4)的切线方程\n",
    "# k = 4\n",
    "plt.scatter(2,4)\n",
    "plt.text(2,1.5,s='(2,4)')\n",
    "plt.legend()\n",
    "plt.plot(x1,4*(x1-2)+4)\n",
    "plt.show()"
   ]
  },
  {
   "cell_type": "markdown",
   "metadata": {},
   "source": [
    "## 第二节 函数的求导法则"
   ]
  },
  {
   "cell_type": "markdown",
   "metadata": {},
   "source": [
    "### 函数的和，差，积，商的求导法则\n",
    "$$[\\mu(x)\\pm v(x)]^{'} = \\mu^{'}(x) \\pm v^{'}(x)$$"
   ]
  },
  {
   "cell_type": "markdown",
   "metadata": {},
   "source": [
    "$$[\\mu(x) v(x)]^{'} = \\mu^{'}(x)v(x) + \\mu(x)v^{'}(x)$$"
   ]
  },
  {
   "cell_type": "markdown",
   "metadata": {},
   "source": [
    "$$[\\frac{\\mu(x)}{v(x)}]^{'} = \\frac{\\mu^{'}(x)v(x)-\\mu(x)v^{'}(x)}{v^2(x)}(v(x)\\neq 0)$$"
   ]
  },
  {
   "cell_type": "markdown",
   "metadata": {},
   "source": [
    "### 复合函数的求导法则"
   ]
  },
  {
   "cell_type": "markdown",
   "metadata": {},
   "source": [
    "设$y=f(\\mu)$, 而 $\\mu = g(x)$ 且 $f(\\mu)$及$g(x)$都可导，则复合函数$y=f[g(x)]$的导数为:  \n",
    "\n",
    "$$\\frac{dy}{dx}=\\frac{dy}{d\\mu}\\frac{d\\mu}{dx}$$"
   ]
  },
  {
   "cell_type": "markdown",
   "metadata": {},
   "source": [
    "$$\\Rightarrow \\quad y^{'}(x)=f^{'}(\\mu)g^{'}(x)$$"
   ]
  },
  {
   "cell_type": "markdown",
   "metadata": {},
   "source": [
    "## 第四节  隐函数及参数方程所确定的函数的导数 相关变化率"
   ]
  },
  {
   "cell_type": "markdown",
   "metadata": {},
   "source": [
    "一般的，如果变量x和y满足一个方程$F(x,y)=0$在一定条件下，当x取某区间内的任一值时，相应的总有满足这方程的唯一的y值存在，那么就说方程$F(x,y)=0$在该区间内确定了一个隐函数。"
   ]
  },
  {
   "cell_type": "markdown",
   "metadata": {},
   "source": [
    "例 1 求方程$e^y + xy - e = 0$所确定的隐函数的导数 $\\frac{dy}{dx}$\n",
    "\n",
    "解 把方程两边分别对$x$求导数. 注意$y=y(x)$.方程左边对$x$求导得\n",
    "$$\\frac{d}{dx}(e^y+xy-e)=e^y\\frac{dy}{dx}+y+x\\frac{dy}{dx}$$\n",
    "方程右边对x求导得:\n",
    "$$(0)' = 0$$\n",
    "由于等式两边对x的导数相等，所以\n",
    "$$e^y \\frac{dy}{dx}+y+x\\frac{dy}{dx}=0$$\n",
    "从而: \n",
    "$$\\frac{dy}{dx}=-\\frac{y}{x+e^y}$$"
   ]
  },
  {
   "cell_type": "markdown",
   "metadata": {},
   "source": [
    "## 第五节 函数的微分"
   ]
  },
  {
   "cell_type": "markdown",
   "metadata": {},
   "source": [
    "设函数$y=f(x)$在某区间内有定义，$x_0$及$x_0+\\Delta x$在这区间内，如果增量\n",
    "$$\\Delta y = f(x_0+\\Delta x)-f(x_0)$$\n",
    "可表示为:\n",
    "$$\\Delta y = A\\Delta x + o(\\Delta x)$$\n",
    "欸中A是不依赖于 $\\Delta x$的常数，那么称函数 $y=f(x)$在点$x_0$是可微的，而$A\\Delta x$叫做函数$y=f(x)$在点$x_0$相应于自变量增量$\\Delta x$的微分，记作$dy$"
   ]
  },
  {
   "cell_type": "markdown",
   "metadata": {},
   "source": [
    "#### 微分的几何意义\n",
    "例如在求一曲线在一范围内的增量时，我们可以用且线段来近似代替曲线段。 在局部范围内用线性函数近似代替非线性函数，在几何上就局部用切线段代替曲线段，这在数学上称为非线性函数的局部线性化。\n",
    "$$\\Delta Y = f^{'}(x_0)\\Delta x$$"
   ]
  },
  {
   "cell_type": "markdown",
   "metadata": {},
   "source": [
    "#### 微分在近似计算中的应用"
   ]
  },
  {
   "cell_type": "code",
   "execution_count": null,
   "metadata": {},
   "outputs": [],
   "source": []
  }
 ],
 "metadata": {
  "kernelspec": {
   "display_name": "Python 3",
   "language": "python",
   "name": "python3"
  },
  "language_info": {
   "codemirror_mode": {
    "name": "ipython",
    "version": 3
   },
   "file_extension": ".py",
   "mimetype": "text/x-python",
   "name": "python",
   "nbconvert_exporter": "python",
   "pygments_lexer": "ipython3",
   "version": "3.7.1"
  }
 },
 "nbformat": 4,
 "nbformat_minor": 2
}
