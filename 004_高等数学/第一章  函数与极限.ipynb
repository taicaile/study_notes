{
 "cells": [
  {
   "cell_type": "markdown",
   "metadata": {},
   "source": [
    "# 第一章 函数与极限\n",
    "## 第一节 映射与函数\n",
    "### 函数的奇偶性  \n",
    "- 偶函数: $f(-x)=f(x)$  \n",
    "- 奇函数: $f(-x)=-f(x)$"
   ]
  },
  {
   "cell_type": "markdown",
   "metadata": {},
   "source": [
    "### 反函数  \n",
    "设函数: $f:D \\rightarrow f(D)$是单射，则它存在逆映射$f^{-1}:f(D)\\rightarrow D$, 则次映射$f^{-1}$为函数f的反函数。  \n",
    "- 例如函数 $y=x^3$ 的反函数为 $x = y^{\\frac{1}{3}}$"
   ]
  },
  {
   "cell_type": "markdown",
   "metadata": {},
   "source": [
    "### 初等函数\n",
    "- 幂函数 : $y=x^{\\mu}$\n",
    "- 指数函数 : $y=a^x$\n",
    "- 对数函数 : $y=\\log_a x$\n",
    "- 三角函数 : $y = \\sin x$, $y = \\cos x$等\n",
    "- 反三角函数 : $y = \\arcsin x$, $y = \\arccos x$等  \n",
    "以上五类函数统称为基本初等函数"
   ]
  },
  {
   "cell_type": "markdown",
   "metadata": {},
   "source": [
    "## 第二节 数列的极限"
   ]
  },
  {
   "cell_type": "markdown",
   "metadata": {},
   "source": [
    "**定义** 设 $|x_n|$为一数列，如果存在常熟 $a$，对于任意给定的整数$\\theta$（无论它多么小），从存在正整数$N$，使得 $n>N$时，不等式\n",
    "$$|x_n-1|<\\theta$$\n",
    "都成立，那么就称常熟$a$时数列$|x_n|$的极限，或称数列${x_n}$收敛于$a$,记为\n",
    "$$\\lim_{n \\to \\infty} x_n = a$$"
   ]
  },
  {
   "cell_type": "markdown",
   "metadata": {},
   "source": [
    "## 第三节 函数的极限"
   ]
  },
  {
   "cell_type": "markdown",
   "metadata": {},
   "source": [
    "**定义** 设函数$f(x)$在点$x_0$的某一去心邻域内有定义。如果存在常数A，对于任意给定的整数$\\theta$(无论它多么小)，总存在正数$\\delta$, 使得当$x$满足不等式 $0<|x-x_0|<\\delta$时，对应的函数值$f(x)$都满足不等式\n",
    "$$|f(x)-A|<\\theta$$,\n",
    "那么常熟A就叫做函数$f(x)$当$x\\rightarrow x_0$时的极限。"
   ]
  },
  {
   "cell_type": "markdown",
   "metadata": {},
   "source": []
  }
 ],
 "metadata": {
  "kernelspec": {
   "display_name": "Python 3",
   "language": "python",
   "name": "python3"
  },
  "language_info": {
   "codemirror_mode": {
    "name": "ipython",
    "version": 3
   },
   "file_extension": ".py",
   "mimetype": "text/x-python",
   "name": "python",
   "nbconvert_exporter": "python",
   "pygments_lexer": "ipython3",
   "version": "3.7.1"
  }
 },
 "nbformat": 4,
 "nbformat_minor": 2
}
