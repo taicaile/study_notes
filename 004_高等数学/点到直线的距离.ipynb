{
 "cells": [
  {
   "cell_type": "markdown",
   "metadata": {},
   "source": [
    "直线的表示方法：  \n",
    "- 直线方程一般式: $Ax + By + c = 0$  \n",
    "\n",
    "- 点斜式方程: $y - y_1 = k(x - x_1)$\n",
    "\n",
    "- 斜切式方程: $y = kx + b$\n",
    "\n",
    "- 两点式: $\\frac{y-y_1}{y_2-y_1} = \\frac{x-x_1}{x_2-x_1}$\n",
    "\n",
    "- 截距式: $\\frac{x}{a} + \\frac{y}{b} = 1$\n",
    "\n",
    "$k=\\tan \\alpha$  \n",
    "两条垂直相交直线的斜率乘积为-1"
   ]
  },
  {
   "cell_type": "markdown",
   "metadata": {},
   "source": [
    "点到直线的距离计算公式\n",
    "$$d = \\frac{|Ax_0+By_0+c|}{\\sqrt{A^2+B^2})}$$"
   ]
  },
  {
   "cell_type": "code",
   "execution_count": 33,
   "metadata": {},
   "outputs": [
    {
     "data": {
      "image/png": "[encoded data removed]",
      "text/plain": [
       "<Figure size 432x288 with 1 Axes>"
      ]
     },
     "metadata": {
      "needs_background": "light"
     },
     "output_type": "display_data"
    }
   ],
   "source": [
    "%matplotlib inline\n",
    "import numpy as np\n",
    "import matplotlib.pyplot as plt\n",
    "\n",
    "A = 1\n",
    "B = 1\n",
    "c = -2\n",
    "x = np.arange(-5, 5, 0.01)\n",
    "y = -(A*x+c)/B\n",
    "\n",
    "X_1 = [0, 0]\n",
    "X_2 = [2, 2]\n",
    "\n",
    "plt.figure()\n",
    "plt.plot(x, y)\n",
    "plt.plot([-4,4],[0,0],'k--')\n",
    "plt.plot([0,0],[-4,4],'k--')\n",
    "plt.scatter(X_1[0], X_1[1], c='red')\n",
    "plt.scatter(X_2[0], X_2[1], c='red')\n",
    "plt.plot([0,2],[0,2],'r--')\n",
    "\n",
    "plt.axis(\"equal\")\n",
    "plt.xlim([-1,4])\n",
    "plt.ylim([-1,4])\n",
    "\n",
    "dis1 = (X_1[0]*A+X_1[1]*B+c)/np.sqrt(A**2+B**2)\n",
    "dis2 = (X_2[0]*A+X_2[1]*B+c)/np.sqrt(A**2+B**2)\n",
    "\n",
    "plt.text(X_1[0]+0.4, X_1[1]+0.2, round(dis1,2))\n",
    "plt.text(X_2[0]+0.2, X_2[1]+0.2, round(dis2,2))\n",
    "\n",
    "plt.show()\n"
   ]
  },
  {
   "cell_type": "markdown",
   "metadata": {},
   "source": []
  },
  {
   "cell_type": "code",
   "execution_count": 2,
   "metadata": {},
   "outputs": [
    {
     "data": {
      "image/png": "[encoded data removed]",
      "text/plain": [
       "<Figure size 432x288 with 1 Axes>"
      ]
     },
     "metadata": {
      "needs_background": "light"
     },
     "output_type": "display_data"
    }
   ],
   "source": [
    "%matplotlib inline\n",
    "import numpy as np\n",
    "import matplotlib.pyplot as plt\n",
    "\n",
    "A = 1*2\n",
    "B = 1*2\n",
    "c = -2*2\n",
    "x = np.arange(-5, 5, 0.01)\n",
    "y = -(A*x+c)/B\n",
    "\n",
    "X_1 = [0, 0]\n",
    "X_2 = [2, 2]\n",
    "\n",
    "plt.figure()\n",
    "plt.plot(x, y)\n",
    "plt.plot([-4,4],[0,0],'k--')\n",
    "plt.plot([0,0],[-4,4],'k--')\n",
    "plt.scatter(X_1[0], X_1[1], c='red')\n",
    "plt.scatter(X_2[0], X_2[1], c='red')\n",
    "plt.plot([0,2],[0,2],'r--')\n",
    "\n",
    "plt.axis(\"equal\")\n",
    "plt.xlim([-1,4])\n",
    "plt.ylim([-1,4])\n",
    "\n",
    "dis1 = (X_1[0]*A+X_1[1]*B+c)/np.sqrt(A**2+B**2)\n",
    "dis2 = (X_2[0]*A+X_2[1]*B+c)/np.sqrt(A**2+B**2)\n",
    "\n",
    "plt.text(X_1[0]+0.4, X_1[1]+0.2, round(dis1,2))\n",
    "plt.text(X_2[0]+0.2, X_2[1]+0.2, round(dis2,2))\n",
    "\n",
    "plt.show()\n"
   ]
  },
  {
   "cell_type": "code",
   "execution_count": null,
   "metadata": {},
   "outputs": [],
   "source": []
  }
 ],
 "metadata": {
  "kernelspec": {
   "display_name": "Python 3",
   "language": "python",
   "name": "python3"
  },
  "language_info": {
   "codemirror_mode": {
    "name": "ipython",
    "version": 3
   },
   "file_extension": ".py",
   "mimetype": "text/x-python",
   "name": "python",
   "nbconvert_exporter": "python",
   "pygments_lexer": "ipython3",
   "version": "3.7.1"
  }
 },
 "nbformat": 4,
 "nbformat_minor": 2
}
