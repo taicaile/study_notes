{
 "cells": [
  {
   "cell_type": "markdown",
   "metadata": {},
   "source": [
    "## 个体与集成\n",
    "集成学习(ensemble learning)通过构建并结合多个学习器来完成学习任务, 有时也被称为多分类器系统.\n",
    "\n",
    "根据个体学习器的生成方式, 目前的集成学习方法大致可分为两大类, 即个体学习器间存在强依赖关系, 必须串行生成的序列化方法, 以及个体学习器间不存在强依赖关系、可同时生成的并行化方法;\n",
    "前者的代表是Boosting, 后者的代表是Bagging和随机森林(Random Forest)."
   ]
  },
  {
   "cell_type": "markdown",
   "metadata": {},
   "source": [
    "## Boosting\n",
    "Boosting 是一族可将弱学习器提升为强学习器的算法. 这族算法的工作机制类似: 先从初始训练集训练出一个基学习器，再根据基学习器的表现对训练样本分布进行调整, 使得先前基学习器做错的训练样本在后续受到更多关注, 然后基于调整后的样本分布来训练下一个基学习器; "
   ]
  },
  {
   "cell_type": "markdown",
   "metadata": {},
   "source": [
    "## Bagging 与 随机森林\n",
    "基于自助采样法(bootstrap sampling). 给定包含m个样本的数据集, 我们先随机取出一个样本放入采样集中, 再把该样本放回初始数据集, 使得下次采样时该样本仍有可能被选中，这样经过m次随机采样操作, 我们得到包含m个样本的采样集， 初始训练集中有的样本在采样集里多次出现, 有的则从未出现. 初始训练集中有63.2%的样本出现在采样集中."
   ]
  },
  {
   "cell_type": "markdown",
   "metadata": {},
   "source": [
    "Bagging 通常对分类任务使用简单投票法."
   ]
  },
  {
   "cell_type": "markdown",
   "metadata": {},
   "source": [
    "### 随机森林\n",
    "Random Forest是Bagging的一个拓展变体. RF 在以决策树为基学习器构建Bagging集成的基础上, 进一步在决策树的训练过程中引入了随机属性进行选择. 具体来说, 传统决策树在选择划分属性时是在当前结点的属性集合中选择一个最优属性; 而在RF中, 对基决策树的每个结点, 先从该结点的属性集合(假定有d个属性)中随机选择一个包含k个属性的子集, 然后再从这个子集中选择一个最优属性用于划分. 这里的参数k控制了随机性的引入成都\n",
    "- 若k=d, 则基决策树的构建与传统决策树相同;\n",
    "- 若k=1, 则是随机选择一个属性用于划分\n",
    "- 一般情况下, 推荐值 $k=log_2^d$"
   ]
  },
  {
   "cell_type": "markdown",
   "metadata": {},
   "source": [
    "## 结合策略\n",
    "### 平均法\n",
    "- 简单平均法\n",
    "- 加权平均法\n",
    "\n",
    "### 投票法\n",
    "- 决定多数投票法\n",
    "- 相对多数投票法\n",
    "- 加权投票法\n",
    "\n",
    "### 学习法"
   ]
  },
  {
   "cell_type": "markdown",
   "metadata": {},
   "source": [
    "## 多样性"
   ]
  },
  {
   "cell_type": "code",
   "execution_count": null,
   "metadata": {},
   "outputs": [],
   "source": []
  }
 ],
 "metadata": {
  "kernelspec": {
   "display_name": "Python 3",
   "language": "python",
   "name": "python3"
  },
  "language_info": {
   "codemirror_mode": {
    "name": "ipython",
    "version": 3
   },
   "file_extension": ".py",
   "mimetype": "text/x-python",
   "name": "python",
   "nbconvert_exporter": "python",
   "pygments_lexer": "ipython3",
   "version": "3.7.3"
  }
 },
 "nbformat": 4,
 "nbformat_minor": 2
}
