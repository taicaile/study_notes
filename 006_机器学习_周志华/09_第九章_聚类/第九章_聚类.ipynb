{
 "cells": [
  {
   "cell_type": "markdown",
   "metadata": {},
   "source": [
    "## 聚类任务\n",
    "在\"无监督学习\"中, 训练样本的标记信息是未知的, 目标是通过对无标记训练样本的学习来揭示数据的内在性质及规律, 为进一步的数据分析提供基础. "
   ]
  },
  {
   "cell_type": "markdown",
   "metadata": {},
   "source": [
    "## 性能度量\n",
    "聚类性能度量大致有两类, 一类是将聚类结果与某个\"参考模型(reference model)\"进行比较, 称为\"外部指标(external index)\"; 另一类是直接参考聚类结果而不利用任何参考模型, 称为\"内部指标\"(internal index)."
   ]
  },
  {
   "cell_type": "markdown",
   "metadata": {},
   "source": [
    "## 距离计算\n",
    "闵可夫斯基距离\n",
    "$$\n",
    "\\operatorname{dist}_{\\mathrm{mk}}\\left(\\boldsymbol{x}_{i}, \\boldsymbol{x}_{j}\\right)=\\left(\\sum_{u=1}^{n}\\left|x_{i u}-x_{j u}\\right|^{p}\\right)^{\\frac{1}{p}}\n",
    "$$\n",
    "\n",
    "对于无序属性({飞机,火车,轮船})可采用VDM(value difference metric)."
   ]
  },
  {
   "cell_type": "markdown",
   "metadata": {},
   "source": [
    "## K 均值算法(k-means)\n",
    "最小化平方误差\n",
    "$$\n",
    "E=\\sum_{i=1}^{k} \\sum_{\\boldsymbol{x} \\in C_{i}}\\left\\|\\boldsymbol{x}-\\boldsymbol{\\mu}_{i}\\right\\|_{2}^{2}\n",
    "$$"
   ]
  },
  {
   "cell_type": "markdown",
   "metadata": {},
   "source": [
    "## 学习向量量化(Learning Vector Quantization)\n",
    "LVQ假设数据样本带来类别标记, 学习过程利用样本的这些监督信息来辅助聚类."
   ]
  },
  {
   "cell_type": "markdown",
   "metadata": {},
   "source": [
    "## 高斯混合聚类\n",
    "高斯混合(Mixture-of-Gaussian)聚类采用概率模型来表达聚类原型."
   ]
  },
  {
   "cell_type": "markdown",
   "metadata": {},
   "source": [
    "## 密度聚类\n",
    "基于密度的聚类, 此类算法假设聚类结构能通过样本分布的紧密程度确定."
   ]
  },
  {
   "cell_type": "markdown",
   "metadata": {},
   "source": [
    "## 层次聚类\n",
    "层次聚类(hierarchical clustering)试图在不同层次对数据集进行划分, 从而形成树形的聚类结构. 数据集的划分可采用\"自底向上\"的聚合策略, 也可采用\"自顶向下\"的分拆策略。"
   ]
  },
  {
   "cell_type": "markdown",
   "metadata": {},
   "source": [
    "AGNES 是一种采用自底向上聚合策略的层次聚类算法. 他先将数据集中每个样本看作一个初始聚簇类，然后再算法运行的每一步中找出距离最近的两个聚类簇进行合并, 该过程不断重复, 直至达到预设的聚类簇个数,这里的关键是如何计算簇聚类的距离."
   ]
  },
  {
   "cell_type": "code",
   "execution_count": null,
   "metadata": {},
   "outputs": [],
   "source": []
  }
 ],
 "metadata": {
  "kernelspec": {
   "display_name": "Python 3",
   "language": "python",
   "name": "python3"
  },
  "language_info": {
   "codemirror_mode": {
    "name": "ipython",
    "version": 3
   },
   "file_extension": ".py",
   "mimetype": "text/x-python",
   "name": "python",
   "nbconvert_exporter": "python",
   "pygments_lexer": "ipython3",
   "version": "3.7.3"
  }
 },
 "nbformat": 4,
 "nbformat_minor": 2
}
