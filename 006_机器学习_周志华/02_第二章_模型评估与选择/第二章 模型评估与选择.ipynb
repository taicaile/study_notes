{
 "cells": [
  {
   "cell_type": "markdown",
   "metadata": {},
   "source": [
    "错误率: 分类错误的样本数占样本总数的比例\n",
    "\n",
    "精度为: $1-错误率$\n",
    "\n",
    "误差: 学习器的实际预测输出与样本的真实输出之间的差异\n",
    "\n",
    "训练误差或经验误差: 学习器在训练集上的误差\n",
    "\n",
    "泛化误差: 学习器在新样本上的误差"
   ]
  },
  {
   "cell_type": "markdown",
   "metadata": {},
   "source": [
    "## 评估方法\n",
    "### 留出法\n",
    "假设一共有1000个样本, 700个样本用于训练, 300个样本作为测试.\n",
    "\n",
    "在使用留出法时, 一般要采用若干次水机划分、重复进行试验评估后取平均值作为留出法的评估结果."
   ]
  },
  {
   "cell_type": "markdown",
   "metadata": {},
   "source": [
    "### 交叉验证法\n",
    "将数据集D划分为k个大小相似的互斥子集. 每次用 k-1 个子集作为训练集, 余下的子集作为测试集; 这样就可获得k组训练/测试集, 从而进行k此训练和测试, 最终返回的时这k个测试结果的均值."
   ]
  },
  {
   "cell_type": "markdown",
   "metadata": {},
   "source": [
    "### 自助法\n",
    "自助法以自助采样法(bootstrap samping)为基础. 给定包含m个样本的数据集D, 我们对它进行采样产生数据集$D'$: 每次随机从D中挑选一个样本, 将其拷贝放入D', 这个过程重复m次后, 我们就得到了包含m个样本的数据集D', 这就是自助采样的结果.  样本在m次采样中始终不被采到的概率是\n",
    "$$\n",
    "\\lim _{m \\rightarrow \\infty}\\left(1-\\frac{1}{m}\\right)^{m} \\mapsto \\frac{1}{e} \\approx 0.368\n",
    "$$\n",
    "通过自助采样, 初始数据集D中约有36.8%的样本未出现在采样数据集D'中. 于是我们可将D'用作训练集, D\\D' 用作测试集;\n",
    "\n",
    "自助法在数据集较小, 难以有效划分训练/测试集时很有用. 然而, 自助法产生的数据集改变了初始数据集的分布,这会引起估计偏差. 因此, 在初始数据量足够时, 留出法和交叉验证法更常用一些."
   ]
  },
  {
   "cell_type": "markdown",
   "metadata": {},
   "source": [
    "## 性能度量\n",
    "回归任务最常用的性能度量是 \"均方误差\"(mean squared error)\n",
    "\n",
    "错误率和精度\n",
    "\n",
    "### 查找率, 查全率与F1\n",
    "对于二分类问题, 可将样例根据其真实类别与学习器测试类别的组合划分为\n",
    "- 真正例(true positive)\n",
    "- 假正例(false positive)\n",
    "- 真反例(true negative)\n",
    "- 假反例(false negtive)\n",
    "令TP, FP, TN, FN分别表示其对应的样例数,则显然有 TP+FP+TN+FN=样例总数.\n",
    "\n",
    "分类结果的\"混淆矩阵\"(confusion matrix)如表所示\n",
    "\n",
    "| 真实情况 |  预测结果  |      -     |\n",
    "|:--------:|:----------:|:----------:|\n",
    "|      -    |    正例    |    反例    |\n",
    "|   正例   | TP(真正例) | FN(假反例) |\n",
    "| 反例     | FP(假正例) | TN(真反例) |\n",
    "\n",
    "查准率P与查全率R分别定义为\n",
    "\n",
    "$$P=\\frac{TP}{TP+FP}$$\n",
    "$$R=\\frac{TP}{TP+FN}$$\n",
    "\n",
    "- 查准率,\"检查出的信息中有多少比例是用户感兴趣的\"\n",
    "- 查全率,\"用户感兴趣的信息中有多少被检索出来了\""
   ]
  },
  {
   "cell_type": "markdown",
   "metadata": {},
   "source": [
    "[.] 如何画出查全率-查找率曲线? \n",
    "\n",
    "如何根据查全率-查找率曲线评估性能.\n",
    "- 如果一个学习器的P-R曲线被另一个学习器的曲线完全\"包住\", 则可断言后者的性能优于前者.\n",
    "- 如果两个学习器的P-R曲线发生了交叉,则可根据\"平衡点\"(Break-Event Point)进行度量. 它是 \"查找率==查全率\"时的取值.\n",
    "\n",
    "$F_1 and F_{\\beta}$"
   ]
  },
  {
   "cell_type": "markdown",
   "metadata": {},
   "source": [
    "### ROC 与 AUC\n",
    "ROC全称时 Receiver OPerating Characteristic曲线.\n",
    "\n",
    "ROC 横轴时\"假正例率\"(False Positive Rate), 纵轴时\"真正例率\"(True Positive Rate)\n",
    "$$\n",
    "\\begin{array}{l}{\\mathrm{TPR}=\\frac{T P}{T P+F N}} \\\\ {\\mathrm{FPR}=\\frac{F P}{T N+F P}}\\end{array}\n",
    "$$\n",
    "\n",
    "AUC 为 Area Under ROC Curve"
   ]
  },
  {
   "cell_type": "markdown",
   "metadata": {},
   "source": [
    "### 代价敏感错误率与代价曲线\n",
    "为了权衡不同类型错误所造成的不同损失, 可为错误赋予\"非均等代价\"(unequal cost)\n",
    "\n",
    "以二分类任务为例, 我们可根据任务的领域知识设定一个\"代价矩阵\"(cost matrix).\n",
    "- 一般来说$cost_{ii}=0$\n",
    "- 若将第0类判别与第1类所造成的损失更大, 则$cost_{01}>cost_{10}$"
   ]
  },
  {
   "cell_type": "markdown",
   "metadata": {},
   "source": [
    "## 比较检验\n",
    "$$\n",
    "P(\\hat{\\epsilon} ; \\epsilon)=\\left(\\begin{array}{c}{m} \\\\ {\\hat{\\epsilon} \\times m}\\end{array}\\right) \\epsilon^{\\hat{\\epsilon} \\times m}(1-\\epsilon)^{m-\\hat{\\epsilon} \\times m}\n",
    "$$\n",
    "代表泛化错误率为$\\epsilon$的学习器被测得错误率为$\\hat{\\epsilon}$的概率."
   ]
  },
  {
   "cell_type": "markdown",
   "metadata": {},
   "source": [
    "## 偏差与方差\n",
    "泛化误差可分解为偏差、方差与噪声之和:\n",
    "$$\n",
    "E(f ; D)=\\operatorname{bias}^{2}(\\boldsymbol{x})+\\operatorname{var}(\\boldsymbol{x})+\\varepsilon^{2}\n",
    "$$\n",
    "其中偏差为期望输出与真实标记的差别.\n",
    "\n",
    "一般来说, 偏差与方差是有冲突的, 这称为偏差-方差窘境(bias-variance dilemma).\n"
   ]
  },
  {
   "cell_type": "markdown",
   "metadata": {},
   "source": []
  }
 ],
 "metadata": {
  "kernelspec": {
   "display_name": "Python 3",
   "language": "python",
   "name": "python3"
  },
  "language_info": {
   "codemirror_mode": {
    "name": "ipython",
    "version": 3
   },
   "file_extension": ".py",
   "mimetype": "text/x-python",
   "name": "python",
   "nbconvert_exporter": "python",
   "pygments_lexer": "ipython3",
   "version": "3.7.3"
  }
 },
 "nbformat": 4,
 "nbformat_minor": 2
}
