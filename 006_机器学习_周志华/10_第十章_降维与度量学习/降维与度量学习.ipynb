{
 "cells": [
  {
   "cell_type": "markdown",
   "metadata": {},
   "source": [
    "## k近邻学习"
   ]
  },
  {
   "cell_type": "markdown",
   "metadata": {},
   "source": [
    "k近邻(k-Nearest Neighbor)学习是一种常用的监督学习方法, 其工作机制为: 给定测试样本, 基于某种距离度量找出训练集中与其最靠近的k个训练样本, 然后基于这k个\"邻居\"的信息来进行预测.\n",
    "- 分类问题, 可通过投票法\n",
    "- 回归问题, 可使用平均法"
   ]
  },
  {
   "cell_type": "markdown",
   "metadata": {},
   "source": [
    "## 低维嵌入"
   ]
  },
  {
   "cell_type": "markdown",
   "metadata": {},
   "source": [
    "降维是通过某种数学变换将原始高维属性空间转换为一个低维\"子空间\"。"
   ]
  },
  {
   "cell_type": "markdown",
   "metadata": {},
   "source": [
    "## 主成分分析"
   ]
  },
  {
   "cell_type": "markdown",
   "metadata": {},
   "source": [
    "主成分分析 (Principal Component  Analysis ，简称 PCA) 是最常用的一种降维方法."
   ]
  },
  {
   "cell_type": "markdown",
   "metadata": {},
   "source": [
    "对于正交属性空间中的样本点, 如何用一个超平面对所有样本进行恰当的表达?\n",
    "- 最近重构性: 样本点到这个超平面的距离都足够近\n",
    "- 最大可分性: 样本点在这个超平面上的投影都尽可能分开"
   ]
  },
  {
   "cell_type": "markdown",
   "metadata": {},
   "source": [
    "$$\n",
    "\\begin{array}{cl}{\\max _{\\mathbf{W}}} & {\\operatorname{tr}\\left(\\mathbf{W}^{\\mathrm{T}} \\mathbf{X} \\mathbf{X}^{\\mathrm{T}} \\mathbf{W}\\right)} \\\\ {\\text { s.t. }} & {\\mathbf{W}^{\\mathrm{T}} \\mathbf{W}=\\mathbf{I}}\\end{array}\n",
    "$$"
   ]
  },
  {
   "cell_type": "markdown",
   "metadata": {},
   "source": [
    "## 核化线性降维"
   ]
  },
  {
   "cell_type": "markdown",
   "metadata": {},
   "source": [
    "线性降维方法假设从高维空间到低维空间的函数映射是线性的.\n",
    "\n",
    "非线性降维是一种常用方法, 是基于核技巧对线性降维方法进行\"核化\"."
   ]
  },
  {
   "cell_type": "markdown",
   "metadata": {},
   "source": [
    "## 流行学习\n",
    "流形学习是一类借鉴了拓扑流形概念的降维方法."
   ]
  },
  {
   "cell_type": "code",
   "execution_count": null,
   "metadata": {},
   "outputs": [],
   "source": []
  }
 ],
 "metadata": {
  "kernelspec": {
   "display_name": "Python 3",
   "language": "python",
   "name": "python3"
  },
  "language_info": {
   "codemirror_mode": {
    "name": "ipython",
    "version": 3
   },
   "file_extension": ".py",
   "mimetype": "text/x-python",
   "name": "python",
   "nbconvert_exporter": "python",
   "pygments_lexer": "ipython3",
   "version": "3.7.3"
  }
 },
 "nbformat": 4,
 "nbformat_minor": 2
}
