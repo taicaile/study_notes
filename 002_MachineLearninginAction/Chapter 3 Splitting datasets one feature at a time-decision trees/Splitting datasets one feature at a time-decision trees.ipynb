{
 "cells": [
  {
   "cell_type": "markdown",
   "metadata": {},
   "source": [
    "### 决策树的基本原理   \n",
    "决策树类似于提问题回答过程。根据特征数据，进行合理的选择划分。  \n",
    "在决策的过程，不同的特征选择不同的路径，最后会输出一个决策值。"
   ]
  },
  {
   "cell_type": "markdown",
   "metadata": {},
   "source": [
    "### 信息增益和熵\n",
    "How to calculate the information gain  \n",
    "香农熵的计算方法 $H = - \\sum_{i=1}^{n} p(x_i)\\log_2 p(x_i) $  \n",
    "其中 $p(x_i)$为某一种数据发生的概率。  \n",
    "在带有标签的数据集中，其体现为某个标签出现的次数除以整个数据集的大小。  \n",
    "熵的数值可以体现数据的分散程度，如果熵为0，表示整个数据集属于一类。熵越大，表示混合的数据越多。"
   ]
  },
  {
   "cell_type": "markdown",
   "metadata": {},
   "source": [
    "we will follow the **[ID3](http://en.wikipedia.org/wiki/ID3_algorithm)** algorithm, which tells us how to split the data and when to stop splitting it.\n"
   ]
  },
  {
   "cell_type": "markdown",
   "metadata": {},
   "source": [
    "###  Function to calculate the Shannon entropy of a dataset"
   ]
  },
  {
   "cell_type": "code",
   "execution_count": 65,
   "metadata": {
    "ExecuteTime": {
     "end_time": "2018-12-23T10:11:44.508342Z",
     "start_time": "2018-12-23T10:11:44.486341Z"
    }
   },
   "outputs": [],
   "source": [
    "from math import log\n",
    "\n",
    "\n",
    "#计算给定数据集的香农熵\n",
    "#函数的输入是一个带标签的数据集\n",
    "def calcShannonEnt(dataSet):\n",
    "    #得到数据的长度\n",
    "    numEntries = len(dataSet)\n",
    "    labelCounts = {}\n",
    "    for featVec in dataSet:\n",
    "        #获取当前数据的标签\n",
    "        currentLabel = featVec[-1]\n",
    "        # 如果当前数据的标签没有在标签列表里，则初始化标签数据\n",
    "        #  此时的key是当前的标签数据\n",
    "        if currentLabel not in labelCounts.keys():\n",
    "            labelCounts[currentLabel] = 0\n",
    "        #将当前的标签计数加1\n",
    "        labelCounts[currentLabel] += 1\n",
    "    #初始化香农熵为0\n",
    "    shannonEnt = 0.0\n",
    "    # 对标签进行索引\n",
    "    for key in labelCounts:\n",
    "        # prob = 标签的个数/ 数据集的大小\n",
    "        prob = float(labelCounts[key]) / numEntries\n",
    "        shannonEnt -= prob * log(prob, 2)\n",
    "    return shannonEnt"
   ]
  },
  {
   "cell_type": "code",
   "execution_count": 66,
   "metadata": {
    "ExecuteTime": {
     "end_time": "2018-12-23T10:11:44.539344Z",
     "start_time": "2018-12-23T10:11:44.516342Z"
    }
   },
   "outputs": [],
   "source": [
    "# 创建数据集\n",
    "def createDataSet():\n",
    "    dataSet = [[1, 1, 'yes'], [1, 1, 'yes'], [1, 0, 'no'], [0, 1, 'no'],\n",
    "               [0, 1, 'no']]\n",
    "    labels = ['no surfacing', 'flippers']\n",
    "    return dataSet, labels"
   ]
  },
  {
   "cell_type": "code",
   "execution_count": 67,
   "metadata": {
    "ExecuteTime": {
     "end_time": "2018-12-23T10:11:44.562345Z",
     "start_time": "2018-12-23T10:11:44.543344Z"
    }
   },
   "outputs": [
    {
     "name": "stdout",
     "output_type": "stream",
     "text": [
      "0.9709505944546686\n"
     ]
    }
   ],
   "source": [
    "# 测试数据集\n",
    "myDat, labels = createDataSet()\n",
    "print(calcShannonEnt(myDat))"
   ]
  },
  {
   "cell_type": "markdown",
   "metadata": {},
   "source": [
    "`The higher the entropy, the more mixed up the data is.`"
   ]
  },
  {
   "cell_type": "code",
   "execution_count": 68,
   "metadata": {
    "ExecuteTime": {
     "end_time": "2018-12-23T10:11:44.604347Z",
     "start_time": "2018-12-23T10:11:44.570345Z"
    },
    "scrolled": true
   },
   "outputs": [
    {
     "name": "stdout",
     "output_type": "stream",
     "text": [
      "[[1, 1, 'maybe'], [1, 1, 'yes'], [1, 0, 'no'], [0, 1, 'no'], [0, 1, 'no']]\n",
      "1.3709505944546687\n"
     ]
    }
   ],
   "source": [
    "myDat[0][-1] = 'maybe'\n",
    "print(myDat)\n",
    "print(calcShannonEnt(myDat))"
   ]
  },
  {
   "cell_type": "markdown",
   "metadata": {},
   "source": [
    "## Dataset splitting on a given feature"
   ]
  },
  {
   "cell_type": "code",
   "execution_count": 69,
   "metadata": {
    "ExecuteTime": {
     "end_time": "2018-12-23T10:11:44.620348Z",
     "start_time": "2018-12-23T10:11:44.611348Z"
    },
    "run_control": {
     "marked": true
    }
   },
   "outputs": [],
   "source": [
    "# 输入分别为，带划分的数据集，划分数据集的特征索引，划分数据的特征值。\n",
    "# 返回的是 按照指定特征值来划分数据的子集\n",
    "def splitDataSet(dataSet, axis, value):\n",
    "    retDataSet = []\n",
    "    # 索引数据集中的数据\n",
    "    for featVec in dataSet:\n",
    "        # 判断，第axis维数据的值是否为value\n",
    "        if featVec[axis] == value:\n",
    "            # 去除当前axis的数据，取其他数据组成的子集\n",
    "            reducedFeatVec = featVec[:axis]\n",
    "            reducedFeatVec.extend(featVec[axis + 1:])\n",
    "            retDataSet.append(reducedFeatVec)\n",
    "    return retDataSet"
   ]
  },
  {
   "cell_type": "code",
   "execution_count": 70,
   "metadata": {
    "ExecuteTime": {
     "end_time": "2018-12-23T10:11:44.645350Z",
     "start_time": "2018-12-23T10:11:44.625349Z"
    },
    "run_control": {
     "marked": true
    }
   },
   "outputs": [
    {
     "name": "stdout",
     "output_type": "stream",
     "text": [
      "[[1, 1, 'yes'], [1, 1, 'yes'], [1, 0, 'no'], [0, 1, 'no'], [0, 1, 'no']]\n",
      "inputs myDat,0,1\n",
      "[[1, 'yes'], [1, 'yes'], [0, 'no']]\n",
      "inputs myDat,0,0\n",
      "[[1, 'no'], [1, 'no']]\n"
     ]
    }
   ],
   "source": [
    "# 测试\n",
    "myDat, labels = createDataSet()\n",
    "print(myDat)\n",
    "print(\"inputs myDat,0,1\")\n",
    "# 按照第0个特征，数值为1划分时候的子集。\n",
    "# 返回值时第0个特征数值为1的时候的子集\n",
    "print(splitDataSet(myDat, 0, 1))\n",
    "print(\"inputs myDat,0,0\")\n",
    "# 返回第0个特征数值为0的子集\n",
    "print(splitDataSet(myDat, 0, 0))"
   ]
  },
  {
   "cell_type": "markdown",
   "metadata": {},
   "source": [
    "### Choosing the best feature to split on"
   ]
  },
  {
   "cell_type": "code",
   "execution_count": 71,
   "metadata": {
    "ExecuteTime": {
     "end_time": "2018-12-23T10:11:44.662351Z",
     "start_time": "2018-12-23T10:11:44.649350Z"
    },
    "run_control": {
     "marked": true
    }
   },
   "outputs": [],
   "source": [
    "# 数据的输入是数据集，包含N个特征，最后一列是标签\n",
    "def chooseBestFeatureToSplit(dataSet):\n",
    "    # 获取特征的数量\n",
    "    numFeatures = len(dataSet[0]) - 1\n",
    "    # 获取当前数据集的香农熵，此数据代表数据的分散程度。\n",
    "    baseEntropy = calcShannonEnt(dataSet)\n",
    "    # 香浓增益，和最好特性初值。\n",
    "    bestInfoGain = 0.0\n",
    "    bestFeature = -1\n",
    "    # 取数据集中的每个特征\n",
    "    for i in range(numFeatures):\n",
    "        # 获取只包含当前特征的数据集\n",
    "        featList = [example[i] for example in dataSet]\n",
    "        # 返回无序去除重复值的列表\n",
    "        uniqueVals = set(featList)\n",
    "\n",
    "        newEntropy = 0.0\n",
    "        # 依次获取当前特性的可取的数值\n",
    "        for value in uniqueVals:\n",
    "            # 包含当前特性数据的子集，注意子集会去除当前特性。\n",
    "            subDataSet = splitDataSet(dataSet, i, value)\n",
    "            # 计算子集的香浓增益\n",
    "            prob = len(subDataSet) / float(len(dataSet))\n",
    "            # 求取香浓增益的和\n",
    "            newEntropy += prob * calcShannonEnt(subDataSet)\n",
    "        # 计算信息增益\n",
    "        infoGain = baseEntropy - newEntropy\n",
    "        # 替换最好的特性\n",
    "        if (infoGain > bestInfoGain):\n",
    "            bestInfoGain = infoGain\n",
    "            bestFeature = i\n",
    "    return bestFeature"
   ]
  },
  {
   "cell_type": "code",
   "execution_count": 72,
   "metadata": {
    "ExecuteTime": {
     "end_time": "2018-12-23T10:11:44.677352Z",
     "start_time": "2018-12-23T10:11:44.664351Z"
    }
   },
   "outputs": [
    {
     "name": "stdout",
     "output_type": "stream",
     "text": [
      "[[1, 1, 'yes'], [1, 1, 'yes'], [1, 0, 'no'], [0, 1, 'no'], [0, 1, 'no']]\n",
      "0\n"
     ]
    }
   ],
   "source": [
    "# 测试函数。 次函数的返回值为0，说明在当前的数据集情况下，\n",
    "# 最好的分类方式是按照第0个特性进行划分。\n",
    "myDat, labels = createDataSet()\n",
    "print(myDat)\n",
    "print(chooseBestFeatureToSplit(myDat))"
   ]
  },
  {
   "cell_type": "markdown",
   "metadata": {},
   "source": [
    "### Recursively building the tree"
   ]
  },
  {
   "cell_type": "code",
   "execution_count": 73,
   "metadata": {
    "ExecuteTime": {
     "end_time": "2018-12-23T10:11:44.688352Z",
     "start_time": "2018-12-23T10:11:44.679352Z"
    },
    "run_control": {
     "marked": true
    }
   },
   "outputs": [],
   "source": [
    "# return the most frequency item\n",
    "import operator\n",
    "\n",
    "\n",
    "def majorityCnt(ClassList):\n",
    "    classCount = {}\n",
    "    for vote in classList:\n",
    "        if vote not in classCount.keys():\n",
    "            classCount[vote] = 0\n",
    "        classCount[vote] += 1\n",
    "    sortedClassCount = sorted(\n",
    "        classCount.items, key=operator.itemgetter(1), reverse=True)\n",
    "    return sortedClassCount[0][0]"
   ]
  },
  {
   "cell_type": "markdown",
   "metadata": {},
   "source": [
    "## Tree-building code"
   ]
  },
  {
   "cell_type": "code",
   "execution_count": 74,
   "metadata": {
    "ExecuteTime": {
     "end_time": "2018-12-23T10:11:44.709353Z",
     "start_time": "2018-12-23T10:11:44.692352Z"
    },
    "run_control": {
     "marked": true
    }
   },
   "outputs": [],
   "source": [
    "def createTree(dataSet, labels):  #dataSet为数据集，labels为每个特征的标签\n",
    "    # 得到标签的集合，即最后一列的结果，yes or no\n",
    "    classList = [example[-1] for example in dataSet]\n",
    "\n",
    "    # 递归结束的条件。如果所有的标签都是一样的，则没有必要进行分类。\n",
    "    if classList.count(classList[0]) == len(classList):\n",
    "        #直接返回标签\n",
    "        return classList[0]\n",
    "\n",
    "    # 递归结束的条件， 如果数据集的长度为1，说明只剩下标签数据了，结束递归函数。\n",
    "    if len(dataSet[0]) == 1:\n",
    "        return majorityCnt(classList)\n",
    "\n",
    "    # 获得一个划分效果最好的特性的index\n",
    "    bestFeat = chooseBestFeatureToSplit(dataSet)\n",
    "    # 获取特征值的名字。\n",
    "    bestFeatLabel = labels[bestFeat]\n",
    "    # 输出字典\n",
    "    myTree = {bestFeatLabel: {}}\n",
    "    # 将输出的标签删除\n",
    "    del (labels[bestFeat])\n",
    "    # 获得刚选择的特征值的元素集合\n",
    "    featValues = [example[bestFeat] for example in dataSet]\n",
    "    # 去除重复值\n",
    "    uniqueVals = set(featValues)\n",
    "\n",
    "    for value in uniqueVals:\n",
    "        subLabels = labels[:]\n",
    "        # myTree[bestFeatLabel] can get the value to the key\n",
    "        myTree[bestFeatLabel][value] = createTree(\n",
    "            splitDataSet(dataSet, bestFeat, value), subLabels)\n",
    "    return myTree"
   ]
  },
  {
   "cell_type": "code",
   "execution_count": 75,
   "metadata": {
    "ExecuteTime": {
     "end_time": "2018-12-23T10:11:44.729354Z",
     "start_time": "2018-12-23T10:11:44.712354Z"
    },
    "scrolled": true
   },
   "outputs": [
    {
     "name": "stdout",
     "output_type": "stream",
     "text": [
      "{'no surfacing': {0: 'no', 1: {'flippers': {0: 'no', 1: 'yes'}}}}\n"
     ]
    }
   ],
   "source": [
    "myDat, labels = createDataSet()\n",
    "myTree = createTree(myDat, labels)\n",
    "print(myTree)"
   ]
  },
  {
   "cell_type": "markdown",
   "metadata": {},
   "source": [
    "## Plotting trees in Python with Matplotlib annotations\n",
    "### Matplotlib annotations\n",
    "- Plotting tree nodes with text annotations"
   ]
  },
  {
   "cell_type": "code",
   "execution_count": 76,
   "metadata": {
    "ExecuteTime": {
     "end_time": "2018-12-23T10:11:45.085375Z",
     "start_time": "2018-12-23T10:11:44.736355Z"
    }
   },
   "outputs": [
    {
     "data": {
      "image/png": "[encoded data removed]",
      "text/plain": [
       "<Figure size 432x288 with 1 Axes>"
      ]
     },
     "metadata": {},
     "output_type": "display_data"
    }
   ],
   "source": [
    "import matplotlib.pyplot as plt\n",
    "\n",
    "decisionNode = dict(boxstyle='sawtooth', fc='0.8')\n",
    "leafNode = dict(boxstyle=\"round4\", fc='0.8')\n",
    "arrow_args = dict(arrowstyle=\"<-\")\n",
    "\n",
    "\n",
    "def plotNode(nodeTxt, centerPt, parentPt, nodeType):\n",
    "    createPlot.ax1.annotate(\n",
    "        nodeTxt,\n",
    "        xy=parentPt,\n",
    "        xycoords=\"axes fraction\",\n",
    "        xytext=centerPt,\n",
    "        textcoords=\"axes fraction\",\n",
    "        va='center',\n",
    "        ha='center',\n",
    "        bbox=nodeType,\n",
    "        arrowprops=arrow_args)\n",
    "\n",
    "\n",
    "def createPlot():\n",
    "    fig = plt.figure(1, facecolor='white')\n",
    "    fig.clf()\n",
    "    createPlot.ax1 = plt.subplot(111, frameon=False)\n",
    "    plotNode('a decision node', (0.5, 0.1), (0.1, 0.5), decisionNode)\n",
    "    plotNode('a leaf node', (0.8, 0.1), (0.3, 0.8), leafNode)\n",
    "    plt.show()\n",
    "\n",
    "\n",
    "createPlot()"
   ]
  },
  {
   "cell_type": "markdown",
   "metadata": {},
   "source": [
    "### Constructing a tree of annotations \n",
    "- Identifying the number of leaves in a tree and the depth"
   ]
  },
  {
   "cell_type": "code",
   "execution_count": 77,
   "metadata": {
    "ExecuteTime": {
     "end_time": "2018-12-23T10:11:45.099376Z",
     "start_time": "2018-12-23T10:11:45.091375Z"
    }
   },
   "outputs": [],
   "source": [
    "# get the number of the leafs of the tree(leafs don't have children)\n",
    "def getNumLeafs(myTree):\n",
    "    numLeafs = 0\n",
    "    firstStr = list(myTree.keys())[0]\n",
    "    secondDict = myTree[firstStr]\n",
    "    for key in secondDict.keys():\n",
    "        if type(secondDict[key]).__name__ == 'dict':\n",
    "            # if the value is a dictionary\n",
    "            numLeafs += getNumLeafs(secondDict[key])\n",
    "        else:  # else it is a leaf\n",
    "            numLeafs += 1\n",
    "    return numLeafs"
   ]
  },
  {
   "cell_type": "code",
   "execution_count": 78,
   "metadata": {
    "ExecuteTime": {
     "end_time": "2018-12-23T10:11:45.120377Z",
     "start_time": "2018-12-23T10:11:45.105376Z"
    }
   },
   "outputs": [],
   "source": [
    "def getTreeDepth(myTree):\n",
    "    maxDepth = 0\n",
    "    firstStr = list(myTree.keys())[0]\n",
    "    secondDict = myTree[firstStr]\n",
    "    for key in secondDict.keys():\n",
    "        if type(secondDict[key]).__name__ == 'dict':\n",
    "            thisDepth = 1 + getTreeDepth(secondDict[key])\n",
    "        else:\n",
    "            thisDepth = 1\n",
    "        if thisDepth > maxDepth: maxDepth = thisDepth\n",
    "    return maxDepth"
   ]
  },
  {
   "cell_type": "code",
   "execution_count": 79,
   "metadata": {
    "ExecuteTime": {
     "end_time": "2018-12-23T10:11:45.133378Z",
     "start_time": "2018-12-23T10:11:45.124377Z"
    }
   },
   "outputs": [],
   "source": [
    "def retrieveTree(i):\n",
    "    listOfTrees =[{'no surfacing': {0: 'no', 1: {'flippers':{0: 'no', 1: 'yes'}}}},\\\n",
    "                  {'no surfacing': {0: 'no', 1: {'flippers':{0: {'head': {0: 'no', 1: 'yes'}}, 1: 'no'}}}}\n",
    "                  ]\n",
    "    return listOfTrees[i]"
   ]
  },
  {
   "cell_type": "markdown",
   "metadata": {
    "ExecuteTime": {
     "end_time": "2018-12-21T08:03:24.616670Z",
     "start_time": "2018-12-21T08:03:24.606669Z"
    }
   },
   "source": [
    "myTree = retrieveTree(0)\n",
    "print(myTree)\n",
    "print('the num of the leafs is ', getNumLeafs(myTree))\n",
    "print('the depth of the tree is ',getTreeDepth(myTree))"
   ]
  },
  {
   "cell_type": "code",
   "execution_count": 80,
   "metadata": {
    "ExecuteTime": {
     "end_time": "2018-12-23T10:11:45.153379Z",
     "start_time": "2018-12-23T10:11:45.136378Z"
    }
   },
   "outputs": [
    {
     "name": "stdout",
     "output_type": "stream",
     "text": [
      "{'no surfacing': {0: 'no', 1: {'flippers': {0: {'head': {0: 'no', 1: 'yes'}}, 1: 'no'}}}}\n",
      "the num of the leafs is  4\n",
      "the depth of the tree is  3\n"
     ]
    }
   ],
   "source": [
    "myTree = retrieveTree(1)\n",
    "print(myTree)\n",
    "print('the num of the leafs is ', getNumLeafs(myTree))\n",
    "print('the depth of the tree is ', getTreeDepth(myTree))"
   ]
  },
  {
   "cell_type": "markdown",
   "metadata": {
    "ExecuteTime": {
     "end_time": "2018-12-21T08:22:53.057501Z",
     "start_time": "2018-12-21T08:22:53.034500Z"
    }
   },
   "source": [
    "**The plotTree function**"
   ]
  },
  {
   "cell_type": "code",
   "execution_count": 81,
   "metadata": {
    "ExecuteTime": {
     "end_time": "2018-12-23T10:11:45.171380Z",
     "start_time": "2018-12-23T10:11:45.158379Z"
    }
   },
   "outputs": [],
   "source": [
    "def plotMidText(cntrPt, parentPt, txtString):\n",
    "    xMid = (parentPt[0] - cntrPt[0]) / 2.0 + cntrPt[0]\n",
    "    yMid = (parentPt[1] - cntrPt[1]) / 2.0 + cntrPt[1]\n",
    "    createPlot.ax1.text(xMid, yMid, txtString)"
   ]
  },
  {
   "cell_type": "code",
   "execution_count": 82,
   "metadata": {
    "ExecuteTime": {
     "end_time": "2018-12-23T10:11:45.208382Z",
     "start_time": "2018-12-23T10:11:45.189381Z"
    }
   },
   "outputs": [],
   "source": [
    "def plotTree(myTree, parentPt, nodeTxt):\n",
    "    numLeafs = getNumLeafs(myTree)\n",
    "    getTreeDepth(myTree)\n",
    "    firstStr = list(myTree.keys())[0]\n",
    "    cntrPt = (plotTree.xOff + (1.0 + float(numLeafs))/2.0/plotTree.totalW,\\\n",
    "                           plotTree.yOff)\n",
    "    plotMidText(cntrPt, parentPt, nodeTxt)\n",
    "    plotNode(firstStr, cntrPt, parentPt, decisionNode)\n",
    "    secondDict = myTree[firstStr]\n",
    "    plotTree.yOff = plotTree.yOff - 1.0 / plotTree.totalD\n",
    "    for key in secondDict.keys():\n",
    "        if type(secondDict[key]).__name__ == 'dict':\n",
    "            plotTree(secondDict[key], cntrPt, str(key))\n",
    "        else:\n",
    "            plotTree.xOff = plotTree.xOff + 1.0 / plotTree.totalW\n",
    "            plotNode(secondDict[key], (plotTree.xOff, plotTree.yOff), cntrPt,\n",
    "                     leafNode)\n",
    "            plotMidText((plotTree.xOff, plotTree.yOff), cntrPt, str(key))\n",
    "    plotTree.yOff = plotTree.yOff + 1.0 / plotTree.totalD"
   ]
  },
  {
   "cell_type": "code",
   "execution_count": 83,
   "metadata": {
    "ExecuteTime": {
     "end_time": "2018-12-23T10:11:45.225383Z",
     "start_time": "2018-12-23T10:11:45.214382Z"
    }
   },
   "outputs": [],
   "source": [
    "def createPlot(inTree):\n",
    "    fig = plt.figure(1, facecolor='white')\n",
    "    fig.clf()\n",
    "    axprops = dict(xticks=[], yticks=[])\n",
    "    createPlot.ax1 = plt.subplot(111, frameon=False, **axprops)\n",
    "    plotTree.totalW = float(getNumLeafs(inTree))\n",
    "    plotTree.totalD = float(getTreeDepth(inTree))\n",
    "    plotTree.xOff = -0.5 / plotTree.totalW\n",
    "    plotTree.yOff = 1.0\n",
    "    plotTree(inTree, (0.5, 1.0), '')\n",
    "    plt.show()"
   ]
  },
  {
   "cell_type": "code",
   "execution_count": 84,
   "metadata": {
    "ExecuteTime": {
     "end_time": "2018-12-23T10:11:45.463396Z",
     "start_time": "2018-12-23T10:11:45.228383Z"
    }
   },
   "outputs": [
    {
     "data": {
      "image/png": "[encoded data removed]",
      "text/plain": [
       "<Figure size 432x288 with 1 Axes>"
      ]
     },
     "metadata": {},
     "output_type": "display_data"
    }
   ],
   "source": [
    "myTree = retrieveTree(0)\n",
    "createPlot(myTree)"
   ]
  },
  {
   "cell_type": "code",
   "execution_count": 85,
   "metadata": {
    "ExecuteTime": {
     "end_time": "2018-12-23T10:11:45.732412Z",
     "start_time": "2018-12-23T10:11:45.465397Z"
    }
   },
   "outputs": [
    {
     "name": "stdout",
     "output_type": "stream",
     "text": [
      "{'no surfacing': {0: 'no', 1: {'flippers': {0: 'no', 1: 'yes'}}, 3: 'maybe'}}\n"
     ]
    },
    {
     "data": {
      "image/png": "[encoded data removed]",
      "text/plain": [
       "<Figure size 432x288 with 1 Axes>"
      ]
     },
     "metadata": {},
     "output_type": "display_data"
    }
   ],
   "source": [
    "myTree['no surfacing'][3] = 'maybe'\n",
    "print(myTree)\n",
    "createPlot(myTree)"
   ]
  },
  {
   "cell_type": "markdown",
   "metadata": {},
   "source": [
    "## Testing and storing the classifier\n",
    "### Test: using the tree for classification\n",
    "- Classification function for an existing decision tree"
   ]
  },
  {
   "cell_type": "code",
   "execution_count": 86,
   "metadata": {
    "ExecuteTime": {
     "end_time": "2018-12-23T10:11:45.746413Z",
     "start_time": "2018-12-23T10:11:45.736412Z"
    }
   },
   "outputs": [],
   "source": [
    "def classify(inputTree, featLabels, testVec):\n",
    "    firstStr = list(inputTree.keys())[0]\n",
    "    secondDict = inputTree[firstStr]\n",
    "    featIndex = featLabels.index(firstStr)\n",
    "\n",
    "    for key in secondDict.keys():\n",
    "        if testVec[featIndex] == key:\n",
    "            if type(secondDict[key]).__name__ == 'dict':\n",
    "                classLabel = classify(secondDict[key], featLabels, testVec)\n",
    "            else:\n",
    "                classLabel = secondDict[key]\n",
    "    return classLabel"
   ]
  },
  {
   "cell_type": "code",
   "execution_count": 87,
   "metadata": {
    "ExecuteTime": {
     "end_time": "2018-12-23T10:11:45.766414Z",
     "start_time": "2018-12-23T10:11:45.749413Z"
    }
   },
   "outputs": [
    {
     "name": "stdout",
     "output_type": "stream",
     "text": [
      "labels ['no surfacing', 'flippers']\n",
      "myTree {'no surfacing': {0: 'no', 1: {'flippers': {0: 'no', 1: 'yes'}}}}\n",
      "no\n",
      "yes\n"
     ]
    }
   ],
   "source": [
    "myDat, labels = createDataSet()\n",
    "print('labels', labels)\n",
    "myTree = retrieveTree(0)\n",
    "print('myTree', myTree)\n",
    "print(classify(myTree, labels, [1, 0]))\n",
    "print(classify(myTree, labels, [1, 1]))"
   ]
  },
  {
   "cell_type": "markdown",
   "metadata": {},
   "source": [
    "### Use: persisting the decision tree\n",
    "- Methods for persisting the decision tree with pickle "
   ]
  },
  {
   "cell_type": "code",
   "execution_count": 88,
   "metadata": {
    "ExecuteTime": {
     "end_time": "2018-12-23T10:11:45.782415Z",
     "start_time": "2018-12-23T10:11:45.771414Z"
    }
   },
   "outputs": [],
   "source": [
    "def storeTree(inputTree, filename):\n",
    "    import pickle\n",
    "    fw = open(filename, 'wb')\n",
    "    pickle.dump(inputTree, fw)\n",
    "    fw.close()"
   ]
  },
  {
   "cell_type": "code",
   "execution_count": 89,
   "metadata": {
    "ExecuteTime": {
     "end_time": "2018-12-23T10:11:45.798416Z",
     "start_time": "2018-12-23T10:11:45.785415Z"
    }
   },
   "outputs": [],
   "source": [
    "def grabTree(filename):\n",
    "    import pickle\n",
    "    fr = open(filename, 'rb')\n",
    "    return pickle.load(fr)"
   ]
  },
  {
   "cell_type": "code",
   "execution_count": 90,
   "metadata": {
    "ExecuteTime": {
     "end_time": "2018-12-23T10:11:45.820417Z",
     "start_time": "2018-12-23T10:11:45.805416Z"
    }
   },
   "outputs": [
    {
     "name": "stdout",
     "output_type": "stream",
     "text": [
      "{'no surfacing': {0: 'no', 1: {'flippers': {0: 'no', 1: 'yes'}}}}\n"
     ]
    }
   ],
   "source": [
    "storeTree(myTree, './classifierStorage.txt')\n",
    "print(grabTree('./classifierStorage.txt'))"
   ]
  },
  {
   "cell_type": "markdown",
   "metadata": {},
   "source": [
    "## Example: using decision trees to predict contact lens type "
   ]
  },
  {
   "cell_type": "code",
   "execution_count": 91,
   "metadata": {
    "ExecuteTime": {
     "end_time": "2018-12-23T10:11:46.392450Z",
     "start_time": "2018-12-23T10:11:45.826417Z"
    }
   },
   "outputs": [
    {
     "name": "stdout",
     "output_type": "stream",
     "text": [
      "{'tearRate': {'reduced': 'no lenses', 'normal': {'astigmatic': {'no': {'age': {'presbyopic': {'prescript': {'hyper': 'soft', 'myope': 'no lenses'}}, 'pre': 'soft', 'young': 'soft'}}, 'yes': {'prescript': {'hyper': {'age': {'presbyopic': 'no lenses', 'pre': 'no lenses', 'young': 'hard'}}, 'myope': 'hard'}}}}}}\n"
     ]
    },
    {
     "data": {
      "image/png": "[encoded data removed]",
      "text/plain": [
       "<Figure size 432x288 with 1 Axes>"
      ]
     },
     "metadata": {},
     "output_type": "display_data"
    }
   ],
   "source": [
    "fr = open('./lenses.txt')\n",
    "lenses = [inst.strip().split('\\t') for inst in fr.readlines()]\n",
    "lensesLabels=['age', 'prescript', 'astigmatic', 'tearRate']\n",
    "lensesTree = createTree(lenses, lensesLabels)\n",
    "print(lensesTree)\n",
    "createPlot(lensesTree)"
   ]
  },
  {
   "cell_type": "code",
   "execution_count": null,
   "metadata": {},
   "outputs": [],
   "source": []
  }
 ],
 "metadata": {
  "kernelspec": {
   "display_name": "Python 3",
   "language": "python",
   "name": "python3"
  },
  "language_info": {
   "codemirror_mode": {
    "name": "ipython",
    "version": 3
   },
   "file_extension": ".py",
   "mimetype": "text/x-python",
   "name": "python",
   "nbconvert_exporter": "python",
   "pygments_lexer": "ipython3",
   "version": "3.6.7"
  },
  "varInspector": {
   "cols": {
    "lenName": 16,
    "lenType": 16,
    "lenVar": 40
   },
   "kernels_config": {
    "python": {
     "delete_cmd_postfix": "",
     "delete_cmd_prefix": "del ",
     "library": "var_list.py",
     "varRefreshCmd": "print(var_dic_list())"
    },
    "r": {
     "delete_cmd_postfix": ") ",
     "delete_cmd_prefix": "rm(",
     "library": "var_list.r",
     "varRefreshCmd": "cat(var_dic_list()) "
    }
   },
   "types_to_exclude": [
    "module",
    "function",
    "builtin_function_or_method",
    "instance",
    "_Feature"
   ],
   "window_display": false
  }
 },
 "nbformat": 4,
 "nbformat_minor": 2
}
