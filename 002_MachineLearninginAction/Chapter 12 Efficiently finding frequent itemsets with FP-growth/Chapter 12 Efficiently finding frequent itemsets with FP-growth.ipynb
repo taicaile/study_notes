{
 "cells": [
  {
   "cell_type": "markdown",
   "metadata": {},
   "source": [
    "## FP-trees: an efficient way to encode a dataset"
   ]
  },
  {
   "cell_type": "markdown",
   "metadata": {},
   "source": [
    "The FP-growth algorithm stores data in a compact data structure called an  FP-tree.(The FP stands for \"frequent pattern.\")\n",
    "\n",
    "Sample transaction dataset |  An example FP-tree\n",
    ":-------------------------:|:-------------------------:\n",
    "![](./figs/table_12.1.jpg) |![](./figs/12-1.jpg)"
   ]
  },
  {
   "cell_type": "markdown",
   "metadata": {},
   "source": [
    "- A path will tell you how many times a sequence occurred.\n",
    "- A node identifies a single item from the set and the number of times it occurred in this sequence"
   ]
  },
  {
   "cell_type": "markdown",
   "metadata": {},
   "source": [
    "### Creating the FP-tree data structure"
   ]
  },
  {
   "cell_type": "code",
   "execution_count": 1,
   "metadata": {},
   "outputs": [],
   "source": [
    "class treeNode:\n",
    "    def __init__(self, nameValue, numOccur, parentNode):\n",
    "        self.name  = nameValue\n",
    "        self.count = numOccur\n",
    "        self.nodeLink = None\n",
    "        self.parent = parentNode\n",
    "        self.children = {}\n",
    "        \n",
    "    def inc(self, numoccur):\n",
    "        self.count += numoccur\n",
    "    \n",
    "    def disp(self, ind=1):\n",
    "        print(\" \"*ind, self.name,' ', self.count)\n",
    "        for child in self.children.values():\n",
    "            child.disp(ind+1)"
   ]
  },
  {
   "cell_type": "code",
   "execution_count": 2,
   "metadata": {},
   "outputs": [
    {
     "name": "stdout",
     "output_type": "stream",
     "text": [
      "  pyramid   9\n",
      "   eye   13\n"
     ]
    }
   ],
   "source": [
    "rootNode = treeNode('pyramid', 9 ,None)\n",
    "rootNode.children['eye'] = treeNode('eye', 13, None)\n",
    "rootNode.disp()"
   ]
  },
  {
   "cell_type": "code",
   "execution_count": 3,
   "metadata": {},
   "outputs": [
    {
     "name": "stdout",
     "output_type": "stream",
     "text": [
      "  pyramid   9\n",
      "   eye   13\n",
      "   phoenix   3\n"
     ]
    }
   ],
   "source": [
    "rootNode.children['phoenix'] = treeNode('phoenix',3,None)\n",
    "rootNode.disp()"
   ]
  },
  {
   "cell_type": "markdown",
   "metadata": {},
   "source": [
    "### Constructing the FP-tree"
   ]
  },
  {
   "cell_type": "code",
   "execution_count": 4,
   "metadata": {},
   "outputs": [],
   "source": [
    "def createTree(dataSet, minSup=1):\n",
    "    # to quickly access all of the elements of a given type in the FP-tree\n",
    "    headerTable = {}\n",
    "    # count the frequency of occurrence of each item.\n",
    "def createTree(dataSet, minSup=1): \n",
    "    headerTable = {}\n",
    "    for trans in dataSet:\n",
    "        for item in trans:\n",
    "            headerTable[item] = headerTable.get(item, 0) + dataSet[trans]\n",
    "    # eliminate any items that don't meet the minimum support\n",
    "    for k in list(headerTable.keys()):               \n",
    "        if headerTable[k] < minSup:                  \n",
    "            del(headerTable[k])\n",
    "    # get the set\n",
    "    freqItemSet = set(headerTable.keys())\n",
    "    \n",
    "    if len(freqItemSet) == 0: return None, None\n",
    "    \n",
    "    for k in headerTable:\n",
    "        # hold a count and pointer to the first item\n",
    "        headerTable[k] = [headerTable[k], None]\n",
    "    # building the tree started from null set\n",
    "    retTree = treeNode('Null Set', 1, None)\n",
    "    \n",
    "    for tranSet, count in dataSet.items():\n",
    "        localD = {}\n",
    "\n",
    "        for item in tranSet:                        \n",
    "            if item in freqItemSet:                      \n",
    "                localD[item] = headerTable[item][0] \n",
    "                \n",
    "        if len(localD) > 0:\n",
    "            orderedItems = [v[0] for v in sorted(localD.items(), \n",
    "                                     key=lambda p: p[1], reverse=True)]\n",
    "            updateTree(orderedItems, retTree,         \n",
    "                       headerTable, count)            \n",
    "    return retTree, headerTable "
   ]
  },
  {
   "cell_type": "code",
   "execution_count": 5,
   "metadata": {},
   "outputs": [],
   "source": [
    "def updateTree(items, inTree, headerTable, count):\n",
    "    if items[0] in inTree.children:\n",
    "        inTree.children[items[0]].inc(count) \n",
    "    else:   \n",
    "        inTree.children[items[0]] = treeNode(items[0], count, inTree)\n",
    "        if headerTable[items[0]][1] == None: \n",
    "            headerTable[items[0]][1] = inTree.children[items[0]]\n",
    "        else:\n",
    "            updateHeader(headerTable[items[0]][1],\n",
    "                                inTree.children[items[0]])\n",
    "    if len(items) > 1:   \n",
    "        updateTree(items[1::], inTree.children[items[0]], \n",
    "                                   headerTable, count)   "
   ]
  },
  {
   "cell_type": "code",
   "execution_count": 6,
   "metadata": {},
   "outputs": [],
   "source": [
    "def updateHeader(nodeToTest, targetNode): \n",
    "    while (nodeToTest.nodeLink != None): \n",
    "        nodeToTest = nodeToTest.nodeLink\n",
    "    nodeToTest.nodeLink = targetNode"
   ]
  },
  {
   "cell_type": "code",
   "execution_count": 7,
   "metadata": {},
   "outputs": [],
   "source": [
    "def loadSimpDat():\n",
    "    simpDat = [['r', 'z', 'h', 'j', 'p'],\n",
    "               ['z', 'y', 'x', 'w', 'v', 'u', 't', 's'],\n",
    "               ['z'],\n",
    "               ['r', 'x', 'n', 'o', 's'],\n",
    "               ['y', 'r', 'x', 'z', 'q', 't', 'p'],\n",
    "               ['y', 'z', 'x', 'e', 'q', 's', 't', 'm']]\n",
    "    return simpDat"
   ]
  },
  {
   "cell_type": "code",
   "execution_count": 8,
   "metadata": {},
   "outputs": [],
   "source": [
    "def createInitSet(dataSet):\n",
    "    retDict = {}\n",
    "    for trans in dataSet:\n",
    "        retDict[frozenset(trans)] = 1\n",
    "    return retDict"
   ]
  },
  {
   "cell_type": "code",
   "execution_count": 9,
   "metadata": {},
   "outputs": [
    {
     "data": {
      "text/plain": [
       "[['r', 'z', 'h', 'j', 'p'],\n",
       " ['z', 'y', 'x', 'w', 'v', 'u', 't', 's'],\n",
       " ['z'],\n",
       " ['r', 'x', 'n', 'o', 's'],\n",
       " ['y', 'r', 'x', 'z', 'q', 't', 'p'],\n",
       " ['y', 'z', 'x', 'e', 'q', 's', 't', 'm']]"
      ]
     },
     "execution_count": 9,
     "metadata": {},
     "output_type": "execute_result"
    }
   ],
   "source": [
    "simDat = loadSimpDat()\n",
    "simDat"
   ]
  },
  {
   "cell_type": "code",
   "execution_count": 10,
   "metadata": {},
   "outputs": [
    {
     "data": {
      "text/plain": [
       "{frozenset({'h', 'j', 'p', 'r', 'z'}): 1,\n",
       " frozenset({'s', 't', 'u', 'v', 'w', 'x', 'y', 'z'}): 1,\n",
       " frozenset({'z'}): 1,\n",
       " frozenset({'n', 'o', 'r', 's', 'x'}): 1,\n",
       " frozenset({'p', 'q', 'r', 't', 'x', 'y', 'z'}): 1,\n",
       " frozenset({'e', 'm', 'q', 's', 't', 'x', 'y', 'z'}): 1}"
      ]
     },
     "execution_count": 10,
     "metadata": {},
     "output_type": "execute_result"
    }
   ],
   "source": [
    "initSet = createInitSet(simDat)\n",
    "initSet"
   ]
  },
  {
   "cell_type": "code",
   "execution_count": 11,
   "metadata": {},
   "outputs": [
    {
     "name": "stdout",
     "output_type": "stream",
     "text": [
      "  Null Set   1\n",
      "   z   5\n",
      "    r   1\n",
      "    x   3\n",
      "     t   3\n",
      "      s   2\n",
      "       y   2\n",
      "      r   1\n",
      "       y   1\n",
      "   x   1\n",
      "    s   1\n",
      "     r   1\n"
     ]
    }
   ],
   "source": [
    "myFPtree, myHeaderTab = createTree(initSet, 3)\n",
    "myFPtree.disp()"
   ]
  },
  {
   "cell_type": "code",
   "execution_count": 12,
   "metadata": {},
   "outputs": [
    {
     "data": {
      "text/plain": [
       "{'z': [5, <__main__.treeNode at 0x1fb3955d978>],\n",
       " 'r': [3, <__main__.treeNode at 0x1fb3955dac8>],\n",
       " 't': [3, <__main__.treeNode at 0x1fb3955dfd0>],\n",
       " 'x': [4, <__main__.treeNode at 0x1fb3955d7f0>],\n",
       " 's': [3, <__main__.treeNode at 0x1fb3955d780>],\n",
       " 'y': [3, <__main__.treeNode at 0x1fb3955df28>]}"
      ]
     },
     "execution_count": 12,
     "metadata": {},
     "output_type": "execute_result"
    }
   ],
   "source": [
    "myHeaderTab"
   ]
  },
  {
   "cell_type": "markdown",
   "metadata": {},
   "source": [
    "## Mining frequent items from an FP-tree\n",
    "### Extracting conditional pattern bases"
   ]
  },
  {
   "cell_type": "code",
   "execution_count": 13,
   "metadata": {},
   "outputs": [],
   "source": [
    "def ascendTree(leafNode, prefixPath): \n",
    "    if leafNode.parent != None:                   \n",
    "        prefixPath.append(leafNode.name)\n",
    "        ascendTree(leafNode.parent, prefixPath)"
   ]
  },
  {
   "cell_type": "code",
   "execution_count": 14,
   "metadata": {},
   "outputs": [],
   "source": [
    "def findPrefixPath(basePat, treeNode): \n",
    "    condPats = {}\n",
    "    while treeNode != None:\n",
    "        prefixPath = []\n",
    "        ascendTree(treeNode, prefixPath)\n",
    "        if len(prefixPath) > 1: \n",
    "            condPats[frozenset(prefixPath[1:])] = treeNode.count\n",
    "        treeNode = treeNode.nodeLink\n",
    "    return condPats"
   ]
  },
  {
   "cell_type": "code",
   "execution_count": 15,
   "metadata": {},
   "outputs": [
    {
     "data": {
      "text/plain": [
       "{frozenset({'z'}): 3}"
      ]
     },
     "execution_count": 15,
     "metadata": {},
     "output_type": "execute_result"
    }
   ],
   "source": [
    "findPrefixPath('x', myHeaderTab['x'][1])"
   ]
  },
  {
   "cell_type": "code",
   "execution_count": 16,
   "metadata": {},
   "outputs": [
    {
     "data": {
      "text/plain": [
       "{}"
      ]
     },
     "execution_count": 16,
     "metadata": {},
     "output_type": "execute_result"
    }
   ],
   "source": [
    "findPrefixPath('z', myHeaderTab['z'][1])"
   ]
  },
  {
   "cell_type": "code",
   "execution_count": 17,
   "metadata": {},
   "outputs": [
    {
     "data": {
      "text/plain": [
       "{frozenset({'z'}): 1, frozenset({'s', 'x'}): 1, frozenset({'t', 'x', 'z'}): 1}"
      ]
     },
     "execution_count": 17,
     "metadata": {},
     "output_type": "execute_result"
    }
   ],
   "source": [
    "findPrefixPath('r', myHeaderTab['r'][1])"
   ]
  },
  {
   "cell_type": "markdown",
   "metadata": {},
   "source": [
    "### Creating conditional FP-trees"
   ]
  },
  {
   "cell_type": "code",
   "execution_count": 18,
   "metadata": {},
   "outputs": [],
   "source": [
    "def mineTree(inTree, headerTable, minSup, preFix, freqItemList):\n",
    "    bigL = [v[0] for v in sorted(headerTable.items(), key=lambda p: p[1][0])]\n",
    "    for basePat in bigL:                                 \n",
    "        newFreqSet = preFix.copy()\n",
    "        newFreqSet.add(basePat)\n",
    "        freqItemList.append(newFreqSet)\n",
    "        condPattBases = findPrefixPath(basePat, headerTable[basePat][1])\n",
    "        myCondTree, myHead = createTree(condPattBases, minSup)                             \n",
    "        if myHead != None:     \n",
    "            print('conditional tree for: ',newFreqSet)\n",
    "            myCondTree.disp(1)\n",
    "            mineTree(myCondTree, myHead, minSup, newFreqSet, freqItemList)"
   ]
  },
  {
   "cell_type": "code",
   "execution_count": 19,
   "metadata": {},
   "outputs": [
    {
     "name": "stdout",
     "output_type": "stream",
     "text": [
      "conditional tree for:  {'t'}\n",
      "  Null Set   1\n",
      "   z   3\n",
      "    x   3\n",
      "conditional tree for:  {'x', 't'}\n",
      "  Null Set   1\n",
      "   z   3\n",
      "conditional tree for:  {'s'}\n",
      "  Null Set   1\n",
      "   x   3\n",
      "conditional tree for:  {'y'}\n",
      "  Null Set   1\n",
      "   z   3\n",
      "    t   2\n",
      "     x   2\n",
      "    x   1\n",
      "     t   1\n",
      "conditional tree for:  {'y', 't'}\n",
      "  Null Set   1\n",
      "   z   3\n",
      "conditional tree for:  {'y', 'x'}\n",
      "  Null Set   1\n",
      "   z   3\n",
      "conditional tree for:  {'x'}\n",
      "  Null Set   1\n",
      "   z   3\n"
     ]
    }
   ],
   "source": [
    "freqItems = []\n",
    "mineTree(myFPtree, myHeaderTab, 3, set([]), freqItems)"
   ]
  },
  {
   "cell_type": "code",
   "execution_count": 20,
   "metadata": {},
   "outputs": [
    {
     "data": {
      "text/plain": [
       "[{'r'},\n",
       " {'t'},\n",
       " {'t', 'z'},\n",
       " {'t', 'x'},\n",
       " {'t', 'x', 'z'},\n",
       " {'s'},\n",
       " {'s', 'x'},\n",
       " {'y'},\n",
       " {'y', 'z'},\n",
       " {'t', 'y'},\n",
       " {'t', 'y', 'z'},\n",
       " {'x', 'y'},\n",
       " {'x', 'y', 'z'},\n",
       " {'x'},\n",
       " {'x', 'z'},\n",
       " {'z'}]"
      ]
     },
     "execution_count": 20,
     "metadata": {},
     "output_type": "execute_result"
    }
   ],
   "source": [
    "freqItems"
   ]
  },
  {
   "cell_type": "markdown",
   "metadata": {},
   "source": [
    "## Example: finding co-occurring words in a Twitter feed"
   ]
  },
  {
   "cell_type": "code",
   "execution_count": null,
   "metadata": {},
   "outputs": [],
   "source": []
  }
 ],
 "metadata": {
  "kernelspec": {
   "display_name": "Python 3",
   "language": "python",
   "name": "python3"
  },
  "language_info": {
   "codemirror_mode": {
    "name": "ipython",
    "version": 3
   },
   "file_extension": ".py",
   "mimetype": "text/x-python",
   "name": "python",
   "nbconvert_exporter": "python",
   "pygments_lexer": "ipython3",
   "version": "3.7.3"
  }
 },
 "nbformat": 4,
 "nbformat_minor": 2
}
