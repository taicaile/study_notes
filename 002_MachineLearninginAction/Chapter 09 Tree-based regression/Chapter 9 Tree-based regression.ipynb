{
 "cells": [
  {
   "cell_type": "markdown",
   "metadata": {},
   "source": [
    "## 分类回归树CART(Classification And Regression Tress)\n",
    "之前介绍的线性回归包含了一些强大的方法，但这些方法创建的模型需要拟合所有的样本点。当数据拥有众多特征并且特征之间的关系十分复杂时，构建全局模型的想法就显得太难了。而且实际生活中很多问题都是非线性的，不可能使用全局线性模型来拟合任何数据。  \n",
    "一种可行的方法是将数据集切分成很多易建模的数据，然后利用线性回归数据对每个子集进行建模，在这种切分方式下，树结构和回归法就相当有用。本章介绍一个新的叫做CART(分类回归树)，该算法可以用于分类，也可以用于回归。"
   ]
  },
  {
   "cell_type": "markdown",
   "metadata": {},
   "source": [
    "## 用线性回归找到最佳曲线\n"
   ]
  },
  {
   "cell_type": "code",
   "execution_count": null,
   "metadata": {},
   "outputs": [],
   "source": []
  }
 ],
 "metadata": {
  "kernelspec": {
   "display_name": "Python 3",
   "language": "python",
   "name": "python3"
  },
  "language_info": {
   "codemirror_mode": {
    "name": "ipython",
    "version": 3
   },
   "file_extension": ".py",
   "mimetype": "text/x-python",
   "name": "python",
   "nbconvert_exporter": "python",
   "pygments_lexer": "ipython3",
   "version": "3.6.6"
  }
 },
 "nbformat": 4,
 "nbformat_minor": 2
}
