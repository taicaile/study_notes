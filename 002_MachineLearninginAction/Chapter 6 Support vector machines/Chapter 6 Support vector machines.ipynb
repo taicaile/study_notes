{
 "cells": [
  {
   "cell_type": "markdown",
   "metadata": {},
   "source": [
    ">- The line used to separate the dataset is called a separating hyperplane. \n",
    "-  The points closest to the separating hyperplane are known as support vectors."
   ]
  },
  {
   "cell_type": "markdown",
   "metadata": {},
   "source": [
    "The distance from a point to the separating plane is given by :\n",
    "$$\\frac{w^Tx+b}{|w|}$$\n",
    "or:\n",
    "$$\\frac{Ax+by+c}{\\sqrt{A^2+B^2}}$$"
   ]
  },
  {
   "cell_type": "code",
   "execution_count": null,
   "metadata": {},
   "outputs": [],
   "source": []
  }
 ],
 "metadata": {
  "kernelspec": {
   "display_name": "Python 3",
   "language": "python",
   "name": "python3"
  },
  "language_info": {
   "codemirror_mode": {
    "name": "ipython",
    "version": 3
   },
   "file_extension": ".py",
   "mimetype": "text/x-python",
   "name": "python",
   "nbconvert_exporter": "python",
   "pygments_lexer": "ipython3",
   "version": "3.7.1"
  }
 },
 "nbformat": 4,
 "nbformat_minor": 2
}
