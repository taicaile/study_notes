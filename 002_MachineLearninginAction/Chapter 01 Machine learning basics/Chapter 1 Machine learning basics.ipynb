{
 "cells": [
  {
   "cell_type": "code",
   "execution_count": 1,
   "metadata": {
    "ExecuteTime": {
     "end_time": "2018-12-18T06:07:29.681402Z",
     "start_time": "2018-12-18T06:07:29.666401Z"
    }
   },
   "outputs": [
    {
     "data": {
      "text/plain": [
       "array([[0.40124335, 0.29049806, 0.64427591, 0.08405139],\n",
       "       [0.48826633, 0.9396359 , 0.00544124, 0.70815429],\n",
       "       [0.98554753, 0.17497474, 0.11487021, 0.15487624],\n",
       "       [0.59237768, 0.44520183, 0.36968632, 0.63545267]])"
      ]
     },
     "execution_count": 1,
     "metadata": {},
     "output_type": "execute_result"
    }
   ],
   "source": [
    "import numpy as np\n",
    "np.random.rand(4,4)"
   ]
  },
  {
   "cell_type": "markdown",
   "metadata": {},
   "source": [
    "- An array can be converted to a matrix by calling the mat() function;"
   ]
  },
  {
   "cell_type": "code",
   "execution_count": 2,
   "metadata": {
    "ExecuteTime": {
     "end_time": "2018-12-18T06:07:30.101426Z",
     "start_time": "2018-12-18T06:07:30.087425Z"
    }
   },
   "outputs": [
    {
     "name": "stdout",
     "output_type": "stream",
     "text": [
      "[[0.35896938 0.18197187 0.9835725  0.32262575]\n",
      " [0.71702874 0.38808721 0.62538637 0.8735926 ]\n",
      " [0.60654032 0.04742193 0.61978227 0.70165422]\n",
      " [0.03447854 0.59034144 0.09147859 0.35907997]]\n"
     ]
    }
   ],
   "source": [
    "randmat = np.mat(np.random.rand(4,4))\n",
    "print(randmat)"
   ]
  },
  {
   "cell_type": "markdown",
   "metadata": {},
   "source": [
    "- the `.I` opertator solves the inverse of a matrix"
   ]
  },
  {
   "cell_type": "code",
   "execution_count": 3,
   "metadata": {
    "ExecuteTime": {
     "end_time": "2018-12-18T06:07:32.024536Z",
     "start_time": "2018-12-18T06:07:32.004535Z"
    }
   },
   "outputs": [
    {
     "data": {
      "text/plain": [
       "matrix([[ 0.15771586,  7.97615474, -7.60766269, -4.68097487],\n",
       "        [ 0.58677204,  3.22823965, -4.14788404, -0.27596549],\n",
       "        [ 1.27884216, -1.65442665,  1.1648438 ,  0.59983826],\n",
       "        [-1.30561545, -5.65173612,  7.25301031,  3.53524233]])"
      ]
     },
     "execution_count": 3,
     "metadata": {},
     "output_type": "execute_result"
    }
   ],
   "source": [
    "randmat.I"
   ]
  },
  {
   "cell_type": "code",
   "execution_count": 4,
   "metadata": {
    "ExecuteTime": {
     "end_time": "2018-12-18T06:07:32.374556Z",
     "start_time": "2018-12-18T06:07:32.367556Z"
    }
   },
   "outputs": [],
   "source": [
    "invRandmat = randmat.I"
   ]
  },
  {
   "cell_type": "code",
   "execution_count": 5,
   "metadata": {
    "ExecuteTime": {
     "end_time": "2018-12-18T06:06:40.750603Z",
     "start_time": "2018-12-18T06:06:40.730602Z"
    }
   },
   "outputs": [
    {
     "data": {
      "text/plain": [
       "matrix([[ 1.00000000e+00, -2.22044605e-16, -4.44089210e-16,\n",
       "          0.00000000e+00],\n",
       "        [ 0.00000000e+00,  1.00000000e+00,  0.00000000e+00,\n",
       "          0.00000000e+00],\n",
       "        [ 0.00000000e+00,  4.44089210e-16,  1.00000000e+00,\n",
       "          0.00000000e+00],\n",
       "        [-5.55111512e-17,  4.44089210e-16,  8.88178420e-16,\n",
       "          1.00000000e+00]])"
      ]
     },
     "execution_count": 5,
     "metadata": {},
     "output_type": "execute_result"
    }
   ],
   "source": [
    "randmat*invRandmat"
   ]
  }
 ],
 "metadata": {
  "kernelspec": {
   "display_name": "Python 3",
   "language": "python",
   "name": "python3"
  },
  "language_info": {
   "codemirror_mode": {
    "name": "ipython",
    "version": 3
   },
   "file_extension": ".py",
   "mimetype": "text/x-python",
   "name": "python",
   "nbconvert_exporter": "python",
   "pygments_lexer": "ipython3",
   "version": "3.7.1"
  },
  "varInspector": {
   "cols": {
    "lenName": 16,
    "lenType": 16,
    "lenVar": 40
   },
   "kernels_config": {
    "python": {
     "delete_cmd_postfix": "",
     "delete_cmd_prefix": "del ",
     "library": "var_list.py",
     "varRefreshCmd": "print(var_dic_list())"
    },
    "r": {
     "delete_cmd_postfix": ") ",
     "delete_cmd_prefix": "rm(",
     "library": "var_list.r",
     "varRefreshCmd": "cat(var_dic_list()) "
    }
   },
   "types_to_exclude": [
    "module",
    "function",
    "builtin_function_or_method",
    "instance",
    "_Feature"
   ],
   "window_display": false
  }
 },
 "nbformat": 4,
 "nbformat_minor": 2
}
