{
 "cells": [
  {
   "cell_type": "markdown",
   "metadata": {},
   "source": [
    "Clustering is sometimes called unsupervised classification because it produces the same result as classification but without having predefined classes.\n",
    "\n",
    "k-means clustering\n",
    "- Pros: Easy to implement \n",
    "- Cons: Can converge at local minima; slow on very large datasets \n",
    "- Works with: Numeric values"
   ]
  },
  {
   "cell_type": "code",
   "execution_count": 1,
   "metadata": {
    "scrolled": true
   },
   "outputs": [],
   "source": [
    "%matplotlib inline"
   ]
  },
  {
   "cell_type": "code",
   "execution_count": 2,
   "metadata": {},
   "outputs": [],
   "source": [
    "import numpy as np\n",
    "def loadDataSet(fileName):\n",
    "    dataMat = []\n",
    "    fr = open(fileName)\n",
    "    for line in fr.readlines():\n",
    "        curLine = line.strip().split('\\t')\n",
    "        fltLine = list(map(float, curLine))\n",
    "        dataMat.append(fltLine)\n",
    "    return dataMat\n",
    "\n",
    "def distEclud(vecA, vecB):\n",
    "    return np.sqrt(np.sum(np.power((vecA-vecB),2)))\n",
    "                   \n",
    "def randCent(dataSet, k):\n",
    "    n = np.shape(dataSet)[1]\n",
    "    centroids = np.mat(np.zeros((k,n)))\n",
    "    for j in range(n):\n",
    "        minJ = min(dataSet[:,j])\n",
    "        rangeJ = float(max(dataSet[:,j]) - minJ)\n",
    "        centroids[:,j] = minJ + rangeJ * np.random.rand(k,1)\n",
    "    return centroids"
   ]
  },
  {
   "cell_type": "code",
   "execution_count": 3,
   "metadata": {},
   "outputs": [
    {
     "name": "stdout",
     "output_type": "stream",
     "text": [
      "[[-5.379713]]\n",
      "[[4.838138]]\n",
      "[[-4.232586]]\n",
      "[[5.1904]]\n"
     ]
    }
   ],
   "source": [
    "datMat = np.mat(loadDataSet('./src/testSet.txt'))\n",
    "print(min(datMat[:,0]))\n",
    "print(max(datMat[:,0]))\n",
    "print(min(datMat[:,1]))\n",
    "print(max(datMat[:,1]))"
   ]
  },
  {
   "cell_type": "code",
   "execution_count": 4,
   "metadata": {},
   "outputs": [
    {
     "name": "stdout",
     "output_type": "stream",
     "text": [
      "[[-3.45420891  0.95227312]\n",
      " [ 0.79381089 -1.98272677]]\n"
     ]
    }
   ],
   "source": [
    "print(randCent(datMat, 2))"
   ]
  },
  {
   "cell_type": "code",
   "execution_count": 5,
   "metadata": {},
   "outputs": [
    {
     "name": "stdout",
     "output_type": "stream",
     "text": [
      "5.184632816681332\n"
     ]
    }
   ],
   "source": [
    "print(distEclud(datMat[0], datMat[1]))"
   ]
  },
  {
   "cell_type": "code",
   "execution_count": 6,
   "metadata": {},
   "outputs": [],
   "source": [
    "def kMeans(dataSet, k, distMeas=distEclud, createCent=randCent):\n",
    "    m = np.shape(dataSet)[0]\n",
    "    clusterAssment = np.mat(np.zeros((m,2)))\n",
    "    centroids = createCent(dataSet,k)\n",
    "    clusterChanged = True\n",
    "    while clusterChanged:\n",
    "        clusterChanged = False\n",
    "        for i in range(m):\n",
    "            minDist = np.inf\n",
    "            minIndex = -1\n",
    "            for j in range(k):\n",
    "                distJI = distMeas(centroids[j,:],dataSet[i,:])\n",
    "                if distJI < minDist:\n",
    "                    minDist = distJI\n",
    "                    minIndex = j\n",
    "            if clusterAssment[i,0] != minIndex:\n",
    "                clusterChanged = True\n",
    "            clusterAssment[i,:]=minIndex, minDist**2\n",
    "        print(centroids)\n",
    "        for cent in range(k):\n",
    "            ptsInClust = dataSet[np.nonzero(clusterAssment[:,0].A==cent)[0]]\n",
    "            centroids[cent,:] = np.mean(ptsInClust, axis=0)\n",
    "    return centroids, clusterAssment"
   ]
  },
  {
   "cell_type": "code",
   "execution_count": 7,
   "metadata": {},
   "outputs": [
    {
     "name": "stdout",
     "output_type": "stream",
     "text": [
      "[[ 3.2558643   0.34790669]\n",
      " [-4.74928911  0.22267911]\n",
      " [-2.82185379 -3.95437648]\n",
      " [-4.80011086 -2.27132681]]\n",
      "[[ 2.72843426  0.46698044]\n",
      " [-2.54951105  2.75812458]\n",
      " [-2.24894777 -3.30205315]\n",
      " [-4.11344022 -2.59397967]]\n",
      "[[ 2.82102866  0.39129192]\n",
      " [-2.46154315  2.78737555]\n",
      " [-1.7671259  -3.2956472 ]\n",
      " [-4.04883533 -2.77633633]]\n",
      "[[ 2.84688416  0.48771357]\n",
      " [-2.46154315  2.78737555]\n",
      " [-1.09360656 -3.37895811]\n",
      " [-3.89646064 -2.78844243]]\n",
      "[[ 2.85838303  0.97287476]\n",
      " [-2.46154315  2.78737555]\n",
      " [ 0.916941   -3.6255422 ]\n",
      " [-3.67966141 -2.77958   ]]\n",
      "[[ 2.78853804  2.41481513]\n",
      " [-2.46154315  2.78737555]\n",
      " [ 2.42776071 -3.19858565]\n",
      " [-3.53973889 -2.89384326]]\n",
      "[[ 2.6265299   3.10868015]\n",
      " [-2.46154315  2.78737555]\n",
      " [ 2.65077367 -2.79019029]\n",
      " [-3.53973889 -2.89384326]]\n"
     ]
    }
   ],
   "source": [
    "datMat=np.mat(loadDataSet('./src/testSet.txt'))\n",
    "myCentroids, clustAssing = kMeans(datMat,4)"
   ]
  },
  {
   "cell_type": "code",
   "execution_count": 8,
   "metadata": {},
   "outputs": [
    {
     "name": "stdout",
     "output_type": "stream",
     "text": [
      "[[-1.15298302  3.5828476 ]\n",
      " [ 4.51299778  3.40480754]\n",
      " [ 1.27687654 -1.55170665]\n",
      " [ 0.44020301  1.00805826]]\n",
      "[[-2.24464335  2.9623764 ]\n",
      " [ 2.84705993  3.364038  ]\n",
      " [-0.2897198  -2.83942545]\n",
      " [ 1.3889605   1.929509  ]]\n",
      "[[-2.46154315  2.78737555]\n",
      " [ 2.72275519  3.38230919]\n",
      " [-0.72175297 -3.03774939]\n",
      " [ 2.92010375  0.479827  ]]\n",
      "[[-2.46154315  2.78737555]\n",
      " [ 2.51964406  3.40459212]\n",
      " [-1.34318171 -3.12879161]\n",
      " [ 3.3122075  -1.02407842]]\n",
      "[[-2.46154315  2.78737555]\n",
      " [ 2.54391447  3.21299611]\n",
      " [-3.01169468 -3.01238673]\n",
      " [ 3.09814284 -2.43041226]]\n",
      "[[-2.46154315  2.78737555]\n",
      " [ 2.6265299   3.10868015]\n",
      " [-3.38237045 -2.9473363 ]\n",
      " [ 2.80293085 -2.7315146 ]]\n",
      "[[-2.46154315  2.78737555]\n",
      " [ 2.6265299   3.10868015]\n",
      " [-3.38237045 -2.9473363 ]\n",
      " [ 2.80293085 -2.7315146 ]]\n",
      "[ 2.78737555  3.10868015 -2.9473363  -2.7315146 ]\n"
     ]
    },
    {
     "data": {
      "image/png": "[encoded data removed]",
      "text/plain": [
       "<Figure size 432x288 with 2 Axes>"
      ]
     },
     "metadata": {
      "needs_background": "light"
     },
     "output_type": "display_data"
    }
   ],
   "source": [
    "import matplotlib.pyplot as plt\n",
    "\n",
    "def showPlt(datMat, alg=kMeans, numClust=4):\n",
    "    myCentroids, clustAssing = alg(datMat, numClust)\n",
    "    fig = plt.figure()\n",
    "    rect=[0.1,0.1,0.8,0.8]\n",
    "    scatterMarkers=['s', 'o', '^', '8', 'p', \\\n",
    "                    'd', 'v', 'h', '>', '<']\n",
    "    axprops = dict(xticks=[], yticks=[])\n",
    "    ax0=fig.add_axes(rect, label='ax0', **axprops)\n",
    "    ax1=fig.add_axes(rect, label='ax1', frameon=False)\n",
    "    for i in range(numClust):\n",
    "        ptsInCurrCluster = datMat[np.nonzero(clustAssing[:,0].A==i)[0],:]\n",
    "        markerStyle = scatterMarkers[i % len(scatterMarkers)]\n",
    "        ax1.scatter(ptsInCurrCluster[:,0].flatten().A[0], ptsInCurrCluster[:,1].flatten().A[0], marker=markerStyle, s=90)\n",
    "    print(myCentroids)\n",
    "    print(myCentroids[:,1].flatten().A[0])\n",
    "    ax1.scatter(myCentroids[:,0].flatten().A[0], myCentroids[:,1].flatten().A[0], marker='+', s=300)\n",
    "    plt.show()\n",
    "    \n",
    "showPlt(datMat)"
   ]
  },
  {
   "cell_type": "markdown",
   "metadata": {},
   "source": [
    "## Bisecting k-means\n",
    "\n",
    "```\n",
    "Start with all the points in one cluster\n",
    "While the number of clusters is less than k\n",
    "    for every cluster\n",
    "        measure total error\n",
    "        perform k-means clustering with k=2 on the given cluster\n",
    "        measure total error after k-means has split the cluster in two\n",
    "    choose the cluster split that gives the lowest error and commit this split\n",
    "```\n"
   ]
  },
  {
   "cell_type": "code",
   "execution_count": 9,
   "metadata": {},
   "outputs": [],
   "source": [
    "def biKmeans(dataSet, k, distMeas=distEclud):\n",
    "    m = np.shape(dataSet)[0]\n",
    "    clusterAssment = np.mat(np.zeros((m,2)))\n",
    "    centroid0 = np.mean(dataSet, axis=0).tolist()[0]\n",
    "    centList =[centroid0]\n",
    "    for j in range(m):\n",
    "        clusterAssment[j,1] = distMeas(np.mat(centroid0), dataSet[j,:])**2\n",
    "    while (len(centList) < k):\n",
    "        lowestSSE = np.inf\n",
    "        for i in range(len(centList)):\n",
    "            ptsInCurrCluster = dataSet[np.nonzero(clusterAssment[:,0].A==i)[0],:] \n",
    "            centroidMat, splitClustAss = kMeans(ptsInCurrCluster, 2 , distMeas)         \n",
    "            sseSplit = np.sum(splitClustAss[:,1])\n",
    "            sseNotSplit = np.sum(clusterAssment[np.nonzero(clusterAssment[:,0].A!=i)[0],1])\n",
    "            print(\"sseSplit, and notSplit: \",sseSplit,sseNotSplit)\n",
    "            if (sseSplit + sseNotSplit) < lowestSSE:\n",
    "                bestCentToSplit = i\n",
    "                bestNewCents = centroidMat\n",
    "                bestClustAss = splitClustAss.copy()\n",
    "                lowestSSE = sseSplit + sseNotSplit\n",
    "        bestClustAss[np.nonzero(bestClustAss[:,0].A == 1)[0],0] = len(centList)                        \n",
    "        bestClustAss[np.nonzero(bestClustAss[:,0].A == 0)[0],0] = bestCentToSplit                    \n",
    "        print('the bestCentToSplit is: ',bestCentToSplit)\n",
    "        print('the len of bestClustAss is: ', len(bestClustAss))\n",
    "        centList[bestCentToSplit] = bestNewCents[0,:].tolist()[0]   \n",
    "        centList.append(bestNewCents[1,:].tolist()[0])\n",
    "        clusterAssment[np.nonzero(clusterAssment[:,0].A == bestCentToSplit)[0],:]= bestClustAss\n",
    "    return np.mat(centList), clusterAssment"
   ]
  },
  {
   "cell_type": "code",
   "execution_count": 10,
   "metadata": {},
   "outputs": [
    {
     "name": "stdout",
     "output_type": "stream",
     "text": [
      "[[-0.84798374  1.88990262]\n",
      " [-3.27671831  0.1006536 ]]\n",
      "[[ 0.67048623  3.13482194]\n",
      " [-1.31721532 -1.44795844]]\n",
      "[[ 0.18204313  3.32057745]\n",
      " [-0.74459109 -2.39373345]]\n",
      "[[-0.00675605  3.22710297]\n",
      " [-0.45965615 -2.7782156 ]]\n",
      "sseSplit, and notSplit:  453.0334895807502 0.0\n",
      "the bestCentToSplit is:  0\n",
      "the len of bestClustAss is:  60\n",
      "[[-1.02656849  4.5542348 ]\n",
      " [ 0.40908989  3.07481502]]\n",
      "[[-3.06779095  3.33769884]\n",
      " [ 2.76275171  3.12704005]]\n",
      "[[-2.94737575  3.3263781 ]\n",
      " [ 2.93386365  3.12782785]]\n",
      "sseSplit, and notSplit:  77.59224931775066 29.15724944412535\n",
      "[[-0.13931527 -2.05064338]\n",
      " [ 0.41554294 -2.30290845]]\n",
      "[[-1.12616164 -2.30193564]\n",
      " [ 0.35496167 -3.36033556]]\n",
      "sseSplit, and notSplit:  12.753263136887313 423.8762401366249\n",
      "the bestCentToSplit is:  0\n",
      "the len of bestClustAss is:  40\n"
     ]
    }
   ],
   "source": [
    "datMat3=np.mat(loadDataSet('./src/testSet2.txt'))\n",
    "centList,myNewAssments=biKmeans(datMat3,3)"
   ]
  },
  {
   "cell_type": "code",
   "execution_count": 11,
   "metadata": {},
   "outputs": [
    {
     "name": "stdout",
     "output_type": "stream",
     "text": [
      "[[-2.94737575  3.3263781 ]\n",
      " [-0.45965615 -2.7782156 ]\n",
      " [ 2.93386365  3.12782785]]\n"
     ]
    }
   ],
   "source": [
    "print(centList)"
   ]
  },
  {
   "cell_type": "code",
   "execution_count": 12,
   "metadata": {
    "scrolled": false
   },
   "outputs": [
    {
     "name": "stdout",
     "output_type": "stream",
     "text": [
      "[[-4.05969044 -2.00840037]\n",
      " [-0.4934283   0.2767297 ]]\n",
      "[[-1.824591   -2.24681067]\n",
      " [ 0.02748483  1.61112354]]\n",
      "[[-0.45965615 -2.7782156 ]\n",
      " [-0.00675605  3.22710297]]\n",
      "sseSplit, and notSplit:  453.0334895807502 0.0\n",
      "the bestCentToSplit is:  0\n",
      "the len of bestClustAss is:  60\n",
      "[[-0.71237692 -3.27306014]\n",
      " [-0.89509304 -2.47438751]]\n",
      "[[ 0.171785   -3.46536256]\n",
      " [-0.97628982 -2.21600445]]\n",
      "[[ 0.35496167 -3.36033556]\n",
      " [-1.12616164 -2.30193564]]\n",
      "sseSplit, and notSplit:  12.753263136887313 423.8762401366249\n",
      "[[-0.35093556  4.68046893]\n",
      " [-2.17321664  2.09330321]]\n",
      "[[ 2.35417086  3.33737264]\n",
      " [-2.89233339  3.09232894]]\n",
      "[[ 2.93386365  3.12782785]\n",
      " [-2.94737575  3.3263781 ]]\n",
      "sseSplit, and notSplit:  77.59224931775066 29.15724944412535\n",
      "the bestCentToSplit is:  1\n",
      "the len of bestClustAss is:  40\n",
      "[[-0.45965615 -2.7782156 ]\n",
      " [ 2.93386365  3.12782785]\n",
      " [-2.94737575  3.3263781 ]]\n",
      "[-2.7782156   3.12782785  3.3263781 ]\n"
     ]
    },
    {
     "data": {
      "image/png": "[encoded data removed]",
      "text/plain": [
       "<Figure size 432x288 with 2 Axes>"
      ]
     },
     "metadata": {
      "needs_background": "light"
     },
     "output_type": "display_data"
    }
   ],
   "source": [
    "showPlt(datMat3, alg=biKmeans,numClust=3)"
   ]
  },
  {
   "cell_type": "code",
   "execution_count": null,
   "metadata": {},
   "outputs": [],
   "source": []
  }
 ],
 "metadata": {
  "kernelspec": {
   "display_name": "Python 3",
   "language": "python",
   "name": "python3"
  },
  "language_info": {
   "codemirror_mode": {
    "name": "ipython",
    "version": 3
   },
   "file_extension": ".py",
   "mimetype": "text/x-python",
   "name": "python",
   "nbconvert_exporter": "python",
   "pygments_lexer": "ipython3",
   "version": "3.7.3"
  }
 },
 "nbformat": 4,
 "nbformat_minor": 2
}
