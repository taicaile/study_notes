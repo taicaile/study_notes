{
 "cells": [
  {
   "cell_type": "code",
   "execution_count": 11,
   "metadata": {
    "ExecuteTime": {
     "end_time": "2018-12-18T06:07:29.681402Z",
     "start_time": "2018-12-18T06:07:29.666401Z"
    }
   },
   "outputs": [
    {
     "data": {
      "text/plain": [
       "array([[0.29518938, 0.61611363, 0.86993316, 0.83697696],\n",
       "       [0.76036566, 0.49954986, 0.38515629, 0.81046675],\n",
       "       [0.03450358, 0.15873404, 0.04593711, 0.70230105],\n",
       "       [0.92799412, 0.70251142, 0.17974871, 0.10371283]])"
      ]
     },
     "execution_count": 11,
     "metadata": {},
     "output_type": "execute_result"
    }
   ],
   "source": [
    "import numpy as np\n",
    "np.random.rand(4,4)"
   ]
  },
  {
   "cell_type": "markdown",
   "metadata": {},
   "source": [
    "- An array can be converted to a matrix by calling the mat() function;"
   ]
  },
  {
   "cell_type": "code",
   "execution_count": 12,
   "metadata": {
    "ExecuteTime": {
     "end_time": "2018-12-18T06:07:30.101426Z",
     "start_time": "2018-12-18T06:07:30.087425Z"
    }
   },
   "outputs": [
    {
     "name": "stdout",
     "output_type": "stream",
     "text": [
      "[[0.17495028 0.31090829 0.9564161  0.85765893]\n",
      " [0.09943432 0.83116311 0.90596632 0.17146808]\n",
      " [0.20529859 0.00990231 0.9776193  0.1784301 ]\n",
      " [0.37417834 0.68423467 0.77460249 0.40872552]]\n"
     ]
    }
   ],
   "source": [
    "randmat = np.mat(np.random.rand(4,4))\n",
    "print(randmat)"
   ]
  },
  {
   "cell_type": "markdown",
   "metadata": {},
   "source": [
    "- the `.I` opertator solves the inverse of a matrix"
   ]
  },
  {
   "cell_type": "code",
   "execution_count": 13,
   "metadata": {
    "ExecuteTime": {
     "end_time": "2018-12-18T06:07:32.024536Z",
     "start_time": "2018-12-18T06:07:32.004535Z"
    }
   },
   "outputs": [
    {
     "data": {
      "text/plain": [
       "matrix([[-1.35947615, -2.40539364,  0.76325201,  3.52859775],\n",
       "        [-0.16123919,  0.95461516, -1.03602956,  0.39014214],\n",
       "        [ 0.01636373,  0.58893213,  1.0458342 , -0.73796678],\n",
       "        [ 1.4834811 , -0.51213556, -0.94638279, -0.03827197]])"
      ]
     },
     "execution_count": 13,
     "metadata": {},
     "output_type": "execute_result"
    }
   ],
   "source": [
    "randmat.I"
   ]
  },
  {
   "cell_type": "code",
   "execution_count": 14,
   "metadata": {
    "ExecuteTime": {
     "end_time": "2018-12-18T06:07:32.374556Z",
     "start_time": "2018-12-18T06:07:32.367556Z"
    }
   },
   "outputs": [],
   "source": [
    "invRandmat = randmat.I"
   ]
  },
  {
   "cell_type": "code",
   "execution_count": 10,
   "metadata": {
    "ExecuteTime": {
     "end_time": "2018-12-18T06:06:40.750603Z",
     "start_time": "2018-12-18T06:06:40.730602Z"
    }
   },
   "outputs": [
    {
     "data": {
      "text/plain": [
       "matrix([[ 1.00000000e+00,  5.55111512e-16, -4.44089210e-16,\n",
       "          1.11022302e-16],\n",
       "        [ 1.11022302e-16,  1.00000000e+00, -4.44089210e-16,\n",
       "          0.00000000e+00],\n",
       "        [ 0.00000000e+00, -1.11022302e-16,  1.00000000e+00,\n",
       "          0.00000000e+00],\n",
       "        [ 0.00000000e+00, -1.66533454e-16, -2.22044605e-16,\n",
       "          1.00000000e+00]])"
      ]
     },
     "execution_count": 10,
     "metadata": {},
     "output_type": "execute_result"
    }
   ],
   "source": [
    "randmat*invRandmat"
   ]
  }
 ],
 "metadata": {
  "kernelspec": {
   "display_name": "Python 3",
   "language": "python",
   "name": "python3"
  },
  "language_info": {
   "codemirror_mode": {
    "name": "ipython",
    "version": 3
   },
   "file_extension": ".py",
   "mimetype": "text/x-python",
   "name": "python",
   "nbconvert_exporter": "python",
   "pygments_lexer": "ipython3",
   "version": "3.6.6"
  },
  "varInspector": {
   "cols": {
    "lenName": 16,
    "lenType": 16,
    "lenVar": 40
   },
   "kernels_config": {
    "python": {
     "delete_cmd_postfix": "",
     "delete_cmd_prefix": "del ",
     "library": "var_list.py",
     "varRefreshCmd": "print(var_dic_list())"
    },
    "r": {
     "delete_cmd_postfix": ") ",
     "delete_cmd_prefix": "rm(",
     "library": "var_list.r",
     "varRefreshCmd": "cat(var_dic_list()) "
    }
   },
   "types_to_exclude": [
    "module",
    "function",
    "builtin_function_or_method",
    "instance",
    "_Feature"
   ],
   "window_display": false
  }
 },
 "nbformat": 4,
 "nbformat_minor": 2
}
