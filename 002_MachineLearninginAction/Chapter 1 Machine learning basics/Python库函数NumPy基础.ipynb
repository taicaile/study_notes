{
 "cells": [
  {
   "cell_type": "markdown",
   "metadata": {},
   "source": [
    ">如果需要使用其他notebook内的函数，则可以通过notebook的run命令先运行其他notebook  \n",
    "%run KNN.ipynb"
   ]
  },
  {
   "cell_type": "markdown",
   "metadata": {},
   "source": [
    "## NumPy 基础\n",
    "numpy（Numerical Python）是用于同类型的多维数组，可用一个正数的元组对其元素进行索引。在NumPy中dimensions也被称作axes。  \n",
    "例如，一个三维空间的坐标为`[1, 2, 3]`是一维数组包含三个元素，所以我们说他的长度为三。在下面的例子中，这个数组有两个aexs，第一axis长度为2，第二axis长度为3.  \n",
    "`[[1, 0, 0],\n",
    "  [0, 2, 3]]`\n",
    "\n",
    "NumPy的类名称为 `ndarray`。同时也被他的别名 `array`所熟知。注意`numpy.array`不同与Python标准库的`array.array`,标准库的`array`仅处理一维数组以及提供较少的功能。对于`ndarray`比较重要的属性为：  \n",
    "- **ndarray.ndim**  \n",
    "返回数组维数的数量，例如对于二维数组，返回2，三维数组相应返回3。\n",
    "\n",
    "- **ndarray.shape**  \n",
    "返回数组维数的元组。例如对于`n*m`的数组，返回元组为 `(n,m)`。\n",
    "\n",
    "- **ndarray.size**  \n",
    "返回数组中元素的个数，等于`ndarray.shape` 中元素的乘积。\n",
    "\n",
    "- **ndarray.dtype**  \n",
    "返回数组中元素的类型。  \n",
    "- **ndarray.itemsize**  \n",
    "返回数组中每个元素的字节长度。相当于`ndarray.dtype.itemsize.`\n",
    "- **ndarray.data**  \n",
    "返回数组中包含的元素。一般情况下我们将不会用这个属性，因为我们可以通过索引对数组中的数据直接进行访问。"
   ]
  },
  {
   "cell_type": "code",
   "execution_count": 1,
   "metadata": {
    "ExecuteTime": {
     "end_time": "2018-12-14T16:30:32.500780Z",
     "start_time": "2018-12-14T16:30:32.108757Z"
    },
    "scrolled": true
   },
   "outputs": [
    {
     "name": "stdout",
     "output_type": "stream",
     "text": [
      "a =  [ 0  1  2  3  4  5  6  7  8  9 10 11 12 13 14]\n"
     ]
    }
   ],
   "source": [
    "# 导入numpy库\n",
    "import numpy as np;\n",
    "# 此函数可以创建一个数值从0到14的数组\n",
    "a = np.arange(15);\n",
    "print(\"a = \",a)"
   ]
  },
  {
   "cell_type": "code",
   "execution_count": 2,
   "metadata": {
    "ExecuteTime": {
     "end_time": "2018-12-14T16:30:32.512780Z",
     "start_time": "2018-12-14T16:30:32.503780Z"
    },
    "scrolled": true
   },
   "outputs": [
    {
     "name": "stdout",
     "output_type": "stream",
     "text": [
      "b =  [[ 0  1  2  3  4]\n",
      " [ 5  6  7  8  9]\n",
      " [10 11 12 13 14]]\n"
     ]
    }
   ],
   "source": [
    "# reshape可用于对数组的维数重新分配\n",
    "b = a.reshape(3,5);\n",
    "print(\"b = \",b);"
   ]
  },
  {
   "cell_type": "code",
   "execution_count": 3,
   "metadata": {
    "ExecuteTime": {
     "end_time": "2018-12-14T16:30:32.534781Z",
     "start_time": "2018-12-14T16:30:32.516780Z"
    }
   },
   "outputs": [
    {
     "data": {
      "text/plain": [
       "(3, 5)"
      ]
     },
     "execution_count": 3,
     "metadata": {},
     "output_type": "execute_result"
    }
   ],
   "source": [
    "# 返回数组的大小\n",
    "b.shape"
   ]
  },
  {
   "cell_type": "code",
   "execution_count": 4,
   "metadata": {
    "ExecuteTime": {
     "end_time": "2018-12-14T16:30:32.551782Z",
     "start_time": "2018-12-14T16:30:32.538782Z"
    }
   },
   "outputs": [
    {
     "data": {
      "text/plain": [
       "2"
      ]
     },
     "execution_count": 4,
     "metadata": {},
     "output_type": "execute_result"
    }
   ],
   "source": [
    "#返回是几维数组\n",
    "b.ndim"
   ]
  },
  {
   "cell_type": "code",
   "execution_count": 5,
   "metadata": {
    "ExecuteTime": {
     "end_time": "2018-12-14T16:30:32.564783Z",
     "start_time": "2018-12-14T16:30:32.555783Z"
    }
   },
   "outputs": [
    {
     "data": {
      "text/plain": [
       "'int32'"
      ]
     },
     "execution_count": 5,
     "metadata": {},
     "output_type": "execute_result"
    }
   ],
   "source": [
    "#返回数组中元素的数据类型\n",
    "b.dtype.name"
   ]
  },
  {
   "cell_type": "code",
   "execution_count": 6,
   "metadata": {
    "ExecuteTime": {
     "end_time": "2018-12-14T16:30:32.580784Z",
     "start_time": "2018-12-14T16:30:32.568783Z"
    }
   },
   "outputs": [
    {
     "data": {
      "text/plain": [
       "4"
      ]
     },
     "execution_count": 6,
     "metadata": {},
     "output_type": "execute_result"
    }
   ],
   "source": [
    "# 返回数组中元素所占的字节数\n",
    "b.itemsize"
   ]
  },
  {
   "cell_type": "code",
   "execution_count": 7,
   "metadata": {
    "ExecuteTime": {
     "end_time": "2018-12-14T16:30:32.603785Z",
     "start_time": "2018-12-14T16:30:32.585784Z"
    }
   },
   "outputs": [
    {
     "data": {
      "text/plain": [
       "15"
      ]
     },
     "execution_count": 7,
     "metadata": {},
     "output_type": "execute_result"
    }
   ],
   "source": [
    "#返回数组中元素的个数\n",
    "b.size"
   ]
  },
  {
   "cell_type": "code",
   "execution_count": 8,
   "metadata": {
    "ExecuteTime": {
     "end_time": "2018-12-14T16:30:32.616786Z",
     "start_time": "2018-12-14T16:30:32.606786Z"
    }
   },
   "outputs": [
    {
     "data": {
      "text/plain": [
       "numpy.ndarray"
      ]
     },
     "execution_count": 8,
     "metadata": {},
     "output_type": "execute_result"
    }
   ],
   "source": [
    "#返回b的类型\n",
    "type(b)"
   ]
  },
  {
   "cell_type": "code",
   "execution_count": 9,
   "metadata": {
    "ExecuteTime": {
     "end_time": "2018-12-14T16:30:32.628787Z",
     "start_time": "2018-12-14T16:30:32.619786Z"
    }
   },
   "outputs": [
    {
     "data": {
      "text/plain": [
       "array([6, 7, 8])"
      ]
     },
     "execution_count": 9,
     "metadata": {},
     "output_type": "execute_result"
    }
   ],
   "source": [
    "# 创建一个数组，数组的元素为6,7,8\n",
    "c = np.array([6,7,8])\n",
    "c"
   ]
  },
  {
   "cell_type": "code",
   "execution_count": 10,
   "metadata": {
    "ExecuteTime": {
     "end_time": "2018-12-14T16:30:32.646788Z",
     "start_time": "2018-12-14T16:30:32.631787Z"
    }
   },
   "outputs": [
    {
     "data": {
      "text/plain": [
       "array([[1.22e-321, 0.00e+000, 0.00e+000, 0.00e+000],\n",
       "       [0.00e+000, 0.00e+000, 0.00e+000, 0.00e+000],\n",
       "       [0.00e+000, 0.00e+000, 0.00e+000, 0.00e+000]])"
      ]
     },
     "execution_count": 10,
     "metadata": {},
     "output_type": "execute_result"
    }
   ],
   "source": [
    "# 用构造函数创建数组，[3,4]参数表示数组的维数\n",
    "d = np.ndarray([3,4])\n",
    "d"
   ]
  },
  {
   "cell_type": "markdown",
   "metadata": {},
   "source": [
    "## 创建数组的几种方法\n",
    "### 有几种创建数组的方法  \n",
    "\n",
    "例如，可以用Python中的list列表或者tuple元数组作为array函数的输入，来创建一个数组。 创建数组的数组类型与输入参数的元素的数据类型有关。"
   ]
  },
  {
   "cell_type": "code",
   "execution_count": 11,
   "metadata": {
    "ExecuteTime": {
     "end_time": "2018-12-14T16:30:32.663789Z",
     "start_time": "2018-12-14T16:30:32.649788Z"
    },
    "scrolled": true
   },
   "outputs": [
    {
     "name": "stdout",
     "output_type": "stream",
     "text": [
      "<class 'list'>\n",
      "<class 'numpy.ndarray'>\n",
      "[2 3 4]\n",
      "int32\n"
     ]
    }
   ],
   "source": [
    "import numpy as np\n",
    "# 注意[2,3,4] 在Python中表示一个list\n",
    "print(type([2,3,4]))\n",
    "# 将[2,3,4]这个list作为函数array的参数，将其转换为数组。\n",
    "# 一个比较常见的错误就是在括号中只输入数值，而没有添加方括号。\n",
    "a = np.array([2,3,4]);\n",
    "print(type(a));\n",
    "print(a);\n",
    "print(a.dtype)"
   ]
  },
  {
   "cell_type": "code",
   "execution_count": 12,
   "metadata": {
    "ExecuteTime": {
     "end_time": "2018-12-14T16:30:32.683790Z",
     "start_time": "2018-12-14T16:30:32.666789Z"
    }
   },
   "outputs": [
    {
     "name": "stdout",
     "output_type": "stream",
     "text": [
      "<class 'numpy.ndarray'>\n"
     ]
    },
    {
     "data": {
      "text/plain": [
       "array([[1, 2, 3],\n",
       "       [4, 5, 6]])"
      ]
     },
     "execution_count": 12,
     "metadata": {},
     "output_type": "execute_result"
    }
   ],
   "source": [
    "import numpy as np\n",
    "# 创建二维数组的方法\n",
    "b = np.array([(1,2,3),(4,5,6)]);\n",
    "print(type(b));\n",
    "b"
   ]
  },
  {
   "cell_type": "code",
   "execution_count": 13,
   "metadata": {
    "ExecuteTime": {
     "end_time": "2018-12-14T16:30:32.702791Z",
     "start_time": "2018-12-14T16:30:32.687790Z"
    }
   },
   "outputs": [
    {
     "name": "stdout",
     "output_type": "stream",
     "text": [
      "[[1.+0.j 2.+0.j 3.+0.j]\n",
      " [4.+0.j 5.+0.j 6.+0.j]]\n"
     ]
    }
   ],
   "source": [
    "import numpy as np\n",
    "# 在创建数组的时候也可以指定数据类型\n",
    "c = np.array([(1,2,3),(4,5,6)], dtype = complex);\n",
    "print(c)"
   ]
  },
  {
   "cell_type": "code",
   "execution_count": 14,
   "metadata": {
    "ExecuteTime": {
     "end_time": "2018-12-14T16:30:32.716792Z",
     "start_time": "2018-12-14T16:30:32.706791Z"
    }
   },
   "outputs": [
    {
     "name": "stdout",
     "output_type": "stream",
     "text": [
      "zeros = \n",
      " [[0. 0. 0. 0.]\n",
      " [0. 0. 0. 0.]\n",
      " [0. 0. 0. 0.]]\n",
      "ones = \n",
      " [[1 1 1]\n",
      " [1 1 1]]\n",
      "empty = \n",
      " [[0. 0. 0.]\n",
      " [0. 0. 0.]]\n"
     ]
    }
   ],
   "source": [
    "# 在创建数组的时候可以对数组直接进行初始化为0，1，或者是未初始化状态\n",
    "import numpy as np;\n",
    "print(\"zeros = \\n\",np.zeros((3,4)));\n",
    "print(\"ones = \\n\",np.ones((2,3),dtype=np.int16));\n",
    "# uninitialize\n",
    "print(\"empty = \\n\", np.empty((2,3)));"
   ]
  },
  {
   "cell_type": "code",
   "execution_count": 15,
   "metadata": {
    "ExecuteTime": {
     "end_time": "2018-12-14T16:30:32.731793Z",
     "start_time": "2018-12-14T16:30:32.718792Z"
    }
   },
   "outputs": [
    {
     "name": "stdout",
     "output_type": "stream",
     "text": [
      "[10 15 20 25]\n",
      "[0 1 2 3 4]\n",
      "[0.  1.2 2.4 3.6]\n"
     ]
    }
   ],
   "source": [
    "# 利用arange生成序列\n",
    "import numpy as np;\n",
    "#参数分别表示数据的起始，结束和步长。 注意结束的数据不包含在内。\n",
    "print(np.arange(10,30,5));\n",
    "#参数表示数据的结束，默认是从0开始，步长是1。\n",
    "print(np.arange(5));\n",
    "#此函数也接受浮点参数\n",
    "print(np.arange(0,4,1.2));"
   ]
  },
  {
   "cell_type": "code",
   "execution_count": 16,
   "metadata": {
    "ExecuteTime": {
     "end_time": "2018-12-14T16:30:32.747794Z",
     "start_time": "2018-12-14T16:30:32.735793Z"
    }
   },
   "outputs": [
    {
     "data": {
      "text/plain": [
       "array([0.  , 0.25, 0.5 , 0.75, 1.  , 1.25, 1.5 , 1.75, 2.  ])"
      ]
     },
     "execution_count": 16,
     "metadata": {},
     "output_type": "execute_result"
    }
   ],
   "source": [
    "#使用arange函数生成浮点序列时，通常无法预测生成数据的个数\n",
    "#此种情况下可使用linspace函数\n",
    "import numpy as np;\n",
    "np.linspace(0,2,9)"
   ]
  },
  {
   "cell_type": "code",
   "execution_count": 17,
   "metadata": {
    "ExecuteTime": {
     "end_time": "2018-12-14T16:30:32.764795Z",
     "start_time": "2018-12-14T16:30:32.752794Z"
    }
   },
   "outputs": [
    {
     "data": {
      "text/plain": [
       "array([0., 1., 2., 3., 4., 5., 6., 7., 8.])"
      ]
     },
     "execution_count": 17,
     "metadata": {},
     "output_type": "execute_result"
    }
   ],
   "source": [
    "import numpy as np;\n",
    "np.linspace(0,8,9)"
   ]
  },
  {
   "cell_type": "code",
   "execution_count": 18,
   "metadata": {
    "ExecuteTime": {
     "end_time": "2018-12-14T16:30:32.778795Z",
     "start_time": "2018-12-14T16:30:32.768795Z"
    }
   },
   "outputs": [],
   "source": [
    "import numpy;\n",
    "from numpy import pi;\n",
    "x = np.linspace(0,2*pi,100);\n",
    "f = np.sin(x);"
   ]
  },
  {
   "cell_type": "markdown",
   "metadata": {},
   "source": [
    "### 数组的运算"
   ]
  },
  {
   "cell_type": "code",
   "execution_count": 19,
   "metadata": {
    "ExecuteTime": {
     "end_time": "2018-12-14T16:30:32.791796Z",
     "start_time": "2018-12-14T16:30:32.781796Z"
    }
   },
   "outputs": [
    {
     "ename": "SyntaxError",
     "evalue": "unexpected EOF while parsing (<ipython-input-19-6a0bf2ec10fb>, line 13)",
     "output_type": "error",
     "traceback": [
      "\u001b[1;36m  File \u001b[1;32m\"<ipython-input-19-6a0bf2ec10fb>\"\u001b[1;36m, line \u001b[1;32m13\u001b[0m\n\u001b[1;33m    print(A@B\u001b[0m\n\u001b[1;37m             ^\u001b[0m\n\u001b[1;31mSyntaxError\u001b[0m\u001b[1;31m:\u001b[0m unexpected EOF while parsing\n"
     ]
    }
   ],
   "source": [
    "import numpy;\n",
    "#矩阵运算\n",
    "# * 表示直接相乘，@\n",
    "A = np.array(np.arange(10,20,4));\n",
    "B = np.array(np.arange(3));\n",
    "print(A);\n",
    "print(B);\n",
    "#数组的加法\n",
    "print(A+B);\n",
    "#数组的元素之间的乘法\n",
    "print(A*B);\n",
    "#矩阵运算的点乘\n",
    "print(A@B"
   ]
  },
  {
   "cell_type": "markdown",
   "metadata": {},
   "source": [
    "## Pandas入门\n",
    "### Pandas 数据结构入门\n",
    "为了开始使用pandas，你需要熟悉它的两个重要的数据结构： Series 和 DataFrame 。虽然它们不是没一个问题的通用解决方案，但提供了一个坚实的，易于使用的大多数应用程序的基础。  \n",
    "- **Series**  \n",
    "Series是一个一维的类似的数组对象，包含一个数组的数据（任何NumPy的数据类型）和一个与数组关联的数据标签，被叫做 索引 。最简单的Series是由一个数组的数据构成："
   ]
  },
  {
   "cell_type": "code",
   "execution_count": 23,
   "metadata": {
    "ExecuteTime": {
     "end_time": "2018-12-14T16:32:29.626479Z",
     "start_time": "2018-12-14T16:32:29.598477Z"
    }
   },
   "outputs": [
    {
     "data": {
      "text/plain": [
       "0    4\n",
       "1    7\n",
       "2   -5\n",
       "3    3\n",
       "dtype: int64"
      ]
     },
     "execution_count": 23,
     "metadata": {},
     "output_type": "execute_result"
    }
   ],
   "source": [
    "import pandas as pd\n",
    "from pandas import Series, DataFrame\n",
    "obj = Series([4, 7, -5, 3]);\n",
    "obj"
   ]
  },
  {
   "cell_type": "markdown",
   "metadata": {},
   "source": [
    "如果没有指定索引的话，默认索引是从0到N-1。可以通过对象的values和index属性来获取Series的数据和索引。"
   ]
  },
  {
   "cell_type": "code",
   "execution_count": 21,
   "metadata": {
    "ExecuteTime": {
     "end_time": "2018-12-14T16:31:58.158679Z",
     "start_time": "2018-12-14T16:31:58.132677Z"
    }
   },
   "outputs": [
    {
     "data": {
      "text/plain": [
       "array([ 4,  7, -5,  3], dtype=int64)"
      ]
     },
     "execution_count": 21,
     "metadata": {},
     "output_type": "execute_result"
    }
   ],
   "source": [
    "obj.values"
   ]
  },
  {
   "cell_type": "code",
   "execution_count": 22,
   "metadata": {
    "ExecuteTime": {
     "end_time": "2018-12-14T16:32:00.362805Z",
     "start_time": "2018-12-14T16:32:00.335803Z"
    }
   },
   "outputs": [
    {
     "data": {
      "text/plain": [
       "RangeIndex(start=0, stop=4, step=1)"
      ]
     },
     "execution_count": 22,
     "metadata": {},
     "output_type": "execute_result"
    }
   ],
   "source": [
    "obj.index"
   ]
  },
  {
   "cell_type": "markdown",
   "metadata": {},
   "source": [
    "## matplotlib 用法"
   ]
  },
  {
   "cell_type": "code",
   "execution_count": null,
   "metadata": {
    "ExecuteTime": {
     "end_time": "2018-12-14T16:30:32.800797Z",
     "start_time": "2018-12-14T16:30:32.210Z"
    }
   },
   "outputs": [],
   "source": [
    "% matplotlib inline"
   ]
  },
  {
   "cell_type": "code",
   "execution_count": null,
   "metadata": {
    "ExecuteTime": {
     "end_time": "2018-12-14T16:30:32.803797Z",
     "start_time": "2018-12-14T16:30:32.213Z"
    }
   },
   "outputs": [],
   "source": [
    "# 导入库函数，同时设置显示图形\n",
    "import matplotlib.pyplot as plt\n",
    "import numpy as np"
   ]
  },
  {
   "cell_type": "code",
   "execution_count": null,
   "metadata": {
    "ExecuteTime": {
     "end_time": "2018-12-14T16:30:32.804797Z",
     "start_time": "2018-12-14T16:30:32.220Z"
    }
   },
   "outputs": [],
   "source": [
    "#新建一个没有坐标抽的图片\n",
    "fig = plt.figure();\n",
    "fig.suptitle(\"No axes on this figure\");\n",
    "#新建一个（2,3）维度的坐标抽\n",
    "ax_lst = plt.subplots(2,3);"
   ]
  },
  {
   "cell_type": "code",
   "execution_count": null,
   "metadata": {
    "ExecuteTime": {
     "end_time": "2018-12-14T16:30:32.805797Z",
     "start_time": "2018-12-14T16:30:32.224Z"
    }
   },
   "outputs": [],
   "source": [
    "#生成一个递增数据\n",
    "x = np.linspace(0, 2, 100)\n",
    "#画出 y = x 的图形\n",
    "plt.plot(x, x, label='linear')\n",
    "#画出 y = x^2 的图形\n",
    "plt.plot(x, x**2, label='quadratic')\n",
    "#画出 y = x^3 的图形\n",
    "plt.plot(x, x**3, label='cubic')\n",
    "# 添加x轴标签\n",
    "plt.xlabel('x label')\n",
    "# 添加y轴标签\n",
    "plt.ylabel('y label')\n",
    "# 添加标题\n",
    "plt.title(\"Simple Plot\")\n",
    "# 添加图例\n",
    "plt.legend()\n",
    "\n",
    "plt.show()"
   ]
  }
 ],
 "metadata": {
  "kernelspec": {
   "display_name": "Python 3",
   "language": "python",
   "name": "python3"
  },
  "language_info": {
   "codemirror_mode": {
    "name": "ipython",
    "version": 3
   },
   "file_extension": ".py",
   "mimetype": "text/x-python",
   "name": "python",
   "nbconvert_exporter": "python",
   "pygments_lexer": "ipython3",
   "version": "3.6.6"
  }
 },
 "nbformat": 4,
 "nbformat_minor": 2
}
