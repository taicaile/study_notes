{
 "cells": [
  {
   "cell_type": "markdown",
   "metadata": {},
   "source": [
    "# 概率论的基本概念\n",
    "## 随机试验\n",
    "> 随机试验的三个特点：\n",
    "1. 可以在相同的条件下重复进行\n",
    "2. 每次试验的可能结果不止一个，并且能事先明确试验的所有可能结果\n",
    "3. 进行一次试验之前不能确定哪一个结果会出现"
   ]
  },
  {
   "cell_type": "markdown",
   "metadata": {},
   "source": [
    "## 样本空间、随机事件\n",
    "### 样本空间\n",
    "> 将随机试验的所有可能结果组成的集合称为E的样本空间，标为S. 样本空间的元素，称为样本点。"
   ]
  },
  {
   "cell_type": "markdown",
   "metadata": {},
   "source": [
    "### 随机事件\n",
    "> 一般，我们称试验E的样本空间S的子集为E的随机事件，简称事件。"
   ]
  },
  {
   "cell_type": "markdown",
   "metadata": {},
   "source": [
    "### 事件间的关系与事件的运算\n",
    "- 若 $A\\subset B$，则称事件B包含事件A，这指的是事件A发生必导致事件B发生。\n",
    "    - 若 $A\\subset B$且 $B\\subset A$，则称事件A与事件B相等\n",
    "    \n",
    "- 事件 $A\\cup B = \\{x|x\\in A 或 x\\in B\\}$ 称为事件A与事件B的和事件，并且仅当A,B中至少有一个发生时，时间$A\\cup B$发生。\n",
    "\n",
    "- 事件$A\\cap B = \\{x|x\\in A且 x\\in B\\}$称为事件A与事件B的积事件，并且仅当A,B同时发生时，事件$A\\cap B$发生. $A\\cap B$也记做AB"
   ]
  },
  {
   "cell_type": "markdown",
   "metadata": {},
   "source": [
    "## 频率与概率  \n",
    "$P(A)$表示事件A在一次试验中发生的可能性大小  \n",
    "\n",
    "由概率的定义，可以推得概率的一些重要性质：\n",
    "- 设$A,B$是两个事件，若$A\\in B$，则有 :\n",
    "\\begin{eqnarray}\n",
    "P(B-A) = P(B) - P(A) \\\\\n",
    "P(B)\\ge P(A)\n",
    "\\end{eqnarray}\n",
    "\n",
    "- 对于任何两事件A和B，有:\n",
    "\\begin{eqnarray}\n",
    "P(A\\cap B) = P(A) + P(B) - P(AB)\n",
    "\\end{eqnarray}\n"
   ]
  },
  {
   "cell_type": "markdown",
   "metadata": {},
   "source": [
    "## 等可能概率（古典概率）\n",
    "- 等可能概型：\n",
    "    - 试验的样本空间只包含有限个元素\n",
    "    - 试验中每个基本事件发生的可能性相同\n",
    "-概率的计算公式\n",
    "\\begin{eqnarray}\n",
    "P(A) = \\frac{k}{n} = \\frac{A包含的基本事件数}{S中基本事件的总数}\n",
    "\\end{eqnarray}"
   ]
  },
  {
   "cell_type": "markdown",
   "metadata": {},
   "source": [
    "**Problem:** 将 $n$ 只求随机地放入$N (N\\ge n)$个盒子中去，试求每个盒子至多有一个只球的概率（假设盒子的容量不限）"
   ]
  },
  {
   "cell_type": "markdown",
   "metadata": {},
   "source": [
    "将$n$只球随机地放入$N$个盒子中去，每一种放法是一基本事件。易知，这是古典概率问题。因每一只球都可以放入N个盒子中的任一个盒子，故共有 $ N\\times N\\times ... N\\times N = N^n $ 种不同的方法，而每个盒子中至多放一只球共有$N(N-1)...(N-(n-1))$钟不同放法。因而所求的概率为：\n",
    "\n",
    "\\begin{eqnarray}\n",
    " p = \\frac{N(N-1)...(N-n+1)}{N^n} = \\frac{A_N^n}{N^n}\n",
    "\\end{eqnarray}\n",
    "\n",
    "有许多数学问题和本例有相同的数学模型。例如，假设每人的生日在一年365天中任一天是等可能的，即都等于 1/365，那么随机选取n(n<=365)个人，他们的生日各不相同的概率为：\n",
    "\n",
    "\\begin{eqnarray}\n",
    "\\frac{365\\times 364\\times...\\times(365-n+1)}{365^n}\n",
    "\\end{eqnarray}\n",
    "经计算可得下述结果：\n",
    "\n",
    "| n | 20  | 23  | 30  | 40  | 50  | 64  |100 |\n",
    "|---|---- |---- |---- |---- |---- |---- |----|\n",
    "| p |0.411|0.507|0.706|0.891|0.970|0.997|0.9999997|"
   ]
  },
  {
   "cell_type": "markdown",
   "metadata": {},
   "source": [
    "**Problem:** 设有$N$件产品，其中有$D$件次品，今从中任取$n$件，问其中恰有$k(k\\leq D)$件次品的概率是多少?"
   ]
  },
  {
   "cell_type": "markdown",
   "metadata": {},
   "source": [
    "> 排列组合是组合学最基本的概念。所谓排列，就是指从给定个数的元素中取出指定个数的元素进行排序。组合则是指从给定个数的元素中仅仅取出指定个数的元素，不考虑排序。\n",
    "排列组合的计算公式\n",
    "![排列组合计算公式](./src/排列组合计算公式.jpg)"
   ]
  },
  {
   "cell_type": "markdown",
   "metadata": {},
   "source": []
  },
  {
   "cell_type": "markdown",
   "metadata": {},
   "source": []
  }
 ],
 "metadata": {
  "kernelspec": {
   "display_name": "Python 3",
   "language": "python",
   "name": "python3"
  },
  "language_info": {
   "codemirror_mode": {
    "name": "ipython",
    "version": 3
   },
   "file_extension": ".py",
   "mimetype": "text/x-python",
   "name": "python",
   "nbconvert_exporter": "python",
   "pygments_lexer": "ipython3",
   "version": "3.6.7"
  },
  "varInspector": {
   "cols": {
    "lenName": 16,
    "lenType": 16,
    "lenVar": 40
   },
   "kernels_config": {
    "python": {
     "delete_cmd_postfix": "",
     "delete_cmd_prefix": "del ",
     "library": "var_list.py",
     "varRefreshCmd": "print(var_dic_list())"
    },
    "r": {
     "delete_cmd_postfix": ") ",
     "delete_cmd_prefix": "rm(",
     "library": "var_list.r",
     "varRefreshCmd": "cat(var_dic_list()) "
    }
   },
   "types_to_exclude": [
    "module",
    "function",
    "builtin_function_or_method",
    "instance",
    "_Feature"
   ],
   "window_display": true
  }
 },
 "nbformat": 4,
 "nbformat_minor": 2
}
