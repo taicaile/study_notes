{
 "cells": [
  {
   "cell_type": "markdown",
   "metadata": {},
   "source": [
    "## 离散型随机变量及其分布律"
   ]
  },
  {
   "cell_type": "markdown",
   "metadata": {},
   "source": [
    "### （0-1）分布\n",
    "设随机变量 $X$ 只可能取0与1两个值，它的分布律是\n",
    "$$P\\{X=k\\}=p^k (1-p)^{1-k}, k = 0,1$$\n",
    "\n",
    "(0-1)分布的分布律也可以写成  \n",
    "\n",
    "| X | 0 | 1 |\n",
    "|---|---|---|\n",
    "|$p_k$| 1-p | p |"
   ]
  },
  {
   "cell_type": "markdown",
   "metadata": {},
   "source": [
    "### 伯努利试验，二项分布\n",
    "\n",
    "设试验E只有两个可能结果：$A$ 及 $\\overline A$，则称E为伯努利试验。设$P(A)=p(0<p<1)$，此时$P(\\overline A)=1-p$. 将E独立重复地进行n次，则称这一串重复的独立试验为n重伯努利试验。\n",
    "\n",
    "\n",
    ">在n次实验中A发生k次的概率为 $C_n^k p^k (1-p)^{n-k}$"
   ]
  },
  {
   "cell_type": "code",
   "execution_count": 11,
   "metadata": {
    "ExecuteTime": {
     "end_time": "2019-01-13T12:04:34.938154Z",
     "start_time": "2019-01-13T12:04:34.759267Z"
    }
   },
   "outputs": [
    {
     "data": {
      "image/png": "[encoded data removed]",
      "text/plain": [
       "<Figure size 432x288 with 1 Axes>"
      ]
     },
     "metadata": {
      "needs_background": "light"
     },
     "output_type": "display_data"
    }
   ],
   "source": [
    "%matplotlib inline\n",
    "import matplotlib.pyplot as plt\n",
    "import numpy as np\n",
    "# 假设n为10, p = 0.3\n",
    "def C(n, k):\n",
    "    retVal = 1\n",
    "    denom = 1\n",
    "    for i in range(k-1):\n",
    "        retVal *= (n-i)\n",
    "        denom *= k-i\n",
    "    return retVal/denom\n",
    "\n",
    "\n",
    "n = 10\n",
    "p = 0.3\n",
    "x = np.arange(1,10,1)\n",
    "y = []\n",
    "for i in x:\n",
    "    y.append(C(n, i)*p**i*(1-p)**(n-i))\n",
    "\n",
    "plt.figure()\n",
    "plt.scatter(x,y)\n",
    "plt.plot(x,y)\n",
    "plt.show()"
   ]
  },
  {
   "cell_type": "markdown",
   "metadata": {},
   "source": [
    "### 泊松分布\n",
    "设随机变量X所有可能取的值为$0,1,2,...$，而取各个值的概率为\n",
    "$$P\\{X=k\\} = \\frac{\\lambda ^k e^{-\\lambda}}{k!},k=0,1,2,...$$，其中$\\lambda>0$是常数，则称X服从参数为$\\lambda$的泊松分布"
   ]
  },
  {
   "cell_type": "markdown",
   "metadata": {},
   "source": [
    "### 连续性随机变量及其概率密度"
   ]
  },
  {
   "cell_type": "markdown",
   "metadata": {},
   "source": [
    "一般，如果对于随机变量X的分布函数$F(X)$，存在非负函数f(x)，使对于任意实数x有\n",
    "$$F(x)=\\int_{-\\infty}^x f(t)\\,dt$$\n",
    "则称X为连续性随机变量，其中函数$f(x)$称为$X$的概率密度函数，简称概率密度。\n",
    "\n",
    "注意概率密度的曲线与x轴形成图形的面积为1。 概率密度指的是落在某个区间的比例。"
   ]
  },
  {
   "cell_type": "markdown",
   "metadata": {},
   "source": [
    "- 均匀分布\n",
    "- 指数分布\n",
    "- 正态分布"
   ]
  },
  {
   "cell_type": "code",
   "execution_count": null,
   "metadata": {},
   "outputs": [],
   "source": []
  }
 ],
 "metadata": {
  "kernelspec": {
   "display_name": "Python 3",
   "language": "python",
   "name": "python3"
  },
  "language_info": {
   "codemirror_mode": {
    "name": "ipython",
    "version": 3
   },
   "file_extension": ".py",
   "mimetype": "text/x-python",
   "name": "python",
   "nbconvert_exporter": "python",
   "pygments_lexer": "ipython3",
   "version": "3.7.1"
  }
 },
 "nbformat": 4,
 "nbformat_minor": 2
}
