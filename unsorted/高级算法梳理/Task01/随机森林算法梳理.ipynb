{
 "cells": [
  {
   "cell_type": "markdown",
   "metadata": {},
   "source": [
    "- 集成学习的概念\n",
    "- 个体学习器的概念\n",
    "- boosting bagging的概念、异同点\n",
    "- 理解不同的结合策略(平均法，投票法，学习法)\n",
    "- 随机森林的思想\n",
    "- 随机森林的推广\n",
    "- 随机森林的优缺点\n",
    "- 随机森林在sklearn中的参数解释\n",
    "- 随机森林的应用场景"
   ]
  },
  {
   "cell_type": "markdown",
   "metadata": {},
   "source": [
    "### 集成学习的概念\n",
    "集成学习方法使用多种学习算法来获得比单独使用任何单独的学习算法更好的预测性能。"
   ]
  },
  {
   "cell_type": "markdown",
   "metadata": {},
   "source": [
    "### 个体学习器的概念\n",
    "集成之前的学习器称为个体学习器。"
   ]
  },
  {
   "cell_type": "markdown",
   "metadata": {},
   "source": [
    "### boosting bagging的概念、异同点\n",
    "boosting是将弱分类器组装成一个强分类器。\n",
    "\n",
    "bagging是利用bootstrap方法抽取n个训练样本, 最终结果通过投票决定。\n",
    "\n",
    "不同点\n",
    "- 样本选择上, boosting样本不变, bagging每个模型的训练集不同\n",
    "- 样例权重, boosting对于每个弱分类器权重是变化的, bagging每个模型的权重是相同的。"
   ]
  },
  {
   "cell_type": "markdown",
   "metadata": {},
   "source": [
    "### 理解不同的结合策略(平均法，投票法，学习法)\n",
    "- 平均法, 对输出结果进行平均, 也可以进行加权平均\n",
    "- 投票法, 选择多数为预测结果, 绝对多数投票法, 加权投票法\n",
    "- Stacking, 将弱分类器的输出结果作为输入, 将训练集的输出作为输出, 重新训练一个学习器来得到最终结果"
   ]
  },
  {
   "cell_type": "markdown",
   "metadata": {},
   "source": [
    "### 随机森林的思想\n",
    "随机森林是一个包含多个决策树的分类器，并且其输出的类别是由个别树输出的类别的众数而定。有一点与普通决策树不同的是,在学习过程中的每次候选分裂中选择特征的随机子集。这样做的原因是bootstrap抽样导致的树的相关性：如果有一些特征预测目标值的能力很强，那么这些特征就会被许多树所选择，这样就会导致树的强相关性。"
   ]
  },
  {
   "cell_type": "markdown",
   "metadata": {},
   "source": [
    "### 随机森林的推广\n",
    "- extra trees\n",
    "- Totally Random Trees Embedding\n",
    "- Isolation Forest"
   ]
  },
  {
   "cell_type": "markdown",
   "metadata": {},
   "source": [
    "### 随机森林的优缺点\n",
    "优点:\n",
    "- 训练可以高度并行化，对于大数据时代的大样本训练速度有优势。\n",
    "- 由于可以随机选择决策树节点划分特征，这样在样本特征维度很高的时候，仍然能高效的训练模型。\n",
    "- 在训练后，可以给出各个特征对于输出的重要性\n",
    "- 由于采用了随机采样，训练出的模型的方差小，泛化能力强。\n",
    "- 相对于Boosting系列的Adaboost和GBDT， RF实现比较简单。\n",
    "- 对部分特征缺失不敏感。\n",
    "\n",
    "缺点:\n",
    "- 在某些噪音比较大的样本集上，RF模型容易陷入过拟合。\n",
    "- 取值划分比较多的特征容易对RF的决策产生更大的影响，从而影响拟合的模型的效果。"
   ]
  },
  {
   "cell_type": "markdown",
   "metadata": {},
   "source": [
    "### 随机森林在sklearn中的参数解释"
   ]
  },
  {
   "cell_type": "markdown",
   "metadata": {},
   "source": [
    "n_estimators: 随机森林中树的数量。\n",
    "    \n",
    "max_features: 决策树中节点考虑的最大特征数。\n",
    "    - max_features=None,默认参数是考虑所有的特征\n",
    "    - max_features=\"sqrt\", 特征数量为 sqrt(n_features)\n"
   ]
  },
  {
   "cell_type": "code",
   "execution_count": 1,
   "metadata": {},
   "outputs": [
    {
     "data": {
      "text/plain": [
       "RandomForestClassifier(bootstrap=True, class_weight=None, criterion='gini',\n",
       "                       max_depth=None, max_features='auto', max_leaf_nodes=None,\n",
       "                       min_impurity_decrease=0.0, min_impurity_split=None,\n",
       "                       min_samples_leaf=1, min_samples_split=2,\n",
       "                       min_weight_fraction_leaf=0.0, n_estimators=10,\n",
       "                       n_jobs=None, oob_score=False, random_state=None,\n",
       "                       verbose=0, warm_start=False)"
      ]
     },
     "execution_count": 1,
     "metadata": {},
     "output_type": "execute_result"
    }
   ],
   "source": [
    "from sklearn.ensemble import RandomForestClassifier\n",
    "X = [[0, 0], [1, 1]]\n",
    "Y = [0, 1]\n",
    "clf = RandomForestClassifier(n_estimators=10)\n",
    "clf = clf.fit(X, Y)\n",
    "clf"
   ]
  },
  {
   "cell_type": "code",
   "execution_count": null,
   "metadata": {},
   "outputs": [],
   "source": []
  }
 ],
 "metadata": {
  "kernelspec": {
   "display_name": "Python 3",
   "language": "python",
   "name": "python3"
  },
  "language_info": {
   "codemirror_mode": {
    "name": "ipython",
    "version": 3
   },
   "file_extension": ".py",
   "mimetype": "text/x-python",
   "name": "python",
   "nbconvert_exporter": "python",
   "pygments_lexer": "ipython3",
   "version": "3.7.3"
  }
 },
 "nbformat": 4,
 "nbformat_minor": 2
}
