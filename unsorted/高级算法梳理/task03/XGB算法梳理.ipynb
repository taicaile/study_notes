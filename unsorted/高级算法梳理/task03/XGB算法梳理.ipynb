{
 "cells": [
  {
   "cell_type": "markdown",
   "metadata": {},
   "source": [
    "XGB算法梳理\n",
    "- 算法原理\n",
    "- 损失函数\n",
    "- 分裂结点算法\n",
    "- 正则化\n",
    "- 对缺失值处理\n",
    "- 优缺点\n",
    "- 应用场景\n",
    "- sklearn参数"
   ]
  },
  {
   "cell_type": "markdown",
   "metadata": {},
   "source": [
    "XGBoost 是在GBDT的基础上对boosting算法进行的改进, 内部决策树使用的是回归树。\n",
    "\n",
    "XGBoost算法源起于Boosting集成学习方法，在演化过程中又融入了Bagging集成学习方法的优势，通过Gradient Boosting框架自定义损失函数提高了算法解决通用问题的能力，同时引入更多可控参数即可针对问题场景进行优化"
   ]
  },
  {
   "cell_type": "markdown",
   "metadata": {},
   "source": [
    "和传统的boosting tree模型一样，xgboost的提升模型也是采用的残差（或梯度负方向），不同的是分裂结点选取的时候不一定是最小平方损失。 \n",
    "$$\n",
    "\\begin{array}{l}{\\mathcal{L}(\\phi)=\\sum_{i} l\\left(\\hat{y}_{i}, y_{i}\\right)+\\sum_{k} \\Omega\\left(f_{k}\\right)} \\\\ {\\text { where } \\Omega(f)=\\gamma T+\\frac{1}{2} \\lambda\\|w\\|^{2}}\\end{array}\n",
    "$$"
   ]
  },
  {
   "cell_type": "markdown",
   "metadata": {},
   "source": [
    "xgboost的改进点总结\n",
    "- 1、目标函数通过二阶泰勒展开式做近似 \n",
    "- 2、定义了树的复杂度，并应用到目标函数中 \n",
    "- 3、分裂结点处通过结构打分和分割损失动态生长 \n",
    "- 4、分裂结点的候选集合通过一种分布式Quantile Sketch得到 \n",
    "- 5、可以处理稀疏、缺失数据 \n",
    "- 6、可以通过特征的列采样防止过拟合"
   ]
  },
  {
   "cell_type": "markdown",
   "metadata": {},
   "source": [
    "objective [ default=reg:linear ] 定义学习任务及相应的学习目标，可选的目标函数如下： \n",
    "- “reg:linear” –线性回归。 \n",
    "- “reg:logistic” –逻辑回归。 \n",
    "- “binary:logistic” –二分类的逻辑回归问题，输出为概率。 \n",
    "- “multi:softmax” –处理多分类问题，同时需要设置参数num_class（类别个数） \n",
    "\n",
    "’eval_metric’ The choices are listed below，评估指标: \n",
    "- “rmse”: root mean square error \n",
    "- “logloss”: negative log-likelihood \n",
    "(3)max_depth [default=6] 数的最大深度。缺省值为6 ，取值范围为：[1,∞]"
   ]
  },
  {
   "cell_type": "code",
   "execution_count": null,
   "metadata": {},
   "outputs": [],
   "source": []
  }
 ],
 "metadata": {
  "kernelspec": {
   "display_name": "Python 3",
   "language": "python",
   "name": "python3"
  },
  "language_info": {
   "codemirror_mode": {
    "name": "ipython",
    "version": 3
   },
   "file_extension": ".py",
   "mimetype": "text/x-python",
   "name": "python",
   "nbconvert_exporter": "python",
   "pygments_lexer": "ipython3",
   "version": "3.7.3"
  }
 },
 "nbformat": 4,
 "nbformat_minor": 2
}
