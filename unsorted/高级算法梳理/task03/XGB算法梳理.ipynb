{
 "cells": [
  {
   "cell_type": "markdown",
   "metadata": {},
   "source": [
    "XGB算法梳理\n",
    "- 算法原理\n",
    "- 损失函数\n",
    "- 分裂结点算法\n",
    "- 正则化\n",
    "- 对缺失值处理\n",
    "- 优缺点\n",
    "- 应用场景\n",
    "- sklearn参数"
   ]
  },
  {
   "cell_type": "markdown",
   "metadata": {},
   "source": [
    "xgboost 是在GBDT的基础上对boosting算法进行的改进, 内部决策树使用的是回归树。"
   ]
  },
  {
   "cell_type": "code",
   "execution_count": null,
   "metadata": {},
   "outputs": [],
   "source": []
  }
 ],
 "metadata": {
  "kernelspec": {
   "display_name": "Python 3",
   "language": "python",
   "name": "python3"
  },
  "language_info": {
   "codemirror_mode": {
    "name": "ipython",
    "version": 3
   },
   "file_extension": ".py",
   "mimetype": "text/x-python",
   "name": "python",
   "nbconvert_exporter": "python",
   "pygments_lexer": "ipython3",
   "version": "3.7.3"
  }
 },
 "nbformat": 4,
 "nbformat_minor": 2
}
