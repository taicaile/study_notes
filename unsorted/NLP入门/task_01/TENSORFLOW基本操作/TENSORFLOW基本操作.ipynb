{
 "cells": [
  {
   "cell_type": "code",
   "execution_count": 1,
   "metadata": {},
   "outputs": [],
   "source": [
    "import tensorflow as tf"
   ]
  },
  {
   "cell_type": "code",
   "execution_count": 2,
   "metadata": {},
   "outputs": [
    {
     "name": "stdout",
     "output_type": "stream",
     "text": [
      "Tensor(\"Add:0\", shape=(2,), dtype=int32)\n"
     ]
    }
   ],
   "source": [
    "# 图的构建\n",
    "m1 = tf.constant([3,5])\n",
    "m2 = tf.constant([2,4])\n",
    "result = tf.add(m1, m2)\n",
    "# 输出结果并没有输出矩阵相加的结果, 而是输出了一个包含三个属性的Tensor\n",
    "print(result)"
   ]
  },
  {
   "cell_type": "markdown",
   "metadata": {},
   "source": [
    "![图的构建过程](./figs/fig-1.png)"
   ]
  },
  {
   "cell_type": "code",
   "execution_count": 3,
   "metadata": {},
   "outputs": [
    {
     "name": "stdout",
     "output_type": "stream",
     "text": [
      "[5 9]\n"
     ]
    }
   ],
   "source": [
    "# 第二个阶段为图的执行阶段\n",
    "sess = tf.Session()\n",
    "print(sess.run(result))\n",
    "sess.close()"
   ]
  },
  {
   "cell_type": "code",
   "execution_count": 4,
   "metadata": {},
   "outputs": [
    {
     "name": "stdout",
     "output_type": "stream",
     "text": [
      "[array([5, 9])]\n"
     ]
    }
   ],
   "source": [
    "# 建议使用with 代码块的形式\n",
    "with tf.Session() as sess:\n",
    "    res = sess.run([result])\n",
    "print(res)"
   ]
  },
  {
   "cell_type": "code",
   "execution_count": 5,
   "metadata": {},
   "outputs": [
    {
     "name": "stdout",
     "output_type": "stream",
     "text": [
      "[5 9]\n"
     ]
    }
   ],
   "source": [
    "# 如果有可用的GUI环境, 可以通过device指定GPU进行运行\n",
    "with tf.Session() as sess:\n",
    "    # 这里没有gpu环境，先屏蔽掉\n",
    "    #with tf.device('/gpu:2'):\n",
    "    m1 = tf.constant([3,5])\n",
    "    m2 = tf.constant([2,4])\n",
    "    result = tf.add(m1,m2)\n",
    "    print(sess.run(result))"
   ]
  },
  {
   "cell_type": "code",
   "execution_count": 6,
   "metadata": {},
   "outputs": [
    {
     "name": "stdout",
     "output_type": "stream",
     "text": [
      "[5 9]\n"
     ]
    }
   ],
   "source": [
    "# 默认会话机制\n",
    "m1 = tf.constant([3,5])\n",
    "m2 = tf.constant([2,4])\n",
    "result = tf.add(m1, m2)\n",
    "sess = tf.Session()\n",
    "with sess.as_default():\n",
    "    print(result.eval())"
   ]
  },
  {
   "cell_type": "code",
   "execution_count": 7,
   "metadata": {},
   "outputs": [
    {
     "name": "stdout",
     "output_type": "stream",
     "text": [
      "[5 9]\n"
     ]
    }
   ],
   "source": [
    "# 专门为jupyter/IPython等交互环境开发的\n",
    "m1 = tf.constant([3,5])\n",
    "m2 = tf.constant([2,4])\n",
    "result = tf.add(m1, m2)\n",
    "sess = tf.InteractiveSession()\n",
    "print(result.eval())"
   ]
  },
  {
   "cell_type": "markdown",
   "metadata": {},
   "source": [
    "## Tensor介绍"
   ]
  },
  {
   "cell_type": "markdown",
   "metadata": {},
   "source": [
    "我们可以把Tensor理解成N维矩阵（N维数组）。其中零维张量表示的是一个标量，也就是一个数；一维张量表示的是一个向量，也可以看作是一个一维数组；二维张量表示的是一个矩阵；同理，N维张量也就是N维矩阵。"
   ]
  },
  {
   "cell_type": "code",
   "execution_count": 8,
   "metadata": {},
   "outputs": [
    {
     "name": "stdout",
     "output_type": "stream",
     "text": [
      "Tensor(\"mul:0\", shape=(1, 1), dtype=float32)\n"
     ]
    }
   ],
   "source": [
    "# 在计算图模型中, 操作间所传递的数据都可以看作是Tensor\n",
    "a = tf.constant([[2.0, 3.0]], name = 'a')\n",
    "b = tf.constant([[1.0],[4.0]], name = 'b')\n",
    "result = tf.matmul(a, b, name = 'mul')\n",
    "print(result)\n",
    "# mul_1:0 表示是第一个结果的输出"
   ]
  },
  {
   "cell_type": "markdown",
   "metadata": {},
   "source": [
    "### 常量、变量及占位符"
   ]
  },
  {
   "cell_type": "code",
   "execution_count": 9,
   "metadata": {},
   "outputs": [
    {
     "name": "stdout",
     "output_type": "stream",
     "text": [
      "Tensor(\"a_1:0\", shape=(2, 0), dtype=float64)\n"
     ]
    }
   ],
   "source": [
    "# constant相关属性\n",
    "a = tf.constant([2.0,3.0], name='a',shape=(2,0), dtype='float64', verify_shape='true')\n",
    "print(a)"
   ]
  },
  {
   "cell_type": "markdown",
   "metadata": {},
   "source": [
    "Tensorflow还提供了一些常见常量的初始化，如：tf.zeros、tf.ones、tf.fill、tf.linspace、tf.range等，均可以快速初始化一些常量。例如：我们想要快速初始化N维全0的矩阵，我们可以利用tf.zeros进行初始化"
   ]
  },
  {
   "cell_type": "code",
   "execution_count": 10,
   "metadata": {},
   "outputs": [
    {
     "name": "stdout",
     "output_type": "stream",
     "text": [
      "[[0. 0.]\n",
      " [0. 0.]]\n",
      "[[0. 0.]\n",
      " [0. 0.]]\n"
     ]
    }
   ],
   "source": [
    "a = tf.zeros([2,2], tf.float32)\n",
    "b = tf.zeros_like(a, optimize=True)\n",
    "with tf.Session() as sess:\n",
    "    print(sess.run(a))\n",
    "    print(sess.run(b))"
   ]
  },
  {
   "cell_type": "markdown",
   "metadata": {},
   "source": [
    "此外，Tensorflow还可以生成一些随机的张量，方便快速初始化一些随机值。如：tf.random_normal()、tf.truncated_normal()、tf.random_uniform()、tf.random_shuffle()等。"
   ]
  },
  {
   "cell_type": "code",
   "execution_count": 11,
   "metadata": {},
   "outputs": [
    {
     "name": "stdout",
     "output_type": "stream",
     "text": [
      "[[  8.261671   -4.7531786   1.3353057]\n",
      " [ -0.9768454   2.2488935 -11.763928 ]]\n"
     ]
    }
   ],
   "source": [
    "random_num = tf.random_normal([2,3], mean=-1, stddev=4, dtype=tf.float32, seed = None, name='rnum')\n",
    "with tf.Session() as sess:\n",
    "    print(sess.run(random_num))"
   ]
  },
  {
   "cell_type": "code",
   "execution_count": 12,
   "metadata": {},
   "outputs": [],
   "source": [
    "# variable() 的使用\n",
    "A = tf.Variable(3, name='number')\n",
    "B = tf.Variable([1,3], name='vector')\n",
    "C = tf.Variable([[0,1],[2,3]], name='matrix')\n",
    "D = tf.Variable(tf.zeros([100]), name='zero')\n",
    "E = tf.Variable(tf.random_normal([2,3], mean=1, stddev=2, dtype=tf.float32))"
   ]
  },
  {
   "cell_type": "code",
   "execution_count": 13,
   "metadata": {},
   "outputs": [],
   "source": [
    "# 变量初始化\n",
    "# 初始化全局变量\n",
    "init = tf.global_variables_initializer()\n",
    "with tf.Session() as sess:\n",
    "    sess.run(init)\n",
    "# 初始化变量的子集:\n",
    "init_subset = tf.variables_initializer([B,C], name='init_subset')\n",
    "with tf.Session() as sess:\n",
    "    sess.run(init_subset)\n",
    "# 初始化单个变量\n",
    "init_var = tf.Variable(tf.zeros([2,5]))\n",
    "with tf.Session() as sess:\n",
    "    sess.run(init_var.initializer)"
   ]
  },
  {
   "cell_type": "code",
   "execution_count": 14,
   "metadata": {
    "scrolled": false
   },
   "outputs": [
    {
     "name": "stdout",
     "output_type": "stream",
     "text": [
      "Var 0: <tf.Variable 'V1:0' shape=(2,) dtype=int32_ref>\n",
      "Var 1: <tf.Variable 'V2:0' shape=(2,) dtype=int32_ref>\n"
     ]
    }
   ],
   "source": [
    "## 变量保存\n",
    "tf.reset_default_graph()\n",
    "var1 = tf.Variable([1,3], name='V1')\n",
    "var1 = tf.Variable([2,4], name='V2')\n",
    "# 对全部变量进行初始化\n",
    "init = tf.global_variables_initializer()\n",
    "# 调用Saver()存储器方法\n",
    "saver = tf.train.Saver()\n",
    "# 执行图模型\n",
    "with tf.Session() as sess:\n",
    "    sess.run(init)\n",
    "    for i, var in enumerate(saver._var_list):\n",
    "        print('Var {}: {}'.format(i,var))\n",
    "    # 设置存储路径\n",
    "    save_path = saver.save(sess, './data/save.ckpt')"
   ]
  },
  {
   "cell_type": "code",
   "execution_count": 15,
   "metadata": {},
   "outputs": [
    {
     "name": "stdout",
     "output_type": "stream",
     "text": [
      "save.ckpt.data-00000-of-00001\n",
      "save.ckpt.index\n",
      "save.ckpt.index.tempstate16530603378328715372\n",
      "save.ckpt.index.tempstate639255877349795406\n",
      "save.ckpt.meta\n"
     ]
    }
   ],
   "source": [
    "import os\n",
    "for file in os.listdir('./data/'):\n",
    "    if 'save' in file:\n",
    "        print(file)"
   ]
  },
  {
   "cell_type": "code",
   "execution_count": 16,
   "metadata": {
    "scrolled": false
   },
   "outputs": [
    {
     "name": "stderr",
     "output_type": "stream",
     "text": [
      "WARNING: Logging before flag parsing goes to stderr.\n",
      "W0806 09:29:02.122171 13344 deprecation.py:323] From C:\\ProgramData\\Anaconda3\\lib\\site-packages\\tensorflow\\python\\training\\saver.py:1276: checkpoint_exists (from tensorflow.python.training.checkpoint_management) is deprecated and will be removed in a future version.\n",
      "Instructions for updating:\n",
      "Use standard file APIs to check for files with this prefix.\n"
     ]
    },
    {
     "name": "stdout",
     "output_type": "stream",
     "text": [
      "Model Restored.\n",
      "[array([1, 3]), array([2, 4])]\n"
     ]
    }
   ],
   "source": [
    "# 恢复变量\n",
    "tf.reset_default_graph()\n",
    "var1 = tf.Variable([0,0], name='V1')\n",
    "var2 = tf.Variable([0,0], name='V2')\n",
    "saver = tf.train.Saver()\n",
    "module_file = tf.train.latest_checkpoint('./data/')\n",
    "with tf.Session() as sess:\n",
    "    saver.restore(sess, './data/save.ckpt')\n",
    "    print('Model Restored.')\n",
    "    print(sess.run([var1, var2]))"
   ]
  },
  {
   "cell_type": "code",
   "execution_count": 17,
   "metadata": {},
   "outputs": [
    {
     "name": "stdout",
     "output_type": "stream",
     "text": [
      "[16. 14.]\n"
     ]
    }
   ],
   "source": [
    "# placeholder 是数据初始化的容器\n",
    "a = tf.placeholder(tf.float32, shape=[2], name=None)\n",
    "b = tf.constant([6,4], tf.float32)\n",
    "c = tf.add(a,b)\n",
    "with tf.Session() as sess:\n",
    "    print(sess.run(c, feed_dict = {a:[10,10]}))"
   ]
  },
  {
   "cell_type": "code",
   "execution_count": 18,
   "metadata": {},
   "outputs": [
    {
     "name": "stdout",
     "output_type": "stream",
     "text": [
      "[50, 10]\n"
     ]
    }
   ],
   "source": [
    "# fetch, fetch的含义是指可以在一个绘画中同时运行多个op, 可以同时取回多个tensor值\n",
    "a = tf.constant(5)\n",
    "b = tf.constant(6)\n",
    "c = tf.constant(4)\n",
    "add = tf.add(b,c)\n",
    "mul = tf.multiply(a, add)\n",
    "with tf.Session() as sess:\n",
    "    result = sess.run([mul, add])\n",
    "    print(result)"
   ]
  },
  {
   "cell_type": "code",
   "execution_count": null,
   "metadata": {},
   "outputs": [],
   "source": []
  }
 ],
 "metadata": {
  "kernelspec": {
   "display_name": "Python 3",
   "language": "python",
   "name": "python3"
  },
  "language_info": {
   "codemirror_mode": {
    "name": "ipython",
    "version": 3
   },
   "file_extension": ".py",
   "mimetype": "text/x-python",
   "name": "python",
   "nbconvert_exporter": "python",
   "pygments_lexer": "ipython3",
   "version": "3.7.3"
  }
 },
 "nbformat": 4,
 "nbformat_minor": 2
}
