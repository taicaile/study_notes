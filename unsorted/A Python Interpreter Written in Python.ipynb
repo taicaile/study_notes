{
 "cells": [
  {
   "cell_type": "markdown",
   "metadata": {},
   "source": [
    "## A Tiny Interpreter\n",
    "- LOAD_VALUE\n",
    "- ADD_TWO__VALUES\n",
    "- PRINT_ANSWER"
   ]
  },
  {
   "cell_type": "code",
   "execution_count": 1,
   "metadata": {},
   "outputs": [],
   "source": [
    "what_to_execute = {\n",
    "    \"instructions\": [(\"LOAD_VALUE\", 0),  # the first number\n",
    "                     (\"LOAD_VALUE\", 1),  # the second number\n",
    "                     (\"ADD_TWO_VALUES\", None),\n",
    "                     (\"PRINT_ANSWER\", None)],\n",
    "    \"numbers\": [7, 5] }"
   ]
  },
  {
   "cell_type": "code",
   "execution_count": 2,
   "metadata": {},
   "outputs": [],
   "source": [
    "class Interpreter:\n",
    "    def __init__(self):\n",
    "        self.stack = []\n",
    "    \n",
    "    def LOAD_VALUE(self, number):\n",
    "        self.stack.append(number)\n",
    "    \n",
    "    def PRINT_ANSWER(self):\n",
    "        answer = self.stack.pop()\n",
    "        print(answer)\n",
    "    \n",
    "    def ADD_TWO_VALUES(self):\n",
    "        first_num = self.stack.pop()\n",
    "        second_num = self.stack.pop()\n",
    "        total = first_num + second_num\n",
    "        self.stack.append(total)\n",
    "        \n",
    "    def run_code(self, what_to_execute):\n",
    "        instructions = what_to_execute[\"instructions\"]\n",
    "        numbers = what_to_execute[\"numbers\"]\n",
    "        for each_step in instructions:\n",
    "            instruction, argument = each_step\n",
    "            if instruction == \"LOAD_VALUE\":\n",
    "                number = numbers[argument]\n",
    "                self.LOAD_VALUE(number)\n",
    "            elif instruction == \"ADD_TWO_VALUES\":\n",
    "                self.ADD_TWO_VALUES()\n",
    "            elif instruction == \"PRINT_ANSWER\":\n",
    "                self.PRINT_ANSWER() "
   ]
  },
  {
   "cell_type": "code",
   "execution_count": 3,
   "metadata": {},
   "outputs": [
    {
     "name": "stdout",
     "output_type": "stream",
     "text": [
      "12\n"
     ]
    }
   ],
   "source": [
    "interpreter = Interpreter()\n",
    "interpreter.run_code(what_to_execute)"
   ]
  },
  {
   "cell_type": "code",
   "execution_count": null,
   "metadata": {},
   "outputs": [],
   "source": []
  },
  {
   "cell_type": "code",
   "execution_count": 4,
   "metadata": {},
   "outputs": [],
   "source": [
    "what_to_execute = {\n",
    "    \"instructions\": [(\"LOAD_VALUE\", 0),\n",
    "                     (\"LOAD_VALUE\", 1),\n",
    "                     (\"ADD_TWO_VALUES\", None),\n",
    "                     (\"LOAD_VALUE\", 2),\n",
    "                     (\"ADD_TWO_VALUES\", None),\n",
    "                     (\"PRINT_ANSWER\", None)],\n",
    "    \"numbers\": [7, 5, 8] }"
   ]
  },
  {
   "cell_type": "code",
   "execution_count": 5,
   "metadata": {},
   "outputs": [
    {
     "name": "stdout",
     "output_type": "stream",
     "text": [
      "20\n"
     ]
    }
   ],
   "source": [
    "interpreter = Interpreter()\n",
    "interpreter.run_code(what_to_execute)"
   ]
  },
  {
   "cell_type": "markdown",
   "metadata": {},
   "source": [
    "### Variables\n",
    "Variables require an instruction for storing the value of a variable, STORE_NAME"
   ]
  },
  {
   "cell_type": "code",
   "execution_count": 6,
   "metadata": {},
   "outputs": [],
   "source": [
    "def s():\n",
    "...     a = 1\n",
    "...     b = 2\n",
    "...     print(a + b)\n",
    "# a friendly compiler transforms `s` into:\n",
    "    what_to_execute = {\n",
    "        \"instructions\": [(\"LOAD_VALUE\", 0),\n",
    "                         (\"STORE_NAME\", 0),\n",
    "                         (\"LOAD_VALUE\", 1),\n",
    "                         (\"STORE_NAME\", 1),\n",
    "                         (\"LOAD_NAME\", 0),\n",
    "                         (\"LOAD_NAME\", 1),\n",
    "                         (\"ADD_TWO_VALUES\", None),\n",
    "                         (\"PRINT_ANSWER\", None)],\n",
    "        \"numbers\": [1, 2],\n",
    "        \"names\":   [\"a\", \"b\"] }"
   ]
  },
  {
   "cell_type": "code",
   "execution_count": 7,
   "metadata": {},
   "outputs": [],
   "source": [
    "class Interpreter:\n",
    "    def __init__(self):\n",
    "        self.stack = []\n",
    "        self.environment = {}\n",
    "\n",
    "    def STORE_NAME(self, name):\n",
    "        val = self.stack.pop()\n",
    "        self.environment[name] = val\n",
    "\n",
    "    def LOAD_NAME(self, name):\n",
    "        val = self.environment[name]\n",
    "        self.stack.append(val)\n",
    "\n",
    "    def parse_argument(self, instruction, argument, what_to_execute):\n",
    "        \"\"\" Understand what the argument to each instruction means.\"\"\"\n",
    "        numbers = [\"LOAD_VALUE\"]\n",
    "        names = [\"LOAD_NAME\", \"STORE_NAME\"]\n",
    "\n",
    "        if instruction in numbers:\n",
    "            argument = what_to_execute[\"numbers\"][argument]\n",
    "        elif instruction in names:\n",
    "            argument = what_to_execute[\"names\"][argument]\n",
    "\n",
    "        return argument\n",
    "\n",
    "    def run_code(self, what_to_execute):\n",
    "        instructions = what_to_execute[\"instructions\"]\n",
    "        for each_step in instructions:\n",
    "            instruction, argument = each_step\n",
    "            argument = self.parse_argument(instruction, argument, what_to_execute)\n",
    "\n",
    "            if instruction == \"LOAD_VALUE\":\n",
    "                self.LOAD_VALUE(argument)\n",
    "            elif instruction == \"ADD_TWO_VALUES\":\n",
    "                self.ADD_TWO_VALUES()\n",
    "            elif instruction == \"PRINT_ANSWER\":\n",
    "                self.PRINT_ANSWER()\n",
    "            elif instruction == \"STORE_NAME\":\n",
    "                self.STORE_NAME(argument)\n",
    "            elif instruction == \"LOAD_NAME\":\n",
    "                self.LOAD_NAME(argument)\n",
    "                \n",
    "    def execute(self, what_to_execute):\n",
    "        instructions = what_to_execute[\"instructions\"]\n",
    "        for each_step in instructions:\n",
    "            instruction, argument = each_step\n",
    "            argument = self.parse_argument(instruction, argument, what_to_execute)\n",
    "            bytecode_method = getattr(self, instruction)\n",
    "            if argument is None:\n",
    "                bytecode_method()\n",
    "            else:\n",
    "                bytecode_method(argument)"
   ]
  },
  {
   "cell_type": "markdown",
   "metadata": {},
   "source": [
    "## Real Python Bytecode"
   ]
  },
  {
   "cell_type": "code",
   "execution_count": 8,
   "metadata": {},
   "outputs": [],
   "source": [
    "def cond():\n",
    "...     x = 3\n",
    "...     if x < 5:\n",
    "...         return 'yes'\n",
    "...     else:\n",
    "...         return 'no'"
   ]
  },
  {
   "cell_type": "code",
   "execution_count": 9,
   "metadata": {},
   "outputs": [
    {
     "data": {
      "text/plain": [
       "b'd\\x01}\\x00|\\x00d\\x02k\\x00r\\x10d\\x03S\\x00d\\x04S\\x00d\\x00S\\x00'"
      ]
     },
     "execution_count": 9,
     "metadata": {},
     "output_type": "execute_result"
    }
   ],
   "source": [
    "cond.__code__.co_code"
   ]
  },
  {
   "cell_type": "code",
   "execution_count": 10,
   "metadata": {},
   "outputs": [
    {
     "data": {
      "text/plain": [
       "[100,\n",
       " 1,\n",
       " 125,\n",
       " 0,\n",
       " 124,\n",
       " 0,\n",
       " 100,\n",
       " 2,\n",
       " 107,\n",
       " 0,\n",
       " 114,\n",
       " 16,\n",
       " 100,\n",
       " 3,\n",
       " 83,\n",
       " 0,\n",
       " 100,\n",
       " 4,\n",
       " 83,\n",
       " 0,\n",
       " 100,\n",
       " 0,\n",
       " 83,\n",
       " 0]"
      ]
     },
     "execution_count": 10,
     "metadata": {},
     "output_type": "execute_result"
    }
   ],
   "source": [
    "list(cond.__code__.co_code)"
   ]
  },
  {
   "cell_type": "code",
   "execution_count": 11,
   "metadata": {},
   "outputs": [
    {
     "name": "stdout",
     "output_type": "stream",
     "text": [
      "  2           0 LOAD_CONST               1 (3)\n",
      "              2 STORE_FAST               0 (x)\n",
      "\n",
      "  3           4 LOAD_FAST                0 (x)\n",
      "              6 LOAD_CONST               2 (5)\n",
      "              8 COMPARE_OP               0 (<)\n",
      "             10 POP_JUMP_IF_FALSE       16\n",
      "\n",
      "  4          12 LOAD_CONST               3 ('yes')\n",
      "             14 RETURN_VALUE\n",
      "\n",
      "  6     >>   16 LOAD_CONST               4 ('no')\n",
      "             18 RETURN_VALUE\n",
      "             20 LOAD_CONST               0 (None)\n",
      "             22 RETURN_VALUE\n"
     ]
    }
   ],
   "source": [
    "import dis\n",
    "dis.dis(cond)"
   ]
  },
  {
   "cell_type": "markdown",
   "metadata": {},
   "source": [
    "- The first column show the line nuber\n",
    "- The second column is an index into the bytecode\n",
    "- The third column is the instructin itself, mapped to its human-readable name.\n",
    "- The fourth column, when present, is the argument to that instruction.\n",
    "- The fifth column, when present, is a hint about what the argument means."
   ]
  },
  {
   "cell_type": "code",
   "execution_count": 12,
   "metadata": {},
   "outputs": [
    {
     "data": {
      "text/plain": [
       "'LOAD_CONST'"
      ]
     },
     "execution_count": 12,
     "metadata": {},
     "output_type": "execute_result"
    }
   ],
   "source": [
    "# mapping from bytes to intelligible strings\n",
    "dis.opname[100]"
   ]
  },
  {
   "cell_type": "code",
   "execution_count": 13,
   "metadata": {},
   "outputs": [
    {
     "data": {
      "text/plain": [
       "'STORE_FAST'"
      ]
     },
     "execution_count": 13,
     "metadata": {},
     "output_type": "execute_result"
    }
   ],
   "source": [
    "dis.opname[125]"
   ]
  },
  {
   "cell_type": "markdown",
   "metadata": {},
   "source": [
    "## Conditionals and Loops\n",
    "Python handles loops and conditionals with GOTO statements in the bytecode!"
   ]
  },
  {
   "cell_type": "code",
   "execution_count": 14,
   "metadata": {},
   "outputs": [
    {
     "name": "stdout",
     "output_type": "stream",
     "text": [
      "  2           0 LOAD_CONST               1 (3)\n",
      "              2 STORE_FAST               0 (x)\n",
      "\n",
      "  3           4 LOAD_FAST                0 (x)\n",
      "              6 LOAD_CONST               2 (5)\n",
      "              8 COMPARE_OP               0 (<)\n",
      "             10 POP_JUMP_IF_FALSE       16\n",
      "\n",
      "  4          12 LOAD_CONST               3 ('yes')\n",
      "             14 RETURN_VALUE\n",
      "\n",
      "  6     >>   16 LOAD_CONST               4 ('no')\n",
      "             18 RETURN_VALUE\n",
      "             20 LOAD_CONST               0 (None)\n",
      "             22 RETURN_VALUE\n"
     ]
    }
   ],
   "source": [
    "dis.dis(cond)"
   ]
  },
  {
   "cell_type": "markdown",
   "metadata": {},
   "source": [
    "The instruction POP_JUMP_IF_FALSE is responsible for implementing the if. This instruction will pop the top value off the interpreter's stack. \n",
    "- if the value is true, then nothing happends.\n",
    "- if the value is false, then the interpreter will jump to another instruction."
   ]
  },
  {
   "cell_type": "markdown",
   "metadata": {},
   "source": [
    "Loops also reply on jumping."
   ]
  },
  {
   "cell_type": "code",
   "execution_count": 15,
   "metadata": {},
   "outputs": [],
   "source": [
    "def loop():\n",
    "...      x = 1\n",
    "...      while x < 5:\n",
    "...          x = x + 1\n",
    "...      return x"
   ]
  },
  {
   "cell_type": "code",
   "execution_count": 16,
   "metadata": {},
   "outputs": [
    {
     "name": "stdout",
     "output_type": "stream",
     "text": [
      "  2           0 LOAD_CONST               1 (1)\n",
      "              2 STORE_FAST               0 (x)\n",
      "\n",
      "  3           4 SETUP_LOOP              20 (to 26)\n",
      "        >>    6 LOAD_FAST                0 (x)\n",
      "              8 LOAD_CONST               2 (5)\n",
      "             10 COMPARE_OP               0 (<)\n",
      "             12 POP_JUMP_IF_FALSE       24\n",
      "\n",
      "  4          14 LOAD_FAST                0 (x)\n",
      "             16 LOAD_CONST               1 (1)\n",
      "             18 BINARY_ADD\n",
      "             20 STORE_FAST               0 (x)\n",
      "             22 JUMP_ABSOLUTE            6\n",
      "        >>   24 POP_BLOCK\n",
      "\n",
      "  5     >>   26 LOAD_FAST                0 (x)\n",
      "             28 RETURN_VALUE\n"
     ]
    }
   ],
   "source": [
    "dis.dis(loop)"
   ]
  },
  {
   "cell_type": "markdown",
   "metadata": {},
   "source": [
    "## Frame\n",
    "A frame is a collection of information and context for a chunk of code."
   ]
  },
  {
   "cell_type": "code",
   "execution_count": 17,
   "metadata": {},
   "outputs": [],
   "source": [
    "def bar(y):\n",
    "...     z = y + 3     # <--- (3) ... and the interpreter is here.\n",
    "...     return z"
   ]
  },
  {
   "cell_type": "code",
   "execution_count": 18,
   "metadata": {},
   "outputs": [],
   "source": [
    "def foo():\n",
    "...     a = 1\n",
    "...     b = 2\n",
    "...     return a + bar(b)"
   ]
  },
  {
   "cell_type": "code",
   "execution_count": 19,
   "metadata": {},
   "outputs": [
    {
     "data": {
      "text/plain": [
       "6"
      ]
     },
     "execution_count": 19,
     "metadata": {},
     "output_type": "execute_result"
    }
   ],
   "source": [
    "foo()"
   ]
  },
  {
   "cell_type": "markdown",
   "metadata": {},
   "source": [
    "![The Call Stack](./PythonInterpreter/callStack.jpg)"
   ]
  },
  {
   "cell_type": "markdown",
   "metadata": {},
   "source": [
    "## Byterun"
   ]
  },
  {
   "cell_type": "markdown",
   "metadata": {},
   "source": [
    "## Reference"
   ]
  },
  {
   "cell_type": "markdown",
   "metadata": {},
   "source": [
    "- [A Python Interpreter Written in Python\n",
    "](http://aosabook.org/en/500L/a-python-interpreter-written-in-python.html)"
   ]
  },
  {
   "cell_type": "code",
   "execution_count": null,
   "metadata": {},
   "outputs": [],
   "source": []
  }
 ],
 "metadata": {
  "kernelspec": {
   "display_name": "Python 3",
   "language": "python",
   "name": "python3"
  },
  "language_info": {
   "codemirror_mode": {
    "name": "ipython",
    "version": 3
   },
   "file_extension": ".py",
   "mimetype": "text/x-python",
   "name": "python",
   "nbconvert_exporter": "python",
   "pygments_lexer": "ipython3",
   "version": "3.7.3"
  }
 },
 "nbformat": 4,
 "nbformat_minor": 2
}
