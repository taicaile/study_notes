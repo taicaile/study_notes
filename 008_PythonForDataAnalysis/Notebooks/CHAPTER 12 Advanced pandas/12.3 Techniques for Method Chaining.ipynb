{
 "cells": [
  {
   "cell_type": "code",
   "execution_count": 1,
   "metadata": {},
   "outputs": [],
   "source": [
    "import numpy as np\n",
    "import pandas as pd"
   ]
  },
  {
   "cell_type": "markdown",
   "metadata": {},
   "source": [
    "how to avoid creating unused temporary variables\n",
    "```python\n",
    "df = load_data()\n",
    "df2 = df[df['col2'] < 0]\n",
    "df2['col1_demeaned'] = df2['col1'] - df2['col1'].mean()\n",
    "result = df2.groupby('key').col1_demeaned.std()\n",
    "```"
   ]
  },
  {
   "cell_type": "markdown",
   "metadata": {},
   "source": [
    " assign method\n",
    "```python\n",
    "# Usual non-functional way\n",
    "df2 = df.copy()\n",
    "df2['k'] = v\n",
    "\n",
    "# Functional assign way\n",
    "# It returns a new object rather than modifying the object in-place\n",
    "df2 = df.assign(k=v)\n",
    "```"
   ]
  },
  {
   "cell_type": "markdown",
   "metadata": {},
   "source": [
    "assign enables easier method chaining\n",
    "```python\n",
    "result = (df2.assign(col1_demeaned=df2.col1 - df2.col2.mean())\n",
    "          .groupby('key')\n",
    "          .col1_demeaned.std())\n",
    "```"
   ]
  },
  {
   "cell_type": "markdown",
   "metadata": {},
   "source": [
    "To show callables in action, consider a fragment of the example from before:\n",
    "\n",
    "```python\n",
    "df = load_data()\n",
    "df2 = df[df['col2'] < 0]\n",
    "# this can be rewritten as\n",
    "df = (load_data()\n",
    "      [lambda x: x['col2'] < 0])\n",
    "```"
   ]
  },
  {
   "cell_type": "markdown",
   "metadata": {},
   "source": [
    "write the entire sequences as a single chained expression\n",
    "```python\n",
    "result = (load_data()\n",
    "          [lambda x: x.col2 < 0]\n",
    "          .assign(col1_demeaned=lambda x: x.col1 - x.col1.mean())\n",
    "          .groupby('key')\n",
    "          .col1_demeaned.std())\n",
    "```"
   ]
  },
  {
   "cell_type": "markdown",
   "metadata": {},
   "source": [
    "## The pipe Method"
   ]
  },
  {
   "cell_type": "markdown",
   "metadata": {},
   "source": [
    "Sometimes you need to use your own functions or functions from third-party libraries.\n",
    "```python\n",
    "# consider a sequence of function calls:\n",
    "a = f(df, arg1=v1)\n",
    "b = g(a, v2, arg3=v3)\n",
    "c = h(b, arg4=v4)\n",
    "```"
   ]
  },
  {
   "cell_type": "markdown",
   "metadata": {},
   "source": [
    "When using functions that accept and return Series or DataFrame objects, you can\n",
    "rewrite this using calls to  pipe :\n",
    "```python\n",
    "result = (df.pipe(f, arg1=v1)\n",
    "          .pipe(g, v2, arg3=v3)\n",
    "          .pipe(h, arg4=v4))\n",
    "```"
   ]
  },
  {
   "cell_type": "markdown",
   "metadata": {},
   "source": [
    "# suppose you want to do the following transformation\n",
    "```python\n",
    "def group_demean(df, by, cols):\n",
    "    result = df.copy()\n",
    "    g = df.groupby(by)\n",
    "    for c in cols:\n",
    "        result[c] = df[c] - g[c].transform('mean')\n",
    "    return result\n",
    "```"
   ]
  },
  {
   "cell_type": "markdown",
   "metadata": {},
   "source": [
    "Then it is possible to write\n",
    "```python\n",
    "result = (df[df.col1 < 0]\n",
    "          .pipe(group_demean, ['key1', 'key2'], ['col1']))\n",
    "```"
   ]
  },
  {
   "cell_type": "code",
   "execution_count": null,
   "metadata": {},
   "outputs": [],
   "source": []
  }
 ],
 "metadata": {
  "kernelspec": {
   "display_name": "Python 3",
   "language": "python",
   "name": "python3"
  },
  "language_info": {
   "codemirror_mode": {
    "name": "ipython",
    "version": 3
   },
   "file_extension": ".py",
   "mimetype": "text/x-python",
   "name": "python",
   "nbconvert_exporter": "python",
   "pygments_lexer": "ipython3",
   "version": "3.7.3"
  }
 },
 "nbformat": 4,
 "nbformat_minor": 2
}
