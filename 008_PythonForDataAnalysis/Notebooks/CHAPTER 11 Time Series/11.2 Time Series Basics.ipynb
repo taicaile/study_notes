{
 "cells": [
  {
   "cell_type": "code",
   "execution_count": 1,
   "metadata": {},
   "outputs": [],
   "source": [
    "import pandas as pd\n",
    "import numpy as np\n",
    "from datetime import datetime"
   ]
  },
  {
   "cell_type": "code",
   "execution_count": 2,
   "metadata": {},
   "outputs": [
    {
     "data": {
      "text/plain": [
       "[datetime.datetime(2011, 1, 2, 0, 0),\n",
       " datetime.datetime(2011, 1, 5, 0, 0),\n",
       " datetime.datetime(2011, 1, 7, 0, 0),\n",
       " datetime.datetime(2011, 1, 8, 0, 0),\n",
       " datetime.datetime(2011, 1, 10, 0, 0),\n",
       " datetime.datetime(2011, 1, 12, 0, 0)]"
      ]
     },
     "execution_count": 2,
     "metadata": {},
     "output_type": "execute_result"
    }
   ],
   "source": [
    "dates = [datetime(2011, 1, 2), datetime(2011, 1, 5),\n",
    "          datetime(2011, 1, 7), datetime(2011, 1, 8),\n",
    "          datetime(2011, 1, 10), datetime(2011, 1, 12)]\n",
    "dates"
   ]
  },
  {
   "cell_type": "code",
   "execution_count": 3,
   "metadata": {},
   "outputs": [
    {
     "data": {
      "text/plain": [
       "2011-01-02   -0.636153\n",
       "2011-01-05   -2.300329\n",
       "2011-01-07    0.055867\n",
       "2011-01-08   -0.313571\n",
       "2011-01-10   -0.682626\n",
       "2011-01-12   -1.894600\n",
       "dtype: float64"
      ]
     },
     "execution_count": 3,
     "metadata": {},
     "output_type": "execute_result"
    }
   ],
   "source": [
    "ts = pd.Series(np.random.randn(6), index=dates)\n",
    "ts"
   ]
  },
  {
   "cell_type": "code",
   "execution_count": 4,
   "metadata": {},
   "outputs": [
    {
     "data": {
      "text/plain": [
       "DatetimeIndex(['2011-01-02', '2011-01-05', '2011-01-07', '2011-01-08',\n",
       "               '2011-01-10', '2011-01-12'],\n",
       "              dtype='datetime64[ns]', freq=None)"
      ]
     },
     "execution_count": 4,
     "metadata": {},
     "output_type": "execute_result"
    }
   ],
   "source": [
    "ts.index"
   ]
  },
  {
   "cell_type": "code",
   "execution_count": 5,
   "metadata": {},
   "outputs": [
    {
     "data": {
      "text/plain": [
       "2011-01-02   -1.272306\n",
       "2011-01-05         NaN\n",
       "2011-01-07    0.111735\n",
       "2011-01-08         NaN\n",
       "2011-01-10   -1.365253\n",
       "2011-01-12         NaN\n",
       "dtype: float64"
      ]
     },
     "execution_count": 5,
     "metadata": {},
     "output_type": "execute_result"
    }
   ],
   "source": [
    "# like other series, arithmetic operations between differntly indexed time series automatically align on the dates:\n",
    "ts + ts[::2]\n",
    "# Recall that  ts[::2]  selects every second element in  ts ."
   ]
  },
  {
   "cell_type": "code",
   "execution_count": 6,
   "metadata": {},
   "outputs": [
    {
     "data": {
      "text/plain": [
       "dtype('<M8[ns]')"
      ]
     },
     "execution_count": 6,
     "metadata": {},
     "output_type": "execute_result"
    }
   ],
   "source": [
    "ts.index.dtype"
   ]
  },
  {
   "cell_type": "code",
   "execution_count": 7,
   "metadata": {},
   "outputs": [
    {
     "data": {
      "text/plain": [
       "Timestamp('2011-01-02 00:00:00')"
      ]
     },
     "execution_count": 7,
     "metadata": {},
     "output_type": "execute_result"
    }
   ],
   "source": [
    "stamp = ts.index[0]\n",
    "stamp"
   ]
  },
  {
   "cell_type": "markdown",
   "metadata": {},
   "source": [
    "### Indexing, Selection, Subsetting"
   ]
  },
  {
   "cell_type": "code",
   "execution_count": 8,
   "metadata": {},
   "outputs": [
    {
     "data": {
      "text/plain": [
       "2011-01-02   -0.636153\n",
       "2011-01-05   -2.300329\n",
       "2011-01-07    0.055867\n",
       "2011-01-08   -0.313571\n",
       "2011-01-10   -0.682626\n",
       "2011-01-12   -1.894600\n",
       "dtype: float64"
      ]
     },
     "execution_count": 8,
     "metadata": {},
     "output_type": "execute_result"
    }
   ],
   "source": [
    "ts"
   ]
  },
  {
   "cell_type": "code",
   "execution_count": 9,
   "metadata": {},
   "outputs": [
    {
     "data": {
      "text/plain": [
       "0.05586749540857904"
      ]
     },
     "execution_count": 9,
     "metadata": {},
     "output_type": "execute_result"
    }
   ],
   "source": [
    "stamp = ts.index[2]\n",
    "ts[stamp]"
   ]
  },
  {
   "cell_type": "code",
   "execution_count": 10,
   "metadata": {},
   "outputs": [
    {
     "data": {
      "text/plain": [
       "-0.682626329896845"
      ]
     },
     "execution_count": 10,
     "metadata": {},
     "output_type": "execute_result"
    }
   ],
   "source": [
    "# you can also pass a string that is interpretable as a date:\n",
    "ts['1/10/2011']"
   ]
  },
  {
   "cell_type": "code",
   "execution_count": 11,
   "metadata": {},
   "outputs": [
    {
     "data": {
      "text/plain": [
       "-0.682626329896845"
      ]
     },
     "execution_count": 11,
     "metadata": {},
     "output_type": "execute_result"
    }
   ],
   "source": [
    "ts['20110110']"
   ]
  },
  {
   "cell_type": "code",
   "execution_count": 12,
   "metadata": {},
   "outputs": [
    {
     "data": {
      "text/plain": [
       "2000-01-01    1.873378\n",
       "2000-01-02   -0.641806\n",
       "2000-01-03    2.980709\n",
       "2000-01-04    0.719790\n",
       "2000-01-05   -0.845008\n",
       "Freq: D, dtype: float64"
      ]
     },
     "execution_count": 12,
     "metadata": {},
     "output_type": "execute_result"
    }
   ],
   "source": [
    "longer_ts = pd.Series(np.random.randn(1000),\n",
    "                       index=pd.date_range('1/1/2000', periods=1000))\n",
    "longer_ts.head()"
   ]
  },
  {
   "cell_type": "code",
   "execution_count": 13,
   "metadata": {},
   "outputs": [
    {
     "data": {
      "text/plain": [
       "2001-01-01    0.818273\n",
       "2001-01-02    2.331313\n",
       "2001-01-03   -0.058021\n",
       "2001-01-04   -0.367350\n",
       "2001-01-05    0.341210\n",
       "2001-01-06    0.879576\n",
       "2001-01-07    0.961913\n",
       "2001-01-08    0.552947\n",
       "2001-01-09   -0.386834\n",
       "2001-01-10   -0.377964\n",
       "2001-01-11    0.457782\n",
       "2001-01-12    1.063694\n",
       "2001-01-13    0.668055\n",
       "2001-01-14   -0.234558\n",
       "2001-01-15    0.828045\n",
       "2001-01-16   -0.515579\n",
       "2001-01-17    0.085830\n",
       "2001-01-18   -2.833469\n",
       "2001-01-19    0.664051\n",
       "2001-01-20   -1.194400\n",
       "2001-01-21   -0.155312\n",
       "2001-01-22    0.371744\n",
       "2001-01-23    0.452660\n",
       "2001-01-24    0.986963\n",
       "2001-01-25    1.612715\n",
       "2001-01-26   -1.304497\n",
       "2001-01-27   -1.717970\n",
       "2001-01-28    2.006967\n",
       "2001-01-29   -1.285353\n",
       "2001-01-30   -1.412324\n",
       "                ...   \n",
       "2001-12-02    0.744375\n",
       "2001-12-03   -0.173689\n",
       "2001-12-04   -0.320782\n",
       "2001-12-05   -0.178408\n",
       "2001-12-06   -0.955729\n",
       "2001-12-07   -0.214993\n",
       "2001-12-08    0.698850\n",
       "2001-12-09   -0.936737\n",
       "2001-12-10    1.524911\n",
       "2001-12-11    0.470271\n",
       "2001-12-12   -0.076322\n",
       "2001-12-13   -0.775157\n",
       "2001-12-14    1.083904\n",
       "2001-12-15   -0.835974\n",
       "2001-12-16   -1.083029\n",
       "2001-12-17    2.035476\n",
       "2001-12-18   -0.347511\n",
       "2001-12-19   -1.692769\n",
       "2001-12-20   -0.968404\n",
       "2001-12-21    2.247839\n",
       "2001-12-22    0.350133\n",
       "2001-12-23    0.061794\n",
       "2001-12-24   -0.586383\n",
       "2001-12-25   -1.045806\n",
       "2001-12-26    0.834383\n",
       "2001-12-27   -0.037283\n",
       "2001-12-28   -0.514472\n",
       "2001-12-29   -0.793137\n",
       "2001-12-30   -1.721941\n",
       "2001-12-31   -2.205627\n",
       "Freq: D, Length: 365, dtype: float64"
      ]
     },
     "execution_count": 13,
     "metadata": {},
     "output_type": "execute_result"
    }
   ],
   "source": [
    "longer_ts['2001']"
   ]
  },
  {
   "cell_type": "code",
   "execution_count": 14,
   "metadata": {},
   "outputs": [
    {
     "data": {
      "text/plain": [
       "2001-05-01    0.663486\n",
       "2001-05-02    0.012270\n",
       "2001-05-03   -0.895837\n",
       "2001-05-04   -2.027207\n",
       "2001-05-05    1.548834\n",
       "2001-05-06    1.480829\n",
       "2001-05-07   -0.166327\n",
       "2001-05-08   -0.425043\n",
       "2001-05-09    0.241040\n",
       "2001-05-10    0.612667\n",
       "2001-05-11    0.165151\n",
       "2001-05-12    0.273764\n",
       "2001-05-13    0.101350\n",
       "2001-05-14   -1.428506\n",
       "2001-05-15   -0.960387\n",
       "2001-05-16   -0.620314\n",
       "2001-05-17   -0.202825\n",
       "2001-05-18    0.644530\n",
       "2001-05-19    1.224208\n",
       "2001-05-20    1.673453\n",
       "2001-05-21    1.837587\n",
       "2001-05-22    0.103364\n",
       "2001-05-23   -0.895163\n",
       "2001-05-24    0.136033\n",
       "2001-05-25   -0.340770\n",
       "2001-05-26   -1.248025\n",
       "2001-05-27   -1.056746\n",
       "2001-05-28    1.140258\n",
       "2001-05-29    0.817164\n",
       "2001-05-30    0.758041\n",
       "2001-05-31   -3.088379\n",
       "Freq: D, dtype: float64"
      ]
     },
     "execution_count": 14,
     "metadata": {},
     "output_type": "execute_result"
    }
   ],
   "source": [
    "# this also works if you specify the month\n",
    "longer_ts['2001-05']"
   ]
  },
  {
   "cell_type": "code",
   "execution_count": 15,
   "metadata": {},
   "outputs": [
    {
     "data": {
      "text/plain": [
       "2011-01-07    0.055867\n",
       "2011-01-08   -0.313571\n",
       "2011-01-10   -0.682626\n",
       "2011-01-12   -1.894600\n",
       "dtype: float64"
      ]
     },
     "execution_count": 15,
     "metadata": {},
     "output_type": "execute_result"
    }
   ],
   "source": [
    "# slicing with datetime objects works as well\n",
    "ts[datetime(2011, 1, 7):]"
   ]
  },
  {
   "cell_type": "code",
   "execution_count": 16,
   "metadata": {},
   "outputs": [
    {
     "data": {
      "text/plain": [
       "2011-01-02   -0.636153\n",
       "2011-01-05   -2.300329\n",
       "2011-01-07    0.055867\n",
       "2011-01-08   -0.313571\n",
       "2011-01-10   -0.682626\n",
       "2011-01-12   -1.894600\n",
       "dtype: float64"
      ]
     },
     "execution_count": 16,
     "metadata": {},
     "output_type": "execute_result"
    }
   ],
   "source": [
    "# range query\n",
    "ts"
   ]
  },
  {
   "cell_type": "code",
   "execution_count": 17,
   "metadata": {},
   "outputs": [
    {
     "data": {
      "text/plain": [
       "2011-01-07    0.055867\n",
       "2011-01-08   -0.313571\n",
       "2011-01-10   -0.682626\n",
       "dtype: float64"
      ]
     },
     "execution_count": 17,
     "metadata": {},
     "output_type": "execute_result"
    }
   ],
   "source": [
    "ts['1/6/2011':'1/11/2011']"
   ]
  },
  {
   "cell_type": "code",
   "execution_count": 18,
   "metadata": {},
   "outputs": [
    {
     "data": {
      "text/plain": [
       "2011-01-02   -0.636153\n",
       "2011-01-05   -2.300329\n",
       "2011-01-07    0.055867\n",
       "2011-01-08   -0.313571\n",
       "dtype: float64"
      ]
     },
     "execution_count": 18,
     "metadata": {},
     "output_type": "execute_result"
    }
   ],
   "source": [
    "# slice a Series between two dates:\n",
    "ts.truncate(after = '1/9/2011')"
   ]
  },
  {
   "cell_type": "code",
   "execution_count": 19,
   "metadata": {},
   "outputs": [
    {
     "data": {
      "text/html": [
       "<div>\n",
       "<style scoped>\n",
       "    .dataframe tbody tr th:only-of-type {\n",
       "        vertical-align: middle;\n",
       "    }\n",
       "\n",
       "    .dataframe tbody tr th {\n",
       "        vertical-align: top;\n",
       "    }\n",
       "\n",
       "    .dataframe thead th {\n",
       "        text-align: right;\n",
       "    }\n",
       "</style>\n",
       "<table border=\"1\" class=\"dataframe\">\n",
       "  <thead>\n",
       "    <tr style=\"text-align: right;\">\n",
       "      <th></th>\n",
       "      <th>Colorado</th>\n",
       "      <th>Texas</th>\n",
       "      <th>New York</th>\n",
       "      <th>Ohio</th>\n",
       "    </tr>\n",
       "  </thead>\n",
       "  <tbody>\n",
       "    <tr>\n",
       "      <th>2000-01-05</th>\n",
       "      <td>-0.254711</td>\n",
       "      <td>-1.421973</td>\n",
       "      <td>1.589101</td>\n",
       "      <td>0.484182</td>\n",
       "    </tr>\n",
       "    <tr>\n",
       "      <th>2000-01-12</th>\n",
       "      <td>0.465890</td>\n",
       "      <td>-0.181969</td>\n",
       "      <td>0.920234</td>\n",
       "      <td>0.985649</td>\n",
       "    </tr>\n",
       "    <tr>\n",
       "      <th>2000-01-19</th>\n",
       "      <td>-0.187776</td>\n",
       "      <td>0.009720</td>\n",
       "      <td>-1.232370</td>\n",
       "      <td>-0.593439</td>\n",
       "    </tr>\n",
       "    <tr>\n",
       "      <th>2000-01-26</th>\n",
       "      <td>0.477443</td>\n",
       "      <td>-0.140943</td>\n",
       "      <td>1.279290</td>\n",
       "      <td>-0.145670</td>\n",
       "    </tr>\n",
       "    <tr>\n",
       "      <th>2000-02-02</th>\n",
       "      <td>-0.751637</td>\n",
       "      <td>0.763858</td>\n",
       "      <td>-0.122931</td>\n",
       "      <td>0.237598</td>\n",
       "    </tr>\n",
       "  </tbody>\n",
       "</table>\n",
       "</div>"
      ],
      "text/plain": [
       "            Colorado     Texas  New York      Ohio\n",
       "2000-01-05 -0.254711 -1.421973  1.589101  0.484182\n",
       "2000-01-12  0.465890 -0.181969  0.920234  0.985649\n",
       "2000-01-19 -0.187776  0.009720 -1.232370 -0.593439\n",
       "2000-01-26  0.477443 -0.140943  1.279290 -0.145670\n",
       "2000-02-02 -0.751637  0.763858 -0.122931  0.237598"
      ]
     },
     "execution_count": 19,
     "metadata": {},
     "output_type": "execute_result"
    }
   ],
   "source": [
    "# indexing on DateFrame's rows\n",
    "dates = pd.date_range('1/1/2000', periods=100, freq='W-WED')\n",
    "long_df = pd.DataFrame(np.random.randn(100, 4),\n",
    "                        index=dates,\n",
    "                        columns=['Colorado', 'Texas',\n",
    "                                 'New York', 'Ohio'])\n",
    "long_df.head()"
   ]
  },
  {
   "cell_type": "code",
   "execution_count": 20,
   "metadata": {},
   "outputs": [
    {
     "data": {
      "text/html": [
       "<div>\n",
       "<style scoped>\n",
       "    .dataframe tbody tr th:only-of-type {\n",
       "        vertical-align: middle;\n",
       "    }\n",
       "\n",
       "    .dataframe tbody tr th {\n",
       "        vertical-align: top;\n",
       "    }\n",
       "\n",
       "    .dataframe thead th {\n",
       "        text-align: right;\n",
       "    }\n",
       "</style>\n",
       "<table border=\"1\" class=\"dataframe\">\n",
       "  <thead>\n",
       "    <tr style=\"text-align: right;\">\n",
       "      <th></th>\n",
       "      <th>Colorado</th>\n",
       "      <th>Texas</th>\n",
       "      <th>New York</th>\n",
       "      <th>Ohio</th>\n",
       "    </tr>\n",
       "  </thead>\n",
       "  <tbody>\n",
       "    <tr>\n",
       "      <th>2001-05-02</th>\n",
       "      <td>0.386389</td>\n",
       "      <td>-1.047686</td>\n",
       "      <td>0.567859</td>\n",
       "      <td>-1.141266</td>\n",
       "    </tr>\n",
       "    <tr>\n",
       "      <th>2001-05-09</th>\n",
       "      <td>-0.553261</td>\n",
       "      <td>0.434090</td>\n",
       "      <td>1.307415</td>\n",
       "      <td>-0.642575</td>\n",
       "    </tr>\n",
       "    <tr>\n",
       "      <th>2001-05-16</th>\n",
       "      <td>-1.076004</td>\n",
       "      <td>0.163651</td>\n",
       "      <td>-0.067564</td>\n",
       "      <td>-0.832595</td>\n",
       "    </tr>\n",
       "    <tr>\n",
       "      <th>2001-05-23</th>\n",
       "      <td>0.249052</td>\n",
       "      <td>-1.996883</td>\n",
       "      <td>0.592398</td>\n",
       "      <td>-1.285280</td>\n",
       "    </tr>\n",
       "    <tr>\n",
       "      <th>2001-05-30</th>\n",
       "      <td>1.177293</td>\n",
       "      <td>-0.101726</td>\n",
       "      <td>1.073611</td>\n",
       "      <td>-0.242440</td>\n",
       "    </tr>\n",
       "  </tbody>\n",
       "</table>\n",
       "</div>"
      ],
      "text/plain": [
       "            Colorado     Texas  New York      Ohio\n",
       "2001-05-02  0.386389 -1.047686  0.567859 -1.141266\n",
       "2001-05-09 -0.553261  0.434090  1.307415 -0.642575\n",
       "2001-05-16 -1.076004  0.163651 -0.067564 -0.832595\n",
       "2001-05-23  0.249052 -1.996883  0.592398 -1.285280\n",
       "2001-05-30  1.177293 -0.101726  1.073611 -0.242440"
      ]
     },
     "execution_count": 20,
     "metadata": {},
     "output_type": "execute_result"
    }
   ],
   "source": [
    "long_df.loc['5-2001']"
   ]
  },
  {
   "cell_type": "markdown",
   "metadata": {},
   "source": [
    "### Time Series with Duplicate Indices"
   ]
  },
  {
   "cell_type": "code",
   "execution_count": 21,
   "metadata": {},
   "outputs": [],
   "source": [
    "dates = pd.DatetimeIndex(['1/1/2000', '1/2/2000', '1/2/2000',\n",
    "                           '1/2/2000', '1/3/2000'])"
   ]
  },
  {
   "cell_type": "code",
   "execution_count": 22,
   "metadata": {},
   "outputs": [
    {
     "data": {
      "text/plain": [
       "2000-01-01    0\n",
       "2000-01-02    1\n",
       "2000-01-02    2\n",
       "2000-01-02    3\n",
       "2000-01-03    4\n",
       "dtype: int32"
      ]
     },
     "execution_count": 22,
     "metadata": {},
     "output_type": "execute_result"
    }
   ],
   "source": [
    "dup_ts = pd.Series(np.arange(5), index=dates)\n",
    "dup_ts"
   ]
  },
  {
   "cell_type": "code",
   "execution_count": 23,
   "metadata": {},
   "outputs": [
    {
     "data": {
      "text/plain": [
       "False"
      ]
     },
     "execution_count": 23,
     "metadata": {},
     "output_type": "execute_result"
    }
   ],
   "source": [
    "# check the index is not unique by checking its is_unique property\n",
    "dup_ts.index.is_unique"
   ]
  },
  {
   "cell_type": "code",
   "execution_count": 24,
   "metadata": {},
   "outputs": [
    {
     "data": {
      "text/plain": [
       "4"
      ]
     },
     "execution_count": 24,
     "metadata": {},
     "output_type": "execute_result"
    }
   ],
   "source": [
    "dup_ts['1/3/2000']  # not duplicated"
   ]
  },
  {
   "cell_type": "code",
   "execution_count": 25,
   "metadata": {},
   "outputs": [
    {
     "data": {
      "text/plain": [
       "2000-01-02    1\n",
       "2000-01-02    2\n",
       "2000-01-02    3\n",
       "dtype: int32"
      ]
     },
     "execution_count": 25,
     "metadata": {},
     "output_type": "execute_result"
    }
   ],
   "source": [
    "dup_ts['1/2/2000']  # duplicated"
   ]
  },
  {
   "cell_type": "code",
   "execution_count": 26,
   "metadata": {},
   "outputs": [
    {
     "data": {
      "text/plain": [
       "2000-01-01    0\n",
       "2000-01-02    2\n",
       "2000-01-03    4\n",
       "dtype: int32"
      ]
     },
     "execution_count": 26,
     "metadata": {},
     "output_type": "execute_result"
    }
   ],
   "source": [
    "# suppose you want to aggregate the data having non-unique timestamps.\n",
    "# one way to do this is to use groupby and pass level=0\n",
    "grouped = dup_ts.groupby(level=0)\n",
    "grouped.mean()"
   ]
  },
  {
   "cell_type": "code",
   "execution_count": 27,
   "metadata": {},
   "outputs": [
    {
     "data": {
      "text/plain": [
       "2000-01-01    1\n",
       "2000-01-02    3\n",
       "2000-01-03    1\n",
       "dtype: int64"
      ]
     },
     "execution_count": 27,
     "metadata": {},
     "output_type": "execute_result"
    }
   ],
   "source": [
    "grouped.count()"
   ]
  },
  {
   "cell_type": "code",
   "execution_count": null,
   "metadata": {},
   "outputs": [],
   "source": []
  }
 ],
 "metadata": {
  "kernelspec": {
   "display_name": "Python 3",
   "language": "python",
   "name": "python3"
  },
  "language_info": {
   "codemirror_mode": {
    "name": "ipython",
    "version": 3
   },
   "file_extension": ".py",
   "mimetype": "text/x-python",
   "name": "python",
   "nbconvert_exporter": "python",
   "pygments_lexer": "ipython3",
   "version": "3.7.3"
  }
 },
 "nbformat": 4,
 "nbformat_minor": 2
}
