{
 "cells": [
  {
   "cell_type": "code",
   "execution_count": 1,
   "metadata": {},
   "outputs": [
    {
     "name": "stdout",
     "output_type": "stream",
     "text": [
      "[[-0.06637729  1.25024178 -0.61283906  0.94650752]\n",
      " [-0.40385274  0.20153767 -1.86519397 -0.05582097]\n",
      " [ 2.10878716 -0.81741684  0.02041538 -0.27464963]\n",
      " [ 0.59694076  1.17820228 -0.21917156 -2.1736246 ]]\n"
     ]
    }
   ],
   "source": [
    "# standard normal distribution\n",
    "import numpy as np\n",
    "samples = np.random.normal(size=(4,4))\n",
    "print(samples)"
   ]
  },
  {
   "cell_type": "code",
   "execution_count": 2,
   "metadata": {},
   "outputs": [
    {
     "name": "stdout",
     "output_type": "stream",
     "text": [
      "1.27 s ± 29.2 ms per loop (mean ± std. dev. of 7 runs, 1 loop each)\n",
      "43.2 ms ± 944 µs per loop (mean ± std. dev. of 7 runs, 10 loops each)\n"
     ]
    }
   ],
   "source": [
    "# build-in random module only samples one value at time\n",
    "from random import normalvariate\n",
    "N = 1000000\n",
    "%timeit samples = [normalvariate(0, 1) for _ in range(N)]\n",
    "%timeit np.random.normal(size=N)"
   ]
  },
  {
   "cell_type": "code",
   "execution_count": 3,
   "metadata": {},
   "outputs": [
    {
     "name": "stdout",
     "output_type": "stream",
     "text": [
      "[ 0.47143516 -1.19097569  1.43270697 -0.3126519  -0.72058873  0.88716294\n",
      "  0.85958841 -0.6365235   0.01569637 -2.24268495]\n",
      "[ 1.15003572  0.99194602  0.95332413 -2.02125482 -0.33407737  0.00211836\n",
      "  0.40545341  0.28909194  1.32115819 -1.54690555]\n",
      "[-0.20264632 -0.65596934  0.19342138  0.55343891  1.31815155 -0.46930528\n",
      "  0.67555409 -1.81702723 -0.18310854  1.05896919]\n"
     ]
    }
   ],
   "source": [
    "# set the seed, this will influence all random functions, global setting\n",
    "np.random.seed(1234)\n",
    "print(np.random.randn(10))\n",
    "print(np.random.randn(10))\n",
    "print(np.random.randn(10))"
   ]
  },
  {
   "cell_type": "code",
   "execution_count": 4,
   "metadata": {},
   "outputs": [
    {
     "name": "stdout",
     "output_type": "stream",
     "text": [
      "[ 0.47143516 -1.19097569  1.43270697 -0.3126519  -0.72058873  0.88716294\n",
      "  0.85958841 -0.6365235   0.01569637 -2.24268495]\n"
     ]
    }
   ],
   "source": [
    "# isolated\n",
    "rng = np.random.RandomState(1234)\n",
    "print(rng.randn(10))"
   ]
  },
  {
   "cell_type": "markdown",
   "metadata": {},
   "source": [
    "![](./figs/4-8.jpg)"
   ]
  },
  {
   "cell_type": "code",
   "execution_count": null,
   "metadata": {},
   "outputs": [],
   "source": []
  }
 ],
 "metadata": {
  "kernelspec": {
   "display_name": "Python 3",
   "language": "python",
   "name": "python3"
  },
  "language_info": {
   "codemirror_mode": {
    "name": "ipython",
    "version": 3
   },
   "file_extension": ".py",
   "mimetype": "text/x-python",
   "name": "python",
   "nbconvert_exporter": "python",
   "pygments_lexer": "ipython3",
   "version": "3.7.3"
  }
 },
 "nbformat": 4,
 "nbformat_minor": 2
}
