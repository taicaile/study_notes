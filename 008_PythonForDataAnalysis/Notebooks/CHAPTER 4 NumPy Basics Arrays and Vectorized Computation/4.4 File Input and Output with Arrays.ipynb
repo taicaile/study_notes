{
 "cells": [
  {
   "cell_type": "markdown",
   "metadata": {},
   "source": [
    "NumPy is able to save and load data to and from disk either int text or binary format.\n",
    "\n",
    "np.save and np.load are the two workhourse functions for efficiently saving and loading array data on disk."
   ]
  },
  {
   "cell_type": "code",
   "execution_count": 1,
   "metadata": {},
   "outputs": [],
   "source": [
    "import numpy as np\n",
    "arr = np.arange(10)\n",
    "np.save(\"some_array\", arr)"
   ]
  },
  {
   "cell_type": "code",
   "execution_count": 2,
   "metadata": {},
   "outputs": [
    {
     "data": {
      "text/plain": [
       "['.ipynb_checkpoints',\n",
       " '4.1 The NumPy ndarray A Multidimensional Array Object.ipynb',\n",
       " '4.2 Universal Functions Fast Element-Wise Array Functions.ipynb',\n",
       " '4.3 Array-Oriented Programming with Arrays.ipynb',\n",
       " '4.4 File Input and Output with Arrays.ipynb',\n",
       " 'arrays_compressed.npz',\n",
       " 'array_archive.npz',\n",
       " 'figs',\n",
       " 'some_array.npy']"
      ]
     },
     "execution_count": 2,
     "metadata": {},
     "output_type": "execute_result"
    }
   ],
   "source": [
    "import os\n",
    "os.listdir()"
   ]
  },
  {
   "cell_type": "code",
   "execution_count": 3,
   "metadata": {},
   "outputs": [
    {
     "name": "stdout",
     "output_type": "stream",
     "text": [
      "[0 1 2 3 4 5 6 7 8 9]\n"
     ]
    }
   ],
   "source": [
    "print(np.load('some_array.npy'))"
   ]
  },
  {
   "cell_type": "code",
   "execution_count": 4,
   "metadata": {},
   "outputs": [],
   "source": [
    "# save multiple arrays \n",
    "np.savez(\"array_archive.npz\", a = arr, b = arr)"
   ]
  },
  {
   "cell_type": "code",
   "execution_count": 5,
   "metadata": {},
   "outputs": [
    {
     "data": {
      "text/plain": [
       "['.ipynb_checkpoints',\n",
       " '4.1 The NumPy ndarray A Multidimensional Array Object.ipynb',\n",
       " '4.2 Universal Functions Fast Element-Wise Array Functions.ipynb',\n",
       " '4.3 Array-Oriented Programming with Arrays.ipynb',\n",
       " '4.4 File Input and Output with Arrays.ipynb',\n",
       " 'arrays_compressed.npz',\n",
       " 'array_archive.npz',\n",
       " 'figs',\n",
       " 'some_array.npy']"
      ]
     },
     "execution_count": 5,
     "metadata": {},
     "output_type": "execute_result"
    }
   ],
   "source": [
    "os.listdir()"
   ]
  },
  {
   "cell_type": "code",
   "execution_count": 6,
   "metadata": {},
   "outputs": [
    {
     "data": {
      "text/plain": [
       "array([0, 1, 2, 3, 4, 5, 6, 7, 8, 9])"
      ]
     },
     "execution_count": 6,
     "metadata": {},
     "output_type": "execute_result"
    }
   ],
   "source": [
    "arch = np.load('array_archive.npz')\n",
    "arch['b']"
   ]
  },
  {
   "cell_type": "code",
   "execution_count": 7,
   "metadata": {},
   "outputs": [],
   "source": [
    "# compressed instead\n",
    "np.savez_compressed('arrays_compressed.npz', z=arr, b=arr)"
   ]
  },
  {
   "cell_type": "code",
   "execution_count": null,
   "metadata": {},
   "outputs": [],
   "source": []
  }
 ],
 "metadata": {
  "kernelspec": {
   "display_name": "Python 3",
   "language": "python",
   "name": "python3"
  },
  "language_info": {
   "codemirror_mode": {
    "name": "ipython",
    "version": 3
   },
   "file_extension": ".py",
   "mimetype": "text/x-python",
   "name": "python",
   "nbconvert_exporter": "python",
   "pygments_lexer": "ipython3",
   "version": "3.7.3"
  }
 },
 "nbformat": 4,
 "nbformat_minor": 2
}
