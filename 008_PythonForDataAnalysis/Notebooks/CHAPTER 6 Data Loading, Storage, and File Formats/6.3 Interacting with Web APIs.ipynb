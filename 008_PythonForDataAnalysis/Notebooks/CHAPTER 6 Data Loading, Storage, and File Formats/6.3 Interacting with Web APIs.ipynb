{
 "cells": [
  {
   "cell_type": "code",
   "execution_count": 1,
   "metadata": {},
   "outputs": [],
   "source": [
    "# to find the last 30 GitHub issues for pandas on GitHub, we can make a GET HTTP request\n",
    "# using the add-on requests library\n",
    "import requests\n",
    "import pandas as pd\n",
    "import numpy as np"
   ]
  },
  {
   "cell_type": "code",
   "execution_count": 2,
   "metadata": {},
   "outputs": [
    {
     "data": {
      "text/plain": [
       "<Response [200]>"
      ]
     },
     "execution_count": 2,
     "metadata": {},
     "output_type": "execute_result"
    }
   ],
   "source": [
    "url = 'https://api.github.com/repos/pandas-dev/pandas/issues'\n",
    "resp = requests.get(url)\n",
    "resp"
   ]
  },
  {
   "cell_type": "code",
   "execution_count": 3,
   "metadata": {
    "scrolled": false
   },
   "outputs": [
    {
     "data": {
      "text/plain": [
       "'Bump python_requires to 3.5.2'"
      ]
     },
     "execution_count": 3,
     "metadata": {},
     "output_type": "execute_result"
    }
   ],
   "source": [
    "data = resp.json()\n",
    "data[0]['title']"
   ]
  },
  {
   "cell_type": "code",
   "execution_count": 4,
   "metadata": {},
   "outputs": [
    {
     "data": {
      "text/html": [
       "<div>\n",
       "<style scoped>\n",
       "    .dataframe tbody tr th:only-of-type {\n",
       "        vertical-align: middle;\n",
       "    }\n",
       "\n",
       "    .dataframe tbody tr th {\n",
       "        vertical-align: top;\n",
       "    }\n",
       "\n",
       "    .dataframe thead th {\n",
       "        text-align: right;\n",
       "    }\n",
       "</style>\n",
       "<table border=\"1\" class=\"dataframe\">\n",
       "  <thead>\n",
       "    <tr style=\"text-align: right;\">\n",
       "      <th></th>\n",
       "      <th>number</th>\n",
       "      <th>title</th>\n",
       "      <th>labels</th>\n",
       "      <th>state</th>\n",
       "    </tr>\n",
       "  </thead>\n",
       "  <tbody>\n",
       "    <tr>\n",
       "      <th>0</th>\n",
       "      <td>27116</td>\n",
       "      <td>Bump python_requires to 3.5.2</td>\n",
       "      <td>[{'id': 129350, 'node_id': 'MDU6TGFiZWwxMjkzNT...</td>\n",
       "      <td>open</td>\n",
       "    </tr>\n",
       "    <tr>\n",
       "      <th>1</th>\n",
       "      <td>27115</td>\n",
       "      <td>Added keep_links=False</td>\n",
       "      <td>[{'id': 49254273, 'node_id': 'MDU6TGFiZWw0OTI1...</td>\n",
       "      <td>open</td>\n",
       "    </tr>\n",
       "    <tr>\n",
       "      <th>2</th>\n",
       "      <td>27114</td>\n",
       "      <td>Decoupled more xlrd reading tests from openpyxl</td>\n",
       "      <td>[{'id': 49254273, 'node_id': 'MDU6TGFiZWw0OTI1...</td>\n",
       "      <td>open</td>\n",
       "    </tr>\n",
       "    <tr>\n",
       "      <th>3</th>\n",
       "      <td>27113</td>\n",
       "      <td>DEPR: Change current DeprecationWarnings to Fu...</td>\n",
       "      <td>[{'id': 87485152, 'node_id': 'MDU6TGFiZWw4NzQ4...</td>\n",
       "      <td>open</td>\n",
       "    </tr>\n",
       "    <tr>\n",
       "      <th>4</th>\n",
       "      <td>27111</td>\n",
       "      <td>TST: openpyxl tests fail if xlrd is not installed</td>\n",
       "      <td>[{'id': 49254273, 'node_id': 'MDU6TGFiZWw0OTI1...</td>\n",
       "      <td>open</td>\n",
       "    </tr>\n",
       "    <tr>\n",
       "      <th>5</th>\n",
       "      <td>27110</td>\n",
       "      <td>BUG: Fix indexing on DatetimeBlock</td>\n",
       "      <td>[{'id': 76811, 'node_id': 'MDU6TGFiZWw3NjgxMQ=...</td>\n",
       "      <td>open</td>\n",
       "    </tr>\n",
       "    <tr>\n",
       "      <th>6</th>\n",
       "      <td>27109</td>\n",
       "      <td>DEPR: remove deprecated date casting; closes #...</td>\n",
       "      <td>[{'id': 87485152, 'node_id': 'MDU6TGFiZWw4NzQ4...</td>\n",
       "      <td>open</td>\n",
       "    </tr>\n",
       "    <tr>\n",
       "      <th>7</th>\n",
       "      <td>27108</td>\n",
       "      <td>API: Add property to Index to disallow duplicates</td>\n",
       "      <td>[{'id': 35818298, 'node_id': 'MDU6TGFiZWwzNTgx...</td>\n",
       "      <td>open</td>\n",
       "    </tr>\n",
       "    <tr>\n",
       "      <th>8</th>\n",
       "      <td>27104</td>\n",
       "      <td>Partial indexing with list on MultiIndex with ...</td>\n",
       "      <td>[{'id': 2822098, 'node_id': 'MDU6TGFiZWwyODIyM...</td>\n",
       "      <td>open</td>\n",
       "    </tr>\n",
       "    <tr>\n",
       "      <th>9</th>\n",
       "      <td>27103</td>\n",
       "      <td>DEPR: deprecate msgpack support</td>\n",
       "      <td>[{'id': 87485152, 'node_id': 'MDU6TGFiZWw4NzQ4...</td>\n",
       "      <td>open</td>\n",
       "    </tr>\n",
       "  </tbody>\n",
       "</table>\n",
       "</div>"
      ],
      "text/plain": [
       "   number                                              title  \\\n",
       "0   27116                      Bump python_requires to 3.5.2   \n",
       "1   27115                             Added keep_links=False   \n",
       "2   27114    Decoupled more xlrd reading tests from openpyxl   \n",
       "3   27113  DEPR: Change current DeprecationWarnings to Fu...   \n",
       "4   27111  TST: openpyxl tests fail if xlrd is not installed   \n",
       "5   27110                 BUG: Fix indexing on DatetimeBlock   \n",
       "6   27109  DEPR: remove deprecated date casting; closes #...   \n",
       "7   27108  API: Add property to Index to disallow duplicates   \n",
       "8   27104  Partial indexing with list on MultiIndex with ...   \n",
       "9   27103                    DEPR: deprecate msgpack support   \n",
       "\n",
       "                                              labels state  \n",
       "0  [{'id': 129350, 'node_id': 'MDU6TGFiZWwxMjkzNT...  open  \n",
       "1  [{'id': 49254273, 'node_id': 'MDU6TGFiZWw0OTI1...  open  \n",
       "2  [{'id': 49254273, 'node_id': 'MDU6TGFiZWw0OTI1...  open  \n",
       "3  [{'id': 87485152, 'node_id': 'MDU6TGFiZWw4NzQ4...  open  \n",
       "4  [{'id': 49254273, 'node_id': 'MDU6TGFiZWw0OTI1...  open  \n",
       "5  [{'id': 76811, 'node_id': 'MDU6TGFiZWw3NjgxMQ=...  open  \n",
       "6  [{'id': 87485152, 'node_id': 'MDU6TGFiZWw4NzQ4...  open  \n",
       "7  [{'id': 35818298, 'node_id': 'MDU6TGFiZWwzNTgx...  open  \n",
       "8  [{'id': 2822098, 'node_id': 'MDU6TGFiZWwyODIyM...  open  \n",
       "9  [{'id': 87485152, 'node_id': 'MDU6TGFiZWw4NzQ4...  open  "
      ]
     },
     "execution_count": 4,
     "metadata": {},
     "output_type": "execute_result"
    }
   ],
   "source": [
    "issues = pd.DataFrame(data, columns=['number', 'title',\n",
    "                                      'labels', 'state'])\n",
    "issues[:10]"
   ]
  },
  {
   "cell_type": "code",
   "execution_count": null,
   "metadata": {},
   "outputs": [],
   "source": []
  },
  {
   "cell_type": "code",
   "execution_count": null,
   "metadata": {},
   "outputs": [],
   "source": []
  }
 ],
 "metadata": {
  "kernelspec": {
   "display_name": "Python 3",
   "language": "python",
   "name": "python3"
  },
  "language_info": {
   "codemirror_mode": {
    "name": "ipython",
    "version": 3
   },
   "file_extension": ".py",
   "mimetype": "text/x-python",
   "name": "python",
   "nbconvert_exporter": "python",
   "pygments_lexer": "ipython3",
   "version": "3.7.3"
  }
 },
 "nbformat": 4,
 "nbformat_minor": 2
}
