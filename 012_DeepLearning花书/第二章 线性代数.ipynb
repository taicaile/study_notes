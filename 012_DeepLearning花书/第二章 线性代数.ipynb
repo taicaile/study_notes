{
 "cells": [
  {
   "cell_type": "markdown",
   "metadata": {},
   "source": [
    "reference sheet : < The Matrix Cookbook (Petersen and\n",
    "Pedersen 2006 >"
   ]
  },
  {
   "cell_type": "markdown",
   "metadata": {},
   "source": [
    "## 2.1Scalars, Vectors, Matrices and Tensors"
   ]
  },
  {
   "cell_type": "markdown",
   "metadata": {},
   "source": [
    "- Scalars: A Scalars is just a single number, we usually use lower-case variable names to represent scalars.\n",
    "- Vectors: A vector is an array of numbers. Typically we give vectors lower case names written in bold typeface.\n",
    "    - $\\boldsymbol{x}_{-S}$ is the vector containing all elements of $\\boldsymbol{x}$ except for $x_1$\n",
    "- Matrices: A matrix is a 2-D array of numbers. e.g.  $\\boldsymbol{A}$\n",
    "- Tensors: array with more than two axes.\n",
    "\n",
    "In the context of deep learning, we also use less conventional notation.\n",
    "We allow the addition of matrix and a vector, yielding another matrix: \n",
    "$\\boldsymbol{C}=\\boldsymbol{A}+\\boldsymbol{b}$, the vector $\\boldsymbol{b}$ is added to each row of the matrix.\n",
    "\n",
    "This implicit copying of $\\boldsymbol{b}$ to many locations is called broadcasting."
   ]
  },
  {
   "cell_type": "markdown",
   "metadata": {},
   "source": [
    "## 2.2 Multiplying Matrices and Vectors"
   ]
  },
  {
   "cell_type": "markdown",
   "metadata": {},
   "source": [
    "Multiplication of two matrices\n",
    "$$C_{i, j}=\\sum_{k} A_{i, k} B_{k, j}$$\n",
    "\n",
    "Element-wise product\n",
    "![Element-wise product](./figs/element-wise.jpg)"
   ]
  },
  {
   "cell_type": "markdown",
   "metadata": {},
   "source": [
    "## 2.3 Identity and Inverse Matrices"
   ]
  },
  {
   "cell_type": "markdown",
   "metadata": {},
   "source": [
    " We denote the identity matrix that preserves n-dimensioonal vectors as $\\boldsymbol{I}_{n}$, and \n",
    " $$\n",
    "\\forall \\boldsymbol{x} \\in \\mathbb{R}^{n}, \\boldsymbol{I}_{n} \\boldsymbol{x}=\\boldsymbol{x}\n",
    "$$\n"
   ]
  },
  {
   "cell_type": "markdown",
   "metadata": {},
   "source": [
    "The matrix inverse of $\\boldsymbol{A}$ is denoted as $\\boldsymbol{A}^{-1}$, and it is defined as the matrix such that \n",
    "\n",
    "$$\n",
    "\\boldsymbol{A}^{-1} \\boldsymbol{A}=\\boldsymbol{I}_{n}\n",
    "$$"
   ]
  },
  {
   "cell_type": "markdown",
   "metadata": {},
   "source": [
    "## 2.4 线性相关和生成子空间\n",
    "$$\n",
    "\\begin{array}{c}\n",
    "{A x=b} \\\\ \n",
    "{A^{-1} A x=A^{-1} b} \\\\ \n",
    "{I_{n} x=A^{-1} b} \\\\ \n",
    "{x=A^{-1} b}\n",
    "\\end{array}\n",
    "$$\n",
    "如果逆矩阵$\\boldsymbol{A}^{-1}$存在, 那么对于每一个向量 $b$ 恰好存在一个解。\n",
    "\n",
    "$$\n",
    "\\left[\\begin{array}{ccc}{a_{11}} & {a_{12}} & {a_{13}} \\\\ {a_{21}} & {a_{22}} & {a_{23}} \\\\ {a_{31}} & {a_{32}} & {a_{33}}\\end{array}\\right]\\left[\\begin{array}{c}{x_{1}} \\\\ {x_{2}} \\\\ {x_{3}}\\end{array}\\right]=\\left[\\begin{array}{c}{b_{1}} \\\\ {b_{2}} \\\\ {b_{3}}\\end{array}\\right] \\Leftrightarrow\\left\\{\\begin{array}{l}{a_{11} x_{1}+a_{12} x_{2}+a_{13} x_{3}=b_{1}} \\\\ {a_{21} x_{1}+a_{22} x_{2}+a_{23} x_{3}=b_{2}} \\\\ {a_{31} x_{1}+a_{32} x_{2}+a_{33} x_{3}=b_{3}}\\end{array}\\right.\n",
    "$$\n",
    "\n",
    "确定$Ax=b$是否有解相当于确定向量$b$是否在$A$列向量的生成子空间中。\n",
    "\n",
    "要想使矩阵可逆，意味着该矩阵必须是一个方阵，并且所有列向量都是线性无关的。\n",
    "\n",
    "一个列向量相关的方阵称为奇异的(singular).\n",
    "\n",
    "从上边的公式可以看出，b可以看作是A列向量的线性组合。"
   ]
  },
  {
   "cell_type": "markdown",
   "metadata": {},
   "source": [
    "## 2.5 Norms\n",
    "The $L^p$ norm is given by \n",
    "$$\n",
    "\\|\\boldsymbol{x}\\|_{p}=\\left(\\sum_{i}\\left|x_{i}\\right|^{p}\\right)^{\\frac{1}{p}}\n",
    "$$\n",
    "for $p \\in \\mathbb{R}, p \\geq 1$\n",
    "\n",
    "note $x$ is a vector."
   ]
  },
  {
   "cell_type": "markdown",
   "metadata": {},
   "source": [
    "On an intuitive level, the norm of a vector $x$ measures the distance from the origin to the point $x$.\n",
    "\n",
    "The $L^2$ norm, with $p=2$, is known as the Euclidean norm. it is often denoted simply as $\\|\\boldsymbol{x}\\|$ with the subscript 2 omitted."
   ]
  },
  {
   "cell_type": "markdown",
   "metadata": {},
   "source": [
    "## 2.6 特殊类型的矩阵和向量"
   ]
  },
  {
   "cell_type": "markdown",
   "metadata": {},
   "source": [
    "- 对角矩阵（diagonal matrix）只在主对角线上含有非零元素，其他位置都是零。\n",
    "- 单位矩阵，对角元素全都是1.\n",
    "- 对称矩阵是转置和自己相等的矩阵:\n",
    "$$\n",
    "A=A^{\\top}\n",
    "$$"
   ]
  },
  {
   "cell_type": "markdown",
   "metadata": {},
   "source": [
    "## 2.7 特征分解"
   ]
  },
  {
   "cell_type": "markdown",
   "metadata": {},
   "source": [
    "特征分解（eigendecomposition）是使用最广的矩阵分解之一，即我们将矩阵分\n",
    "解成一组特征向量和特征值。\n",
    "\n",
    "方阵A的特征向量是指与$A$相乘后相当于对该向量进行缩放的非零向量\n",
    "$$\\boldsymbol{A} \\boldsymbol{v}=\\lambda \\boldsymbol{v}$$\n",
    "这个标量$\\lambda$被称为这个特征向量对应的特征值。\n",
    "\n",
    "$$\n",
    "\\begin{aligned} A \\overrightarrow{\\mathbf{v}} &=\\lambda \\overrightarrow{\\mathbf{v}} \\\\ A \\overrightarrow{\\mathbf{v}}-\\lambda I \\overrightarrow{\\mathbf{v}} &=0 \\\\(A-\\lambda I) \\overrightarrow{\\mathbf{v}} &=0 \\\\ \\operatorname{det}(A-\\lambda I) &=0 \\end{aligned}\n",
    "$$"
   ]
  },
  {
   "cell_type": "markdown",
   "metadata": {},
   "source": [
    "关于特征值, 特征向量可以参考:\n",
    "- <https://www.youtube.com/watch?v=8UX82qVJzYI>"
   ]
  },
  {
   "cell_type": "markdown",
   "metadata": {},
   "source": [
    "特征分解可以可以记作\n",
    "$$\n",
    "\\boldsymbol{A}=\\boldsymbol{V} \\operatorname{diag}(\\boldsymbol{\\lambda}) \\boldsymbol{V}^{-1}\n",
    "$$"
   ]
  },
  {
   "cell_type": "markdown",
   "metadata": {},
   "source": [
    "## 2.8 奇异值分解"
   ]
  },
  {
   "cell_type": "markdown",
   "metadata": {},
   "source": [
    "奇异值分解（singular value decomposition, SVD），将矩阵分解为奇异向量和奇异值。\n",
    " \n",
    "每个实数矩阵都有一个奇异值分解, 但不一定都有特征分解。例如, 非方阵的矩阵没有特征分解, 这时只能使用奇异值分解。\n",
    "\n",
    "$$\n",
    "\\boldsymbol{A}=\\boldsymbol{U} \\boldsymbol{D} \\boldsymbol{V}^{\\top}\n",
    "$$"
   ]
  },
  {
   "cell_type": "markdown",
   "metadata": {},
   "source": [
    "## PCA"
   ]
  },
  {
   "cell_type": "markdown",
   "metadata": {},
   "source": []
  }
 ],
 "metadata": {
  "kernelspec": {
   "display_name": "python3.6",
   "language": "python",
   "name": "python3.6"
  },
  "language_info": {
   "codemirror_mode": {
    "name": "ipython",
    "version": 3
   },
   "file_extension": ".py",
   "mimetype": "text/x-python",
   "name": "python",
   "nbconvert_exporter": "python",
   "pygments_lexer": "ipython3",
   "version": "3.6.8"
  }
 },
 "nbformat": 4,
 "nbformat_minor": 2
}
