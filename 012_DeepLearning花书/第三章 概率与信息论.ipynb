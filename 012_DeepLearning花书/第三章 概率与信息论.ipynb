{
 "cells": [
  {
   "cell_type": "markdown",
   "metadata": {},
   "source": [
    "离散型变量的概率分布可以用 概率质量函数（probability mass function, PMF）来描述。\n",
    "\n",
    "当我们研究的对象是连续型随机变量时，我们用 概率密度函数（probability\n",
    "density function, PDF）"
   ]
  },
  {
   "cell_type": "markdown",
   "metadata": {},
   "source": [
    "## 协方差"
   ]
  },
  {
   "cell_type": "markdown",
   "metadata": {},
   "source": [
    "标准差和方差一般是用来描述一维数据的。\n",
    "\n",
    "协方差是度量两个随机变量之间的关系的：\n",
    "$$\n",
    "\\operatorname{cov}(X, Y)=\\frac{\\sum_{i=1}^{n}\\left(X_{i}-\\overline{X}\\right)\\left(Y_{i}-\\overline{Y}\\right)}{n-1}\n",
    "$$\n",
    "\n",
    "- 如果结果为正，则说明两者是正相关的\n",
    "- 如果结果为负，则说明两者是负相关的\n",
    "- 如果结果为0，则两者相互独立"
   ]
  },
  {
   "cell_type": "code",
   "execution_count": null,
   "metadata": {},
   "outputs": [],
   "source": []
  }
 ],
 "metadata": {
  "kernelspec": {
   "display_name": "python3.6",
   "language": "python",
   "name": "python3.6"
  },
  "language_info": {
   "codemirror_mode": {
    "name": "ipython",
    "version": 3
   },
   "file_extension": ".py",
   "mimetype": "text/x-python",
   "name": "python",
   "nbconvert_exporter": "python",
   "pygments_lexer": "ipython3",
   "version": "3.6.8"
  }
 },
 "nbformat": 4,
 "nbformat_minor": 2
}
